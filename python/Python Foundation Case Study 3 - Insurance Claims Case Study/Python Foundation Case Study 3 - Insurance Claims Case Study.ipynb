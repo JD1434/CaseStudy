{
 "cells": [
  {
   "cell_type": "code",
   "execution_count": 1,
   "id": "895ea527",
   "metadata": {},
   "outputs": [],
   "source": [
    "import pandas as pd\n",
    "import numpy as np\n",
    "import scipy as sp\n",
    "import matplotlib as pp\n",
    "import DateTime as dt\n",
    "import datetime as date"
   ]
  },
  {
   "cell_type": "markdown",
   "id": "770e7db0",
   "metadata": {},
   "source": [
    "### 1. Import claims_data.csv and cust_data.csv which is provided to you and\n",
    "combine the two datasets appropriately to create a 360-degree view of\n",
    "the data. Use the same for the subsequent questions."
   ]
  },
  {
   "cell_type": "code",
   "execution_count": 2,
   "id": "d7fbaaa1",
   "metadata": {},
   "outputs": [],
   "source": [
    "claims=pd.read_csv('claims.csv')"
   ]
  },
  {
   "cell_type": "code",
   "execution_count": 3,
   "id": "6f2d4080",
   "metadata": {},
   "outputs": [],
   "source": [
    "cust_demographics=pd.read_csv('cust_demographics.csv')"
   ]
  },
  {
   "cell_type": "code",
   "execution_count": 4,
   "id": "2842967b",
   "metadata": {},
   "outputs": [
    {
     "data": {
      "text/html": [
       "<div>\n",
       "<style scoped>\n",
       "    .dataframe tbody tr th:only-of-type {\n",
       "        vertical-align: middle;\n",
       "    }\n",
       "\n",
       "    .dataframe tbody tr th {\n",
       "        vertical-align: top;\n",
       "    }\n",
       "\n",
       "    .dataframe thead th {\n",
       "        text-align: right;\n",
       "    }\n",
       "</style>\n",
       "<table border=\"1\" class=\"dataframe\">\n",
       "  <thead>\n",
       "    <tr style=\"text-align: right;\">\n",
       "      <th></th>\n",
       "      <th>CUST_ID</th>\n",
       "      <th>gender</th>\n",
       "      <th>DateOfBirth</th>\n",
       "      <th>State</th>\n",
       "      <th>Contact</th>\n",
       "      <th>Segment</th>\n",
       "    </tr>\n",
       "  </thead>\n",
       "  <tbody>\n",
       "    <tr>\n",
       "      <th>0</th>\n",
       "      <td>21868593</td>\n",
       "      <td>Female</td>\n",
       "      <td>12-Jan-79</td>\n",
       "      <td>VT</td>\n",
       "      <td>789-916-8172</td>\n",
       "      <td>Platinum</td>\n",
       "    </tr>\n",
       "  </tbody>\n",
       "</table>\n",
       "</div>"
      ],
      "text/plain": [
       "    CUST_ID  gender DateOfBirth State       Contact   Segment\n",
       "0  21868593  Female   12-Jan-79    VT  789-916-8172  Platinum"
      ]
     },
     "execution_count": 4,
     "metadata": {},
     "output_type": "execute_result"
    }
   ],
   "source": [
    "cust_demographics.head(1)"
   ]
  },
  {
   "cell_type": "code",
   "execution_count": 5,
   "id": "03f76941",
   "metadata": {},
   "outputs": [
    {
     "data": {
      "text/html": [
       "<div>\n",
       "<style scoped>\n",
       "    .dataframe tbody tr th:only-of-type {\n",
       "        vertical-align: middle;\n",
       "    }\n",
       "\n",
       "    .dataframe tbody tr th {\n",
       "        vertical-align: top;\n",
       "    }\n",
       "\n",
       "    .dataframe thead th {\n",
       "        text-align: right;\n",
       "    }\n",
       "</style>\n",
       "<table border=\"1\" class=\"dataframe\">\n",
       "  <thead>\n",
       "    <tr style=\"text-align: right;\">\n",
       "      <th></th>\n",
       "      <th>claim_id</th>\n",
       "      <th>customer_id</th>\n",
       "      <th>incident_cause</th>\n",
       "      <th>claim_date</th>\n",
       "      <th>claim_area</th>\n",
       "      <th>police_report</th>\n",
       "      <th>claim_type</th>\n",
       "      <th>claim_amount</th>\n",
       "      <th>total_policy_claims</th>\n",
       "      <th>fraudulent</th>\n",
       "    </tr>\n",
       "  </thead>\n",
       "  <tbody>\n",
       "    <tr>\n",
       "      <th>0</th>\n",
       "      <td>54004764</td>\n",
       "      <td>21868593</td>\n",
       "      <td>Driver error</td>\n",
       "      <td>11/27/2017</td>\n",
       "      <td>Auto</td>\n",
       "      <td>No</td>\n",
       "      <td>Material only</td>\n",
       "      <td>$2980</td>\n",
       "      <td>1.0</td>\n",
       "      <td>No</td>\n",
       "    </tr>\n",
       "    <tr>\n",
       "      <th>1</th>\n",
       "      <td>33985796</td>\n",
       "      <td>75740424</td>\n",
       "      <td>Crime</td>\n",
       "      <td>10/03/2018</td>\n",
       "      <td>Home</td>\n",
       "      <td>Unknown</td>\n",
       "      <td>Material only</td>\n",
       "      <td>$2980</td>\n",
       "      <td>3.0</td>\n",
       "      <td>No</td>\n",
       "    </tr>\n",
       "    <tr>\n",
       "      <th>2</th>\n",
       "      <td>53522022</td>\n",
       "      <td>30308357</td>\n",
       "      <td>Other driver error</td>\n",
       "      <td>02/02/2018</td>\n",
       "      <td>Auto</td>\n",
       "      <td>No</td>\n",
       "      <td>Material only</td>\n",
       "      <td>$3369.5</td>\n",
       "      <td>1.0</td>\n",
       "      <td>Yes</td>\n",
       "    </tr>\n",
       "    <tr>\n",
       "      <th>3</th>\n",
       "      <td>13015401</td>\n",
       "      <td>47830476</td>\n",
       "      <td>Natural causes</td>\n",
       "      <td>06/17/2018</td>\n",
       "      <td>Auto</td>\n",
       "      <td>No</td>\n",
       "      <td>Material only</td>\n",
       "      <td>$1680</td>\n",
       "      <td>1.0</td>\n",
       "      <td>No</td>\n",
       "    </tr>\n",
       "    <tr>\n",
       "      <th>4</th>\n",
       "      <td>22890252</td>\n",
       "      <td>19269962</td>\n",
       "      <td>Crime</td>\n",
       "      <td>01/13/2018</td>\n",
       "      <td>Auto</td>\n",
       "      <td>No</td>\n",
       "      <td>Material only</td>\n",
       "      <td>$2680</td>\n",
       "      <td>1.0</td>\n",
       "      <td>No</td>\n",
       "    </tr>\n",
       "  </tbody>\n",
       "</table>\n",
       "</div>"
      ],
      "text/plain": [
       "   claim_id  customer_id      incident_cause  claim_date claim_area  \\\n",
       "0  54004764     21868593        Driver error  11/27/2017       Auto   \n",
       "1  33985796     75740424               Crime  10/03/2018       Home   \n",
       "2  53522022     30308357  Other driver error  02/02/2018       Auto   \n",
       "3  13015401     47830476      Natural causes  06/17/2018       Auto   \n",
       "4  22890252     19269962               Crime  01/13/2018       Auto   \n",
       "\n",
       "  police_report     claim_type claim_amount  total_policy_claims fraudulent  \n",
       "0            No  Material only        $2980                  1.0         No  \n",
       "1       Unknown  Material only        $2980                  3.0         No  \n",
       "2            No  Material only      $3369.5                  1.0        Yes  \n",
       "3            No  Material only        $1680                  1.0         No  \n",
       "4            No  Material only        $2680                  1.0         No  "
      ]
     },
     "execution_count": 5,
     "metadata": {},
     "output_type": "execute_result"
    }
   ],
   "source": [
    "claims.head()"
   ]
  },
  {
   "cell_type": "code",
   "execution_count": 6,
   "id": "1b6acdf8",
   "metadata": {},
   "outputs": [],
   "source": [
    "cust_info=pd.merge(left=cust_demographics,right=claims,left_on='CUST_ID',right_on='customer_id',how = 'inner')"
   ]
  },
  {
   "cell_type": "code",
   "execution_count": 7,
   "id": "5c5064d3",
   "metadata": {},
   "outputs": [],
   "source": [
    "cust_info.drop(columns='customer_id',inplace=True)"
   ]
  },
  {
   "cell_type": "code",
   "execution_count": 8,
   "id": "06747f44",
   "metadata": {},
   "outputs": [
    {
     "data": {
      "text/html": [
       "<div>\n",
       "<style scoped>\n",
       "    .dataframe tbody tr th:only-of-type {\n",
       "        vertical-align: middle;\n",
       "    }\n",
       "\n",
       "    .dataframe tbody tr th {\n",
       "        vertical-align: top;\n",
       "    }\n",
       "\n",
       "    .dataframe thead th {\n",
       "        text-align: right;\n",
       "    }\n",
       "</style>\n",
       "<table border=\"1\" class=\"dataframe\">\n",
       "  <thead>\n",
       "    <tr style=\"text-align: right;\">\n",
       "      <th></th>\n",
       "      <th>CUST_ID</th>\n",
       "      <th>gender</th>\n",
       "      <th>DateOfBirth</th>\n",
       "      <th>State</th>\n",
       "      <th>Contact</th>\n",
       "      <th>Segment</th>\n",
       "      <th>claim_id</th>\n",
       "      <th>incident_cause</th>\n",
       "      <th>claim_date</th>\n",
       "      <th>claim_area</th>\n",
       "      <th>police_report</th>\n",
       "      <th>claim_type</th>\n",
       "      <th>claim_amount</th>\n",
       "      <th>total_policy_claims</th>\n",
       "      <th>fraudulent</th>\n",
       "    </tr>\n",
       "  </thead>\n",
       "  <tbody>\n",
       "    <tr>\n",
       "      <th>0</th>\n",
       "      <td>21868593</td>\n",
       "      <td>Female</td>\n",
       "      <td>12-Jan-79</td>\n",
       "      <td>VT</td>\n",
       "      <td>789-916-8172</td>\n",
       "      <td>Platinum</td>\n",
       "      <td>54004764</td>\n",
       "      <td>Driver error</td>\n",
       "      <td>11/27/2017</td>\n",
       "      <td>Auto</td>\n",
       "      <td>No</td>\n",
       "      <td>Material only</td>\n",
       "      <td>$2980</td>\n",
       "      <td>1.0</td>\n",
       "      <td>No</td>\n",
       "    </tr>\n",
       "    <tr>\n",
       "      <th>1</th>\n",
       "      <td>75740424</td>\n",
       "      <td>Female</td>\n",
       "      <td>13-Jan-70</td>\n",
       "      <td>ME</td>\n",
       "      <td>265-543-1264</td>\n",
       "      <td>Silver</td>\n",
       "      <td>33985796</td>\n",
       "      <td>Crime</td>\n",
       "      <td>10/03/2018</td>\n",
       "      <td>Home</td>\n",
       "      <td>Unknown</td>\n",
       "      <td>Material only</td>\n",
       "      <td>$2980</td>\n",
       "      <td>3.0</td>\n",
       "      <td>No</td>\n",
       "    </tr>\n",
       "    <tr>\n",
       "      <th>2</th>\n",
       "      <td>30308357</td>\n",
       "      <td>Female</td>\n",
       "      <td>11-Mar-84</td>\n",
       "      <td>TN</td>\n",
       "      <td>798-631-4758</td>\n",
       "      <td>Silver</td>\n",
       "      <td>53522022</td>\n",
       "      <td>Other driver error</td>\n",
       "      <td>02/02/2018</td>\n",
       "      <td>Auto</td>\n",
       "      <td>No</td>\n",
       "      <td>Material only</td>\n",
       "      <td>$3369.5</td>\n",
       "      <td>1.0</td>\n",
       "      <td>Yes</td>\n",
       "    </tr>\n",
       "    <tr>\n",
       "      <th>3</th>\n",
       "      <td>30308357</td>\n",
       "      <td>Female</td>\n",
       "      <td>11-Mar-84</td>\n",
       "      <td>TN</td>\n",
       "      <td>798-631-4758</td>\n",
       "      <td>Silver</td>\n",
       "      <td>63017412</td>\n",
       "      <td>Driver error</td>\n",
       "      <td>04/04/2018</td>\n",
       "      <td>Auto</td>\n",
       "      <td>No</td>\n",
       "      <td>Material only</td>\n",
       "      <td>$1950</td>\n",
       "      <td>6.0</td>\n",
       "      <td>No</td>\n",
       "    </tr>\n",
       "    <tr>\n",
       "      <th>4</th>\n",
       "      <td>47830476</td>\n",
       "      <td>Female</td>\n",
       "      <td>01-May-86</td>\n",
       "      <td>MA</td>\n",
       "      <td>413-187-7945</td>\n",
       "      <td>Silver</td>\n",
       "      <td>13015401</td>\n",
       "      <td>Natural causes</td>\n",
       "      <td>06/17/2018</td>\n",
       "      <td>Auto</td>\n",
       "      <td>No</td>\n",
       "      <td>Material only</td>\n",
       "      <td>$1680</td>\n",
       "      <td>1.0</td>\n",
       "      <td>No</td>\n",
       "    </tr>\n",
       "  </tbody>\n",
       "</table>\n",
       "</div>"
      ],
      "text/plain": [
       "    CUST_ID  gender DateOfBirth State       Contact   Segment  claim_id  \\\n",
       "0  21868593  Female   12-Jan-79    VT  789-916-8172  Platinum  54004764   \n",
       "1  75740424  Female   13-Jan-70    ME  265-543-1264    Silver  33985796   \n",
       "2  30308357  Female   11-Mar-84    TN  798-631-4758    Silver  53522022   \n",
       "3  30308357  Female   11-Mar-84    TN  798-631-4758    Silver  63017412   \n",
       "4  47830476  Female   01-May-86    MA  413-187-7945    Silver  13015401   \n",
       "\n",
       "       incident_cause  claim_date claim_area police_report     claim_type  \\\n",
       "0        Driver error  11/27/2017       Auto            No  Material only   \n",
       "1               Crime  10/03/2018       Home       Unknown  Material only   \n",
       "2  Other driver error  02/02/2018       Auto            No  Material only   \n",
       "3        Driver error  04/04/2018       Auto            No  Material only   \n",
       "4      Natural causes  06/17/2018       Auto            No  Material only   \n",
       "\n",
       "  claim_amount  total_policy_claims fraudulent  \n",
       "0        $2980                  1.0         No  \n",
       "1        $2980                  3.0         No  \n",
       "2      $3369.5                  1.0        Yes  \n",
       "3        $1950                  6.0         No  \n",
       "4        $1680                  1.0         No  "
      ]
     },
     "execution_count": 8,
     "metadata": {},
     "output_type": "execute_result"
    }
   ],
   "source": [
    "cust_info.head(5)"
   ]
  },
  {
   "cell_type": "markdown",
   "id": "43bdb42d",
   "metadata": {},
   "source": [
    "### 2. Perform a data audit for the datatypes and find out if there are any\n",
    "mismatch within the current datatypes of the columns and their\n",
    "business significance."
   ]
  },
  {
   "cell_type": "code",
   "execution_count": 9,
   "id": "c8ee903a",
   "metadata": {},
   "outputs": [
    {
     "data": {
      "text/plain": [
       "CUST_ID                  int64\n",
       "gender                  object\n",
       "DateOfBirth             object\n",
       "State                   object\n",
       "Contact                 object\n",
       "Segment                 object\n",
       "claim_id                 int64\n",
       "incident_cause          object\n",
       "claim_date              object\n",
       "claim_area              object\n",
       "police_report           object\n",
       "claim_type              object\n",
       "claim_amount            object\n",
       "total_policy_claims    float64\n",
       "fraudulent              object\n",
       "dtype: object"
      ]
     },
     "execution_count": 9,
     "metadata": {},
     "output_type": "execute_result"
    }
   ],
   "source": [
    "cust_info.dtypes"
   ]
  },
  {
   "cell_type": "code",
   "execution_count": 10,
   "id": "24be3823",
   "metadata": {},
   "outputs": [],
   "source": [
    "cust_info['Contact']=cust_info['Contact'].str.replace(\"-\",\"\")\n"
   ]
  },
  {
   "cell_type": "code",
   "execution_count": 11,
   "id": "03969705",
   "metadata": {},
   "outputs": [],
   "source": [
    "#cust_info['DateOfBirth']=pd.to_datetime(cust_info['DateOfBirth'],format='%Y-%m-%d')\n",
    "cust_info['claim_date']=pd.to_datetime(cust_info['claim_date'])\n",
    "cust_info['Contact']=pd.to_numeric(cust_info['Contact'])\n"
   ]
  },
  {
   "cell_type": "code",
   "execution_count": 12,
   "id": "f7075adb",
   "metadata": {},
   "outputs": [
    {
     "data": {
      "text/html": [
       "<div>\n",
       "<style scoped>\n",
       "    .dataframe tbody tr th:only-of-type {\n",
       "        vertical-align: middle;\n",
       "    }\n",
       "\n",
       "    .dataframe tbody tr th {\n",
       "        vertical-align: top;\n",
       "    }\n",
       "\n",
       "    .dataframe thead th {\n",
       "        text-align: right;\n",
       "    }\n",
       "</style>\n",
       "<table border=\"1\" class=\"dataframe\">\n",
       "  <thead>\n",
       "    <tr style=\"text-align: right;\">\n",
       "      <th></th>\n",
       "      <th>CUST_ID</th>\n",
       "      <th>gender</th>\n",
       "      <th>DateOfBirth</th>\n",
       "      <th>State</th>\n",
       "      <th>Contact</th>\n",
       "      <th>Segment</th>\n",
       "      <th>claim_id</th>\n",
       "      <th>incident_cause</th>\n",
       "      <th>claim_date</th>\n",
       "      <th>claim_area</th>\n",
       "      <th>police_report</th>\n",
       "      <th>claim_type</th>\n",
       "      <th>claim_amount</th>\n",
       "      <th>total_policy_claims</th>\n",
       "      <th>fraudulent</th>\n",
       "    </tr>\n",
       "  </thead>\n",
       "  <tbody>\n",
       "    <tr>\n",
       "      <th>0</th>\n",
       "      <td>21868593</td>\n",
       "      <td>Female</td>\n",
       "      <td>12-Jan-79</td>\n",
       "      <td>VT</td>\n",
       "      <td>7899168172</td>\n",
       "      <td>Platinum</td>\n",
       "      <td>54004764</td>\n",
       "      <td>Driver error</td>\n",
       "      <td>2017-11-27</td>\n",
       "      <td>Auto</td>\n",
       "      <td>No</td>\n",
       "      <td>Material only</td>\n",
       "      <td>$2980</td>\n",
       "      <td>1.0</td>\n",
       "      <td>No</td>\n",
       "    </tr>\n",
       "    <tr>\n",
       "      <th>1</th>\n",
       "      <td>75740424</td>\n",
       "      <td>Female</td>\n",
       "      <td>13-Jan-70</td>\n",
       "      <td>ME</td>\n",
       "      <td>2655431264</td>\n",
       "      <td>Silver</td>\n",
       "      <td>33985796</td>\n",
       "      <td>Crime</td>\n",
       "      <td>2018-10-03</td>\n",
       "      <td>Home</td>\n",
       "      <td>Unknown</td>\n",
       "      <td>Material only</td>\n",
       "      <td>$2980</td>\n",
       "      <td>3.0</td>\n",
       "      <td>No</td>\n",
       "    </tr>\n",
       "    <tr>\n",
       "      <th>2</th>\n",
       "      <td>30308357</td>\n",
       "      <td>Female</td>\n",
       "      <td>11-Mar-84</td>\n",
       "      <td>TN</td>\n",
       "      <td>7986314758</td>\n",
       "      <td>Silver</td>\n",
       "      <td>53522022</td>\n",
       "      <td>Other driver error</td>\n",
       "      <td>2018-02-02</td>\n",
       "      <td>Auto</td>\n",
       "      <td>No</td>\n",
       "      <td>Material only</td>\n",
       "      <td>$3369.5</td>\n",
       "      <td>1.0</td>\n",
       "      <td>Yes</td>\n",
       "    </tr>\n",
       "    <tr>\n",
       "      <th>3</th>\n",
       "      <td>30308357</td>\n",
       "      <td>Female</td>\n",
       "      <td>11-Mar-84</td>\n",
       "      <td>TN</td>\n",
       "      <td>7986314758</td>\n",
       "      <td>Silver</td>\n",
       "      <td>63017412</td>\n",
       "      <td>Driver error</td>\n",
       "      <td>2018-04-04</td>\n",
       "      <td>Auto</td>\n",
       "      <td>No</td>\n",
       "      <td>Material only</td>\n",
       "      <td>$1950</td>\n",
       "      <td>6.0</td>\n",
       "      <td>No</td>\n",
       "    </tr>\n",
       "    <tr>\n",
       "      <th>4</th>\n",
       "      <td>47830476</td>\n",
       "      <td>Female</td>\n",
       "      <td>01-May-86</td>\n",
       "      <td>MA</td>\n",
       "      <td>4131877945</td>\n",
       "      <td>Silver</td>\n",
       "      <td>13015401</td>\n",
       "      <td>Natural causes</td>\n",
       "      <td>2018-06-17</td>\n",
       "      <td>Auto</td>\n",
       "      <td>No</td>\n",
       "      <td>Material only</td>\n",
       "      <td>$1680</td>\n",
       "      <td>1.0</td>\n",
       "      <td>No</td>\n",
       "    </tr>\n",
       "  </tbody>\n",
       "</table>\n",
       "</div>"
      ],
      "text/plain": [
       "    CUST_ID  gender DateOfBirth State     Contact   Segment  claim_id  \\\n",
       "0  21868593  Female   12-Jan-79    VT  7899168172  Platinum  54004764   \n",
       "1  75740424  Female   13-Jan-70    ME  2655431264    Silver  33985796   \n",
       "2  30308357  Female   11-Mar-84    TN  7986314758    Silver  53522022   \n",
       "3  30308357  Female   11-Mar-84    TN  7986314758    Silver  63017412   \n",
       "4  47830476  Female   01-May-86    MA  4131877945    Silver  13015401   \n",
       "\n",
       "       incident_cause claim_date claim_area police_report     claim_type  \\\n",
       "0        Driver error 2017-11-27       Auto            No  Material only   \n",
       "1               Crime 2018-10-03       Home       Unknown  Material only   \n",
       "2  Other driver error 2018-02-02       Auto            No  Material only   \n",
       "3        Driver error 2018-04-04       Auto            No  Material only   \n",
       "4      Natural causes 2018-06-17       Auto            No  Material only   \n",
       "\n",
       "  claim_amount  total_policy_claims fraudulent  \n",
       "0        $2980                  1.0         No  \n",
       "1        $2980                  3.0         No  \n",
       "2      $3369.5                  1.0        Yes  \n",
       "3        $1950                  6.0         No  \n",
       "4        $1680                  1.0         No  "
      ]
     },
     "execution_count": 12,
     "metadata": {},
     "output_type": "execute_result"
    }
   ],
   "source": [
    "cust_info.head()"
   ]
  },
  {
   "cell_type": "code",
   "execution_count": 13,
   "id": "2a3a21d0",
   "metadata": {},
   "outputs": [
    {
     "data": {
      "text/plain": [
       "CUST_ID                         int64\n",
       "gender                         object\n",
       "DateOfBirth                    object\n",
       "State                          object\n",
       "Contact                         int64\n",
       "Segment                        object\n",
       "claim_id                        int64\n",
       "incident_cause                 object\n",
       "claim_date             datetime64[ns]\n",
       "claim_area                     object\n",
       "police_report                  object\n",
       "claim_type                     object\n",
       "claim_amount                   object\n",
       "total_policy_claims           float64\n",
       "fraudulent                     object\n",
       "dtype: object"
      ]
     },
     "execution_count": 13,
     "metadata": {},
     "output_type": "execute_result"
    }
   ],
   "source": [
    "cust_info.dtypes"
   ]
  },
  {
   "cell_type": "markdown",
   "id": "ae078c63",
   "metadata": {},
   "source": [
    "### 3.Convert the column claim_amount to numeric. Use the appropriate\n",
    "modules/attributes to remove the $ sign."
   ]
  },
  {
   "cell_type": "code",
   "execution_count": 14,
   "id": "b65cd1c0",
   "metadata": {},
   "outputs": [
    {
     "name": "stderr",
     "output_type": "stream",
     "text": [
      "<ipython-input-14-607dca4e36b1>:1: FutureWarning: The default value of regex will change from True to False in a future version. In addition, single character regular expressions will*not* be treated as literal strings when regex=True.\n",
      "  cust_info['claim_amount']=cust_info['claim_amount'].str.replace(\"$\",\"\")\n"
     ]
    }
   ],
   "source": [
    "cust_info['claim_amount']=cust_info['claim_amount'].str.replace(\"$\",\"\")\n",
    "cust_info['claim_amount']=pd.to_numeric(cust_info['claim_amount'])"
   ]
  },
  {
   "cell_type": "code",
   "execution_count": 15,
   "id": "d93f7a27",
   "metadata": {},
   "outputs": [
    {
     "data": {
      "text/html": [
       "<div>\n",
       "<style scoped>\n",
       "    .dataframe tbody tr th:only-of-type {\n",
       "        vertical-align: middle;\n",
       "    }\n",
       "\n",
       "    .dataframe tbody tr th {\n",
       "        vertical-align: top;\n",
       "    }\n",
       "\n",
       "    .dataframe thead th {\n",
       "        text-align: right;\n",
       "    }\n",
       "</style>\n",
       "<table border=\"1\" class=\"dataframe\">\n",
       "  <thead>\n",
       "    <tr style=\"text-align: right;\">\n",
       "      <th></th>\n",
       "      <th>CUST_ID</th>\n",
       "      <th>gender</th>\n",
       "      <th>DateOfBirth</th>\n",
       "      <th>State</th>\n",
       "      <th>Contact</th>\n",
       "      <th>Segment</th>\n",
       "      <th>claim_id</th>\n",
       "      <th>incident_cause</th>\n",
       "      <th>claim_date</th>\n",
       "      <th>claim_area</th>\n",
       "      <th>police_report</th>\n",
       "      <th>claim_type</th>\n",
       "      <th>claim_amount</th>\n",
       "      <th>total_policy_claims</th>\n",
       "      <th>fraudulent</th>\n",
       "    </tr>\n",
       "  </thead>\n",
       "  <tbody>\n",
       "    <tr>\n",
       "      <th>0</th>\n",
       "      <td>21868593</td>\n",
       "      <td>Female</td>\n",
       "      <td>12-Jan-79</td>\n",
       "      <td>VT</td>\n",
       "      <td>7899168172</td>\n",
       "      <td>Platinum</td>\n",
       "      <td>54004764</td>\n",
       "      <td>Driver error</td>\n",
       "      <td>2017-11-27</td>\n",
       "      <td>Auto</td>\n",
       "      <td>No</td>\n",
       "      <td>Material only</td>\n",
       "      <td>2980.0</td>\n",
       "      <td>1.0</td>\n",
       "      <td>No</td>\n",
       "    </tr>\n",
       "  </tbody>\n",
       "</table>\n",
       "</div>"
      ],
      "text/plain": [
       "    CUST_ID  gender DateOfBirth State     Contact   Segment  claim_id  \\\n",
       "0  21868593  Female   12-Jan-79    VT  7899168172  Platinum  54004764   \n",
       "\n",
       "  incident_cause claim_date claim_area police_report     claim_type  \\\n",
       "0   Driver error 2017-11-27       Auto            No  Material only   \n",
       "\n",
       "   claim_amount  total_policy_claims fraudulent  \n",
       "0        2980.0                  1.0         No  "
      ]
     },
     "execution_count": 15,
     "metadata": {},
     "output_type": "execute_result"
    }
   ],
   "source": [
    "cust_info.head(1)"
   ]
  },
  {
   "cell_type": "markdown",
   "id": "e3c5918f",
   "metadata": {},
   "source": [
    "### 4. Of all the injury claims, some of them have gone unreported with the\n",
    "police. Create an alert flag (1,0) for all such claims."
   ]
  },
  {
   "cell_type": "code",
   "execution_count": 16,
   "id": "adecc03d",
   "metadata": {},
   "outputs": [],
   "source": [
    "cust_info['alert flag']=(cust_info.police_report=='Yes').astype(int)"
   ]
  },
  {
   "cell_type": "code",
   "execution_count": 17,
   "id": "2829f9e3",
   "metadata": {
    "scrolled": true
   },
   "outputs": [
    {
     "data": {
      "text/html": [
       "<div>\n",
       "<style scoped>\n",
       "    .dataframe tbody tr th:only-of-type {\n",
       "        vertical-align: middle;\n",
       "    }\n",
       "\n",
       "    .dataframe tbody tr th {\n",
       "        vertical-align: top;\n",
       "    }\n",
       "\n",
       "    .dataframe thead th {\n",
       "        text-align: right;\n",
       "    }\n",
       "</style>\n",
       "<table border=\"1\" class=\"dataframe\">\n",
       "  <thead>\n",
       "    <tr style=\"text-align: right;\">\n",
       "      <th></th>\n",
       "      <th>CUST_ID</th>\n",
       "      <th>gender</th>\n",
       "      <th>DateOfBirth</th>\n",
       "      <th>State</th>\n",
       "      <th>Contact</th>\n",
       "      <th>Segment</th>\n",
       "      <th>claim_id</th>\n",
       "      <th>incident_cause</th>\n",
       "      <th>claim_date</th>\n",
       "      <th>claim_area</th>\n",
       "      <th>police_report</th>\n",
       "      <th>claim_type</th>\n",
       "      <th>claim_amount</th>\n",
       "      <th>total_policy_claims</th>\n",
       "      <th>fraudulent</th>\n",
       "      <th>alert flag</th>\n",
       "    </tr>\n",
       "  </thead>\n",
       "  <tbody>\n",
       "    <tr>\n",
       "      <th>0</th>\n",
       "      <td>21868593</td>\n",
       "      <td>Female</td>\n",
       "      <td>12-Jan-79</td>\n",
       "      <td>VT</td>\n",
       "      <td>7899168172</td>\n",
       "      <td>Platinum</td>\n",
       "      <td>54004764</td>\n",
       "      <td>Driver error</td>\n",
       "      <td>2017-11-27</td>\n",
       "      <td>Auto</td>\n",
       "      <td>No</td>\n",
       "      <td>Material only</td>\n",
       "      <td>2980.0</td>\n",
       "      <td>1.0</td>\n",
       "      <td>No</td>\n",
       "      <td>0</td>\n",
       "    </tr>\n",
       "    <tr>\n",
       "      <th>1</th>\n",
       "      <td>75740424</td>\n",
       "      <td>Female</td>\n",
       "      <td>13-Jan-70</td>\n",
       "      <td>ME</td>\n",
       "      <td>2655431264</td>\n",
       "      <td>Silver</td>\n",
       "      <td>33985796</td>\n",
       "      <td>Crime</td>\n",
       "      <td>2018-10-03</td>\n",
       "      <td>Home</td>\n",
       "      <td>Unknown</td>\n",
       "      <td>Material only</td>\n",
       "      <td>2980.0</td>\n",
       "      <td>3.0</td>\n",
       "      <td>No</td>\n",
       "      <td>0</td>\n",
       "    </tr>\n",
       "    <tr>\n",
       "      <th>2</th>\n",
       "      <td>30308357</td>\n",
       "      <td>Female</td>\n",
       "      <td>11-Mar-84</td>\n",
       "      <td>TN</td>\n",
       "      <td>7986314758</td>\n",
       "      <td>Silver</td>\n",
       "      <td>53522022</td>\n",
       "      <td>Other driver error</td>\n",
       "      <td>2018-02-02</td>\n",
       "      <td>Auto</td>\n",
       "      <td>No</td>\n",
       "      <td>Material only</td>\n",
       "      <td>3369.5</td>\n",
       "      <td>1.0</td>\n",
       "      <td>Yes</td>\n",
       "      <td>0</td>\n",
       "    </tr>\n",
       "    <tr>\n",
       "      <th>3</th>\n",
       "      <td>30308357</td>\n",
       "      <td>Female</td>\n",
       "      <td>11-Mar-84</td>\n",
       "      <td>TN</td>\n",
       "      <td>7986314758</td>\n",
       "      <td>Silver</td>\n",
       "      <td>63017412</td>\n",
       "      <td>Driver error</td>\n",
       "      <td>2018-04-04</td>\n",
       "      <td>Auto</td>\n",
       "      <td>No</td>\n",
       "      <td>Material only</td>\n",
       "      <td>1950.0</td>\n",
       "      <td>6.0</td>\n",
       "      <td>No</td>\n",
       "      <td>0</td>\n",
       "    </tr>\n",
       "    <tr>\n",
       "      <th>4</th>\n",
       "      <td>47830476</td>\n",
       "      <td>Female</td>\n",
       "      <td>01-May-86</td>\n",
       "      <td>MA</td>\n",
       "      <td>4131877945</td>\n",
       "      <td>Silver</td>\n",
       "      <td>13015401</td>\n",
       "      <td>Natural causes</td>\n",
       "      <td>2018-06-17</td>\n",
       "      <td>Auto</td>\n",
       "      <td>No</td>\n",
       "      <td>Material only</td>\n",
       "      <td>1680.0</td>\n",
       "      <td>1.0</td>\n",
       "      <td>No</td>\n",
       "      <td>0</td>\n",
       "    </tr>\n",
       "    <tr>\n",
       "      <th>...</th>\n",
       "      <td>...</td>\n",
       "      <td>...</td>\n",
       "      <td>...</td>\n",
       "      <td>...</td>\n",
       "      <td>...</td>\n",
       "      <td>...</td>\n",
       "      <td>...</td>\n",
       "      <td>...</td>\n",
       "      <td>...</td>\n",
       "      <td>...</td>\n",
       "      <td>...</td>\n",
       "      <td>...</td>\n",
       "      <td>...</td>\n",
       "      <td>...</td>\n",
       "      <td>...</td>\n",
       "      <td>...</td>\n",
       "    </tr>\n",
       "    <tr>\n",
       "      <th>1080</th>\n",
       "      <td>79539873</td>\n",
       "      <td>Female</td>\n",
       "      <td>15-Mar-81</td>\n",
       "      <td>ND</td>\n",
       "      <td>4594254319</td>\n",
       "      <td>Platinum</td>\n",
       "      <td>62020796</td>\n",
       "      <td>Other driver error</td>\n",
       "      <td>2018-09-06</td>\n",
       "      <td>Auto</td>\n",
       "      <td>Yes</td>\n",
       "      <td>Material only</td>\n",
       "      <td>1770.0</td>\n",
       "      <td>1.0</td>\n",
       "      <td>No</td>\n",
       "      <td>1</td>\n",
       "    </tr>\n",
       "    <tr>\n",
       "      <th>1081</th>\n",
       "      <td>42364152</td>\n",
       "      <td>Female</td>\n",
       "      <td>07-Jul-96</td>\n",
       "      <td>ID</td>\n",
       "      <td>5294621635</td>\n",
       "      <td>Silver</td>\n",
       "      <td>63269067</td>\n",
       "      <td>Other causes</td>\n",
       "      <td>2017-05-09</td>\n",
       "      <td>Home</td>\n",
       "      <td>No</td>\n",
       "      <td>Material only</td>\n",
       "      <td>2800.0</td>\n",
       "      <td>1.0</td>\n",
       "      <td>No</td>\n",
       "      <td>0</td>\n",
       "    </tr>\n",
       "    <tr>\n",
       "      <th>1082</th>\n",
       "      <td>19888166</td>\n",
       "      <td>Male</td>\n",
       "      <td>11-Apr-90</td>\n",
       "      <td>WI</td>\n",
       "      <td>7126519613</td>\n",
       "      <td>Gold</td>\n",
       "      <td>22690595</td>\n",
       "      <td>Other driver error</td>\n",
       "      <td>2017-05-15</td>\n",
       "      <td>Auto</td>\n",
       "      <td>Yes</td>\n",
       "      <td>Injury only</td>\n",
       "      <td>33080.0</td>\n",
       "      <td>2.0</td>\n",
       "      <td>No</td>\n",
       "      <td>1</td>\n",
       "    </tr>\n",
       "    <tr>\n",
       "      <th>1083</th>\n",
       "      <td>11256802</td>\n",
       "      <td>Female</td>\n",
       "      <td>22-Oct-64</td>\n",
       "      <td>LA</td>\n",
       "      <td>4693455617</td>\n",
       "      <td>Silver</td>\n",
       "      <td>12376894</td>\n",
       "      <td>Other driver error</td>\n",
       "      <td>2017-04-18</td>\n",
       "      <td>Auto</td>\n",
       "      <td>No</td>\n",
       "      <td>Material only</td>\n",
       "      <td>2840.0</td>\n",
       "      <td>4.0</td>\n",
       "      <td>No</td>\n",
       "      <td>0</td>\n",
       "    </tr>\n",
       "    <tr>\n",
       "      <th>1084</th>\n",
       "      <td>61575264</td>\n",
       "      <td>Male</td>\n",
       "      <td>12-Jul-95</td>\n",
       "      <td>WY</td>\n",
       "      <td>1823851392</td>\n",
       "      <td>Gold</td>\n",
       "      <td>63226031</td>\n",
       "      <td>Natural causes</td>\n",
       "      <td>2017-03-16</td>\n",
       "      <td>Auto</td>\n",
       "      <td>No</td>\n",
       "      <td>Material only</td>\n",
       "      <td>1490.0</td>\n",
       "      <td>1.0</td>\n",
       "      <td>No</td>\n",
       "      <td>0</td>\n",
       "    </tr>\n",
       "  </tbody>\n",
       "</table>\n",
       "<p>1085 rows × 16 columns</p>\n",
       "</div>"
      ],
      "text/plain": [
       "       CUST_ID  gender DateOfBirth State     Contact   Segment  claim_id  \\\n",
       "0     21868593  Female   12-Jan-79    VT  7899168172  Platinum  54004764   \n",
       "1     75740424  Female   13-Jan-70    ME  2655431264    Silver  33985796   \n",
       "2     30308357  Female   11-Mar-84    TN  7986314758    Silver  53522022   \n",
       "3     30308357  Female   11-Mar-84    TN  7986314758    Silver  63017412   \n",
       "4     47830476  Female   01-May-86    MA  4131877945    Silver  13015401   \n",
       "...        ...     ...         ...   ...         ...       ...       ...   \n",
       "1080  79539873  Female   15-Mar-81    ND  4594254319  Platinum  62020796   \n",
       "1081  42364152  Female   07-Jul-96    ID  5294621635    Silver  63269067   \n",
       "1082  19888166    Male   11-Apr-90    WI  7126519613      Gold  22690595   \n",
       "1083  11256802  Female   22-Oct-64    LA  4693455617    Silver  12376894   \n",
       "1084  61575264    Male   12-Jul-95    WY  1823851392      Gold  63226031   \n",
       "\n",
       "          incident_cause claim_date claim_area police_report     claim_type  \\\n",
       "0           Driver error 2017-11-27       Auto            No  Material only   \n",
       "1                  Crime 2018-10-03       Home       Unknown  Material only   \n",
       "2     Other driver error 2018-02-02       Auto            No  Material only   \n",
       "3           Driver error 2018-04-04       Auto            No  Material only   \n",
       "4         Natural causes 2018-06-17       Auto            No  Material only   \n",
       "...                  ...        ...        ...           ...            ...   \n",
       "1080  Other driver error 2018-09-06       Auto           Yes  Material only   \n",
       "1081        Other causes 2017-05-09       Home            No  Material only   \n",
       "1082  Other driver error 2017-05-15       Auto           Yes    Injury only   \n",
       "1083  Other driver error 2017-04-18       Auto            No  Material only   \n",
       "1084      Natural causes 2017-03-16       Auto            No  Material only   \n",
       "\n",
       "      claim_amount  total_policy_claims fraudulent  alert flag  \n",
       "0           2980.0                  1.0         No           0  \n",
       "1           2980.0                  3.0         No           0  \n",
       "2           3369.5                  1.0        Yes           0  \n",
       "3           1950.0                  6.0         No           0  \n",
       "4           1680.0                  1.0         No           0  \n",
       "...            ...                  ...        ...         ...  \n",
       "1080        1770.0                  1.0         No           1  \n",
       "1081        2800.0                  1.0         No           0  \n",
       "1082       33080.0                  2.0         No           1  \n",
       "1083        2840.0                  4.0         No           0  \n",
       "1084        1490.0                  1.0         No           0  \n",
       "\n",
       "[1085 rows x 16 columns]"
      ]
     },
     "execution_count": 17,
     "metadata": {},
     "output_type": "execute_result"
    }
   ],
   "source": [
    "cust_info"
   ]
  },
  {
   "cell_type": "markdown",
   "id": "0015761e",
   "metadata": {},
   "source": [
    "5. One customer can claim for insurance more than once and in each claim,multiple categories of claims can be involved. However, customer ID should remain unique.Retain the most recent observation and delete any duplicated records in the data based on the customer ID column."
   ]
  },
  {
   "cell_type": "code",
   "execution_count": 18,
   "id": "4fb16cfa",
   "metadata": {},
   "outputs": [],
   "source": [
    "cust_information=cust_info.groupby('CUST_ID').first().drop_duplicates()"
   ]
  },
  {
   "cell_type": "markdown",
   "id": "65518127",
   "metadata": {},
   "source": [
    "6.Check for missing values and impute the missing values with an\n",
    "appropriate value. (mean for continuous and mode for categorical)"
   ]
  },
  {
   "cell_type": "code",
   "execution_count": 19,
   "id": "5f312093",
   "metadata": {},
   "outputs": [],
   "source": [
    "#cust_information['total_policy_claims']=cust_information.total_policy_claims.convert_dtypes(convert_integer=True)"
   ]
  },
  {
   "cell_type": "code",
   "execution_count": 20,
   "id": "6e64be53",
   "metadata": {},
   "outputs": [
    {
     "data": {
      "text/plain": [
       "gender                  0\n",
       "DateOfBirth             0\n",
       "State                   0\n",
       "Contact                 0\n",
       "Segment                 0\n",
       "claim_id                0\n",
       "incident_cause          0\n",
       "claim_date              0\n",
       "claim_area              0\n",
       "police_report           0\n",
       "claim_type              0\n",
       "claim_amount           65\n",
       "total_policy_claims    10\n",
       "fraudulent              0\n",
       "alert flag              0\n",
       "dtype: int64"
      ]
     },
     "execution_count": 20,
     "metadata": {},
     "output_type": "execute_result"
    }
   ],
   "source": [
    "cust_information.isnull().sum()"
   ]
  },
  {
   "cell_type": "code",
   "execution_count": 21,
   "id": "a3e9d838",
   "metadata": {},
   "outputs": [],
   "source": [
    "cust_information.claim_amount.replace(np.nan,cust_information.claim_amount.mean(),inplace=True)"
   ]
  },
  {
   "cell_type": "code",
   "execution_count": 22,
   "id": "7738c6c8",
   "metadata": {},
   "outputs": [],
   "source": [
    "mode = cust_information[cust_information[\"total_policy_claims\"]!=np.NaN][\"total_policy_claims\"].mode()[0]\n",
    "cust_information['total_policy_claims'] = cust_information['total_policy_claims'].replace(np.NaN, mode)\n"
   ]
  },
  {
   "cell_type": "code",
   "execution_count": 23,
   "id": "3388ad4e",
   "metadata": {},
   "outputs": [
    {
     "data": {
      "text/plain": [
       "gender                 0\n",
       "DateOfBirth            0\n",
       "State                  0\n",
       "Contact                0\n",
       "Segment                0\n",
       "claim_id               0\n",
       "incident_cause         0\n",
       "claim_date             0\n",
       "claim_area             0\n",
       "police_report          0\n",
       "claim_type             0\n",
       "claim_amount           0\n",
       "total_policy_claims    0\n",
       "fraudulent             0\n",
       "alert flag             0\n",
       "dtype: int64"
      ]
     },
     "execution_count": 23,
     "metadata": {},
     "output_type": "execute_result"
    }
   ],
   "source": [
    "cust_information.isnull().sum()"
   ]
  },
  {
   "cell_type": "code",
   "execution_count": 24,
   "id": "c5a86fc1",
   "metadata": {},
   "outputs": [
    {
     "data": {
      "text/plain": [
       "CUST_ID\n",
       "154557      1.0\n",
       "287476      2.0\n",
       "524545      3.0\n",
       "1123356     5.0\n",
       "3159546     4.0\n",
       "12015897    6.0\n",
       "18361978    7.0\n",
       "46129941    8.0\n",
       "Name: total_policy_claims, dtype: float64"
      ]
     },
     "execution_count": 24,
     "metadata": {},
     "output_type": "execute_result"
    }
   ],
   "source": [
    "cust_information.total_policy_claims.drop_duplicates()"
   ]
  },
  {
   "cell_type": "markdown",
   "id": "3a167c3c",
   "metadata": {},
   "source": [
    "### 7.Calculate the age of customers in years. Based on the age, categorize the\n",
    "customers according to the below criteria\n",
    "Children < 18\n",
    "Youth 18-30\n",
    "Adult 30-60\n",
    "Senior > 60"
   ]
  },
  {
   "cell_type": "code",
   "execution_count": 25,
   "id": "50b330bd",
   "metadata": {},
   "outputs": [
    {
     "data": {
      "text/plain": [
       "Int64Index([1978, 1972, 1988, 2071, 1980, 1994, 1977, 1997, 2062, 2060,\n",
       "            ...\n",
       "            2068, 1989, 1993, 1985, 1993, 2065, 2066, 2063, 1995, 1995],\n",
       "           dtype='int64', name='DateOfBirth', length=1078)"
      ]
     },
     "execution_count": 25,
     "metadata": {},
     "output_type": "execute_result"
    }
   ],
   "source": [
    " #np.dtype('datetime64[ns]') == np.dtype('<M8[ns]')\n",
    "pd.DatetimeIndex(cust_information['DateOfBirth']).year"
   ]
  },
  {
   "cell_type": "code",
   "execution_count": 26,
   "id": "20d4214d",
   "metadata": {},
   "outputs": [],
   "source": [
    "Tod=date.date.today()\n",
    "\n",
    "cust_information['age']=abs(Tod.year-pd.DatetimeIndex(cust_information['DateOfBirth']).year)\n",
    "#cust_information['age']=abs(cust_information.age)"
   ]
  },
  {
   "cell_type": "code",
   "execution_count": 27,
   "id": "7f397c0a",
   "metadata": {},
   "outputs": [
    {
     "data": {
      "text/plain": [
       "CUST_ID\n",
       "154557      44\n",
       "263204      50\n",
       "287476      34\n",
       "441097      49\n",
       "524545      42\n",
       "608461      28\n",
       "684748      45\n",
       "804961      25\n",
       "885337      40\n",
       "1123356     38\n",
       "1163515     27\n",
       "1407979     35\n",
       "1924109     41\n",
       "2327487     23\n",
       "2476913     39\n",
       "2590748     31\n",
       "2632562     37\n",
       "3124373     43\n",
       "3497881     47\n",
       "5027573     33\n",
       "5345468     29\n",
       "6125426     24\n",
       "6342530     48\n",
       "6563653     46\n",
       "6984936     30\n",
       "8039037     36\n",
       "10330113    26\n",
       "16444738    32\n",
       "Name: age, dtype: int64"
      ]
     },
     "execution_count": 27,
     "metadata": {},
     "output_type": "execute_result"
    }
   ],
   "source": [
    "cust_information.age.drop_duplicates()"
   ]
  },
  {
   "cell_type": "code",
   "execution_count": 28,
   "id": "d04e167c",
   "metadata": {},
   "outputs": [],
   "source": [
    "def cat(cust_information):   # row is a Series\n",
    "    if cust_information.age<18:\n",
    "        return  'Children'\n",
    "    elif cust_information.age>18 and cust_information.age<30:\n",
    "        return 'Youth'\n",
    "    elif cust_information.age>30 and cust_information.age<60:\n",
    "        return 'Adult'\n",
    "    elif cust_information.age>60:\n",
    "        return 'Senior'\n",
    "    else:\n",
    "        return 'NAN'\n",
    "  "
   ]
  },
  {
   "cell_type": "code",
   "execution_count": 29,
   "id": "931eb5b8",
   "metadata": {},
   "outputs": [],
   "source": [
    "cust_information[\"category\"] = cust_information.apply(cat, axis=1)\n"
   ]
  },
  {
   "cell_type": "code",
   "execution_count": 30,
   "id": "d9f82004",
   "metadata": {},
   "outputs": [
    {
     "data": {
      "text/html": [
       "<div>\n",
       "<style scoped>\n",
       "    .dataframe tbody tr th:only-of-type {\n",
       "        vertical-align: middle;\n",
       "    }\n",
       "\n",
       "    .dataframe tbody tr th {\n",
       "        vertical-align: top;\n",
       "    }\n",
       "\n",
       "    .dataframe thead th {\n",
       "        text-align: right;\n",
       "    }\n",
       "</style>\n",
       "<table border=\"1\" class=\"dataframe\">\n",
       "  <thead>\n",
       "    <tr style=\"text-align: right;\">\n",
       "      <th></th>\n",
       "      <th>gender</th>\n",
       "      <th>DateOfBirth</th>\n",
       "      <th>State</th>\n",
       "      <th>Contact</th>\n",
       "      <th>Segment</th>\n",
       "      <th>claim_id</th>\n",
       "      <th>incident_cause</th>\n",
       "      <th>claim_date</th>\n",
       "      <th>claim_area</th>\n",
       "      <th>police_report</th>\n",
       "      <th>claim_type</th>\n",
       "      <th>claim_amount</th>\n",
       "      <th>total_policy_claims</th>\n",
       "      <th>fraudulent</th>\n",
       "      <th>alert flag</th>\n",
       "      <th>age</th>\n",
       "      <th>category</th>\n",
       "    </tr>\n",
       "    <tr>\n",
       "      <th>CUST_ID</th>\n",
       "      <th></th>\n",
       "      <th></th>\n",
       "      <th></th>\n",
       "      <th></th>\n",
       "      <th></th>\n",
       "      <th></th>\n",
       "      <th></th>\n",
       "      <th></th>\n",
       "      <th></th>\n",
       "      <th></th>\n",
       "      <th></th>\n",
       "      <th></th>\n",
       "      <th></th>\n",
       "      <th></th>\n",
       "      <th></th>\n",
       "      <th></th>\n",
       "      <th></th>\n",
       "    </tr>\n",
       "  </thead>\n",
       "  <tbody>\n",
       "    <tr>\n",
       "      <th>154557</th>\n",
       "      <td>Female</td>\n",
       "      <td>23-May-78</td>\n",
       "      <td>DE</td>\n",
       "      <td>9628791238</td>\n",
       "      <td>Platinum</td>\n",
       "      <td>69348631</td>\n",
       "      <td>Driver error</td>\n",
       "      <td>2018-04-10</td>\n",
       "      <td>Auto</td>\n",
       "      <td>No</td>\n",
       "      <td>Injury only</td>\n",
       "      <td>12470.498519</td>\n",
       "      <td>1.0</td>\n",
       "      <td>Yes</td>\n",
       "      <td>0</td>\n",
       "      <td>44</td>\n",
       "      <td>Adult</td>\n",
       "    </tr>\n",
       "    <tr>\n",
       "      <th>263204</th>\n",
       "      <td>Male</td>\n",
       "      <td>20-Dec-72</td>\n",
       "      <td>TX</td>\n",
       "      <td>1738926314</td>\n",
       "      <td>Silver</td>\n",
       "      <td>40953049</td>\n",
       "      <td>Other causes</td>\n",
       "      <td>2018-04-04</td>\n",
       "      <td>Auto</td>\n",
       "      <td>No</td>\n",
       "      <td>Material and injury</td>\n",
       "      <td>39192.000000</td>\n",
       "      <td>1.0</td>\n",
       "      <td>Yes</td>\n",
       "      <td>0</td>\n",
       "      <td>50</td>\n",
       "      <td>Adult</td>\n",
       "    </tr>\n",
       "    <tr>\n",
       "      <th>287476</th>\n",
       "      <td>Male</td>\n",
       "      <td>28-Jul-88</td>\n",
       "      <td>FL</td>\n",
       "      <td>3645981549</td>\n",
       "      <td>Silver</td>\n",
       "      <td>45780237</td>\n",
       "      <td>Natural causes</td>\n",
       "      <td>2017-10-17</td>\n",
       "      <td>Auto</td>\n",
       "      <td>Unknown</td>\n",
       "      <td>Material only</td>\n",
       "      <td>1621.500000</td>\n",
       "      <td>2.0</td>\n",
       "      <td>Yes</td>\n",
       "      <td>0</td>\n",
       "      <td>34</td>\n",
       "      <td>Adult</td>\n",
       "    </tr>\n",
       "    <tr>\n",
       "      <th>441097</th>\n",
       "      <td>Male</td>\n",
       "      <td>19-Aug-71</td>\n",
       "      <td>CA</td>\n",
       "      <td>1873488375</td>\n",
       "      <td>Gold</td>\n",
       "      <td>89833962</td>\n",
       "      <td>Other causes</td>\n",
       "      <td>2018-03-21</td>\n",
       "      <td>Auto</td>\n",
       "      <td>Yes</td>\n",
       "      <td>Material and injury</td>\n",
       "      <td>37040.000000</td>\n",
       "      <td>1.0</td>\n",
       "      <td>No</td>\n",
       "      <td>1</td>\n",
       "      <td>49</td>\n",
       "      <td>Adult</td>\n",
       "    </tr>\n",
       "    <tr>\n",
       "      <th>524545</th>\n",
       "      <td>Female</td>\n",
       "      <td>10-Aug-80</td>\n",
       "      <td>NC</td>\n",
       "      <td>7988625398</td>\n",
       "      <td>Gold</td>\n",
       "      <td>35782742</td>\n",
       "      <td>Other driver error</td>\n",
       "      <td>2018-07-27</td>\n",
       "      <td>Auto</td>\n",
       "      <td>No</td>\n",
       "      <td>Injury only</td>\n",
       "      <td>35250.000000</td>\n",
       "      <td>3.0</td>\n",
       "      <td>No</td>\n",
       "      <td>0</td>\n",
       "      <td>42</td>\n",
       "      <td>Adult</td>\n",
       "    </tr>\n",
       "    <tr>\n",
       "      <th>...</th>\n",
       "      <td>...</td>\n",
       "      <td>...</td>\n",
       "      <td>...</td>\n",
       "      <td>...</td>\n",
       "      <td>...</td>\n",
       "      <td>...</td>\n",
       "      <td>...</td>\n",
       "      <td>...</td>\n",
       "      <td>...</td>\n",
       "      <td>...</td>\n",
       "      <td>...</td>\n",
       "      <td>...</td>\n",
       "      <td>...</td>\n",
       "      <td>...</td>\n",
       "      <td>...</td>\n",
       "      <td>...</td>\n",
       "      <td>...</td>\n",
       "    </tr>\n",
       "    <tr>\n",
       "      <th>99674324</th>\n",
       "      <td>Male</td>\n",
       "      <td>28-Jan-65</td>\n",
       "      <td>UT</td>\n",
       "      <td>5175624916</td>\n",
       "      <td>Silver</td>\n",
       "      <td>4549014</td>\n",
       "      <td>Other causes</td>\n",
       "      <td>2018-07-07</td>\n",
       "      <td>Auto</td>\n",
       "      <td>No</td>\n",
       "      <td>Injury only</td>\n",
       "      <td>21480.000000</td>\n",
       "      <td>1.0</td>\n",
       "      <td>No</td>\n",
       "      <td>0</td>\n",
       "      <td>43</td>\n",
       "      <td>Adult</td>\n",
       "    </tr>\n",
       "    <tr>\n",
       "      <th>99723844</th>\n",
       "      <td>Female</td>\n",
       "      <td>19-Jun-66</td>\n",
       "      <td>HI</td>\n",
       "      <td>4577521374</td>\n",
       "      <td>Gold</td>\n",
       "      <td>35453672</td>\n",
       "      <td>Natural causes</td>\n",
       "      <td>2018-01-06</td>\n",
       "      <td>Auto</td>\n",
       "      <td>Yes</td>\n",
       "      <td>Material and injury</td>\n",
       "      <td>14360.000000</td>\n",
       "      <td>1.0</td>\n",
       "      <td>No</td>\n",
       "      <td>1</td>\n",
       "      <td>44</td>\n",
       "      <td>Adult</td>\n",
       "    </tr>\n",
       "    <tr>\n",
       "      <th>99761663</th>\n",
       "      <td>Female</td>\n",
       "      <td>18-Nov-63</td>\n",
       "      <td>NC</td>\n",
       "      <td>6432464718</td>\n",
       "      <td>Silver</td>\n",
       "      <td>37305754</td>\n",
       "      <td>Natural causes</td>\n",
       "      <td>2018-04-04</td>\n",
       "      <td>Auto</td>\n",
       "      <td>No</td>\n",
       "      <td>Material only</td>\n",
       "      <td>1242.000000</td>\n",
       "      <td>1.0</td>\n",
       "      <td>Yes</td>\n",
       "      <td>0</td>\n",
       "      <td>41</td>\n",
       "      <td>Adult</td>\n",
       "    </tr>\n",
       "    <tr>\n",
       "      <th>99892000</th>\n",
       "      <td>Male</td>\n",
       "      <td>08-Jun-95</td>\n",
       "      <td>OR</td>\n",
       "      <td>3952466172</td>\n",
       "      <td>Gold</td>\n",
       "      <td>22960702</td>\n",
       "      <td>Driver error</td>\n",
       "      <td>2017-11-13</td>\n",
       "      <td>Auto</td>\n",
       "      <td>No</td>\n",
       "      <td>Material only</td>\n",
       "      <td>2415.000000</td>\n",
       "      <td>2.0</td>\n",
       "      <td>Yes</td>\n",
       "      <td>0</td>\n",
       "      <td>27</td>\n",
       "      <td>Youth</td>\n",
       "    </tr>\n",
       "    <tr>\n",
       "      <th>99961993</th>\n",
       "      <td>Male</td>\n",
       "      <td>10-Jun-95</td>\n",
       "      <td>AL</td>\n",
       "      <td>2349432876</td>\n",
       "      <td>Platinum</td>\n",
       "      <td>47262068</td>\n",
       "      <td>Driver error</td>\n",
       "      <td>2018-10-23</td>\n",
       "      <td>Home</td>\n",
       "      <td>No</td>\n",
       "      <td>Material only</td>\n",
       "      <td>2310.000000</td>\n",
       "      <td>1.0</td>\n",
       "      <td>No</td>\n",
       "      <td>0</td>\n",
       "      <td>27</td>\n",
       "      <td>Youth</td>\n",
       "    </tr>\n",
       "  </tbody>\n",
       "</table>\n",
       "<p>1078 rows × 17 columns</p>\n",
       "</div>"
      ],
      "text/plain": [
       "          gender DateOfBirth State     Contact   Segment  claim_id  \\\n",
       "CUST_ID                                                              \n",
       "154557    Female   23-May-78    DE  9628791238  Platinum  69348631   \n",
       "263204      Male   20-Dec-72    TX  1738926314    Silver  40953049   \n",
       "287476      Male   28-Jul-88    FL  3645981549    Silver  45780237   \n",
       "441097      Male   19-Aug-71    CA  1873488375      Gold  89833962   \n",
       "524545    Female   10-Aug-80    NC  7988625398      Gold  35782742   \n",
       "...          ...         ...   ...         ...       ...       ...   \n",
       "99674324    Male   28-Jan-65    UT  5175624916    Silver   4549014   \n",
       "99723844  Female   19-Jun-66    HI  4577521374      Gold  35453672   \n",
       "99761663  Female   18-Nov-63    NC  6432464718    Silver  37305754   \n",
       "99892000    Male   08-Jun-95    OR  3952466172      Gold  22960702   \n",
       "99961993    Male   10-Jun-95    AL  2349432876  Platinum  47262068   \n",
       "\n",
       "              incident_cause claim_date claim_area police_report  \\\n",
       "CUST_ID                                                            \n",
       "154557          Driver error 2018-04-10       Auto            No   \n",
       "263204          Other causes 2018-04-04       Auto            No   \n",
       "287476        Natural causes 2017-10-17       Auto       Unknown   \n",
       "441097          Other causes 2018-03-21       Auto           Yes   \n",
       "524545    Other driver error 2018-07-27       Auto            No   \n",
       "...                      ...        ...        ...           ...   \n",
       "99674324        Other causes 2018-07-07       Auto            No   \n",
       "99723844      Natural causes 2018-01-06       Auto           Yes   \n",
       "99761663      Natural causes 2018-04-04       Auto            No   \n",
       "99892000        Driver error 2017-11-13       Auto            No   \n",
       "99961993        Driver error 2018-10-23       Home            No   \n",
       "\n",
       "                   claim_type  claim_amount  total_policy_claims fraudulent  \\\n",
       "CUST_ID                                                                       \n",
       "154557            Injury only  12470.498519                  1.0        Yes   \n",
       "263204    Material and injury  39192.000000                  1.0        Yes   \n",
       "287476          Material only   1621.500000                  2.0        Yes   \n",
       "441097    Material and injury  37040.000000                  1.0         No   \n",
       "524545            Injury only  35250.000000                  3.0         No   \n",
       "...                       ...           ...                  ...        ...   \n",
       "99674324          Injury only  21480.000000                  1.0         No   \n",
       "99723844  Material and injury  14360.000000                  1.0         No   \n",
       "99761663        Material only   1242.000000                  1.0        Yes   \n",
       "99892000        Material only   2415.000000                  2.0        Yes   \n",
       "99961993        Material only   2310.000000                  1.0         No   \n",
       "\n",
       "          alert flag  age category  \n",
       "CUST_ID                             \n",
       "154557             0   44    Adult  \n",
       "263204             0   50    Adult  \n",
       "287476             0   34    Adult  \n",
       "441097             1   49    Adult  \n",
       "524545             0   42    Adult  \n",
       "...              ...  ...      ...  \n",
       "99674324           0   43    Adult  \n",
       "99723844           1   44    Adult  \n",
       "99761663           0   41    Adult  \n",
       "99892000           0   27    Youth  \n",
       "99961993           0   27    Youth  \n",
       "\n",
       "[1078 rows x 17 columns]"
      ]
     },
     "execution_count": 30,
     "metadata": {},
     "output_type": "execute_result"
    }
   ],
   "source": [
    "cust_information"
   ]
  },
  {
   "cell_type": "code",
   "execution_count": 31,
   "id": "ec3e89e6",
   "metadata": {},
   "outputs": [
    {
     "data": {
      "text/plain": [
       "CUST_ID\n",
       "154557      44\n",
       "263204      50\n",
       "287476      34\n",
       "441097      49\n",
       "524545      42\n",
       "608461      28\n",
       "684748      45\n",
       "804961      25\n",
       "885337      40\n",
       "1123356     38\n",
       "1163515     27\n",
       "1407979     35\n",
       "1924109     41\n",
       "2327487     23\n",
       "2476913     39\n",
       "2590748     31\n",
       "2632562     37\n",
       "3124373     43\n",
       "3497881     47\n",
       "5027573     33\n",
       "5345468     29\n",
       "6125426     24\n",
       "6342530     48\n",
       "6563653     46\n",
       "6984936     30\n",
       "8039037     36\n",
       "10330113    26\n",
       "16444738    32\n",
       "Name: age, dtype: int64"
      ]
     },
     "execution_count": 31,
     "metadata": {},
     "output_type": "execute_result"
    }
   ],
   "source": [
    "cust_information.age.drop_duplicates()"
   ]
  },
  {
   "cell_type": "code",
   "execution_count": 32,
   "id": "d0630f27",
   "metadata": {},
   "outputs": [
    {
     "data": {
      "text/plain": [
       "CUST_ID\n",
       "154557     Adult\n",
       "608461     Youth\n",
       "6984936      NAN\n",
       "Name: category, dtype: object"
      ]
     },
     "execution_count": 32,
     "metadata": {},
     "output_type": "execute_result"
    }
   ],
   "source": [
    "cust_information.category.drop_duplicates()"
   ]
  },
  {
   "cell_type": "markdown",
   "id": "b43e1925",
   "metadata": {},
   "source": [
    "### 8. What is the average amount claimed by the customers from various segments?"
   ]
  },
  {
   "cell_type": "code",
   "execution_count": 33,
   "id": "7cc47e02",
   "metadata": {},
   "outputs": [
    {
     "data": {
      "text/html": [
       "<div>\n",
       "<style scoped>\n",
       "    .dataframe tbody tr th:only-of-type {\n",
       "        vertical-align: middle;\n",
       "    }\n",
       "\n",
       "    .dataframe tbody tr th {\n",
       "        vertical-align: top;\n",
       "    }\n",
       "\n",
       "    .dataframe thead th {\n",
       "        text-align: right;\n",
       "    }\n",
       "</style>\n",
       "<table border=\"1\" class=\"dataframe\">\n",
       "  <thead>\n",
       "    <tr style=\"text-align: right;\">\n",
       "      <th></th>\n",
       "      <th>claim_amount</th>\n",
       "    </tr>\n",
       "    <tr>\n",
       "      <th>Segment</th>\n",
       "      <th></th>\n",
       "    </tr>\n",
       "  </thead>\n",
       "  <tbody>\n",
       "    <tr>\n",
       "      <th>Gold</th>\n",
       "      <td>12756.479697</td>\n",
       "    </tr>\n",
       "    <tr>\n",
       "      <th>Platinum</th>\n",
       "      <td>12369.304648</td>\n",
       "    </tr>\n",
       "    <tr>\n",
       "      <th>Silver</th>\n",
       "      <td>12269.434851</td>\n",
       "    </tr>\n",
       "  </tbody>\n",
       "</table>\n",
       "</div>"
      ],
      "text/plain": [
       "          claim_amount\n",
       "Segment               \n",
       "Gold      12756.479697\n",
       "Platinum  12369.304648\n",
       "Silver    12269.434851"
      ]
     },
     "execution_count": 33,
     "metadata": {},
     "output_type": "execute_result"
    }
   ],
   "source": [
    "cust_information.groupby('Segment')[['claim_amount']].mean()"
   ]
  },
  {
   "cell_type": "markdown",
   "id": "d46af5d8",
   "metadata": {},
   "source": [
    "### 9. What is the total claim amount based on incident cause for all the claims that have been done at least 20 days prior to 1st of October, 2018."
   ]
  },
  {
   "cell_type": "code",
   "execution_count": 34,
   "id": "c315888d",
   "metadata": {},
   "outputs": [
    {
     "data": {
      "text/html": [
       "<div>\n",
       "<style scoped>\n",
       "    .dataframe tbody tr th:only-of-type {\n",
       "        vertical-align: middle;\n",
       "    }\n",
       "\n",
       "    .dataframe tbody tr th {\n",
       "        vertical-align: top;\n",
       "    }\n",
       "\n",
       "    .dataframe thead th {\n",
       "        text-align: right;\n",
       "    }\n",
       "</style>\n",
       "<table border=\"1\" class=\"dataframe\">\n",
       "  <thead>\n",
       "    <tr style=\"text-align: right;\">\n",
       "      <th></th>\n",
       "      <th>gender</th>\n",
       "      <th>DateOfBirth</th>\n",
       "      <th>State</th>\n",
       "      <th>Contact</th>\n",
       "      <th>Segment</th>\n",
       "      <th>claim_id</th>\n",
       "      <th>incident_cause</th>\n",
       "      <th>claim_date</th>\n",
       "      <th>claim_area</th>\n",
       "      <th>police_report</th>\n",
       "      <th>claim_type</th>\n",
       "      <th>claim_amount</th>\n",
       "      <th>total_policy_claims</th>\n",
       "      <th>fraudulent</th>\n",
       "      <th>alert flag</th>\n",
       "      <th>age</th>\n",
       "      <th>category</th>\n",
       "    </tr>\n",
       "    <tr>\n",
       "      <th>CUST_ID</th>\n",
       "      <th></th>\n",
       "      <th></th>\n",
       "      <th></th>\n",
       "      <th></th>\n",
       "      <th></th>\n",
       "      <th></th>\n",
       "      <th></th>\n",
       "      <th></th>\n",
       "      <th></th>\n",
       "      <th></th>\n",
       "      <th></th>\n",
       "      <th></th>\n",
       "      <th></th>\n",
       "      <th></th>\n",
       "      <th></th>\n",
       "      <th></th>\n",
       "      <th></th>\n",
       "    </tr>\n",
       "  </thead>\n",
       "  <tbody>\n",
       "    <tr>\n",
       "      <th>154557</th>\n",
       "      <td>Female</td>\n",
       "      <td>23-May-78</td>\n",
       "      <td>DE</td>\n",
       "      <td>9628791238</td>\n",
       "      <td>Platinum</td>\n",
       "      <td>69348631</td>\n",
       "      <td>Driver error</td>\n",
       "      <td>2018-04-10</td>\n",
       "      <td>Auto</td>\n",
       "      <td>No</td>\n",
       "      <td>Injury only</td>\n",
       "      <td>12470.498519</td>\n",
       "      <td>1.0</td>\n",
       "      <td>Yes</td>\n",
       "      <td>0</td>\n",
       "      <td>44</td>\n",
       "      <td>Adult</td>\n",
       "    </tr>\n",
       "    <tr>\n",
       "      <th>263204</th>\n",
       "      <td>Male</td>\n",
       "      <td>20-Dec-72</td>\n",
       "      <td>TX</td>\n",
       "      <td>1738926314</td>\n",
       "      <td>Silver</td>\n",
       "      <td>40953049</td>\n",
       "      <td>Other causes</td>\n",
       "      <td>2018-04-04</td>\n",
       "      <td>Auto</td>\n",
       "      <td>No</td>\n",
       "      <td>Material and injury</td>\n",
       "      <td>39192.000000</td>\n",
       "      <td>1.0</td>\n",
       "      <td>Yes</td>\n",
       "      <td>0</td>\n",
       "      <td>50</td>\n",
       "      <td>Adult</td>\n",
       "    </tr>\n",
       "    <tr>\n",
       "      <th>287476</th>\n",
       "      <td>Male</td>\n",
       "      <td>28-Jul-88</td>\n",
       "      <td>FL</td>\n",
       "      <td>3645981549</td>\n",
       "      <td>Silver</td>\n",
       "      <td>45780237</td>\n",
       "      <td>Natural causes</td>\n",
       "      <td>2017-10-17</td>\n",
       "      <td>Auto</td>\n",
       "      <td>Unknown</td>\n",
       "      <td>Material only</td>\n",
       "      <td>1621.500000</td>\n",
       "      <td>2.0</td>\n",
       "      <td>Yes</td>\n",
       "      <td>0</td>\n",
       "      <td>34</td>\n",
       "      <td>Adult</td>\n",
       "    </tr>\n",
       "    <tr>\n",
       "      <th>441097</th>\n",
       "      <td>Male</td>\n",
       "      <td>19-Aug-71</td>\n",
       "      <td>CA</td>\n",
       "      <td>1873488375</td>\n",
       "      <td>Gold</td>\n",
       "      <td>89833962</td>\n",
       "      <td>Other causes</td>\n",
       "      <td>2018-03-21</td>\n",
       "      <td>Auto</td>\n",
       "      <td>Yes</td>\n",
       "      <td>Material and injury</td>\n",
       "      <td>37040.000000</td>\n",
       "      <td>1.0</td>\n",
       "      <td>No</td>\n",
       "      <td>1</td>\n",
       "      <td>49</td>\n",
       "      <td>Adult</td>\n",
       "    </tr>\n",
       "    <tr>\n",
       "      <th>524545</th>\n",
       "      <td>Female</td>\n",
       "      <td>10-Aug-80</td>\n",
       "      <td>NC</td>\n",
       "      <td>7988625398</td>\n",
       "      <td>Gold</td>\n",
       "      <td>35782742</td>\n",
       "      <td>Other driver error</td>\n",
       "      <td>2018-07-27</td>\n",
       "      <td>Auto</td>\n",
       "      <td>No</td>\n",
       "      <td>Injury only</td>\n",
       "      <td>35250.000000</td>\n",
       "      <td>3.0</td>\n",
       "      <td>No</td>\n",
       "      <td>0</td>\n",
       "      <td>42</td>\n",
       "      <td>Adult</td>\n",
       "    </tr>\n",
       "    <tr>\n",
       "      <th>608461</th>\n",
       "      <td>Male</td>\n",
       "      <td>17-Dec-94</td>\n",
       "      <td>AR</td>\n",
       "      <td>9631872873</td>\n",
       "      <td>Platinum</td>\n",
       "      <td>7180084</td>\n",
       "      <td>Crime</td>\n",
       "      <td>2018-07-14</td>\n",
       "      <td>Auto</td>\n",
       "      <td>No</td>\n",
       "      <td>Material only</td>\n",
       "      <td>2630.000000</td>\n",
       "      <td>1.0</td>\n",
       "      <td>No</td>\n",
       "      <td>0</td>\n",
       "      <td>28</td>\n",
       "      <td>Youth</td>\n",
       "    </tr>\n",
       "    <tr>\n",
       "      <th>684748</th>\n",
       "      <td>Male</td>\n",
       "      <td>03-Aug-77</td>\n",
       "      <td>AK</td>\n",
       "      <td>6133852863</td>\n",
       "      <td>Gold</td>\n",
       "      <td>7238381</td>\n",
       "      <td>Other driver error</td>\n",
       "      <td>2018-07-14</td>\n",
       "      <td>Auto</td>\n",
       "      <td>No</td>\n",
       "      <td>Material only</td>\n",
       "      <td>2920.000000</td>\n",
       "      <td>2.0</td>\n",
       "      <td>No</td>\n",
       "      <td>0</td>\n",
       "      <td>45</td>\n",
       "      <td>Adult</td>\n",
       "    </tr>\n",
       "    <tr>\n",
       "      <th>804961</th>\n",
       "      <td>Female</td>\n",
       "      <td>07-Dec-97</td>\n",
       "      <td>AL</td>\n",
       "      <td>4877234167</td>\n",
       "      <td>Gold</td>\n",
       "      <td>87184588</td>\n",
       "      <td>Other causes</td>\n",
       "      <td>2017-10-10</td>\n",
       "      <td>Auto</td>\n",
       "      <td>No</td>\n",
       "      <td>Material and injury</td>\n",
       "      <td>21190.000000</td>\n",
       "      <td>1.0</td>\n",
       "      <td>No</td>\n",
       "      <td>0</td>\n",
       "      <td>25</td>\n",
       "      <td>Youth</td>\n",
       "    </tr>\n",
       "    <tr>\n",
       "      <th>885337</th>\n",
       "      <td>Male</td>\n",
       "      <td>17-Feb-62</td>\n",
       "      <td>HI</td>\n",
       "      <td>3215345263</td>\n",
       "      <td>Platinum</td>\n",
       "      <td>86240106</td>\n",
       "      <td>Driver error</td>\n",
       "      <td>2017-07-01</td>\n",
       "      <td>Auto</td>\n",
       "      <td>No</td>\n",
       "      <td>Material only</td>\n",
       "      <td>2490.000000</td>\n",
       "      <td>2.0</td>\n",
       "      <td>No</td>\n",
       "      <td>0</td>\n",
       "      <td>40</td>\n",
       "      <td>Adult</td>\n",
       "    </tr>\n",
       "    <tr>\n",
       "      <th>1123356</th>\n",
       "      <td>Female</td>\n",
       "      <td>29-Jul-60</td>\n",
       "      <td>OR</td>\n",
       "      <td>7367259481</td>\n",
       "      <td>Silver</td>\n",
       "      <td>50906515</td>\n",
       "      <td>Crime</td>\n",
       "      <td>2018-08-23</td>\n",
       "      <td>Auto</td>\n",
       "      <td>No</td>\n",
       "      <td>Material only</td>\n",
       "      <td>2507.000000</td>\n",
       "      <td>5.0</td>\n",
       "      <td>Yes</td>\n",
       "      <td>0</td>\n",
       "      <td>38</td>\n",
       "      <td>Adult</td>\n",
       "    </tr>\n",
       "  </tbody>\n",
       "</table>\n",
       "</div>"
      ],
      "text/plain": [
       "         gender DateOfBirth State     Contact   Segment  claim_id  \\\n",
       "CUST_ID                                                             \n",
       "154557   Female   23-May-78    DE  9628791238  Platinum  69348631   \n",
       "263204     Male   20-Dec-72    TX  1738926314    Silver  40953049   \n",
       "287476     Male   28-Jul-88    FL  3645981549    Silver  45780237   \n",
       "441097     Male   19-Aug-71    CA  1873488375      Gold  89833962   \n",
       "524545   Female   10-Aug-80    NC  7988625398      Gold  35782742   \n",
       "608461     Male   17-Dec-94    AR  9631872873  Platinum   7180084   \n",
       "684748     Male   03-Aug-77    AK  6133852863      Gold   7238381   \n",
       "804961   Female   07-Dec-97    AL  4877234167      Gold  87184588   \n",
       "885337     Male   17-Feb-62    HI  3215345263  Platinum  86240106   \n",
       "1123356  Female   29-Jul-60    OR  7367259481    Silver  50906515   \n",
       "\n",
       "             incident_cause claim_date claim_area police_report  \\\n",
       "CUST_ID                                                           \n",
       "154557         Driver error 2018-04-10       Auto            No   \n",
       "263204         Other causes 2018-04-04       Auto            No   \n",
       "287476       Natural causes 2017-10-17       Auto       Unknown   \n",
       "441097         Other causes 2018-03-21       Auto           Yes   \n",
       "524545   Other driver error 2018-07-27       Auto            No   \n",
       "608461                Crime 2018-07-14       Auto            No   \n",
       "684748   Other driver error 2018-07-14       Auto            No   \n",
       "804961         Other causes 2017-10-10       Auto            No   \n",
       "885337         Driver error 2017-07-01       Auto            No   \n",
       "1123356               Crime 2018-08-23       Auto            No   \n",
       "\n",
       "                  claim_type  claim_amount  total_policy_claims fraudulent  \\\n",
       "CUST_ID                                                                      \n",
       "154557           Injury only  12470.498519                  1.0        Yes   \n",
       "263204   Material and injury  39192.000000                  1.0        Yes   \n",
       "287476         Material only   1621.500000                  2.0        Yes   \n",
       "441097   Material and injury  37040.000000                  1.0         No   \n",
       "524545           Injury only  35250.000000                  3.0         No   \n",
       "608461         Material only   2630.000000                  1.0         No   \n",
       "684748         Material only   2920.000000                  2.0         No   \n",
       "804961   Material and injury  21190.000000                  1.0         No   \n",
       "885337         Material only   2490.000000                  2.0         No   \n",
       "1123356        Material only   2507.000000                  5.0        Yes   \n",
       "\n",
       "         alert flag  age category  \n",
       "CUST_ID                            \n",
       "154557            0   44    Adult  \n",
       "263204            0   50    Adult  \n",
       "287476            0   34    Adult  \n",
       "441097            1   49    Adult  \n",
       "524545            0   42    Adult  \n",
       "608461            0   28    Youth  \n",
       "684748            0   45    Adult  \n",
       "804961            0   25    Youth  \n",
       "885337            0   40    Adult  \n",
       "1123356           0   38    Adult  "
      ]
     },
     "execution_count": 34,
     "metadata": {},
     "output_type": "execute_result"
    }
   ],
   "source": [
    "cust_information.head(10)"
   ]
  },
  {
   "cell_type": "code",
   "execution_count": 35,
   "id": "0ad8d5da",
   "metadata": {},
   "outputs": [
    {
     "data": {
      "text/plain": [
       "datetime.date(2018, 9, 11)"
      ]
     },
     "execution_count": 35,
     "metadata": {},
     "output_type": "execute_result"
    }
   ],
   "source": [
    "date.date.fromisoformat('2018-10-01')-date.timedelta(days=20)"
   ]
  },
  {
   "cell_type": "code",
   "execution_count": 36,
   "id": "9d6a2054",
   "metadata": {},
   "outputs": [
    {
     "data": {
      "text/html": [
       "<div>\n",
       "<style scoped>\n",
       "    .dataframe tbody tr th:only-of-type {\n",
       "        vertical-align: middle;\n",
       "    }\n",
       "\n",
       "    .dataframe tbody tr th {\n",
       "        vertical-align: top;\n",
       "    }\n",
       "\n",
       "    .dataframe thead th {\n",
       "        text-align: right;\n",
       "    }\n",
       "</style>\n",
       "<table border=\"1\" class=\"dataframe\">\n",
       "  <thead>\n",
       "    <tr style=\"text-align: right;\">\n",
       "      <th></th>\n",
       "      <th>claim_amount</th>\n",
       "    </tr>\n",
       "    <tr>\n",
       "      <th>incident_cause</th>\n",
       "      <th></th>\n",
       "    </tr>\n",
       "  </thead>\n",
       "  <tbody>\n",
       "    <tr>\n",
       "      <th>Crime</th>\n",
       "      <td>7.592525e+05</td>\n",
       "    </tr>\n",
       "    <tr>\n",
       "      <th>Driver error</th>\n",
       "      <td>3.517208e+06</td>\n",
       "    </tr>\n",
       "    <tr>\n",
       "      <th>Natural causes</th>\n",
       "      <td>1.384761e+06</td>\n",
       "    </tr>\n",
       "    <tr>\n",
       "      <th>Other causes</th>\n",
       "      <td>4.222545e+06</td>\n",
       "    </tr>\n",
       "    <tr>\n",
       "      <th>Other driver error</th>\n",
       "      <td>3.559431e+06</td>\n",
       "    </tr>\n",
       "  </tbody>\n",
       "</table>\n",
       "</div>"
      ],
      "text/plain": [
       "                    claim_amount\n",
       "incident_cause                  \n",
       "Crime               7.592525e+05\n",
       "Driver error        3.517208e+06\n",
       "Natural causes      1.384761e+06\n",
       "Other causes        4.222545e+06\n",
       "Other driver error  3.559431e+06"
      ]
     },
     "execution_count": 36,
     "metadata": {},
     "output_type": "execute_result"
    }
   ],
   "source": [
    "cust_information.groupby('incident_cause')[['claim_amount']].sum()"
   ]
  },
  {
   "cell_type": "code",
   "execution_count": 37,
   "id": "3112787e",
   "metadata": {},
   "outputs": [
    {
     "data": {
      "text/html": [
       "<div>\n",
       "<style scoped>\n",
       "    .dataframe tbody tr th:only-of-type {\n",
       "        vertical-align: middle;\n",
       "    }\n",
       "\n",
       "    .dataframe tbody tr th {\n",
       "        vertical-align: top;\n",
       "    }\n",
       "\n",
       "    .dataframe thead th {\n",
       "        text-align: right;\n",
       "    }\n",
       "</style>\n",
       "<table border=\"1\" class=\"dataframe\">\n",
       "  <thead>\n",
       "    <tr style=\"text-align: right;\">\n",
       "      <th></th>\n",
       "      <th>claim_amount</th>\n",
       "    </tr>\n",
       "    <tr>\n",
       "      <th>incident_cause</th>\n",
       "      <th></th>\n",
       "    </tr>\n",
       "  </thead>\n",
       "  <tbody>\n",
       "    <tr>\n",
       "      <th>Crime</th>\n",
       "      <td>7.244625e+05</td>\n",
       "    </tr>\n",
       "    <tr>\n",
       "      <th>Driver error</th>\n",
       "      <td>3.264286e+06</td>\n",
       "    </tr>\n",
       "    <tr>\n",
       "      <th>Natural causes</th>\n",
       "      <td>1.312706e+06</td>\n",
       "    </tr>\n",
       "    <tr>\n",
       "      <th>Other causes</th>\n",
       "      <td>3.725038e+06</td>\n",
       "    </tr>\n",
       "    <tr>\n",
       "      <th>Other driver error</th>\n",
       "      <td>3.318806e+06</td>\n",
       "    </tr>\n",
       "  </tbody>\n",
       "</table>\n",
       "</div>"
      ],
      "text/plain": [
       "                    claim_amount\n",
       "incident_cause                  \n",
       "Crime               7.244625e+05\n",
       "Driver error        3.264286e+06\n",
       "Natural causes      1.312706e+06\n",
       "Other causes        3.725038e+06\n",
       "Other driver error  3.318806e+06"
      ]
     },
     "execution_count": 37,
     "metadata": {},
     "output_type": "execute_result"
    }
   ],
   "source": [
    "cust_information.loc[cust_information.claim_date< '2018-09-11'].groupby('incident_cause')[['claim_amount']].sum()"
   ]
  },
  {
   "cell_type": "markdown",
   "id": "f8c28461",
   "metadata": {},
   "source": [
    "### 10. How many adults from TX, DE and AK claimed insurance for driver related issues and causes?"
   ]
  },
  {
   "cell_type": "code",
   "execution_count": 38,
   "id": "1c59b392",
   "metadata": {},
   "outputs": [
    {
     "data": {
      "text/html": [
       "<div>\n",
       "<style scoped>\n",
       "    .dataframe tbody tr th:only-of-type {\n",
       "        vertical-align: middle;\n",
       "    }\n",
       "\n",
       "    .dataframe tbody tr th {\n",
       "        vertical-align: top;\n",
       "    }\n",
       "\n",
       "    .dataframe thead th {\n",
       "        text-align: right;\n",
       "    }\n",
       "</style>\n",
       "<table border=\"1\" class=\"dataframe\">\n",
       "  <thead>\n",
       "    <tr style=\"text-align: right;\">\n",
       "      <th></th>\n",
       "      <th>gender</th>\n",
       "      <th>DateOfBirth</th>\n",
       "      <th>State</th>\n",
       "      <th>Contact</th>\n",
       "      <th>Segment</th>\n",
       "      <th>claim_id</th>\n",
       "      <th>incident_cause</th>\n",
       "      <th>claim_date</th>\n",
       "      <th>claim_area</th>\n",
       "      <th>police_report</th>\n",
       "      <th>claim_type</th>\n",
       "      <th>claim_amount</th>\n",
       "      <th>total_policy_claims</th>\n",
       "      <th>fraudulent</th>\n",
       "      <th>alert flag</th>\n",
       "      <th>age</th>\n",
       "      <th>category</th>\n",
       "    </tr>\n",
       "    <tr>\n",
       "      <th>CUST_ID</th>\n",
       "      <th></th>\n",
       "      <th></th>\n",
       "      <th></th>\n",
       "      <th></th>\n",
       "      <th></th>\n",
       "      <th></th>\n",
       "      <th></th>\n",
       "      <th></th>\n",
       "      <th></th>\n",
       "      <th></th>\n",
       "      <th></th>\n",
       "      <th></th>\n",
       "      <th></th>\n",
       "      <th></th>\n",
       "      <th></th>\n",
       "      <th></th>\n",
       "      <th></th>\n",
       "    </tr>\n",
       "  </thead>\n",
       "  <tbody>\n",
       "    <tr>\n",
       "      <th>154557</th>\n",
       "      <td>Female</td>\n",
       "      <td>23-May-78</td>\n",
       "      <td>DE</td>\n",
       "      <td>9628791238</td>\n",
       "      <td>Platinum</td>\n",
       "      <td>69348631</td>\n",
       "      <td>Driver error</td>\n",
       "      <td>2018-04-10</td>\n",
       "      <td>Auto</td>\n",
       "      <td>No</td>\n",
       "      <td>Injury only</td>\n",
       "      <td>12470.498519</td>\n",
       "      <td>1.0</td>\n",
       "      <td>Yes</td>\n",
       "      <td>0</td>\n",
       "      <td>44</td>\n",
       "      <td>Adult</td>\n",
       "    </tr>\n",
       "  </tbody>\n",
       "</table>\n",
       "</div>"
      ],
      "text/plain": [
       "         gender DateOfBirth State     Contact   Segment  claim_id  \\\n",
       "CUST_ID                                                             \n",
       "154557   Female   23-May-78    DE  9628791238  Platinum  69348631   \n",
       "\n",
       "        incident_cause claim_date claim_area police_report   claim_type  \\\n",
       "CUST_ID                                                                   \n",
       "154557    Driver error 2018-04-10       Auto            No  Injury only   \n",
       "\n",
       "         claim_amount  total_policy_claims fraudulent  alert flag  age  \\\n",
       "CUST_ID                                                                  \n",
       "154557   12470.498519                  1.0        Yes           0   44   \n",
       "\n",
       "        category  \n",
       "CUST_ID           \n",
       "154557     Adult  "
      ]
     },
     "execution_count": 38,
     "metadata": {},
     "output_type": "execute_result"
    }
   ],
   "source": [
    "cust_information.head(1)"
   ]
  },
  {
   "cell_type": "code",
   "execution_count": 39,
   "id": "d08e54b0",
   "metadata": {},
   "outputs": [
    {
     "data": {
      "text/html": [
       "<div>\n",
       "<style scoped>\n",
       "    .dataframe tbody tr th:only-of-type {\n",
       "        vertical-align: middle;\n",
       "    }\n",
       "\n",
       "    .dataframe tbody tr th {\n",
       "        vertical-align: top;\n",
       "    }\n",
       "\n",
       "    .dataframe thead th {\n",
       "        text-align: right;\n",
       "    }\n",
       "</style>\n",
       "<table border=\"1\" class=\"dataframe\">\n",
       "  <thead>\n",
       "    <tr style=\"text-align: right;\">\n",
       "      <th></th>\n",
       "      <th>Contact</th>\n",
       "      <th>claim_id</th>\n",
       "      <th>claim_amount</th>\n",
       "      <th>total_policy_claims</th>\n",
       "      <th>alert flag</th>\n",
       "      <th>age</th>\n",
       "    </tr>\n",
       "    <tr>\n",
       "      <th>category</th>\n",
       "      <th></th>\n",
       "      <th></th>\n",
       "      <th></th>\n",
       "      <th></th>\n",
       "      <th></th>\n",
       "      <th></th>\n",
       "    </tr>\n",
       "  </thead>\n",
       "  <tbody>\n",
       "    <tr>\n",
       "      <th>False</th>\n",
       "      <td>1321076393333</td>\n",
       "      <td>10405632351</td>\n",
       "      <td>2.784652e+06</td>\n",
       "      <td>387.0</td>\n",
       "      <td>43</td>\n",
       "      <td>6124</td>\n",
       "    </tr>\n",
       "    <tr>\n",
       "      <th>True</th>\n",
       "      <td>4737339032013</td>\n",
       "      <td>42260738691</td>\n",
       "      <td>1.065855e+07</td>\n",
       "      <td>1313.0</td>\n",
       "      <td>124</td>\n",
       "      <td>35266</td>\n",
       "    </tr>\n",
       "  </tbody>\n",
       "</table>\n",
       "</div>"
      ],
      "text/plain": [
       "                Contact     claim_id  claim_amount  total_policy_claims  \\\n",
       "category                                                                  \n",
       "False     1321076393333  10405632351  2.784652e+06                387.0   \n",
       "True      4737339032013  42260738691  1.065855e+07               1313.0   \n",
       "\n",
       "          alert flag    age  \n",
       "category                     \n",
       "False             43   6124  \n",
       "True             124  35266  "
      ]
     },
     "execution_count": 39,
     "metadata": {},
     "output_type": "execute_result"
    }
   ],
   "source": [
    "cust_information.groupby(cust_information['category']=='Adult').sum()"
   ]
  },
  {
   "cell_type": "code",
   "execution_count": 40,
   "id": "4940b37f",
   "metadata": {},
   "outputs": [
    {
     "data": {
      "text/html": [
       "<div>\n",
       "<style scoped>\n",
       "    .dataframe tbody tr th:only-of-type {\n",
       "        vertical-align: middle;\n",
       "    }\n",
       "\n",
       "    .dataframe tbody tr th {\n",
       "        vertical-align: top;\n",
       "    }\n",
       "\n",
       "    .dataframe thead th {\n",
       "        text-align: right;\n",
       "    }\n",
       "</style>\n",
       "<table border=\"1\" class=\"dataframe\">\n",
       "  <thead>\n",
       "    <tr style=\"text-align: right;\">\n",
       "      <th></th>\n",
       "      <th>gender</th>\n",
       "      <th>DateOfBirth</th>\n",
       "      <th>State</th>\n",
       "      <th>Contact</th>\n",
       "      <th>Segment</th>\n",
       "      <th>claim_id</th>\n",
       "      <th>incident_cause</th>\n",
       "      <th>claim_date</th>\n",
       "      <th>claim_area</th>\n",
       "      <th>police_report</th>\n",
       "      <th>claim_type</th>\n",
       "      <th>claim_amount</th>\n",
       "      <th>total_policy_claims</th>\n",
       "      <th>fraudulent</th>\n",
       "      <th>alert flag</th>\n",
       "      <th>age</th>\n",
       "      <th>category</th>\n",
       "    </tr>\n",
       "    <tr>\n",
       "      <th>CUST_ID</th>\n",
       "      <th></th>\n",
       "      <th></th>\n",
       "      <th></th>\n",
       "      <th></th>\n",
       "      <th></th>\n",
       "      <th></th>\n",
       "      <th></th>\n",
       "      <th></th>\n",
       "      <th></th>\n",
       "      <th></th>\n",
       "      <th></th>\n",
       "      <th></th>\n",
       "      <th></th>\n",
       "      <th></th>\n",
       "      <th></th>\n",
       "      <th></th>\n",
       "      <th></th>\n",
       "    </tr>\n",
       "  </thead>\n",
       "  <tbody>\n",
       "    <tr>\n",
       "      <th>154557</th>\n",
       "      <td>Female</td>\n",
       "      <td>23-May-78</td>\n",
       "      <td>DE</td>\n",
       "      <td>9628791238</td>\n",
       "      <td>Platinum</td>\n",
       "      <td>69348631</td>\n",
       "      <td>Driver error</td>\n",
       "      <td>2018-04-10</td>\n",
       "      <td>Auto</td>\n",
       "      <td>No</td>\n",
       "      <td>Injury only</td>\n",
       "      <td>12470.498519</td>\n",
       "      <td>1.0</td>\n",
       "      <td>Yes</td>\n",
       "      <td>0</td>\n",
       "      <td>44</td>\n",
       "      <td>Adult</td>\n",
       "    </tr>\n",
       "    <tr>\n",
       "      <th>263204</th>\n",
       "      <td>Male</td>\n",
       "      <td>20-Dec-72</td>\n",
       "      <td>TX</td>\n",
       "      <td>1738926314</td>\n",
       "      <td>Silver</td>\n",
       "      <td>40953049</td>\n",
       "      <td>Other causes</td>\n",
       "      <td>2018-04-04</td>\n",
       "      <td>Auto</td>\n",
       "      <td>No</td>\n",
       "      <td>Material and injury</td>\n",
       "      <td>39192.000000</td>\n",
       "      <td>1.0</td>\n",
       "      <td>Yes</td>\n",
       "      <td>0</td>\n",
       "      <td>50</td>\n",
       "      <td>Adult</td>\n",
       "    </tr>\n",
       "    <tr>\n",
       "      <th>684748</th>\n",
       "      <td>Male</td>\n",
       "      <td>03-Aug-77</td>\n",
       "      <td>AK</td>\n",
       "      <td>6133852863</td>\n",
       "      <td>Gold</td>\n",
       "      <td>7238381</td>\n",
       "      <td>Other driver error</td>\n",
       "      <td>2018-07-14</td>\n",
       "      <td>Auto</td>\n",
       "      <td>No</td>\n",
       "      <td>Material only</td>\n",
       "      <td>2920.000000</td>\n",
       "      <td>2.0</td>\n",
       "      <td>No</td>\n",
       "      <td>0</td>\n",
       "      <td>45</td>\n",
       "      <td>Adult</td>\n",
       "    </tr>\n",
       "    <tr>\n",
       "      <th>1163515</th>\n",
       "      <td>Female</td>\n",
       "      <td>03-Feb-95</td>\n",
       "      <td>TX</td>\n",
       "      <td>9783527634</td>\n",
       "      <td>Silver</td>\n",
       "      <td>94303580</td>\n",
       "      <td>Crime</td>\n",
       "      <td>2017-04-25</td>\n",
       "      <td>Auto</td>\n",
       "      <td>Yes</td>\n",
       "      <td>Injury only</td>\n",
       "      <td>30540.000000</td>\n",
       "      <td>1.0</td>\n",
       "      <td>No</td>\n",
       "      <td>1</td>\n",
       "      <td>27</td>\n",
       "      <td>Youth</td>\n",
       "    </tr>\n",
       "    <tr>\n",
       "      <th>2632562</th>\n",
       "      <td>Female</td>\n",
       "      <td>14-Dec-85</td>\n",
       "      <td>AK</td>\n",
       "      <td>4985979658</td>\n",
       "      <td>Platinum</td>\n",
       "      <td>4506676</td>\n",
       "      <td>Other driver error</td>\n",
       "      <td>2018-05-14</td>\n",
       "      <td>Home</td>\n",
       "      <td>Unknown</td>\n",
       "      <td>Material only</td>\n",
       "      <td>1400.000000</td>\n",
       "      <td>1.0</td>\n",
       "      <td>No</td>\n",
       "      <td>0</td>\n",
       "      <td>37</td>\n",
       "      <td>Adult</td>\n",
       "    </tr>\n",
       "    <tr>\n",
       "      <th>...</th>\n",
       "      <td>...</td>\n",
       "      <td>...</td>\n",
       "      <td>...</td>\n",
       "      <td>...</td>\n",
       "      <td>...</td>\n",
       "      <td>...</td>\n",
       "      <td>...</td>\n",
       "      <td>...</td>\n",
       "      <td>...</td>\n",
       "      <td>...</td>\n",
       "      <td>...</td>\n",
       "      <td>...</td>\n",
       "      <td>...</td>\n",
       "      <td>...</td>\n",
       "      <td>...</td>\n",
       "      <td>...</td>\n",
       "      <td>...</td>\n",
       "    </tr>\n",
       "    <tr>\n",
       "      <th>92971195</th>\n",
       "      <td>Male</td>\n",
       "      <td>02-Feb-75</td>\n",
       "      <td>DE</td>\n",
       "      <td>8921734657</td>\n",
       "      <td>Gold</td>\n",
       "      <td>92399694</td>\n",
       "      <td>Other driver error</td>\n",
       "      <td>2018-09-26</td>\n",
       "      <td>Home</td>\n",
       "      <td>No</td>\n",
       "      <td>Material only</td>\n",
       "      <td>1140.000000</td>\n",
       "      <td>1.0</td>\n",
       "      <td>No</td>\n",
       "      <td>0</td>\n",
       "      <td>47</td>\n",
       "      <td>Adult</td>\n",
       "    </tr>\n",
       "    <tr>\n",
       "      <th>94643289</th>\n",
       "      <td>Male</td>\n",
       "      <td>24-Apr-98</td>\n",
       "      <td>AK</td>\n",
       "      <td>3176121425</td>\n",
       "      <td>Silver</td>\n",
       "      <td>34596802</td>\n",
       "      <td>Driver error</td>\n",
       "      <td>2018-03-14</td>\n",
       "      <td>Auto</td>\n",
       "      <td>No</td>\n",
       "      <td>Material and injury</td>\n",
       "      <td>45287.000000</td>\n",
       "      <td>1.0</td>\n",
       "      <td>Yes</td>\n",
       "      <td>0</td>\n",
       "      <td>24</td>\n",
       "      <td>Youth</td>\n",
       "    </tr>\n",
       "    <tr>\n",
       "      <th>94953428</th>\n",
       "      <td>Female</td>\n",
       "      <td>07-Dec-77</td>\n",
       "      <td>DE</td>\n",
       "      <td>6715179548</td>\n",
       "      <td>Gold</td>\n",
       "      <td>97983922</td>\n",
       "      <td>Other causes</td>\n",
       "      <td>2017-06-18</td>\n",
       "      <td>Auto</td>\n",
       "      <td>No</td>\n",
       "      <td>Material only</td>\n",
       "      <td>2210.000000</td>\n",
       "      <td>3.0</td>\n",
       "      <td>No</td>\n",
       "      <td>0</td>\n",
       "      <td>45</td>\n",
       "      <td>Adult</td>\n",
       "    </tr>\n",
       "    <tr>\n",
       "      <th>96439036</th>\n",
       "      <td>Male</td>\n",
       "      <td>29-Jun-89</td>\n",
       "      <td>AK</td>\n",
       "      <td>3596713659</td>\n",
       "      <td>Gold</td>\n",
       "      <td>45865218</td>\n",
       "      <td>Other causes</td>\n",
       "      <td>2018-08-10</td>\n",
       "      <td>Auto</td>\n",
       "      <td>Yes</td>\n",
       "      <td>Injury only</td>\n",
       "      <td>26320.000000</td>\n",
       "      <td>1.0</td>\n",
       "      <td>No</td>\n",
       "      <td>1</td>\n",
       "      <td>33</td>\n",
       "      <td>Adult</td>\n",
       "    </tr>\n",
       "    <tr>\n",
       "      <th>96795364</th>\n",
       "      <td>Female</td>\n",
       "      <td>27-Jul-63</td>\n",
       "      <td>TX</td>\n",
       "      <td>5483743892</td>\n",
       "      <td>Silver</td>\n",
       "      <td>52752958</td>\n",
       "      <td>Other causes</td>\n",
       "      <td>2017-11-13</td>\n",
       "      <td>Auto</td>\n",
       "      <td>Unknown</td>\n",
       "      <td>Material only</td>\n",
       "      <td>2250.000000</td>\n",
       "      <td>1.0</td>\n",
       "      <td>No</td>\n",
       "      <td>0</td>\n",
       "      <td>41</td>\n",
       "      <td>Adult</td>\n",
       "    </tr>\n",
       "  </tbody>\n",
       "</table>\n",
       "<p>70 rows × 17 columns</p>\n",
       "</div>"
      ],
      "text/plain": [
       "          gender DateOfBirth State     Contact   Segment  claim_id  \\\n",
       "CUST_ID                                                              \n",
       "154557    Female   23-May-78    DE  9628791238  Platinum  69348631   \n",
       "263204      Male   20-Dec-72    TX  1738926314    Silver  40953049   \n",
       "684748      Male   03-Aug-77    AK  6133852863      Gold   7238381   \n",
       "1163515   Female   03-Feb-95    TX  9783527634    Silver  94303580   \n",
       "2632562   Female   14-Dec-85    AK  4985979658  Platinum   4506676   \n",
       "...          ...         ...   ...         ...       ...       ...   \n",
       "92971195    Male   02-Feb-75    DE  8921734657      Gold  92399694   \n",
       "94643289    Male   24-Apr-98    AK  3176121425    Silver  34596802   \n",
       "94953428  Female   07-Dec-77    DE  6715179548      Gold  97983922   \n",
       "96439036    Male   29-Jun-89    AK  3596713659      Gold  45865218   \n",
       "96795364  Female   27-Jul-63    TX  5483743892    Silver  52752958   \n",
       "\n",
       "              incident_cause claim_date claim_area police_report  \\\n",
       "CUST_ID                                                            \n",
       "154557          Driver error 2018-04-10       Auto            No   \n",
       "263204          Other causes 2018-04-04       Auto            No   \n",
       "684748    Other driver error 2018-07-14       Auto            No   \n",
       "1163515                Crime 2017-04-25       Auto           Yes   \n",
       "2632562   Other driver error 2018-05-14       Home       Unknown   \n",
       "...                      ...        ...        ...           ...   \n",
       "92971195  Other driver error 2018-09-26       Home            No   \n",
       "94643289        Driver error 2018-03-14       Auto            No   \n",
       "94953428        Other causes 2017-06-18       Auto            No   \n",
       "96439036        Other causes 2018-08-10       Auto           Yes   \n",
       "96795364        Other causes 2017-11-13       Auto       Unknown   \n",
       "\n",
       "                   claim_type  claim_amount  total_policy_claims fraudulent  \\\n",
       "CUST_ID                                                                       \n",
       "154557            Injury only  12470.498519                  1.0        Yes   \n",
       "263204    Material and injury  39192.000000                  1.0        Yes   \n",
       "684748          Material only   2920.000000                  2.0         No   \n",
       "1163515           Injury only  30540.000000                  1.0         No   \n",
       "2632562         Material only   1400.000000                  1.0         No   \n",
       "...                       ...           ...                  ...        ...   \n",
       "92971195        Material only   1140.000000                  1.0         No   \n",
       "94643289  Material and injury  45287.000000                  1.0        Yes   \n",
       "94953428        Material only   2210.000000                  3.0         No   \n",
       "96439036          Injury only  26320.000000                  1.0         No   \n",
       "96795364        Material only   2250.000000                  1.0         No   \n",
       "\n",
       "          alert flag  age category  \n",
       "CUST_ID                             \n",
       "154557             0   44    Adult  \n",
       "263204             0   50    Adult  \n",
       "684748             0   45    Adult  \n",
       "1163515            1   27    Youth  \n",
       "2632562            0   37    Adult  \n",
       "...              ...  ...      ...  \n",
       "92971195           0   47    Adult  \n",
       "94643289           0   24    Youth  \n",
       "94953428           0   45    Adult  \n",
       "96439036           1   33    Adult  \n",
       "96795364           0   41    Adult  \n",
       "\n",
       "[70 rows x 17 columns]"
      ]
     },
     "execution_count": 40,
     "metadata": {},
     "output_type": "execute_result"
    }
   ],
   "source": [
    "cust_information[(cust_information['State']=='TX') | (cust_information['State']=='AK')|(cust_information['State']=='DE')]"
   ]
  },
  {
   "cell_type": "code",
   "execution_count": 41,
   "id": "34e5b908",
   "metadata": {},
   "outputs": [
    {
     "data": {
      "text/plain": [
       "category\n",
       "False     56\n",
       "True     200\n",
       "Name: incident_cause, dtype: int64"
      ]
     },
     "execution_count": 41,
     "metadata": {},
     "output_type": "execute_result"
    }
   ],
   "source": [
    "cust_information.incident_cause.str.contains('Driver',regex=False).groupby(cust_information['category']=='Adult').sum()"
   ]
  },
  {
   "cell_type": "code",
   "execution_count": 42,
   "id": "919b7a55",
   "metadata": {},
   "outputs": [
    {
     "data": {
      "text/plain": [
       "CUST_ID\n",
       "154557       True\n",
       "263204       True\n",
       "287476       True\n",
       "441097       True\n",
       "524545       True\n",
       "            ...  \n",
       "99674324     True\n",
       "99723844     True\n",
       "99761663     True\n",
       "99892000    False\n",
       "99961993    False\n",
       "Name: category, Length: 1078, dtype: bool"
      ]
     },
     "execution_count": 42,
     "metadata": {},
     "output_type": "execute_result"
    }
   ],
   "source": [
    "cust_information['category']=='Adult'"
   ]
  },
  {
   "cell_type": "code",
   "execution_count": 43,
   "id": "84ad907c",
   "metadata": {},
   "outputs": [
    {
     "data": {
      "text/plain": [
       "State\n",
       "AK    5\n",
       "DE    7\n",
       "TX    5\n",
       "Name: State, dtype: int64"
      ]
     },
     "execution_count": 43,
     "metadata": {},
     "output_type": "execute_result"
    }
   ],
   "source": [
    "cust_information.loc[(cust_information.incident_cause.str.contains('Driver',regex=False)) &(cust_information['category']=='Adult')& ((cust_information['State']=='TX') | (cust_information['State']=='AK')|(cust_information['State']=='DE'))].groupby('State')['State'].count()"
   ]
  },
  {
   "cell_type": "markdown",
   "id": "b17a5495",
   "metadata": {},
   "source": [
    "### 11. Draw a pie chart between the aggregated value of claim amount based on gender and segment. Represent the claim amount as a percentage on the pie chart."
   ]
  },
  {
   "cell_type": "code",
   "execution_count": 44,
   "id": "14ebab53",
   "metadata": {},
   "outputs": [
    {
     "data": {
      "text/html": [
       "<div>\n",
       "<style scoped>\n",
       "    .dataframe tbody tr th:only-of-type {\n",
       "        vertical-align: middle;\n",
       "    }\n",
       "\n",
       "    .dataframe tbody tr th {\n",
       "        vertical-align: top;\n",
       "    }\n",
       "\n",
       "    .dataframe thead th {\n",
       "        text-align: right;\n",
       "    }\n",
       "</style>\n",
       "<table border=\"1\" class=\"dataframe\">\n",
       "  <thead>\n",
       "    <tr style=\"text-align: right;\">\n",
       "      <th></th>\n",
       "      <th>gender</th>\n",
       "      <th>DateOfBirth</th>\n",
       "      <th>State</th>\n",
       "      <th>Contact</th>\n",
       "      <th>Segment</th>\n",
       "      <th>claim_id</th>\n",
       "      <th>incident_cause</th>\n",
       "      <th>claim_date</th>\n",
       "      <th>claim_area</th>\n",
       "      <th>police_report</th>\n",
       "      <th>claim_type</th>\n",
       "      <th>claim_amount</th>\n",
       "      <th>total_policy_claims</th>\n",
       "      <th>fraudulent</th>\n",
       "      <th>alert flag</th>\n",
       "      <th>age</th>\n",
       "      <th>category</th>\n",
       "    </tr>\n",
       "    <tr>\n",
       "      <th>CUST_ID</th>\n",
       "      <th></th>\n",
       "      <th></th>\n",
       "      <th></th>\n",
       "      <th></th>\n",
       "      <th></th>\n",
       "      <th></th>\n",
       "      <th></th>\n",
       "      <th></th>\n",
       "      <th></th>\n",
       "      <th></th>\n",
       "      <th></th>\n",
       "      <th></th>\n",
       "      <th></th>\n",
       "      <th></th>\n",
       "      <th></th>\n",
       "      <th></th>\n",
       "      <th></th>\n",
       "    </tr>\n",
       "  </thead>\n",
       "  <tbody>\n",
       "    <tr>\n",
       "      <th>154557</th>\n",
       "      <td>Female</td>\n",
       "      <td>23-May-78</td>\n",
       "      <td>DE</td>\n",
       "      <td>9628791238</td>\n",
       "      <td>Platinum</td>\n",
       "      <td>69348631</td>\n",
       "      <td>Driver error</td>\n",
       "      <td>2018-04-10</td>\n",
       "      <td>Auto</td>\n",
       "      <td>No</td>\n",
       "      <td>Injury only</td>\n",
       "      <td>12470.498519</td>\n",
       "      <td>1.0</td>\n",
       "      <td>Yes</td>\n",
       "      <td>0</td>\n",
       "      <td>44</td>\n",
       "      <td>Adult</td>\n",
       "    </tr>\n",
       "  </tbody>\n",
       "</table>\n",
       "</div>"
      ],
      "text/plain": [
       "         gender DateOfBirth State     Contact   Segment  claim_id  \\\n",
       "CUST_ID                                                             \n",
       "154557   Female   23-May-78    DE  9628791238  Platinum  69348631   \n",
       "\n",
       "        incident_cause claim_date claim_area police_report   claim_type  \\\n",
       "CUST_ID                                                                   \n",
       "154557    Driver error 2018-04-10       Auto            No  Injury only   \n",
       "\n",
       "         claim_amount  total_policy_claims fraudulent  alert flag  age  \\\n",
       "CUST_ID                                                                  \n",
       "154557   12470.498519                  1.0        Yes           0   44   \n",
       "\n",
       "        category  \n",
       "CUST_ID           \n",
       "154557     Adult  "
      ]
     },
     "execution_count": 44,
     "metadata": {},
     "output_type": "execute_result"
    }
   ],
   "source": [
    "cust_information.head(1)"
   ]
  },
  {
   "cell_type": "code",
   "execution_count": 45,
   "id": "78077942",
   "metadata": {},
   "outputs": [],
   "source": [
    "Q11=cust_information.groupby(['gender','Segment'])[['claim_amount']].sum().reset_index()"
   ]
  },
  {
   "cell_type": "code",
   "execution_count": 46,
   "id": "a65fcd23",
   "metadata": {},
   "outputs": [],
   "source": [
    "Q11=Q11.pivot(columns='Segment',index='gender',values='claim_amount')"
   ]
  },
  {
   "cell_type": "code",
   "execution_count": 47,
   "id": "3abe07fe",
   "metadata": {},
   "outputs": [
    {
     "data": {
      "text/plain": [
       "array([<AxesSubplot:ylabel='Gold'>, <AxesSubplot:ylabel='Platinum'>,\n",
       "       <AxesSubplot:ylabel='Silver'>], dtype=object)"
      ]
     },
     "execution_count": 47,
     "metadata": {},
     "output_type": "execute_result"
    },
    {
     "data": {
      "image/png": "[encoded data removed]",
      "text/plain": [
       "<Figure size 1080x1080 with 3 Axes>"
      ]
     },
     "metadata": {},
     "output_type": "display_data"
    }
   ],
   "source": [
    "Q11.plot(kind='pie',subplots = True,legend = False,autopct='%1.1f%%',figsize = (15,15))\n"
   ]
  },
  {
   "cell_type": "markdown",
   "id": "ce74497c",
   "metadata": {},
   "source": [
    "### 12. Among males and females, which gender had claimed the most for any type of driver related issues? E.g. This metric can be compared using a bar chart\n"
   ]
  },
  {
   "cell_type": "code",
   "execution_count": 48,
   "id": "8b6765e7",
   "metadata": {},
   "outputs": [
    {
     "data": {
      "text/html": [
       "<div>\n",
       "<style scoped>\n",
       "    .dataframe tbody tr th:only-of-type {\n",
       "        vertical-align: middle;\n",
       "    }\n",
       "\n",
       "    .dataframe tbody tr th {\n",
       "        vertical-align: top;\n",
       "    }\n",
       "\n",
       "    .dataframe thead th {\n",
       "        text-align: right;\n",
       "    }\n",
       "</style>\n",
       "<table border=\"1\" class=\"dataframe\">\n",
       "  <thead>\n",
       "    <tr style=\"text-align: right;\">\n",
       "      <th></th>\n",
       "      <th>gender</th>\n",
       "      <th>DateOfBirth</th>\n",
       "      <th>State</th>\n",
       "      <th>Contact</th>\n",
       "      <th>Segment</th>\n",
       "      <th>claim_id</th>\n",
       "      <th>incident_cause</th>\n",
       "      <th>claim_date</th>\n",
       "      <th>claim_area</th>\n",
       "      <th>police_report</th>\n",
       "      <th>claim_type</th>\n",
       "      <th>claim_amount</th>\n",
       "      <th>total_policy_claims</th>\n",
       "      <th>fraudulent</th>\n",
       "      <th>alert flag</th>\n",
       "      <th>age</th>\n",
       "      <th>category</th>\n",
       "    </tr>\n",
       "    <tr>\n",
       "      <th>CUST_ID</th>\n",
       "      <th></th>\n",
       "      <th></th>\n",
       "      <th></th>\n",
       "      <th></th>\n",
       "      <th></th>\n",
       "      <th></th>\n",
       "      <th></th>\n",
       "      <th></th>\n",
       "      <th></th>\n",
       "      <th></th>\n",
       "      <th></th>\n",
       "      <th></th>\n",
       "      <th></th>\n",
       "      <th></th>\n",
       "      <th></th>\n",
       "      <th></th>\n",
       "      <th></th>\n",
       "    </tr>\n",
       "  </thead>\n",
       "  <tbody>\n",
       "    <tr>\n",
       "      <th>154557</th>\n",
       "      <td>Female</td>\n",
       "      <td>23-May-78</td>\n",
       "      <td>DE</td>\n",
       "      <td>9628791238</td>\n",
       "      <td>Platinum</td>\n",
       "      <td>69348631</td>\n",
       "      <td>Driver error</td>\n",
       "      <td>2018-04-10</td>\n",
       "      <td>Auto</td>\n",
       "      <td>No</td>\n",
       "      <td>Injury only</td>\n",
       "      <td>12470.498519</td>\n",
       "      <td>1.0</td>\n",
       "      <td>Yes</td>\n",
       "      <td>0</td>\n",
       "      <td>44</td>\n",
       "      <td>Adult</td>\n",
       "    </tr>\n",
       "  </tbody>\n",
       "</table>\n",
       "</div>"
      ],
      "text/plain": [
       "         gender DateOfBirth State     Contact   Segment  claim_id  \\\n",
       "CUST_ID                                                             \n",
       "154557   Female   23-May-78    DE  9628791238  Platinum  69348631   \n",
       "\n",
       "        incident_cause claim_date claim_area police_report   claim_type  \\\n",
       "CUST_ID                                                                   \n",
       "154557    Driver error 2018-04-10       Auto            No  Injury only   \n",
       "\n",
       "         claim_amount  total_policy_claims fraudulent  alert flag  age  \\\n",
       "CUST_ID                                                                  \n",
       "154557   12470.498519                  1.0        Yes           0   44   \n",
       "\n",
       "        category  \n",
       "CUST_ID           \n",
       "154557     Adult  "
      ]
     },
     "execution_count": 48,
     "metadata": {},
     "output_type": "execute_result"
    }
   ],
   "source": [
    "cust_information.head(1)"
   ]
  },
  {
   "cell_type": "code",
   "execution_count": 49,
   "id": "ae9cca40",
   "metadata": {},
   "outputs": [],
   "source": [
    "C=cust_information.loc[cust_information.incident_cause.str.contains('Driver')].groupby('gender')[['gender']].count()"
   ]
  },
  {
   "cell_type": "code",
   "execution_count": null,
   "id": "c3652c41",
   "metadata": {},
   "outputs": [],
   "source": []
  },
  {
   "cell_type": "code",
   "execution_count": 50,
   "id": "fc91f5c8",
   "metadata": {},
   "outputs": [],
   "source": [
    "#C.groupby('gender')[['incident_cause']].count()\n"
   ]
  },
  {
   "cell_type": "code",
   "execution_count": 51,
   "id": "dd0ec2dd",
   "metadata": {},
   "outputs": [
    {
     "data": {
      "text/plain": [
       "<AxesSubplot:xlabel='gender'>"
      ]
     },
     "execution_count": 51,
     "metadata": {},
     "output_type": "execute_result"
    },
    {
     "data": {
      "image/png": "[encoded data removed]",
      "text/plain": [
       "<Figure size 432x288 with 1 Axes>"
      ]
     },
     "metadata": {
      "needs_background": "light"
     },
     "output_type": "display_data"
    }
   ],
   "source": [
    "C.plot(kind='bar')"
   ]
  },
  {
   "cell_type": "markdown",
   "id": "3cde8335",
   "metadata": {},
   "source": [
    "### 13. Which age group had the maximum fraudulent policy claims? Visualize it on a bar chart."
   ]
  },
  {
   "cell_type": "code",
   "execution_count": 52,
   "id": "2e160ab6",
   "metadata": {
    "scrolled": true
   },
   "outputs": [],
   "source": [
    "cust_information['D']=np.where(cust_information.fraudulent == \"Yes\",1,0)"
   ]
  },
  {
   "cell_type": "code",
   "execution_count": 53,
   "id": "41a1fc1b",
   "metadata": {},
   "outputs": [],
   "source": [
    "E=cust_information.groupby([\"category\"])['D'].sum()"
   ]
  },
  {
   "cell_type": "code",
   "execution_count": 54,
   "id": "8ed1d7be",
   "metadata": {},
   "outputs": [
    {
     "data": {
      "text/plain": [
       "<AxesSubplot:xlabel='category'>"
      ]
     },
     "execution_count": 54,
     "metadata": {},
     "output_type": "execute_result"
    },
    {
     "data": {
      "image/png": "[encoded data removed]",
      "text/plain": [
       "<Figure size 432x288 with 1 Axes>"
      ]
     },
     "metadata": {
      "needs_background": "light"
     },
     "output_type": "display_data"
    }
   ],
   "source": [
    "E.plot(kind='bar')"
   ]
  },
  {
   "cell_type": "code",
   "execution_count": 55,
   "id": "f99978d3",
   "metadata": {},
   "outputs": [],
   "source": [
    "cust_information=cust_information.drop(columns='D')"
   ]
  },
  {
   "cell_type": "markdown",
   "id": "9092d147",
   "metadata": {},
   "source": [
    "### 14. Visualize the monthly trend of the total amount that has been claimed by the customers. Ensure that on the “month” axis, the month is in a chronological order not alphabetical order."
   ]
  },
  {
   "cell_type": "code",
   "execution_count": 56,
   "id": "cf2e606c",
   "metadata": {},
   "outputs": [],
   "source": [
    "cust_information['monthly_claimed']=cust_information['claim_date'].dt.month\n",
    "cust_information['year_claimed']=cust_information['claim_date'].dt.year"
   ]
  },
  {
   "cell_type": "code",
   "execution_count": 57,
   "id": "a6826347",
   "metadata": {},
   "outputs": [],
   "source": [
    "F=cust_information.groupby(['year_claimed','monthly_claimed'])[['claim_amount']].sum().sort_values(['year_claimed','monthly_claimed'])"
   ]
  },
  {
   "cell_type": "code",
   "execution_count": 58,
   "id": "362bb435",
   "metadata": {},
   "outputs": [
    {
     "data": {
      "text/html": [
       "<div>\n",
       "<style scoped>\n",
       "    .dataframe tbody tr th:only-of-type {\n",
       "        vertical-align: middle;\n",
       "    }\n",
       "\n",
       "    .dataframe tbody tr th {\n",
       "        vertical-align: top;\n",
       "    }\n",
       "\n",
       "    .dataframe thead th {\n",
       "        text-align: right;\n",
       "    }\n",
       "</style>\n",
       "<table border=\"1\" class=\"dataframe\">\n",
       "  <thead>\n",
       "    <tr style=\"text-align: right;\">\n",
       "      <th></th>\n",
       "      <th></th>\n",
       "      <th>claim_amount</th>\n",
       "    </tr>\n",
       "    <tr>\n",
       "      <th>year_claimed</th>\n",
       "      <th>monthly_claimed</th>\n",
       "      <th></th>\n",
       "    </tr>\n",
       "  </thead>\n",
       "  <tbody>\n",
       "    <tr>\n",
       "      <th rowspan=\"12\" valign=\"top\">2017</th>\n",
       "      <th>1</th>\n",
       "      <td>610302.495558</td>\n",
       "    </tr>\n",
       "    <tr>\n",
       "      <th>2</th>\n",
       "      <td>633523.997038</td>\n",
       "    </tr>\n",
       "    <tr>\n",
       "      <th>3</th>\n",
       "      <td>615513.997038</td>\n",
       "    </tr>\n",
       "    <tr>\n",
       "      <th>4</th>\n",
       "      <td>747944.498519</td>\n",
       "    </tr>\n",
       "    <tr>\n",
       "      <th>5</th>\n",
       "      <td>546647.995558</td>\n",
       "    </tr>\n",
       "    <tr>\n",
       "      <th>6</th>\n",
       "      <td>560112.498519</td>\n",
       "    </tr>\n",
       "    <tr>\n",
       "      <th>7</th>\n",
       "      <td>790743.994077</td>\n",
       "    </tr>\n",
       "    <tr>\n",
       "      <th>8</th>\n",
       "      <td>431553.997038</td>\n",
       "    </tr>\n",
       "    <tr>\n",
       "      <th>9</th>\n",
       "      <td>459250.489635</td>\n",
       "    </tr>\n",
       "    <tr>\n",
       "      <th>10</th>\n",
       "      <td>647201.995558</td>\n",
       "    </tr>\n",
       "    <tr>\n",
       "      <th>11</th>\n",
       "      <td>601124.997038</td>\n",
       "    </tr>\n",
       "    <tr>\n",
       "      <th>12</th>\n",
       "      <td>696701.498519</td>\n",
       "    </tr>\n",
       "    <tr>\n",
       "      <th rowspan=\"10\" valign=\"top\">2018</th>\n",
       "      <th>1</th>\n",
       "      <td>721709.494077</td>\n",
       "    </tr>\n",
       "    <tr>\n",
       "      <th>2</th>\n",
       "      <td>499582.997038</td>\n",
       "    </tr>\n",
       "    <tr>\n",
       "      <th>3</th>\n",
       "      <td>704579.995558</td>\n",
       "    </tr>\n",
       "    <tr>\n",
       "      <th>4</th>\n",
       "      <td>528126.998519</td>\n",
       "    </tr>\n",
       "    <tr>\n",
       "      <th>5</th>\n",
       "      <td>567563.492596</td>\n",
       "    </tr>\n",
       "    <tr>\n",
       "      <th>6</th>\n",
       "      <td>716220.492596</td>\n",
       "    </tr>\n",
       "    <tr>\n",
       "      <th>7</th>\n",
       "      <td>588290.992596</td>\n",
       "    </tr>\n",
       "    <tr>\n",
       "      <th>8</th>\n",
       "      <td>479649.498519</td>\n",
       "    </tr>\n",
       "    <tr>\n",
       "      <th>9</th>\n",
       "      <td>521397.495558</td>\n",
       "    </tr>\n",
       "    <tr>\n",
       "      <th>10</th>\n",
       "      <td>775453.492596</td>\n",
       "    </tr>\n",
       "  </tbody>\n",
       "</table>\n",
       "</div>"
      ],
      "text/plain": [
       "                               claim_amount\n",
       "year_claimed monthly_claimed               \n",
       "2017         1                610302.495558\n",
       "             2                633523.997038\n",
       "             3                615513.997038\n",
       "             4                747944.498519\n",
       "             5                546647.995558\n",
       "             6                560112.498519\n",
       "             7                790743.994077\n",
       "             8                431553.997038\n",
       "             9                459250.489635\n",
       "             10               647201.995558\n",
       "             11               601124.997038\n",
       "             12               696701.498519\n",
       "2018         1                721709.494077\n",
       "             2                499582.997038\n",
       "             3                704579.995558\n",
       "             4                528126.998519\n",
       "             5                567563.492596\n",
       "             6                716220.492596\n",
       "             7                588290.992596\n",
       "             8                479649.498519\n",
       "             9                521397.495558\n",
       "             10               775453.492596"
      ]
     },
     "execution_count": 58,
     "metadata": {},
     "output_type": "execute_result"
    }
   ],
   "source": [
    "F"
   ]
  },
  {
   "cell_type": "code",
   "execution_count": 59,
   "id": "3441c55b",
   "metadata": {},
   "outputs": [
    {
     "data": {
      "text/plain": [
       "<AxesSubplot:xlabel='year_claimed,monthly_claimed'>"
      ]
     },
     "execution_count": 59,
     "metadata": {},
     "output_type": "execute_result"
    },
    {
     "data": {
      "image/png": "[encoded data removed]",
      "text/plain": [
       "<Figure size 720x288 with 1 Axes>"
      ]
     },
     "metadata": {
      "needs_background": "light"
     },
     "output_type": "display_data"
    }
   ],
   "source": [
    "F.plot(kind='bar',figsize = (10,4))"
   ]
  },
  {
   "cell_type": "markdown",
   "id": "622bec40",
   "metadata": {},
   "source": [
    "### 15. What is the average claim amount for gender and age categories and suitably represent the above using a facetted bar chart, one facet that represents fraudulent claims and the other for non-fraudulent claims."
   ]
  },
  {
   "cell_type": "code",
   "execution_count": 60,
   "id": "4686650d",
   "metadata": {},
   "outputs": [
    {
     "data": {
      "text/html": [
       "<div>\n",
       "<style scoped>\n",
       "    .dataframe tbody tr th:only-of-type {\n",
       "        vertical-align: middle;\n",
       "    }\n",
       "\n",
       "    .dataframe tbody tr th {\n",
       "        vertical-align: top;\n",
       "    }\n",
       "\n",
       "    .dataframe thead th {\n",
       "        text-align: right;\n",
       "    }\n",
       "</style>\n",
       "<table border=\"1\" class=\"dataframe\">\n",
       "  <thead>\n",
       "    <tr style=\"text-align: right;\">\n",
       "      <th></th>\n",
       "      <th>gender</th>\n",
       "      <th>DateOfBirth</th>\n",
       "      <th>State</th>\n",
       "      <th>Contact</th>\n",
       "      <th>Segment</th>\n",
       "      <th>claim_id</th>\n",
       "      <th>incident_cause</th>\n",
       "      <th>claim_date</th>\n",
       "      <th>claim_area</th>\n",
       "      <th>police_report</th>\n",
       "      <th>claim_type</th>\n",
       "      <th>claim_amount</th>\n",
       "      <th>total_policy_claims</th>\n",
       "      <th>fraudulent</th>\n",
       "      <th>alert flag</th>\n",
       "      <th>age</th>\n",
       "      <th>category</th>\n",
       "      <th>monthly_claimed</th>\n",
       "      <th>year_claimed</th>\n",
       "    </tr>\n",
       "    <tr>\n",
       "      <th>CUST_ID</th>\n",
       "      <th></th>\n",
       "      <th></th>\n",
       "      <th></th>\n",
       "      <th></th>\n",
       "      <th></th>\n",
       "      <th></th>\n",
       "      <th></th>\n",
       "      <th></th>\n",
       "      <th></th>\n",
       "      <th></th>\n",
       "      <th></th>\n",
       "      <th></th>\n",
       "      <th></th>\n",
       "      <th></th>\n",
       "      <th></th>\n",
       "      <th></th>\n",
       "      <th></th>\n",
       "      <th></th>\n",
       "      <th></th>\n",
       "    </tr>\n",
       "  </thead>\n",
       "  <tbody>\n",
       "    <tr>\n",
       "      <th>154557</th>\n",
       "      <td>Female</td>\n",
       "      <td>23-May-78</td>\n",
       "      <td>DE</td>\n",
       "      <td>9628791238</td>\n",
       "      <td>Platinum</td>\n",
       "      <td>69348631</td>\n",
       "      <td>Driver error</td>\n",
       "      <td>2018-04-10</td>\n",
       "      <td>Auto</td>\n",
       "      <td>No</td>\n",
       "      <td>Injury only</td>\n",
       "      <td>12470.498519</td>\n",
       "      <td>1.0</td>\n",
       "      <td>Yes</td>\n",
       "      <td>0</td>\n",
       "      <td>44</td>\n",
       "      <td>Adult</td>\n",
       "      <td>4</td>\n",
       "      <td>2018</td>\n",
       "    </tr>\n",
       "  </tbody>\n",
       "</table>\n",
       "</div>"
      ],
      "text/plain": [
       "         gender DateOfBirth State     Contact   Segment  claim_id  \\\n",
       "CUST_ID                                                             \n",
       "154557   Female   23-May-78    DE  9628791238  Platinum  69348631   \n",
       "\n",
       "        incident_cause claim_date claim_area police_report   claim_type  \\\n",
       "CUST_ID                                                                   \n",
       "154557    Driver error 2018-04-10       Auto            No  Injury only   \n",
       "\n",
       "         claim_amount  total_policy_claims fraudulent  alert flag  age  \\\n",
       "CUST_ID                                                                  \n",
       "154557   12470.498519                  1.0        Yes           0   44   \n",
       "\n",
       "        category  monthly_claimed  year_claimed  \n",
       "CUST_ID                                          \n",
       "154557     Adult                4          2018  "
      ]
     },
     "execution_count": 60,
     "metadata": {},
     "output_type": "execute_result"
    }
   ],
   "source": [
    "cust_information.head(1)"
   ]
  },
  {
   "cell_type": "code",
   "execution_count": 61,
   "id": "e431bfae",
   "metadata": {},
   "outputs": [
    {
     "data": {
      "text/html": [
       "<div>\n",
       "<style scoped>\n",
       "    .dataframe tbody tr th:only-of-type {\n",
       "        vertical-align: middle;\n",
       "    }\n",
       "\n",
       "    .dataframe tbody tr th {\n",
       "        vertical-align: top;\n",
       "    }\n",
       "\n",
       "    .dataframe thead th {\n",
       "        text-align: right;\n",
       "    }\n",
       "</style>\n",
       "<table border=\"1\" class=\"dataframe\">\n",
       "  <thead>\n",
       "    <tr style=\"text-align: right;\">\n",
       "      <th></th>\n",
       "      <th></th>\n",
       "      <th>claim_amount</th>\n",
       "    </tr>\n",
       "    <tr>\n",
       "      <th>gender</th>\n",
       "      <th>category</th>\n",
       "      <th></th>\n",
       "    </tr>\n",
       "  </thead>\n",
       "  <tbody>\n",
       "    <tr>\n",
       "      <th rowspan=\"3\" valign=\"top\">Female</th>\n",
       "      <th>Adult</th>\n",
       "      <td>12043.700171</td>\n",
       "    </tr>\n",
       "    <tr>\n",
       "      <th>NAN</th>\n",
       "      <td>11948.692308</td>\n",
       "    </tr>\n",
       "    <tr>\n",
       "      <th>Youth</th>\n",
       "      <td>12357.725360</td>\n",
       "    </tr>\n",
       "    <tr>\n",
       "      <th rowspan=\"3\" valign=\"top\">Male</th>\n",
       "      <th>Adult</th>\n",
       "      <td>13095.496456</td>\n",
       "    </tr>\n",
       "    <tr>\n",
       "      <th>NAN</th>\n",
       "      <td>16477.599852</td>\n",
       "    </tr>\n",
       "    <tr>\n",
       "      <th>Youth</th>\n",
       "      <td>11359.009336</td>\n",
       "    </tr>\n",
       "  </tbody>\n",
       "</table>\n",
       "</div>"
      ],
      "text/plain": [
       "                 claim_amount\n",
       "gender category              \n",
       "Female Adult     12043.700171\n",
       "       NAN       11948.692308\n",
       "       Youth     12357.725360\n",
       "Male   Adult     13095.496456\n",
       "       NAN       16477.599852\n",
       "       Youth     11359.009336"
      ]
     },
     "execution_count": 61,
     "metadata": {},
     "output_type": "execute_result"
    }
   ],
   "source": [
    "cust_information.groupby(['gender','category'])[['claim_amount']].mean()"
   ]
  },
  {
   "cell_type": "code",
   "execution_count": 62,
   "id": "6a6d1b97",
   "metadata": {},
   "outputs": [],
   "source": [
    "fraudulent_Yes=cust_information.loc[(cust_information['fraudulent']=='Yes')].groupby(['gender','category'])[['claim_amount']].mean()"
   ]
  },
  {
   "cell_type": "code",
   "execution_count": 63,
   "id": "8c66c18e",
   "metadata": {},
   "outputs": [],
   "source": [
    "fraudulent_No=cust_information.loc[(cust_information['fraudulent']=='No')].groupby(['gender','category'])[['claim_amount']].mean()"
   ]
  },
  {
   "cell_type": "code",
   "execution_count": 64,
   "id": "3fb6add9",
   "metadata": {},
   "outputs": [
    {
     "data": {
      "text/plain": [
       "<AxesSubplot:title={'center':'fraudulent_No'}, xlabel='gender,category'>"
      ]
     },
     "execution_count": 64,
     "metadata": {},
     "output_type": "execute_result"
    },
    {
     "data": {
      "image/png": "[encoded data removed]",
      "text/plain": [
       "<Figure size 432x288 with 1 Axes>"
      ]
     },
     "metadata": {
      "needs_background": "light"
     },
     "output_type": "display_data"
    }
   ],
   "source": [
    "fraudulent_No.plot(kind='bar',title='fraudulent_No')"
   ]
  },
  {
   "cell_type": "code",
   "execution_count": 65,
   "id": "bbac1a9f",
   "metadata": {},
   "outputs": [
    {
     "data": {
      "text/plain": [
       "<AxesSubplot:title={'center':'fraudulent_Yes'}, xlabel='gender,category'>"
      ]
     },
     "execution_count": 65,
     "metadata": {},
     "output_type": "execute_result"
    },
    {
     "data": {
      "image/png": "[encoded data removed]",
      "text/plain": [
       "<Figure size 432x288 with 1 Axes>"
      ]
     },
     "metadata": {
      "needs_background": "light"
     },
     "output_type": "display_data"
    }
   ],
   "source": [
    "fraudulent_Yes.plot(kind='bar',title='fraudulent_Yes')"
   ]
  },
  {
   "cell_type": "markdown",
   "id": "03e320c2",
   "metadata": {},
   "source": [
    "Based on the conclusions from exploratory analysis as well as suitable\n",
    "statistical tests, answer the below questions. Please include a detailed\n",
    "write-up on the parameters taken into consideration, the Hypothesis\n",
    "testing steps, conclusion from the p-values and the business implications of\n",
    "the statements."
   ]
  },
  {
   "cell_type": "code",
   "execution_count": 66,
   "id": "9a0d1f5a",
   "metadata": {},
   "outputs": [],
   "source": [
    "import scipy.stats as stats"
   ]
  },
  {
   "cell_type": "markdown",
   "id": "fd520655",
   "metadata": {},
   "source": [
    "### 16. Is there any similarity in the amount claimed by males and females?"
   ]
  },
  {
   "cell_type": "code",
   "execution_count": 67,
   "id": "b8762ce4",
   "metadata": {},
   "outputs": [
    {
     "data": {
      "text/html": [
       "<div>\n",
       "<style scoped>\n",
       "    .dataframe tbody tr th:only-of-type {\n",
       "        vertical-align: middle;\n",
       "    }\n",
       "\n",
       "    .dataframe tbody tr th {\n",
       "        vertical-align: top;\n",
       "    }\n",
       "\n",
       "    .dataframe thead th {\n",
       "        text-align: right;\n",
       "    }\n",
       "</style>\n",
       "<table border=\"1\" class=\"dataframe\">\n",
       "  <thead>\n",
       "    <tr style=\"text-align: right;\">\n",
       "      <th></th>\n",
       "      <th>gender</th>\n",
       "      <th>DateOfBirth</th>\n",
       "      <th>State</th>\n",
       "      <th>Contact</th>\n",
       "      <th>Segment</th>\n",
       "      <th>claim_id</th>\n",
       "      <th>incident_cause</th>\n",
       "      <th>claim_date</th>\n",
       "      <th>claim_area</th>\n",
       "      <th>police_report</th>\n",
       "      <th>claim_type</th>\n",
       "      <th>claim_amount</th>\n",
       "      <th>total_policy_claims</th>\n",
       "      <th>fraudulent</th>\n",
       "      <th>alert flag</th>\n",
       "      <th>age</th>\n",
       "      <th>category</th>\n",
       "      <th>monthly_claimed</th>\n",
       "      <th>year_claimed</th>\n",
       "    </tr>\n",
       "    <tr>\n",
       "      <th>CUST_ID</th>\n",
       "      <th></th>\n",
       "      <th></th>\n",
       "      <th></th>\n",
       "      <th></th>\n",
       "      <th></th>\n",
       "      <th></th>\n",
       "      <th></th>\n",
       "      <th></th>\n",
       "      <th></th>\n",
       "      <th></th>\n",
       "      <th></th>\n",
       "      <th></th>\n",
       "      <th></th>\n",
       "      <th></th>\n",
       "      <th></th>\n",
       "      <th></th>\n",
       "      <th></th>\n",
       "      <th></th>\n",
       "      <th></th>\n",
       "    </tr>\n",
       "  </thead>\n",
       "  <tbody>\n",
       "    <tr>\n",
       "      <th>154557</th>\n",
       "      <td>Female</td>\n",
       "      <td>23-May-78</td>\n",
       "      <td>DE</td>\n",
       "      <td>9628791238</td>\n",
       "      <td>Platinum</td>\n",
       "      <td>69348631</td>\n",
       "      <td>Driver error</td>\n",
       "      <td>2018-04-10</td>\n",
       "      <td>Auto</td>\n",
       "      <td>No</td>\n",
       "      <td>Injury only</td>\n",
       "      <td>12470.498519</td>\n",
       "      <td>1.0</td>\n",
       "      <td>Yes</td>\n",
       "      <td>0</td>\n",
       "      <td>44</td>\n",
       "      <td>Adult</td>\n",
       "      <td>4</td>\n",
       "      <td>2018</td>\n",
       "    </tr>\n",
       "    <tr>\n",
       "      <th>263204</th>\n",
       "      <td>Male</td>\n",
       "      <td>20-Dec-72</td>\n",
       "      <td>TX</td>\n",
       "      <td>1738926314</td>\n",
       "      <td>Silver</td>\n",
       "      <td>40953049</td>\n",
       "      <td>Other causes</td>\n",
       "      <td>2018-04-04</td>\n",
       "      <td>Auto</td>\n",
       "      <td>No</td>\n",
       "      <td>Material and injury</td>\n",
       "      <td>39192.000000</td>\n",
       "      <td>1.0</td>\n",
       "      <td>Yes</td>\n",
       "      <td>0</td>\n",
       "      <td>50</td>\n",
       "      <td>Adult</td>\n",
       "      <td>4</td>\n",
       "      <td>2018</td>\n",
       "    </tr>\n",
       "    <tr>\n",
       "      <th>287476</th>\n",
       "      <td>Male</td>\n",
       "      <td>28-Jul-88</td>\n",
       "      <td>FL</td>\n",
       "      <td>3645981549</td>\n",
       "      <td>Silver</td>\n",
       "      <td>45780237</td>\n",
       "      <td>Natural causes</td>\n",
       "      <td>2017-10-17</td>\n",
       "      <td>Auto</td>\n",
       "      <td>Unknown</td>\n",
       "      <td>Material only</td>\n",
       "      <td>1621.500000</td>\n",
       "      <td>2.0</td>\n",
       "      <td>Yes</td>\n",
       "      <td>0</td>\n",
       "      <td>34</td>\n",
       "      <td>Adult</td>\n",
       "      <td>10</td>\n",
       "      <td>2017</td>\n",
       "    </tr>\n",
       "    <tr>\n",
       "      <th>441097</th>\n",
       "      <td>Male</td>\n",
       "      <td>19-Aug-71</td>\n",
       "      <td>CA</td>\n",
       "      <td>1873488375</td>\n",
       "      <td>Gold</td>\n",
       "      <td>89833962</td>\n",
       "      <td>Other causes</td>\n",
       "      <td>2018-03-21</td>\n",
       "      <td>Auto</td>\n",
       "      <td>Yes</td>\n",
       "      <td>Material and injury</td>\n",
       "      <td>37040.000000</td>\n",
       "      <td>1.0</td>\n",
       "      <td>No</td>\n",
       "      <td>1</td>\n",
       "      <td>49</td>\n",
       "      <td>Adult</td>\n",
       "      <td>3</td>\n",
       "      <td>2018</td>\n",
       "    </tr>\n",
       "    <tr>\n",
       "      <th>524545</th>\n",
       "      <td>Female</td>\n",
       "      <td>10-Aug-80</td>\n",
       "      <td>NC</td>\n",
       "      <td>7988625398</td>\n",
       "      <td>Gold</td>\n",
       "      <td>35782742</td>\n",
       "      <td>Other driver error</td>\n",
       "      <td>2018-07-27</td>\n",
       "      <td>Auto</td>\n",
       "      <td>No</td>\n",
       "      <td>Injury only</td>\n",
       "      <td>35250.000000</td>\n",
       "      <td>3.0</td>\n",
       "      <td>No</td>\n",
       "      <td>0</td>\n",
       "      <td>42</td>\n",
       "      <td>Adult</td>\n",
       "      <td>7</td>\n",
       "      <td>2018</td>\n",
       "    </tr>\n",
       "  </tbody>\n",
       "</table>\n",
       "</div>"
      ],
      "text/plain": [
       "         gender DateOfBirth State     Contact   Segment  claim_id  \\\n",
       "CUST_ID                                                             \n",
       "154557   Female   23-May-78    DE  9628791238  Platinum  69348631   \n",
       "263204     Male   20-Dec-72    TX  1738926314    Silver  40953049   \n",
       "287476     Male   28-Jul-88    FL  3645981549    Silver  45780237   \n",
       "441097     Male   19-Aug-71    CA  1873488375      Gold  89833962   \n",
       "524545   Female   10-Aug-80    NC  7988625398      Gold  35782742   \n",
       "\n",
       "             incident_cause claim_date claim_area police_report  \\\n",
       "CUST_ID                                                           \n",
       "154557         Driver error 2018-04-10       Auto            No   \n",
       "263204         Other causes 2018-04-04       Auto            No   \n",
       "287476       Natural causes 2017-10-17       Auto       Unknown   \n",
       "441097         Other causes 2018-03-21       Auto           Yes   \n",
       "524545   Other driver error 2018-07-27       Auto            No   \n",
       "\n",
       "                  claim_type  claim_amount  total_policy_claims fraudulent  \\\n",
       "CUST_ID                                                                      \n",
       "154557           Injury only  12470.498519                  1.0        Yes   \n",
       "263204   Material and injury  39192.000000                  1.0        Yes   \n",
       "287476         Material only   1621.500000                  2.0        Yes   \n",
       "441097   Material and injury  37040.000000                  1.0         No   \n",
       "524545           Injury only  35250.000000                  3.0         No   \n",
       "\n",
       "         alert flag  age category  monthly_claimed  year_claimed  \n",
       "CUST_ID                                                           \n",
       "154557            0   44    Adult                4          2018  \n",
       "263204            0   50    Adult                4          2018  \n",
       "287476            0   34    Adult               10          2017  \n",
       "441097            1   49    Adult                3          2018  \n",
       "524545            0   42    Adult                7          2018  "
      ]
     },
     "execution_count": 67,
     "metadata": {},
     "output_type": "execute_result"
    }
   ],
   "source": [
    "cust_information.head(5)"
   ]
  },
  {
   "cell_type": "code",
   "execution_count": 68,
   "id": "b69739fd",
   "metadata": {},
   "outputs": [],
   "source": [
    "Male=cust_information['claim_amount'].loc[cust_information['gender']=='Male']"
   ]
  },
  {
   "cell_type": "code",
   "execution_count": 69,
   "id": "5ffb646e",
   "metadata": {},
   "outputs": [],
   "source": [
    "Female=cust_information['claim_amount'].loc[cust_information['gender']=='Female']"
   ]
  },
  {
   "cell_type": "code",
   "execution_count": 70,
   "id": "1fe52560",
   "metadata": {},
   "outputs": [
    {
     "data": {
      "text/plain": [
       "12822.81660016878"
      ]
     },
     "execution_count": 70,
     "metadata": {},
     "output_type": "execute_result"
    }
   ],
   "source": [
    "Male.mean()"
   ]
  },
  {
   "cell_type": "code",
   "execution_count": 71,
   "id": "846a28fa",
   "metadata": {},
   "outputs": [
    {
     "data": {
      "text/plain": [
       "12102.135592140887"
      ]
     },
     "execution_count": 71,
     "metadata": {},
     "output_type": "execute_result"
    }
   ],
   "source": [
    "Female.mean()"
   ]
  },
  {
   "cell_type": "markdown",
   "id": "71afec51",
   "metadata": {},
   "source": [
    "H0= No relation \n",
    "Ha= There is a relationship"
   ]
  },
  {
   "cell_type": "markdown",
   "id": "d1a70df2",
   "metadata": {},
   "source": [
    "two see difference between the means of two group we use 't-test'"
   ]
  },
  {
   "cell_type": "markdown",
   "id": "66398925",
   "metadata": {},
   "source": [
    "#T-Test"
   ]
  },
  {
   "cell_type": "code",
   "execution_count": 72,
   "id": "1c6d0534",
   "metadata": {},
   "outputs": [],
   "source": [
    "Ho=stats.ttest_ind(a= Male,b= Female, equal_var=False)"
   ]
  },
  {
   "cell_type": "code",
   "execution_count": 73,
   "id": "f3423977",
   "metadata": {},
   "outputs": [],
   "source": [
    "Ha=stats.ttest_ind(a= Male,b= Female,equal_var=True)"
   ]
  },
  {
   "cell_type": "code",
   "execution_count": 74,
   "id": "8974cefe",
   "metadata": {},
   "outputs": [
    {
     "name": "stdout",
     "output_type": "stream",
     "text": [
      "null hypothesis Ttest_indResult(statistic=0.8855042038952905, pvalue=0.3760826268637353) & alternative hypothesis Ttest_indResult(statistic=0.8848703612768547, pvalue=0.3764242430541366)\n"
     ]
    }
   ],
   "source": [
    "print('null hypothesis',Ho, '&','alternative hypothesis',Ha)"
   ]
  },
  {
   "cell_type": "code",
   "execution_count": 75,
   "id": "d7eb82f6",
   "metadata": {},
   "outputs": [],
   "source": [
    "#Ho & Ha is very similar .\n",
    "#we will consider it as Ho variance"
   ]
  },
  {
   "cell_type": "code",
   "execution_count": 76,
   "id": "7446b80d",
   "metadata": {},
   "outputs": [
    {
     "name": "stdout",
     "output_type": "stream",
     "text": [
      "statistic: 0.8855042038952905 pvalue: 0.3760826268637353\n"
     ]
    }
   ],
   "source": [
    "s= Ho.statistic\n",
    "p= Ho.pvalue\n",
    "print('statistic:',s,'pvalue:',p)"
   ]
  },
  {
   "cell_type": "code",
   "execution_count": 77,
   "id": "11112359",
   "metadata": {},
   "outputs": [
    {
     "data": {
      "text/plain": [
       "False"
      ]
     },
     "execution_count": 77,
     "metadata": {},
     "output_type": "execute_result"
    }
   ],
   "source": [
    "p<0.05"
   ]
  },
  {
   "cell_type": "markdown",
   "id": "d5e3ec96",
   "metadata": {},
   "source": [
    "P value is smaller then 0.05 so Therefore, we reject the null hypothesis, and accept the alternative hypothesis."
   ]
  },
  {
   "cell_type": "markdown",
   "id": "567f2c6e",
   "metadata": {},
   "source": [
    "### 17. Is there any relationship between age category and segment?"
   ]
  },
  {
   "cell_type": "markdown",
   "id": "9c7c6455",
   "metadata": {},
   "source": [
    "to see relationship between Category & segment we use \"chi-square test\""
   ]
  },
  {
   "cell_type": "markdown",
   "id": "621b36f2",
   "metadata": {},
   "source": [
    "#chi-square test"
   ]
  },
  {
   "cell_type": "markdown",
   "id": "9fb94171",
   "metadata": {},
   "source": [
    "H0= No relation \n",
    "Ha= There is a relationship "
   ]
  },
  {
   "cell_type": "code",
   "execution_count": 78,
   "id": "9c6eeacb",
   "metadata": {},
   "outputs": [],
   "source": [
    "cat_seg=pd.crosstab(cust_information.category,cust_information.Segment,margins = True)"
   ]
  },
  {
   "cell_type": "code",
   "execution_count": 79,
   "id": "a7473300",
   "metadata": {},
   "outputs": [],
   "source": [
    "CHIS_TEST=stats.chi2_contingency(observed= cat_seg)"
   ]
  },
  {
   "cell_type": "code",
   "execution_count": 80,
   "id": "a44a58ca",
   "metadata": {},
   "outputs": [
    {
     "name": "stdout",
     "output_type": "stream",
     "text": [
      "The chi square stat is 4.868323953620247 and the p value is 0.8456323534973862\n"
     ]
    }
   ],
   "source": [
    "print(\"The chi square stat is {} and the p value is {}\".format(CHIS_TEST[0],CHIS_TEST[1]))"
   ]
  },
  {
   "cell_type": "markdown",
   "id": "c354b3fd",
   "metadata": {},
   "source": [
    "test is greter than 0.05,fail to reject the null hypothesis so here is no relationship between age category and segment"
   ]
  },
  {
   "cell_type": "markdown",
   "id": "d5331c6a",
   "metadata": {},
   "source": [
    "### 18. The current year has shown a significant rise in claim amounts as compared to 2016-17 fiscal average which was $10,000."
   ]
  },
  {
   "cell_type": "code",
   "execution_count": 81,
   "id": "4a3a822b",
   "metadata": {},
   "outputs": [
    {
     "data": {
      "text/html": [
       "<div>\n",
       "<style scoped>\n",
       "    .dataframe tbody tr th:only-of-type {\n",
       "        vertical-align: middle;\n",
       "    }\n",
       "\n",
       "    .dataframe tbody tr th {\n",
       "        vertical-align: top;\n",
       "    }\n",
       "\n",
       "    .dataframe thead th {\n",
       "        text-align: right;\n",
       "    }\n",
       "</style>\n",
       "<table border=\"1\" class=\"dataframe\">\n",
       "  <thead>\n",
       "    <tr style=\"text-align: right;\">\n",
       "      <th></th>\n",
       "      <th>gender</th>\n",
       "      <th>DateOfBirth</th>\n",
       "      <th>State</th>\n",
       "      <th>Contact</th>\n",
       "      <th>Segment</th>\n",
       "      <th>claim_id</th>\n",
       "      <th>incident_cause</th>\n",
       "      <th>claim_date</th>\n",
       "      <th>claim_area</th>\n",
       "      <th>police_report</th>\n",
       "      <th>claim_type</th>\n",
       "      <th>claim_amount</th>\n",
       "      <th>total_policy_claims</th>\n",
       "      <th>fraudulent</th>\n",
       "      <th>alert flag</th>\n",
       "      <th>age</th>\n",
       "      <th>category</th>\n",
       "      <th>monthly_claimed</th>\n",
       "      <th>year_claimed</th>\n",
       "    </tr>\n",
       "    <tr>\n",
       "      <th>CUST_ID</th>\n",
       "      <th></th>\n",
       "      <th></th>\n",
       "      <th></th>\n",
       "      <th></th>\n",
       "      <th></th>\n",
       "      <th></th>\n",
       "      <th></th>\n",
       "      <th></th>\n",
       "      <th></th>\n",
       "      <th></th>\n",
       "      <th></th>\n",
       "      <th></th>\n",
       "      <th></th>\n",
       "      <th></th>\n",
       "      <th></th>\n",
       "      <th></th>\n",
       "      <th></th>\n",
       "      <th></th>\n",
       "      <th></th>\n",
       "    </tr>\n",
       "  </thead>\n",
       "  <tbody>\n",
       "    <tr>\n",
       "      <th>154557</th>\n",
       "      <td>Female</td>\n",
       "      <td>23-May-78</td>\n",
       "      <td>DE</td>\n",
       "      <td>9628791238</td>\n",
       "      <td>Platinum</td>\n",
       "      <td>69348631</td>\n",
       "      <td>Driver error</td>\n",
       "      <td>2018-04-10</td>\n",
       "      <td>Auto</td>\n",
       "      <td>No</td>\n",
       "      <td>Injury only</td>\n",
       "      <td>12470.498519</td>\n",
       "      <td>1.0</td>\n",
       "      <td>Yes</td>\n",
       "      <td>0</td>\n",
       "      <td>44</td>\n",
       "      <td>Adult</td>\n",
       "      <td>4</td>\n",
       "      <td>2018</td>\n",
       "    </tr>\n",
       "  </tbody>\n",
       "</table>\n",
       "</div>"
      ],
      "text/plain": [
       "         gender DateOfBirth State     Contact   Segment  claim_id  \\\n",
       "CUST_ID                                                             \n",
       "154557   Female   23-May-78    DE  9628791238  Platinum  69348631   \n",
       "\n",
       "        incident_cause claim_date claim_area police_report   claim_type  \\\n",
       "CUST_ID                                                                   \n",
       "154557    Driver error 2018-04-10       Auto            No  Injury only   \n",
       "\n",
       "         claim_amount  total_policy_claims fraudulent  alert flag  age  \\\n",
       "CUST_ID                                                                  \n",
       "154557   12470.498519                  1.0        Yes           0   44   \n",
       "\n",
       "        category  monthly_claimed  year_claimed  \n",
       "CUST_ID                                          \n",
       "154557     Adult                4          2018  "
      ]
     },
     "execution_count": 81,
     "metadata": {},
     "output_type": "execute_result"
    }
   ],
   "source": [
    "cust_information.head(1)"
   ]
  },
  {
   "cell_type": "code",
   "execution_count": 82,
   "id": "7eeb203e",
   "metadata": {},
   "outputs": [],
   "source": [
    "YY18=cust_information.loc[cust_information.year_claimed==2018][\"claim_amount\"]\n",
    "YY16_YY17=cust_information.loc[cust_information.year_claimed==2017][\"claim_amount\"]"
   ]
  },
  {
   "cell_type": "code",
   "execution_count": 83,
   "id": "8a9c75cc",
   "metadata": {},
   "outputs": [
    {
     "data": {
      "text/plain": [
       "12295.85000686223"
      ]
     },
     "execution_count": 83,
     "metadata": {},
     "output_type": "execute_result"
    }
   ],
   "source": [
    "YY16_YY17.mean()"
   ]
  },
  {
   "cell_type": "code",
   "execution_count": 84,
   "id": "20aecebb",
   "metadata": {},
   "outputs": [
    {
     "data": {
      "text/plain": [
       "12687.266007597704"
      ]
     },
     "execution_count": 84,
     "metadata": {},
     "output_type": "execute_result"
    }
   ],
   "source": [
    "YY18.mean()"
   ]
  },
  {
   "cell_type": "markdown",
   "id": "18c23df6",
   "metadata": {},
   "source": [
    "t-test"
   ]
  },
  {
   "cell_type": "code",
   "execution_count": 85,
   "id": "6189d811",
   "metadata": {},
   "outputs": [],
   "source": [
    "# The H0=  No relationship between the 2016-17 claim amounts and current claim amounts,\n",
    "# Ha= Retionship exists;"
   ]
  },
  {
   "cell_type": "code",
   "execution_count": 86,
   "id": "73a16744",
   "metadata": {},
   "outputs": [],
   "source": [
    "Ho=stats.ttest_ind(a= YY18,b= YY16_YY17, equal_var=False)"
   ]
  },
  {
   "cell_type": "code",
   "execution_count": 87,
   "id": "5fbce90d",
   "metadata": {},
   "outputs": [],
   "source": [
    "Ha=stats.ttest_ind(a= YY18,b= YY16_YY17, equal_var=True)"
   ]
  },
  {
   "cell_type": "code",
   "execution_count": 88,
   "id": "e2ddd179",
   "metadata": {},
   "outputs": [
    {
     "name": "stdout",
     "output_type": "stream",
     "text": [
      "Ho pvalue: 0.6334541151965405 & Ha pvalue: 0.6328929702726953\n"
     ]
    }
   ],
   "source": [
    "print('Ho pvalue:',Ho[1],'&','Ha pvalue:',Ha[1])"
   ]
  },
  {
   "cell_type": "code",
   "execution_count": 89,
   "id": "1179b5f1",
   "metadata": {},
   "outputs": [],
   "source": [
    "#Ho & Ha is very similar .\n",
    "#we will consider it as Ho variance"
   ]
  },
  {
   "cell_type": "code",
   "execution_count": 90,
   "id": "245e92b3",
   "metadata": {},
   "outputs": [
    {
     "name": "stdout",
     "output_type": "stream",
     "text": [
      "we will consider it as Ho variance pvalue is : 0.6334541151965405\n"
     ]
    }
   ],
   "source": [
    "print('we will consider it as Ho variance pvalue is :',Ho.pvalue)"
   ]
  },
  {
   "cell_type": "code",
   "execution_count": 91,
   "id": "8d02ab8a",
   "metadata": {
    "scrolled": true
   },
   "outputs": [
    {
     "data": {
      "text/plain": [
       "False"
      ]
     },
     "execution_count": 91,
     "metadata": {},
     "output_type": "execute_result"
    }
   ],
   "source": [
    "p<0.05"
   ]
  },
  {
   "cell_type": "markdown",
   "id": "85f24b3c",
   "metadata": {},
   "source": [
    "P value is smaller then 0.05 so Therefore, we reject the null hypothesis,\n",
    "and accept the alternative hypothesis."
   ]
  },
  {
   "cell_type": "markdown",
   "id": "592f44e9",
   "metadata": {},
   "source": [
    "yes There is  current year has shown a significant rise in claim amounts as compared to 2016-17"
   ]
  },
  {
   "cell_type": "markdown",
   "id": "9bb6f431",
   "metadata": {},
   "source": [
    "### 19. Is there any difference between age groups and insurance claims?"
   ]
  },
  {
   "cell_type": "code",
   "execution_count": 92,
   "id": "f1710f57",
   "metadata": {},
   "outputs": [
    {
     "data": {
      "text/plain": [
       "38.39517625231911"
      ]
     },
     "execution_count": 92,
     "metadata": {},
     "output_type": "execute_result"
    }
   ],
   "source": [
    "cust_information.age.mean()"
   ]
  },
  {
   "cell_type": "code",
   "execution_count": 93,
   "id": "7213496d",
   "metadata": {},
   "outputs": [
    {
     "data": {
      "text/plain": [
       "array(['Adult', 'Youth', 'NAN'], dtype=object)"
      ]
     },
     "execution_count": 93,
     "metadata": {},
     "output_type": "execute_result"
    }
   ],
   "source": [
    "cust_information.category.unique()"
   ]
  },
  {
   "cell_type": "code",
   "execution_count": 94,
   "id": "6190616a",
   "metadata": {},
   "outputs": [],
   "source": [
    "#Ho=no difference between age groups and insurance claims\n",
    "#Ha=difference between age groups and insurance claims"
   ]
  },
  {
   "cell_type": "code",
   "execution_count": 95,
   "id": "8b997758",
   "metadata": {},
   "outputs": [],
   "source": [
    "Adult=cust_information['total_policy_claims'].loc[cust_information['category']=='Adult']"
   ]
  },
  {
   "cell_type": "code",
   "execution_count": 96,
   "id": "183703a9",
   "metadata": {},
   "outputs": [],
   "source": [
    "Youth=cust_information['total_policy_claims'].loc[cust_information['category']=='Youth']"
   ]
  },
  {
   "cell_type": "code",
   "execution_count": 97,
   "id": "3e322c84",
   "metadata": {},
   "outputs": [
    {
     "data": {
      "text/plain": [
       "847"
      ]
     },
     "execution_count": 97,
     "metadata": {},
     "output_type": "execute_result"
    }
   ],
   "source": [
    "Adult.count()"
   ]
  },
  {
   "cell_type": "code",
   "execution_count": 98,
   "id": "b810352f",
   "metadata": {},
   "outputs": [
    {
     "data": {
      "text/plain": [
       "208"
      ]
     },
     "execution_count": 98,
     "metadata": {},
     "output_type": "execute_result"
    }
   ],
   "source": [
    "Youth.count()"
   ]
  },
  {
   "cell_type": "code",
   "execution_count": 99,
   "id": "4e571267",
   "metadata": {},
   "outputs": [
    {
     "name": "stdout",
     "output_type": "stream",
     "text": [
      "here population means same for this two for group1 Adult : 1.5501770956316412 & group2 for Youth : 1.6538461538461537  and  sample size is for group1 Adult: 847 & group2 Youth: 208  sample size is different so we can use Anova test\n"
     ]
    }
   ],
   "source": [
    "print('here population means same for this two for group1 Adult :',Adult.mean(),'& group2 for Youth :',Youth.mean(),' and  sample size is for group1 Adult:',Adult.count(),'& group2 Youth:',Youth.count(),' sample size is different so we can use Anova test')"
   ]
  },
  {
   "cell_type": "code",
   "execution_count": 100,
   "id": "d61bfcc4",
   "metadata": {},
   "outputs": [],
   "source": [
    "anova_test=stats.f_oneway(Adult,Youth)"
   ]
  },
  {
   "cell_type": "code",
   "execution_count": 101,
   "id": "2b771878",
   "metadata": {},
   "outputs": [
    {
     "data": {
      "text/plain": [
       "1.4180462363676238"
      ]
     },
     "execution_count": 101,
     "metadata": {},
     "output_type": "execute_result"
    }
   ],
   "source": [
    "anova_test.statistic"
   ]
  },
  {
   "cell_type": "code",
   "execution_count": 102,
   "id": "6c019977",
   "metadata": {},
   "outputs": [
    {
     "data": {
      "text/plain": [
       "0.23399361570188368"
      ]
     },
     "execution_count": 102,
     "metadata": {},
     "output_type": "execute_result"
    }
   ],
   "source": [
    "anova_test.pvalue"
   ]
  },
  {
   "cell_type": "code",
   "execution_count": 103,
   "id": "63b67b29",
   "metadata": {},
   "outputs": [
    {
     "data": {
      "text/plain": [
       "True"
      ]
     },
     "execution_count": 103,
     "metadata": {},
     "output_type": "execute_result"
    }
   ],
   "source": [
    "p>0.05"
   ]
  },
  {
   "cell_type": "markdown",
   "id": "f6296f23",
   "metadata": {},
   "source": [
    "and here we reject Ho and say that yes here is  difference between age groups and insurance claims"
   ]
  },
  {
   "cell_type": "markdown",
   "id": "a916f233",
   "metadata": {},
   "source": [
    "### 20. Is there any relationship between total number of policy claims and the claimed amount?"
   ]
  },
  {
   "cell_type": "code",
   "execution_count": 104,
   "id": "6ace56da",
   "metadata": {},
   "outputs": [],
   "source": [
    "#to check relationship we check Correlation"
   ]
  },
  {
   "cell_type": "code",
   "execution_count": 106,
   "id": "d0c4a3cc",
   "metadata": {},
   "outputs": [
    {
     "data": {
      "text/plain": [
       "-0.014800926105370035"
      ]
     },
     "execution_count": 106,
     "metadata": {},
     "output_type": "execute_result"
    }
   ],
   "source": [
    "cust_information.total_policy_claims.corr(other=cust_information.claim_amount)"
   ]
  },
  {
   "cell_type": "markdown",
   "id": "eb899a70",
   "metadata": {},
   "source": [
    "here correlation is negative so it's inversely propotional to the claimed amount."
   ]
  },
  {
   "cell_type": "code",
   "execution_count": null,
   "id": "266001a1",
   "metadata": {},
   "outputs": [],
   "source": []
  }
 ],
 "metadata": {
  "kernelspec": {
   "display_name": "Python 3",
   "language": "python",
   "name": "python3"
  },
  "language_info": {
   "codemirror_mode": {
    "name": "ipython",
    "version": 3
   },
   "file_extension": ".py",
   "mimetype": "text/x-python",
   "name": "python",
   "nbconvert_exporter": "python",
   "pygments_lexer": "ipython3",
   "version": "3.8.8"
  }
 },
 "nbformat": 4,
 "nbformat_minor": 5
}
