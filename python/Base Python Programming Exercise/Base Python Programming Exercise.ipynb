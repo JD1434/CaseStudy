{
 "cells": [
  {
   "cell_type": "markdown",
   "metadata": {},
   "source": [
    "## Python Basic Programming Exercises"
   ]
  },
  {
   "cell_type": "markdown",
   "metadata": {},
   "source": [
    "# Q1: What is the output of following expression\n",
    "    5 + 4 * 9 % (3 + 1) / 6 - 1"
   ]
  },
  {
   "cell_type": "code",
   "execution_count": null,
   "metadata": {},
   "outputs": [],
   "source": [
    "4"
   ]
  },
  {
   "cell_type": "markdown",
   "metadata": {},
   "source": [
    "# Q2: Write a program to check if a Number is Odd or Even. Take number as a input from user at runtime."
   ]
  },
  {
   "cell_type": "code",
   "execution_count": 1,
   "metadata": {},
   "outputs": [
    {
     "name": "stdout",
     "output_type": "stream",
     "text": [
      "enter number 5\n",
      "number is odd\n"
     ]
    }
   ],
   "source": [
    "num=int(input(\"enter number \"))\n",
    "if num%2!=0:\n",
    "    print(\"number is odd\")\n",
    "else:\n",
    "    print(\"number is even\")"
   ]
  },
  {
   "cell_type": "markdown",
   "metadata": {},
   "source": [
    "# Q3: Write a program to display the multiplication table by taking a number as input. \n",
    "    [Hint : Use print statement inside of a loop]"
   ]
  },
  {
   "cell_type": "code",
   "execution_count": 188,
   "metadata": {},
   "outputs": [
    {
     "name": "stdout",
     "output_type": "stream",
     "text": [
      "enter number10\n",
      "1 * 10 = 10\n",
      "2 * 10 = 20\n",
      "3 * 10 = 30\n",
      "4 * 10 = 40\n",
      "5 * 10 = 50\n",
      "6 * 10 = 60\n",
      "7 * 10 = 70\n",
      "8 * 10 = 80\n",
      "9 * 10 = 90\n",
      "10 * 10 = 100\n"
     ]
    }
   ],
   "source": [
    "num=int(input(\"enter number\"))\n",
    "for i in range(1,10+1):\n",
    "    j=i*num      \n",
    "    print(i,\"*\",num,\"=\",j)\n",
    "    "
   ]
  },
  {
   "cell_type": "markdown",
   "metadata": {},
   "source": [
    "# Q4: Write a program which will find all numbers between 2000 and 3200 which are divisible by 7 \n",
    "    but are not a multiple of 5.\n",
    " \n",
    "Note: The numbers obtained should be printed in a comma-separated sequence on a single line."
   ]
  },
  {
   "cell_type": "code",
   "execution_count": 113,
   "metadata": {},
   "outputs": [
    {
     "name": "stdout",
     "output_type": "stream",
     "text": [
      "2002,2009,2016,2023,2037,2044,2051,2058,2072,2079,2086,2093,2107,2114,2121,2128,2142,2149,2156,2163,2177,2184,2191,2198,2212,2219,2226,2233,2247,2254,2261,2268,2282,2289,2296,2303,2317,2324,2331,2338,2352,2359,2366,2373,2387,2394,2401,2408,2422,2429,2436,2443,2457,2464,2471,2478,2492,2499,2506,2513,2527,2534,2541,2548,2562,2569,2576,2583,2597,2604,2611,2618,2632,2639,2646,2653,2667,2674,2681,2688,2702,2709,2716,2723,2737,2744,2751,2758,2772,2779,2786,2793,2807,2814,2821,2828,2842,2849,2856,2863,2877,2884,2891,2898,2912,2919,2926,2933,2947,2954,2961,2968,2982,2989,2996,3003,3017,3024,3031,3038,3052,3059,3066,3073,3087,3094,3101,3108,3122,3129,3136,3143,3157,3164,3171,3178,3192,3199,"
     ]
    }
   ],
   "source": [
    "num=2000\n",
    "num1=3200\n",
    "for i in range(2000,3200):                          \n",
    "        if i%7==0:                                  \n",
    "            #print(i)\n",
    "            if i%5==0:                             \n",
    "                continue                             \n",
    "            print(i,end=\",\")\n",
    "            \n",
    "\n",
    "        \n"
   ]
  },
  {
   "cell_type": "markdown",
   "metadata": {},
   "source": [
    "# Q5: Count the elements of each datatype inside the list and display in output\n",
    "    [2, 3, 'Py', '10', 1, 'SQL', 5.5, True, 3, 'John', None, 7]    "
   ]
  },
  {
   "cell_type": "code",
   "execution_count": 109,
   "metadata": {},
   "outputs": [
    {
     "name": "stdout",
     "output_type": "stream",
     "text": [
      "number: 5 string: 4 Float: 1 bool: 1 other: 1 = 12\n"
     ]
    }
   ],
   "source": [
    "a=[2, 3, 'Py', '10', 1, 'SQL', 5.5, True, 3, 'John', None, 7] \n",
    "num=0\n",
    "st=0\n",
    "flo=0\n",
    "bo=0\n",
    "oth=0\n",
    "for i in a:\n",
    "    k=type(i)\n",
    "    if k is int:\n",
    "        #print(k,\" is number\")\n",
    "        num=num+1\n",
    "    elif k is str:\n",
    "        #print(k,\"is string\" )\n",
    "        st=st+1        \n",
    "    elif k is float:\n",
    "        #print(k,\"is float\")\n",
    "        flo=flo+1\n",
    "    elif k is bool:\n",
    "        #print(k ,\"is bool\")\n",
    "        bo=bo+1\n",
    "        continue\n",
    "    else:\n",
    "        #print(k,\"is other\")\n",
    "        oth=oth+1\n",
    "Total=num+st+flo+bo+oth\n",
    "print(\"number:\",num,\"string:\",st,\"Float:\",flo,\"bool:\",bo,\"other:\",oth,\"=\",Total)\n",
    "     \n",
    "    "
   ]
  },
  {
   "cell_type": "markdown",
   "metadata": {},
   "source": [
    "# Q6: Add all values from the list with numeric datatypes \n",
    "    [2, 3, 'Py', '10', 1, 'SQL', 5.5, True, 3, 'John', None, 7] "
   ]
  },
  {
   "cell_type": "code",
   "execution_count": 25,
   "metadata": {},
   "outputs": [
    {
     "name": "stdout",
     "output_type": "stream",
     "text": [
      "2 is number\n",
      "3 is number\n",
      "1 is number\n",
      "3 is number\n",
      "7 is number\n"
     ]
    }
   ],
   "source": [
    "a=[2, 3, 'Py', '10', 1, 'SQL', 5.5, True, 3, 'John', None, 7] \n",
    "c=[]\n",
    "for i in a:\n",
    "    #print(i)\n",
    "    l=type(i)\n",
    "    if l is int:\n",
    "        print(i,\"is number\") \n",
    "        \n",
    "        continue     \n",
    "    \n",
    "        \n",
    "            \n",
    "    \n",
    "        \n",
    "        "
   ]
  },
  {
   "cell_type": "markdown",
   "metadata": {},
   "source": [
    "# #Q7: Concat all str datatypes with hyphen as a delimiter\n",
    "    [2, 3, 'Py', '10', 1, 'SQL', 5.5, True, 3, 'John', None, 7] "
   ]
  },
  {
   "cell_type": "code",
   "execution_count": 71,
   "metadata": {},
   "outputs": [
    {
     "name": "stdout",
     "output_type": "stream",
     "text": [
      "Py-10-SQL-John\n"
     ]
    }
   ],
   "source": [
    "a=[2, 3, 'Py', '10', 1, 'SQL', 5.5, True, 3, 'John', None, 7] \n",
    "b=[]\n",
    "for i in a:\n",
    "    k=type(i)\n",
    "    if k is str:\n",
    "        b.append(i)\n",
    "print(\"-\".join(b))   \n",
    "    "
   ]
  },
  {
   "cell_type": "markdown",
   "metadata": {},
   "source": [
    "\n",
    "# Q8: Write a UDF that takes list as input and returns sum of all numbers \n",
    "    (exclude bool) and count of all str \n",
    "    [2, 3, 'Py', '10', 1, 'SQL', 5.5, True, 3, 'John', None, 7] \n",
    "    \n",
    "#Hint:\n",
    "-----\n",
    "def my_func:\n",
    "    # your code\n",
    "        \n",
    "my_func(l1)\n",
    "# output --> {'Sum': xxx, 'Count_of_Strs': xxx}"
   ]
  },
  {
   "cell_type": "code",
   "execution_count": 24,
   "metadata": {},
   "outputs": [
    {
     "name": "stdout",
     "output_type": "stream",
     "text": [
      "<class 'int'> is number 2\n",
      "<class 'int'> is number 3\n",
      "<class 'int'> is number 1\n",
      "<class 'int'> is number 3\n",
      "<class 'int'> is number 7\n",
      "[2, 3, 1, 3, 7] = sum of all numbers value : 16\n"
     ]
    }
   ],
   "source": [
    "#list1=input(\"enter list value :\")\n",
    "a=[2, 3, 'Py', '10', 1, 'SQL', 5.5, True, 3, 'John', None, 7] \n",
    "t=[]\n",
    "for i in a:\n",
    "    #print(i)\n",
    "    k=type(i)\n",
    "    if k is int:\n",
    "        t.append(i)          \n",
    "        print(k,\"is number\",i)  \n",
    "print(t,end= \" = \")\n",
    "print(\"sum of all numbers value :\",sum(t))\n",
    "\n",
    "        \n",
    "       "
   ]
  },
  {
   "cell_type": "markdown",
   "metadata": {},
   "source": [
    "\n",
    "# Q9: Get only odd numbers from the following list and store the numbers in new list\n",
    "    li = [5, 7, 22, 97, 54, 62, 77, 23, 73, 61]\n",
    "\n",
    "    i. Use loops to get the answer\n",
    "   ii. Use list comprehensions\n",
    "  iii. Use lambda function with filter"
   ]
  },
  {
   "cell_type": "code",
   "execution_count": 61,
   "metadata": {},
   "outputs": [
    {
     "data": {
      "text/plain": [
       "[22, 54, 62]"
      ]
     },
     "execution_count": 61,
     "metadata": {},
     "output_type": "execute_result"
    }
   ],
   "source": [
    "li = [5, 7, 22, 97, 54, 62, 77, 23, 73, 61]\n",
    "\n",
    "li_1=list(filter(lambda li : li % 2 == 0,li))\n",
    "li_1\n",
    "\n",
    "    \n",
    "        \n",
    "      \n",
    "    "
   ]
  },
  {
   "cell_type": "markdown",
   "metadata": {},
   "source": [
    "# Q10: Write a UDF to return the descriptives [sum, count, min, mean, max] for a list of n number of input \n",
    "    numbers."
   ]
  },
  {
   "cell_type": "code",
   "execution_count": 72,
   "metadata": {},
   "outputs": [
    {
     "name": "stdout",
     "output_type": "stream",
     "text": [
      "sum of value in list: 45  number of value in list(count): 9 min value: 1 max value: 9 mean value: 5.0\n"
     ]
    }
   ],
   "source": [
    "li=[1,2,3,4,5,6,7,8,9]\n",
    "l2=[]\n",
    "for i in li:\n",
    "    #print(i)\n",
    "    l2.append(i)\n",
    "\n",
    "s=sum(l2)\n",
    "mi=min(l2)\n",
    "ma=max(l2)\n",
    "k=len(l2)\n",
    "m=s/k\n",
    "print(\"sum of value in list:\",s,\" number of value in list(count):\",k,\"min value:\",mi,\"max value:\",ma,\"mean value:\",m )    "
   ]
  },
  {
   "cell_type": "markdown",
   "metadata": {},
   "source": [
    "# Q11: Write an udf to calculate the area of different shapes\n",
    "\n",
    "Take shape and dimensions as arguments to udf as follows : \n",
    "\n",
    "1. square which has side\n",
    "2. rectangle which has length and width\n",
    "3. circle which has radius\n",
    "\n",
    "The shape should be a positional argument and it's dimensions are taken as kwargs\n",
    "\n",
    "Perform proper validation for the user inputs and then calculate area.\n",
    "\n",
    "E.g. if shape is square, ensure kwargs has \"side\" and if so, then you may return the area, else display appropriate error message like \"Please enter 'side' for a square\""
   ]
  },
  {
   "cell_type": "code",
   "execution_count": 349,
   "metadata": {},
   "outputs": [
    {
     "name": "stdout",
     "output_type": "stream",
     "text": [
      "enter given  valid shape  : c for circle, r for rectangle ,s for square : r\n",
      "enter value : 5\n",
      "enter width :7\n"
     ]
    },
    {
     "data": {
      "text/plain": [
       "('rectangle:', 35)"
      ]
     },
     "execution_count": 349,
     "metadata": {},
     "output_type": "execute_result"
    }
   ],
   "source": [
    "def sh(shape,**kwargs):\n",
    " \n",
    "        if shape=='c':\n",
    "            return 'cirlce:',kwargs['side']**3.14\n",
    "    \n",
    "        elif shape=='r':\n",
    "            width=int(input(\"enter width :\"))\n",
    "            return 'rectangle:',kwargs['side']*width\n",
    "       \n",
    "        elif shape=='s':\n",
    "            return 'square:',kwargs['side']**2\n",
    "        else:\n",
    "            print(\"Please enter valid 'shape' !\")\n",
    "\n",
    "\n",
    "sh(str(input(\"enter given  valid shape  : c for circle, r for rectangle ,s for square : \")),side=int(input(\"enter value : \")) )\n",
    "\n",
    "\n",
    "\n",
    " "
   ]
  },
  {
   "cell_type": "markdown",
   "metadata": {},
   "source": [
    "# Q12: Write a UDF to reconcile the values within two lists.\n",
    "    l1 = ['January', 'February', 'March', 'May', 'June', 'September', 'December']\n",
    "    l2 = ['January', 'February', 'April', 'June', 'October', 'December']\n",
    "\n",
    "Hint:\n",
    "-----\n",
    "def func(l1, l2):\n",
    "    your code here...\n",
    "    \n",
    "Output:\n",
    "{'Matched': ['January', 'February', 'June', 'December'],\n",
    "    'Only in l1': ['March', 'May', 'September'],\n",
    "        'Only in l2': ['April', 'October']}"
   ]
  },
  {
   "cell_type": "code",
   "execution_count": 362,
   "metadata": {},
   "outputs": [
    {
     "name": "stdout",
     "output_type": "stream",
     "text": [
      "{'matched': ['January', 'February', 'June', 'December'], 'Only in l1': ['March', 'May', 'September'], 'Only in l2': ['April', 'October']}\n"
     ]
    }
   ],
   "source": [
    "m=[]\n",
    "li_1=[]\n",
    "li_2=[]\n",
    "def func(l1,l2):\n",
    "    for i in l1:\n",
    "        if i in l2:\n",
    "            m.append(i)\n",
    "            #print(i)\n",
    "    for i in l2:\n",
    "        if i in m:\n",
    "            continue\n",
    "        else:\n",
    "            li_1.append(i)\n",
    "        #print(i)\n",
    "    for i in l1:\n",
    "        if i in m:\n",
    "            continue\n",
    "        else:\n",
    "            li_2.append(i)\n",
    "            \n",
    "        \n",
    "            \n",
    "        #print(i)\n",
    "        #print(l1)\n",
    "    #print(l1,l2)\n",
    "\n",
    "func(l1 = ['January', 'February', 'March', 'May', 'June', 'September', 'December'],\n",
    "l2 = ['January', 'February', 'April', 'June', 'October', 'December'])\n",
    "m_dict={\"matched\":m,\"Only in l1\":li_2,\"Only in l2\":li_1}\n",
    " \n",
    "\n",
    "print(m_dict)\n",
    "\n"
   ]
  },
  {
   "cell_type": "markdown",
   "metadata": {
    "collapsed": true
   },
   "source": [
    "# Q13: write a UDF to check if a number is prime or not."
   ]
  },
  {
   "cell_type": "code",
   "execution_count": 418,
   "metadata": {},
   "outputs": [
    {
     "name": "stdout",
     "output_type": "stream",
     "text": [
      "enter number :55\n",
      "is not prime\n"
     ]
    }
   ],
   "source": [
    "\n",
    "\"\"\"pri=[45,6,7,76,53,3,99,66,39,48,54,38,85,11,65,]\n",
    "for i in pri:\n",
    "   # print(i)\n",
    "    if i%2==0:\n",
    "        continue\n",
    "    elif i%3==0:\n",
    "        continue\n",
    "    elif i%5==0:\n",
    "        continue\n",
    "    else:\n",
    "        print(i,\": is prime Number\")\n",
    "        \"\"\"\n",
    "        #or\n",
    "\n",
    "li=int(input(\"enter number :\"))\n",
    "if li>1:\n",
    "    for j in range(2,int(li//2)+1):\n",
    "        if (li%j)==0:\n",
    "            print(\"is not prime\")\n",
    "            break\n",
    "    else:\n",
    "        print(li,\"prime\")\n",
    "else:\n",
    "    print(li,\"is not prime\")"
   ]
  },
  {
   "cell_type": "markdown",
   "metadata": {
    "collapsed": true
   },
   "source": [
    "# Q14. Write a program which can compute the factorial of a given numbers. \n",
    "#   The results should be printed in a comma-separated sequence on a single line. \n",
    "# input() function can be used for getting user(console) input\n",
    "\n",
    "\n",
    "#Suppose the input is supplied to the program:  8  \n",
    "#Then, the output should be:  40320 \n",
    "#Hints: In case of input data being supplied to the question, it should be assumed to be a console input. \n"
   ]
  },
  {
   "cell_type": "code",
   "execution_count": 491,
   "metadata": {},
   "outputs": [
    {
     "name": "stdout",
     "output_type": "stream",
     "text": [
      "enter number :8\n",
      "1 fact is = 1\n",
      "2 fact is = 2\n",
      "3 fact is = 6\n",
      "4 fact is = 24\n",
      "5 fact is = 120\n",
      "6 fact is = 720\n",
      "7 fact is = 5040\n",
      "8 fact is = 40320\n",
      "8 factorial of a given numbers : 40320\n"
     ]
    }
   ],
   "source": [
    "def fact(n):\n",
    "    f=1\n",
    "    for i in range(1,n+1):\n",
    "        f=f*i\n",
    "        print(i,\"fact is =\",f)\n",
    "    return f\n",
    "\n",
    "\n",
    "x=int(input(\"enter number :\"))\n",
    "result=fact(x)\n",
    "print(x ,\"factorial of a given numbers :\",result)\n",
    "    "
   ]
  },
  {
   "cell_type": "markdown",
   "metadata": {
    "collapsed": true
   },
   "source": [
    "# Q15. With a given integral number n, write a program to generate a dictionary that contains (i, i*i) such that is an integral number between 1 and n (both included). and then the program should print the dictionary.\n",
    "\n",
    "#Suppose the following input is supplied to the program: 8\n",
    "#Then, the output should be: {1: 1, 2: 4, 3: 9, 4: 16, 5: 25, 6: 36, 7: 49, 8: 64}\n",
    "#Hints: In case of input data being supplied to the question, it should be assumed to be a console input. Consider using dict()\n",
    "\n"
   ]
  },
  {
   "cell_type": "code",
   "execution_count": 652,
   "metadata": {},
   "outputs": [
    {
     "name": "stdout",
     "output_type": "stream",
     "text": [
      "enter number8\n",
      "{1: 1}\n",
      "{2: 4}\n",
      "{3: 9}\n",
      "{4: 16}\n",
      "{5: 25}\n",
      "{6: 36}\n",
      "{7: 49}\n",
      "{8: 64}\n"
     ]
    }
   ],
   "source": [
    "n=int(input(\"enter number\" ))\n",
    "for i in range(1,n+1):\n",
    "    j=i*i\n",
    "    k=(i,j) \n",
    "    #print(k)\n",
    "    #print(type(k))\n",
    "    \n",
    "    def Convert(tup, di):\n",
    "        di = dict(tup)\n",
    "        return di\n",
    "    \n",
    "    tups = [k]\n",
    "    print (Convert(tups, dictionary))\n",
    "\n",
    "    \n",
    "        \n",
    "    "
   ]
  },
  {
   "cell_type": "markdown",
   "metadata": {
    "collapsed": true
   },
   "source": [
    "# Q16. Write a program which accepts a sequence of comma-separated numbers from console and generate a list and a tuple which contains every number.\n",
    "#Suppose the following input is supplied to the program: 34,67,55,33,12,98\n",
    "    #Then, the output should be: ['34', '67', '55', '33', '12', '98'] ('34', '67', '55', '33', '12', '98')\n",
    "\n",
    "#Hints: In case of input data being supplied to the question, it should be assumed to be a console input. you may use tuple() method to convert list to tuple\n"
   ]
  },
  {
   "cell_type": "code",
   "execution_count": 575,
   "metadata": {},
   "outputs": [
    {
     "name": "stdout",
     "output_type": "stream",
     "text": [
      "['34', '67', '55', '33', '12', '98'] ('34', '67', '55', '33', '12', '98')\n"
     ]
    }
   ],
   "source": [
    "n= [34,67,55,33,12,98]\n",
    "j=[]\n",
    "for i in n:    \n",
    "    j.append(str(i))\n",
    "print(j,tuple(j))    \n",
    "\n"
   ]
  },
  {
   "cell_type": "markdown",
   "metadata": {
    "collapsed": true
   },
   "source": [
    "# Q17. Write a program that accepts a comma separated sequence of words as input and \n",
    "# prints the words in a comma-separated sequence after sorting them alphabetically.\n",
    "\n",
    "# Suppose the following input is supplied to the program: without,hello,bag,world\n",
    "# Then, the output should be: bag,hello,without,world\n",
    "\n",
    "#Hints: In case of input data being supplied to the question, it should be assumed to be a console input.\n"
   ]
  },
  {
   "cell_type": "code",
   "execution_count": 1,
   "metadata": {},
   "outputs": [
    {
     "name": "stdout",
     "output_type": "stream",
     "text": [
      "Input comma separated sequence of wordswithout hello bag world\n",
      "bag,hello,without,world\n"
     ]
    }
   ],
   "source": [
    "i = input(\"Input comma separated sequence of words\")\n",
    "\n",
    "j = [j for j in i.split( )]\n",
    "#print(type(j))\n",
    "list(j)\n",
    "set(j)\n",
    "print(\",\".join(sorted(j)))"
   ]
  },
  {
   "cell_type": "markdown",
   "metadata": {
    "collapsed": true
   },
   "source": [
    "# Q18. Write a program that accepts a sequence of whitespace separated words \n",
    " as input and prints the words after removing all duplicate words and sorting them alphanumerically.\n",
    " Suppose the following input is supplied to the program: hello world and practice makes perfect and hello world again\n",
    " Then, the output should be: again and hello makes perfect practice world\n",
    "\n",
    "#Hints: In case of input data being supplied to the question, it should be assumed to be a console input.\n",
    "#We use set container to remove duplicated data automatically and then use sorted() to sort the data.\n"
   ]
  },
  {
   "cell_type": "code",
   "execution_count": 14,
   "metadata": {},
   "outputs": [
    {
     "name": "stdout",
     "output_type": "stream",
     "text": [
      "Input comma separated sequence of words :hello world and practice makes perfect and hello world again\n",
      "again and hello makes perfect practice world  *removed duplicate word : ['and', 'hello', 'world']\n"
     ]
    }
   ],
   "source": [
    "j = input(\"Input comma separated sequence of words :\")\n",
    "k = j.split()\n",
    "\n",
    "l=[]\n",
    "rl=[]\n",
    "for i in k:\n",
    "    #print(i)\n",
    "    if i not in l:\n",
    "        l.append(i)\n",
    "    else:\n",
    "        \n",
    "        rl.append(i)\n",
    "l.sort()\n",
    "print(' '.join(l),\" *removed duplicate word :\",rl)"
   ]
  },
  {
   "cell_type": "markdown",
   "metadata": {
    "collapsed": true
   },
   "source": [
    "# Q19. Write a program that accepts a sentence and calculate the number of upper case \n",
    "# letters and lower case letters.\n",
    "#Suppose the following input is supplied to the program: Hello world!\n",
    "#Then, the output should be: UPPER CASE 1 LOWER CASE 9\n",
    "\n",
    "#Hints: In case of input data being supplied to the question, it should be assumed to be a console input.\n"
   ]
  },
  {
   "cell_type": "code",
   "execution_count": 643,
   "metadata": {},
   "outputs": [
    {
     "name": "stdout",
     "output_type": "stream",
     "text": [
      "['e', 'l', 'l', 'o', 'o', 'r', 'l', 'd'] total  LOWER CASE :  8\n",
      "['H', 'W'] Total  UPPER CASE :  2\n"
     ]
    }
   ],
   "source": [
    "S=\"Hello World!\"\n",
    "count1=0\n",
    "lo=[]\n",
    "count2=0\n",
    "up=[]\n",
    "for i in S:\n",
    "    if(i.islower()):\n",
    "            count1=count1+1\n",
    "            lo.append(i)\n",
    "    elif(i.isupper()):\n",
    "            count2=count2+1\n",
    "            up.append(i)\n",
    "print(lo,\"total  LOWER CASE : \",count1)\n",
    "print(up,\"Total  UPPER CASE : \",count2)"
   ]
  },
  {
   "cell_type": "markdown",
   "metadata": {
    "collapsed": true
   },
   "source": [
    "# Q20. Write a program that takes a string and returns reversed string. i.e. if input is \"abcd123\" output should be \"321dcba\""
   ]
  },
  {
   "cell_type": "code",
   "execution_count": 642,
   "metadata": {},
   "outputs": [
    {
     "name": "stdout",
     "output_type": "stream",
     "text": [
      "abcd123\n",
      "321dcba\n"
     ]
    }
   ],
   "source": [
    "a= input(\"\")[::-1]\n",
    "print(a)\n"
   ]
  }
 ],
 "metadata": {
  "kernelspec": {
   "display_name": "Python 3",
   "language": "python",
   "name": "python3"
  },
  "language_info": {
   "codemirror_mode": {
    "name": "ipython",
    "version": 3
   },
   "file_extension": ".py",
   "mimetype": "text/x-python",
   "name": "python",
   "nbconvert_exporter": "python",
   "pygments_lexer": "ipython3",
   "version": "3.8.8"
  },
  "varInspector": {
   "cols": {
    "lenName": 16,
    "lenType": 16,
    "lenVar": 40
   },
   "kernels_config": {
    "python": {
     "delete_cmd_postfix": "",
     "delete_cmd_prefix": "del ",
     "library": "var_list.py",
     "varRefreshCmd": "print(var_dic_list())"
    },
    "r": {
     "delete_cmd_postfix": ") ",
     "delete_cmd_prefix": "rm(",
     "library": "var_list.r",
     "varRefreshCmd": "cat(var_dic_list()) "
    }
   },
   "types_to_exclude": [
    "module",
    "function",
    "builtin_function_or_method",
    "instance",
    "_Feature"
   ],
   "window_display": false
  }
 },
 "nbformat": 4,
 "nbformat_minor": 2
}
