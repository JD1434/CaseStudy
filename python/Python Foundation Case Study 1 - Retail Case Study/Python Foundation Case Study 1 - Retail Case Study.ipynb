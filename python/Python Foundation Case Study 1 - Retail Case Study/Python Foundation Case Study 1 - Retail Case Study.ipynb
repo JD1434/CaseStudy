{
 "cells": [
  {
   "cell_type": "code",
   "execution_count": 902,
   "id": "ad6be49a",
   "metadata": {},
   "outputs": [],
   "source": [
    "import pandas as pd\n",
    "import numpy as np\n",
    "import datetime as td"
   ]
  },
  {
   "cell_type": "code",
   "execution_count": 903,
   "id": "73ea7c14",
   "metadata": {},
   "outputs": [],
   "source": [
    "cust=pd.read_csv(\"Customer.csv\")"
   ]
  },
  {
   "cell_type": "code",
   "execution_count": 904,
   "id": "cebb9fce",
   "metadata": {},
   "outputs": [],
   "source": [
    "prod=pd.read_csv(\"prod_cat_info.csv\")"
   ]
  },
  {
   "cell_type": "code",
   "execution_count": 905,
   "id": "e6c67ff2",
   "metadata": {},
   "outputs": [],
   "source": [
    "trans=pd.read_csv('Transactions.csv')\n"
   ]
  },
  {
   "cell_type": "code",
   "execution_count": 906,
   "id": "77bbb591",
   "metadata": {},
   "outputs": [],
   "source": [
    "def missing_replace(x):\n",
    "    x[x=='']=np.nan\n",
    "    return x"
   ]
  },
  {
   "cell_type": "code",
   "execution_count": null,
   "id": "97f441ee",
   "metadata": {},
   "outputs": [],
   "source": []
  },
  {
   "cell_type": "code",
   "execution_count": 907,
   "id": "e176484e",
   "metadata": {},
   "outputs": [],
   "source": [
    "\n",
    "trans['tran_date']=pd.to_datetime(trans['tran_date'])"
   ]
  },
  {
   "cell_type": "markdown",
   "id": "d7fedf60",
   "metadata": {},
   "source": [
    "# 1. Merge the datasets Customers, Product Hierarchy and Transactions as Customer_Final. Ensure to\n",
    "keep all customers who have done transactions with us and select the join type accordingly."
   ]
  },
  {
   "cell_type": "markdown",
   "id": "0d860122",
   "metadata": {},
   "source": [
    "cust"
   ]
  },
  {
   "cell_type": "code",
   "execution_count": 908,
   "id": "2d81bef3",
   "metadata": {},
   "outputs": [
    {
     "data": {
      "text/html": [
       "<div>\n",
       "<style scoped>\n",
       "    .dataframe tbody tr th:only-of-type {\n",
       "        vertical-align: middle;\n",
       "    }\n",
       "\n",
       "    .dataframe tbody tr th {\n",
       "        vertical-align: top;\n",
       "    }\n",
       "\n",
       "    .dataframe thead th {\n",
       "        text-align: right;\n",
       "    }\n",
       "</style>\n",
       "<table border=\"1\" class=\"dataframe\">\n",
       "  <thead>\n",
       "    <tr style=\"text-align: right;\">\n",
       "      <th></th>\n",
       "      <th>customer_Id</th>\n",
       "      <th>DOB</th>\n",
       "      <th>Gender</th>\n",
       "      <th>city_code</th>\n",
       "    </tr>\n",
       "  </thead>\n",
       "  <tbody>\n",
       "    <tr>\n",
       "      <th>0</th>\n",
       "      <td>268408</td>\n",
       "      <td>02-01-1970</td>\n",
       "      <td>M</td>\n",
       "      <td>4.0</td>\n",
       "    </tr>\n",
       "  </tbody>\n",
       "</table>\n",
       "</div>"
      ],
      "text/plain": [
       "   customer_Id         DOB Gender  city_code\n",
       "0       268408  02-01-1970      M        4.0"
      ]
     },
     "execution_count": 908,
     "metadata": {},
     "output_type": "execute_result"
    }
   ],
   "source": [
    "cust.head(1)"
   ]
  },
  {
   "cell_type": "code",
   "execution_count": 909,
   "id": "26c99cff",
   "metadata": {},
   "outputs": [
    {
     "data": {
      "text/plain": [
       "customer_Id    0\n",
       "DOB            0\n",
       "Gender         2\n",
       "city_code      2\n",
       "dtype: int64"
      ]
     },
     "execution_count": 909,
     "metadata": {},
     "output_type": "execute_result"
    }
   ],
   "source": [
    "cust.isnull().sum()"
   ]
  },
  {
   "cell_type": "code",
   "execution_count": 910,
   "id": "5e29b2b6",
   "metadata": {},
   "outputs": [
    {
     "name": "stdout",
     "output_type": "stream",
     "text": [
      "<class 'pandas.core.frame.DataFrame'>\n",
      "RangeIndex: 5647 entries, 0 to 5646\n",
      "Data columns (total 4 columns):\n",
      " #   Column       Non-Null Count  Dtype  \n",
      "---  ------       --------------  -----  \n",
      " 0   customer_Id  5647 non-null   int64  \n",
      " 1   DOB          5647 non-null   object \n",
      " 2   Gender       5645 non-null   object \n",
      " 3   city_code    5645 non-null   float64\n",
      "dtypes: float64(1), int64(1), object(2)\n",
      "memory usage: 176.6+ KB\n"
     ]
    }
   ],
   "source": [
    "cust.info()"
   ]
  },
  {
   "cell_type": "code",
   "execution_count": 911,
   "id": "1dacede4",
   "metadata": {},
   "outputs": [
    {
     "name": "stdout",
     "output_type": "stream",
     "text": [
      "    customer_Id         DOB Gender  city_code\n",
      "24       267199  14-02-1970    NaN        2.0\n",
      "87       271626  02-06-1970    NaN        6.0\n"
     ]
    }
   ],
   "source": [
    "print(cust[cust[\"Gender\"].isnull()])"
   ]
  },
  {
   "cell_type": "code",
   "execution_count": 912,
   "id": "6eb79af5",
   "metadata": {},
   "outputs": [],
   "source": [
    "cust=cust.apply(missing_replace)"
   ]
  },
  {
   "cell_type": "code",
   "execution_count": 913,
   "id": "d238bcab",
   "metadata": {},
   "outputs": [
    {
     "data": {
      "text/plain": [
       "22588"
      ]
     },
     "execution_count": 913,
     "metadata": {},
     "output_type": "execute_result"
    }
   ],
   "source": [
    "cust['DOB']=pd.to_datetime(cust['DOB'])\n",
    "cust.size"
   ]
  },
  {
   "cell_type": "code",
   "execution_count": 914,
   "id": "380d2e62",
   "metadata": {},
   "outputs": [
    {
     "data": {
      "text/plain": [
       "(5647, 4)"
      ]
     },
     "execution_count": 914,
     "metadata": {},
     "output_type": "execute_result"
    }
   ],
   "source": [
    "cust.shape"
   ]
  },
  {
   "cell_type": "markdown",
   "id": "16c6b748",
   "metadata": {},
   "source": [
    "prod"
   ]
  },
  {
   "cell_type": "code",
   "execution_count": 915,
   "id": "dd1f740d",
   "metadata": {},
   "outputs": [
    {
     "data": {
      "text/html": [
       "<div>\n",
       "<style scoped>\n",
       "    .dataframe tbody tr th:only-of-type {\n",
       "        vertical-align: middle;\n",
       "    }\n",
       "\n",
       "    .dataframe tbody tr th {\n",
       "        vertical-align: top;\n",
       "    }\n",
       "\n",
       "    .dataframe thead th {\n",
       "        text-align: right;\n",
       "    }\n",
       "</style>\n",
       "<table border=\"1\" class=\"dataframe\">\n",
       "  <thead>\n",
       "    <tr style=\"text-align: right;\">\n",
       "      <th></th>\n",
       "      <th>prod_cat_code</th>\n",
       "      <th>prod_cat</th>\n",
       "      <th>prod_sub_cat_code</th>\n",
       "      <th>prod_subcat</th>\n",
       "    </tr>\n",
       "  </thead>\n",
       "  <tbody>\n",
       "    <tr>\n",
       "      <th>0</th>\n",
       "      <td>1</td>\n",
       "      <td>Clothing</td>\n",
       "      <td>4</td>\n",
       "      <td>Mens</td>\n",
       "    </tr>\n",
       "  </tbody>\n",
       "</table>\n",
       "</div>"
      ],
      "text/plain": [
       "   prod_cat_code  prod_cat  prod_sub_cat_code prod_subcat\n",
       "0              1  Clothing                  4        Mens"
      ]
     },
     "execution_count": 915,
     "metadata": {},
     "output_type": "execute_result"
    }
   ],
   "source": [
    "prod.head(1)"
   ]
  },
  {
   "cell_type": "code",
   "execution_count": 916,
   "id": "7450eb0f",
   "metadata": {},
   "outputs": [
    {
     "data": {
      "text/plain": [
       "prod_cat_code        0\n",
       "prod_cat             0\n",
       "prod_sub_cat_code    0\n",
       "prod_subcat          0\n",
       "dtype: int64"
      ]
     },
     "execution_count": 916,
     "metadata": {},
     "output_type": "execute_result"
    }
   ],
   "source": [
    "prod.isnull().sum()"
   ]
  },
  {
   "cell_type": "code",
   "execution_count": 917,
   "id": "7e00c9a8",
   "metadata": {},
   "outputs": [
    {
     "name": "stdout",
     "output_type": "stream",
     "text": [
      "<class 'pandas.core.frame.DataFrame'>\n",
      "RangeIndex: 23 entries, 0 to 22\n",
      "Data columns (total 4 columns):\n",
      " #   Column             Non-Null Count  Dtype \n",
      "---  ------             --------------  ----- \n",
      " 0   prod_cat_code      23 non-null     int64 \n",
      " 1   prod_cat           23 non-null     object\n",
      " 2   prod_sub_cat_code  23 non-null     int64 \n",
      " 3   prod_subcat        23 non-null     object\n",
      "dtypes: int64(2), object(2)\n",
      "memory usage: 864.0+ bytes\n"
     ]
    }
   ],
   "source": [
    "prod.info()"
   ]
  },
  {
   "cell_type": "code",
   "execution_count": 918,
   "id": "205b940b",
   "metadata": {},
   "outputs": [
    {
     "data": {
      "text/plain": [
       "(23, 4)"
      ]
     },
     "execution_count": 918,
     "metadata": {},
     "output_type": "execute_result"
    }
   ],
   "source": [
    "prod.shape"
   ]
  },
  {
   "cell_type": "markdown",
   "id": "dc62e4a0",
   "metadata": {},
   "source": [
    "trans"
   ]
  },
  {
   "cell_type": "code",
   "execution_count": 919,
   "id": "625967eb",
   "metadata": {},
   "outputs": [
    {
     "data": {
      "text/html": [
       "<div>\n",
       "<style scoped>\n",
       "    .dataframe tbody tr th:only-of-type {\n",
       "        vertical-align: middle;\n",
       "    }\n",
       "\n",
       "    .dataframe tbody tr th {\n",
       "        vertical-align: top;\n",
       "    }\n",
       "\n",
       "    .dataframe thead th {\n",
       "        text-align: right;\n",
       "    }\n",
       "</style>\n",
       "<table border=\"1\" class=\"dataframe\">\n",
       "  <thead>\n",
       "    <tr style=\"text-align: right;\">\n",
       "      <th></th>\n",
       "      <th>transaction_id</th>\n",
       "      <th>cust_id</th>\n",
       "      <th>tran_date</th>\n",
       "      <th>prod_subcat_code</th>\n",
       "      <th>prod_cat_code</th>\n",
       "      <th>Qty</th>\n",
       "      <th>Rate</th>\n",
       "      <th>Tax</th>\n",
       "      <th>total_amt</th>\n",
       "      <th>Store_type</th>\n",
       "    </tr>\n",
       "  </thead>\n",
       "  <tbody>\n",
       "    <tr>\n",
       "      <th>0</th>\n",
       "      <td>80712190438</td>\n",
       "      <td>270351</td>\n",
       "      <td>2014-02-28</td>\n",
       "      <td>1</td>\n",
       "      <td>1</td>\n",
       "      <td>-5</td>\n",
       "      <td>-772</td>\n",
       "      <td>405.3</td>\n",
       "      <td>-4265.3</td>\n",
       "      <td>e-Shop</td>\n",
       "    </tr>\n",
       "  </tbody>\n",
       "</table>\n",
       "</div>"
      ],
      "text/plain": [
       "   transaction_id  cust_id  tran_date  prod_subcat_code  prod_cat_code  Qty  \\\n",
       "0     80712190438   270351 2014-02-28                 1              1   -5   \n",
       "\n",
       "   Rate    Tax  total_amt Store_type  \n",
       "0  -772  405.3    -4265.3     e-Shop  "
      ]
     },
     "execution_count": 919,
     "metadata": {},
     "output_type": "execute_result"
    }
   ],
   "source": [
    "trans.head(1)"
   ]
  },
  {
   "cell_type": "code",
   "execution_count": 920,
   "id": "909f3008",
   "metadata": {},
   "outputs": [
    {
     "data": {
      "text/plain": [
       "transaction_id      0\n",
       "cust_id             0\n",
       "tran_date           0\n",
       "prod_subcat_code    0\n",
       "prod_cat_code       0\n",
       "Qty                 0\n",
       "Rate                0\n",
       "Tax                 0\n",
       "total_amt           0\n",
       "Store_type          0\n",
       "dtype: int64"
      ]
     },
     "execution_count": 920,
     "metadata": {},
     "output_type": "execute_result"
    }
   ],
   "source": [
    "trans.isnull().sum()"
   ]
  },
  {
   "cell_type": "code",
   "execution_count": 921,
   "id": "113452d0",
   "metadata": {},
   "outputs": [
    {
     "name": "stdout",
     "output_type": "stream",
     "text": [
      "<class 'pandas.core.frame.DataFrame'>\n",
      "RangeIndex: 23053 entries, 0 to 23052\n",
      "Data columns (total 10 columns):\n",
      " #   Column            Non-Null Count  Dtype         \n",
      "---  ------            --------------  -----         \n",
      " 0   transaction_id    23053 non-null  int64         \n",
      " 1   cust_id           23053 non-null  int64         \n",
      " 2   tran_date         23053 non-null  datetime64[ns]\n",
      " 3   prod_subcat_code  23053 non-null  int64         \n",
      " 4   prod_cat_code     23053 non-null  int64         \n",
      " 5   Qty               23053 non-null  int64         \n",
      " 6   Rate              23053 non-null  int64         \n",
      " 7   Tax               23053 non-null  float64       \n",
      " 8   total_amt         23053 non-null  float64       \n",
      " 9   Store_type        23053 non-null  object        \n",
      "dtypes: datetime64[ns](1), float64(2), int64(6), object(1)\n",
      "memory usage: 1.8+ MB\n"
     ]
    }
   ],
   "source": [
    "trans.info()"
   ]
  },
  {
   "cell_type": "code",
   "execution_count": 922,
   "id": "2a8b9a2e",
   "metadata": {},
   "outputs": [
    {
     "name": "stdout",
     "output_type": "stream",
     "text": [
      "<class 'pandas.core.frame.DataFrame'>\n",
      "RangeIndex: 23053 entries, 0 to 23052\n",
      "Data columns (total 10 columns):\n",
      " #   Column            Non-Null Count  Dtype         \n",
      "---  ------            --------------  -----         \n",
      " 0   transaction_id    23053 non-null  int64         \n",
      " 1   cust_id           23053 non-null  int64         \n",
      " 2   tran_date         23053 non-null  datetime64[ns]\n",
      " 3   prod_subcat_code  23053 non-null  int64         \n",
      " 4   prod_cat_code     23053 non-null  int64         \n",
      " 5   Qty               23053 non-null  int64         \n",
      " 6   Rate              23053 non-null  int64         \n",
      " 7   Tax               23053 non-null  float64       \n",
      " 8   total_amt         23053 non-null  float64       \n",
      " 9   Store_type        23053 non-null  object        \n",
      "dtypes: datetime64[ns](1), float64(2), int64(6), object(1)\n",
      "memory usage: 1.8+ MB\n"
     ]
    }
   ],
   "source": [
    "trans['tran_date']=pd.to_datetime(trans['tran_date'])\n",
    "trans.info()"
   ]
  },
  {
   "cell_type": "code",
   "execution_count": 923,
   "id": "d9099465",
   "metadata": {},
   "outputs": [
    {
     "data": {
      "text/plain": [
       "(23053, 10)"
      ]
     },
     "execution_count": 923,
     "metadata": {},
     "output_type": "execute_result"
    }
   ],
   "source": [
    "trans.shape"
   ]
  },
  {
   "cell_type": "code",
   "execution_count": 924,
   "id": "8cb9ead9",
   "metadata": {
    "scrolled": true
   },
   "outputs": [
    {
     "data": {
      "text/html": [
       "<div>\n",
       "<style scoped>\n",
       "    .dataframe tbody tr th:only-of-type {\n",
       "        vertical-align: middle;\n",
       "    }\n",
       "\n",
       "    .dataframe tbody tr th {\n",
       "        vertical-align: top;\n",
       "    }\n",
       "\n",
       "    .dataframe thead th {\n",
       "        text-align: right;\n",
       "    }\n",
       "</style>\n",
       "<table border=\"1\" class=\"dataframe\">\n",
       "  <thead>\n",
       "    <tr style=\"text-align: right;\">\n",
       "      <th></th>\n",
       "      <th>transaction_id</th>\n",
       "      <th>cust_id</th>\n",
       "      <th>tran_date</th>\n",
       "      <th>prod_subcat_code</th>\n",
       "      <th>prod_cat_code</th>\n",
       "      <th>Qty</th>\n",
       "      <th>Rate</th>\n",
       "      <th>Tax</th>\n",
       "      <th>total_amt</th>\n",
       "      <th>Store_type</th>\n",
       "    </tr>\n",
       "  </thead>\n",
       "  <tbody>\n",
       "    <tr>\n",
       "      <th>0</th>\n",
       "      <td>80712190438</td>\n",
       "      <td>270351</td>\n",
       "      <td>2014-02-28</td>\n",
       "      <td>1</td>\n",
       "      <td>1</td>\n",
       "      <td>-5</td>\n",
       "      <td>-772</td>\n",
       "      <td>405.3</td>\n",
       "      <td>-4265.3</td>\n",
       "      <td>e-Shop</td>\n",
       "    </tr>\n",
       "  </tbody>\n",
       "</table>\n",
       "</div>"
      ],
      "text/plain": [
       "   transaction_id  cust_id  tran_date  prod_subcat_code  prod_cat_code  Qty  \\\n",
       "0     80712190438   270351 2014-02-28                 1              1   -5   \n",
       "\n",
       "   Rate    Tax  total_amt Store_type  \n",
       "0  -772  405.3    -4265.3     e-Shop  "
      ]
     },
     "execution_count": 924,
     "metadata": {},
     "output_type": "execute_result"
    }
   ],
   "source": [
    "trans.head(1)"
   ]
  },
  {
   "cell_type": "markdown",
   "id": "c3e0c1a5",
   "metadata": {},
   "source": [
    "merge"
   ]
  },
  {
   "cell_type": "code",
   "execution_count": 925,
   "id": "8286e8b7",
   "metadata": {},
   "outputs": [
    {
     "data": {
      "text/html": [
       "<div>\n",
       "<style scoped>\n",
       "    .dataframe tbody tr th:only-of-type {\n",
       "        vertical-align: middle;\n",
       "    }\n",
       "\n",
       "    .dataframe tbody tr th {\n",
       "        vertical-align: top;\n",
       "    }\n",
       "\n",
       "    .dataframe thead th {\n",
       "        text-align: right;\n",
       "    }\n",
       "</style>\n",
       "<table border=\"1\" class=\"dataframe\">\n",
       "  <thead>\n",
       "    <tr style=\"text-align: right;\">\n",
       "      <th></th>\n",
       "      <th>transaction_id</th>\n",
       "      <th>customer_Id</th>\n",
       "      <th>tran_date</th>\n",
       "      <th>prod_subcat_code</th>\n",
       "      <th>prod_cat_code</th>\n",
       "      <th>Qty</th>\n",
       "      <th>Rate</th>\n",
       "      <th>Tax</th>\n",
       "      <th>total_amt</th>\n",
       "      <th>Store_type</th>\n",
       "    </tr>\n",
       "  </thead>\n",
       "  <tbody>\n",
       "    <tr>\n",
       "      <th>0</th>\n",
       "      <td>80712190438</td>\n",
       "      <td>270351</td>\n",
       "      <td>2014-02-28</td>\n",
       "      <td>1</td>\n",
       "      <td>1</td>\n",
       "      <td>-5</td>\n",
       "      <td>-772</td>\n",
       "      <td>405.3</td>\n",
       "      <td>-4265.3</td>\n",
       "      <td>e-Shop</td>\n",
       "    </tr>\n",
       "  </tbody>\n",
       "</table>\n",
       "</div>"
      ],
      "text/plain": [
       "   transaction_id  customer_Id  tran_date  prod_subcat_code  prod_cat_code  \\\n",
       "0     80712190438       270351 2014-02-28                 1              1   \n",
       "\n",
       "   Qty  Rate    Tax  total_amt Store_type  \n",
       "0   -5  -772  405.3    -4265.3     e-Shop  "
      ]
     },
     "execution_count": 925,
     "metadata": {},
     "output_type": "execute_result"
    }
   ],
   "source": [
    "#rename \n",
    "trans=trans.rename(columns={'cust_id':'customer_Id'})\n",
    "trans.head(1)"
   ]
  },
  {
   "cell_type": "code",
   "execution_count": 926,
   "id": "0d15a737",
   "metadata": {},
   "outputs": [
    {
     "data": {
      "text/plain": [
       "(23053, 10)"
      ]
     },
     "execution_count": 926,
     "metadata": {},
     "output_type": "execute_result"
    }
   ],
   "source": [
    "trans.shape"
   ]
  },
  {
   "cell_type": "code",
   "execution_count": 927,
   "id": "58137a15",
   "metadata": {},
   "outputs": [
    {
     "data": {
      "text/plain": [
       "(5647, 4)"
      ]
     },
     "execution_count": 927,
     "metadata": {},
     "output_type": "execute_result"
    }
   ],
   "source": [
    "cust.shape"
   ]
  },
  {
   "cell_type": "code",
   "execution_count": 928,
   "id": "581fcc6b",
   "metadata": {},
   "outputs": [
    {
     "data": {
      "text/plain": [
       "(23194, 13)"
      ]
     },
     "execution_count": 928,
     "metadata": {},
     "output_type": "execute_result"
    }
   ],
   "source": [
    "#merge cust and trans\n",
    "cust_trans=pd.merge(cust,trans,left_on='customer_Id',right_on='customer_Id',how='left')\n",
    "cust_trans.shape"
   ]
  },
  {
   "cell_type": "code",
   "execution_count": 929,
   "id": "356f9845",
   "metadata": {},
   "outputs": [
    {
     "data": {
      "text/html": [
       "<div>\n",
       "<style scoped>\n",
       "    .dataframe tbody tr th:only-of-type {\n",
       "        vertical-align: middle;\n",
       "    }\n",
       "\n",
       "    .dataframe tbody tr th {\n",
       "        vertical-align: top;\n",
       "    }\n",
       "\n",
       "    .dataframe thead th {\n",
       "        text-align: right;\n",
       "    }\n",
       "</style>\n",
       "<table border=\"1\" class=\"dataframe\">\n",
       "  <thead>\n",
       "    <tr style=\"text-align: right;\">\n",
       "      <th></th>\n",
       "      <th>customer_Id</th>\n",
       "      <th>DOB</th>\n",
       "      <th>Gender</th>\n",
       "      <th>city_code</th>\n",
       "      <th>transaction_id</th>\n",
       "      <th>tran_date</th>\n",
       "      <th>prod_subcat_code</th>\n",
       "      <th>prod_cat_code</th>\n",
       "      <th>Qty</th>\n",
       "      <th>Rate</th>\n",
       "      <th>Tax</th>\n",
       "      <th>total_amt</th>\n",
       "      <th>Store_type</th>\n",
       "    </tr>\n",
       "  </thead>\n",
       "  <tbody>\n",
       "    <tr>\n",
       "      <th>0</th>\n",
       "      <td>268408</td>\n",
       "      <td>1970-02-01</td>\n",
       "      <td>M</td>\n",
       "      <td>4.0</td>\n",
       "      <td>8.724384e+10</td>\n",
       "      <td>2014-01-13</td>\n",
       "      <td>7.0</td>\n",
       "      <td>5.0</td>\n",
       "      <td>5.0</td>\n",
       "      <td>187.0</td>\n",
       "      <td>98.175</td>\n",
       "      <td>1033.175</td>\n",
       "      <td>TeleShop</td>\n",
       "    </tr>\n",
       "    <tr>\n",
       "      <th>1</th>\n",
       "      <td>268408</td>\n",
       "      <td>1970-02-01</td>\n",
       "      <td>M</td>\n",
       "      <td>4.0</td>\n",
       "      <td>1.619787e+10</td>\n",
       "      <td>2013-12-16</td>\n",
       "      <td>1.0</td>\n",
       "      <td>4.0</td>\n",
       "      <td>-5.0</td>\n",
       "      <td>-210.0</td>\n",
       "      <td>110.250</td>\n",
       "      <td>-1160.250</td>\n",
       "      <td>Flagship store</td>\n",
       "    </tr>\n",
       "  </tbody>\n",
       "</table>\n",
       "</div>"
      ],
      "text/plain": [
       "   customer_Id        DOB Gender  city_code  transaction_id  tran_date  \\\n",
       "0       268408 1970-02-01      M        4.0    8.724384e+10 2014-01-13   \n",
       "1       268408 1970-02-01      M        4.0    1.619787e+10 2013-12-16   \n",
       "\n",
       "   prod_subcat_code  prod_cat_code  Qty   Rate      Tax  total_amt  \\\n",
       "0               7.0            5.0  5.0  187.0   98.175   1033.175   \n",
       "1               1.0            4.0 -5.0 -210.0  110.250  -1160.250   \n",
       "\n",
       "       Store_type  \n",
       "0        TeleShop  \n",
       "1  Flagship store  "
      ]
     },
     "execution_count": 929,
     "metadata": {},
     "output_type": "execute_result"
    }
   ],
   "source": [
    "cust_trans.head(2)"
   ]
  },
  {
   "cell_type": "code",
   "execution_count": 930,
   "id": "abb7cd37",
   "metadata": {},
   "outputs": [
    {
     "data": {
      "text/html": [
       "<div>\n",
       "<style scoped>\n",
       "    .dataframe tbody tr th:only-of-type {\n",
       "        vertical-align: middle;\n",
       "    }\n",
       "\n",
       "    .dataframe tbody tr th {\n",
       "        vertical-align: top;\n",
       "    }\n",
       "\n",
       "    .dataframe thead th {\n",
       "        text-align: right;\n",
       "    }\n",
       "</style>\n",
       "<table border=\"1\" class=\"dataframe\">\n",
       "  <thead>\n",
       "    <tr style=\"text-align: right;\">\n",
       "      <th></th>\n",
       "      <th>prod_cat_code</th>\n",
       "      <th>prod_cat</th>\n",
       "      <th>prod_sub_cat_code</th>\n",
       "      <th>prod_subcat</th>\n",
       "    </tr>\n",
       "  </thead>\n",
       "  <tbody>\n",
       "    <tr>\n",
       "      <th>0</th>\n",
       "      <td>1</td>\n",
       "      <td>Clothing</td>\n",
       "      <td>4</td>\n",
       "      <td>Mens</td>\n",
       "    </tr>\n",
       "  </tbody>\n",
       "</table>\n",
       "</div>"
      ],
      "text/plain": [
       "   prod_cat_code  prod_cat  prod_sub_cat_code prod_subcat\n",
       "0              1  Clothing                  4        Mens"
      ]
     },
     "execution_count": 930,
     "metadata": {},
     "output_type": "execute_result"
    }
   ],
   "source": [
    "prod.head(1)"
   ]
  },
  {
   "cell_type": "code",
   "execution_count": 931,
   "id": "955ddca4",
   "metadata": {},
   "outputs": [
    {
     "data": {
      "text/html": [
       "<div>\n",
       "<style scoped>\n",
       "    .dataframe tbody tr th:only-of-type {\n",
       "        vertical-align: middle;\n",
       "    }\n",
       "\n",
       "    .dataframe tbody tr th {\n",
       "        vertical-align: top;\n",
       "    }\n",
       "\n",
       "    .dataframe thead th {\n",
       "        text-align: right;\n",
       "    }\n",
       "</style>\n",
       "<table border=\"1\" class=\"dataframe\">\n",
       "  <thead>\n",
       "    <tr style=\"text-align: right;\">\n",
       "      <th></th>\n",
       "      <th>prod_cat_code</th>\n",
       "      <th>prod_cat</th>\n",
       "      <th>prod_subcat_code</th>\n",
       "      <th>prod_subcat</th>\n",
       "    </tr>\n",
       "  </thead>\n",
       "  <tbody>\n",
       "    <tr>\n",
       "      <th>0</th>\n",
       "      <td>1</td>\n",
       "      <td>Clothing</td>\n",
       "      <td>4</td>\n",
       "      <td>Mens</td>\n",
       "    </tr>\n",
       "    <tr>\n",
       "      <th>1</th>\n",
       "      <td>1</td>\n",
       "      <td>Clothing</td>\n",
       "      <td>1</td>\n",
       "      <td>Women</td>\n",
       "    </tr>\n",
       "  </tbody>\n",
       "</table>\n",
       "</div>"
      ],
      "text/plain": [
       "   prod_cat_code  prod_cat  prod_subcat_code prod_subcat\n",
       "0              1  Clothing                 4        Mens\n",
       "1              1  Clothing                 1       Women"
      ]
     },
     "execution_count": 931,
     "metadata": {},
     "output_type": "execute_result"
    }
   ],
   "source": [
    "prod.rename(columns={'prod_sub_cat_code':'prod_subcat_code'},inplace=True)\n",
    "prod.head(2)"
   ]
  },
  {
   "cell_type": "code",
   "execution_count": 932,
   "id": "75d07e50",
   "metadata": {},
   "outputs": [
    {
     "data": {
      "text/plain": [
       "(23194, 13)"
      ]
     },
     "execution_count": 932,
     "metadata": {},
     "output_type": "execute_result"
    }
   ],
   "source": [
    "cust_trans.shape"
   ]
  },
  {
   "cell_type": "code",
   "execution_count": 933,
   "id": "d7f308ab",
   "metadata": {},
   "outputs": [
    {
     "data": {
      "text/plain": [
       "(23, 4)"
      ]
     },
     "execution_count": 933,
     "metadata": {},
     "output_type": "execute_result"
    }
   ],
   "source": [
    "prod.shape"
   ]
  },
  {
   "cell_type": "code",
   "execution_count": 934,
   "id": "1c31d9d2",
   "metadata": {},
   "outputs": [
    {
     "data": {
      "text/html": [
       "<div>\n",
       "<style scoped>\n",
       "    .dataframe tbody tr th:only-of-type {\n",
       "        vertical-align: middle;\n",
       "    }\n",
       "\n",
       "    .dataframe tbody tr th {\n",
       "        vertical-align: top;\n",
       "    }\n",
       "\n",
       "    .dataframe thead th {\n",
       "        text-align: right;\n",
       "    }\n",
       "</style>\n",
       "<table border=\"1\" class=\"dataframe\">\n",
       "  <thead>\n",
       "    <tr style=\"text-align: right;\">\n",
       "      <th></th>\n",
       "      <th>customer_Id</th>\n",
       "      <th>DOB</th>\n",
       "      <th>Gender</th>\n",
       "      <th>city_code</th>\n",
       "      <th>transaction_id</th>\n",
       "      <th>tran_date</th>\n",
       "      <th>prod_subcat_code</th>\n",
       "      <th>prod_cat_code</th>\n",
       "      <th>Qty</th>\n",
       "      <th>Rate</th>\n",
       "      <th>Tax</th>\n",
       "      <th>total_amt</th>\n",
       "      <th>Store_type</th>\n",
       "      <th>prod_cat</th>\n",
       "      <th>prod_subcat</th>\n",
       "    </tr>\n",
       "  </thead>\n",
       "  <tbody>\n",
       "    <tr>\n",
       "      <th>0</th>\n",
       "      <td>268408</td>\n",
       "      <td>1970-02-01</td>\n",
       "      <td>M</td>\n",
       "      <td>4.0</td>\n",
       "      <td>8.724384e+10</td>\n",
       "      <td>2014-01-13</td>\n",
       "      <td>7.0</td>\n",
       "      <td>5.0</td>\n",
       "      <td>5.0</td>\n",
       "      <td>187.0</td>\n",
       "      <td>98.175</td>\n",
       "      <td>1033.175</td>\n",
       "      <td>TeleShop</td>\n",
       "      <td>Books</td>\n",
       "      <td>Fiction</td>\n",
       "    </tr>\n",
       "    <tr>\n",
       "      <th>1</th>\n",
       "      <td>275152</td>\n",
       "      <td>1970-01-16</td>\n",
       "      <td>M</td>\n",
       "      <td>4.0</td>\n",
       "      <td>7.310943e+10</td>\n",
       "      <td>2011-03-25</td>\n",
       "      <td>7.0</td>\n",
       "      <td>5.0</td>\n",
       "      <td>2.0</td>\n",
       "      <td>464.0</td>\n",
       "      <td>97.440</td>\n",
       "      <td>1025.440</td>\n",
       "      <td>e-Shop</td>\n",
       "      <td>Books</td>\n",
       "      <td>Fiction</td>\n",
       "    </tr>\n",
       "  </tbody>\n",
       "</table>\n",
       "</div>"
      ],
      "text/plain": [
       "   customer_Id        DOB Gender  city_code  transaction_id  tran_date  \\\n",
       "0       268408 1970-02-01      M        4.0    8.724384e+10 2014-01-13   \n",
       "1       275152 1970-01-16      M        4.0    7.310943e+10 2011-03-25   \n",
       "\n",
       "   prod_subcat_code  prod_cat_code  Qty   Rate     Tax  total_amt Store_type  \\\n",
       "0               7.0            5.0  5.0  187.0  98.175   1033.175   TeleShop   \n",
       "1               7.0            5.0  2.0  464.0  97.440   1025.440     e-Shop   \n",
       "\n",
       "  prod_cat prod_subcat  \n",
       "0    Books     Fiction  \n",
       "1    Books     Fiction  "
      ]
     },
     "execution_count": 934,
     "metadata": {},
     "output_type": "execute_result"
    }
   ],
   "source": [
    "#merge cust_trans and prod\n",
    "Customer_Final=pd.merge(cust_trans,prod,on=['prod_subcat_code','prod_subcat_code','prod_cat_code','prod_cat_code'],how='inner')\n",
    "Customer_Final.head(2)"
   ]
  },
  {
   "cell_type": "code",
   "execution_count": 935,
   "id": "77cd2f32",
   "metadata": {},
   "outputs": [
    {
     "data": {
      "text/plain": [
       "(23053, 15)"
      ]
     },
     "execution_count": 935,
     "metadata": {},
     "output_type": "execute_result"
    }
   ],
   "source": [
    "Customer_Final.shape"
   ]
  },
  {
   "cell_type": "code",
   "execution_count": 936,
   "id": "8590b82f",
   "metadata": {},
   "outputs": [
    {
     "data": {
      "text/plain": [
       "customer_Id         0\n",
       "DOB                 0\n",
       "Gender              9\n",
       "city_code           8\n",
       "transaction_id      0\n",
       "tran_date           0\n",
       "prod_subcat_code    0\n",
       "prod_cat_code       0\n",
       "Qty                 0\n",
       "Rate                0\n",
       "Tax                 0\n",
       "total_amt           0\n",
       "Store_type          0\n",
       "prod_cat            0\n",
       "prod_subcat         0\n",
       "dtype: int64"
      ]
     },
     "execution_count": 936,
     "metadata": {},
     "output_type": "execute_result"
    }
   ],
   "source": [
    "Customer_Final.isnull().sum()"
   ]
  },
  {
   "cell_type": "code",
   "execution_count": 937,
   "id": "548ffadd",
   "metadata": {},
   "outputs": [
    {
     "data": {
      "text/html": [
       "<div>\n",
       "<style scoped>\n",
       "    .dataframe tbody tr th:only-of-type {\n",
       "        vertical-align: middle;\n",
       "    }\n",
       "\n",
       "    .dataframe tbody tr th {\n",
       "        vertical-align: top;\n",
       "    }\n",
       "\n",
       "    .dataframe thead th {\n",
       "        text-align: right;\n",
       "    }\n",
       "</style>\n",
       "<table border=\"1\" class=\"dataframe\">\n",
       "  <thead>\n",
       "    <tr style=\"text-align: right;\">\n",
       "      <th></th>\n",
       "      <th>customer_Id</th>\n",
       "      <th>DOB</th>\n",
       "      <th>Gender</th>\n",
       "      <th>city_code</th>\n",
       "      <th>transaction_id</th>\n",
       "      <th>tran_date</th>\n",
       "      <th>prod_subcat_code</th>\n",
       "      <th>prod_cat_code</th>\n",
       "      <th>Qty</th>\n",
       "      <th>Rate</th>\n",
       "      <th>Tax</th>\n",
       "      <th>total_amt</th>\n",
       "      <th>Store_type</th>\n",
       "      <th>prod_cat</th>\n",
       "      <th>prod_subcat</th>\n",
       "    </tr>\n",
       "  </thead>\n",
       "  <tbody>\n",
       "    <tr>\n",
       "      <th>0</th>\n",
       "      <td>268408</td>\n",
       "      <td>1970-02-01</td>\n",
       "      <td>M</td>\n",
       "      <td>4.0</td>\n",
       "      <td>8.724384e+10</td>\n",
       "      <td>2014-01-13</td>\n",
       "      <td>7.0</td>\n",
       "      <td>5.0</td>\n",
       "      <td>5.0</td>\n",
       "      <td>187.0</td>\n",
       "      <td>98.175</td>\n",
       "      <td>1033.175</td>\n",
       "      <td>TeleShop</td>\n",
       "      <td>Books</td>\n",
       "      <td>Fiction</td>\n",
       "    </tr>\n",
       "    <tr>\n",
       "      <th>1</th>\n",
       "      <td>275152</td>\n",
       "      <td>1970-01-16</td>\n",
       "      <td>M</td>\n",
       "      <td>4.0</td>\n",
       "      <td>7.310943e+10</td>\n",
       "      <td>2011-03-25</td>\n",
       "      <td>7.0</td>\n",
       "      <td>5.0</td>\n",
       "      <td>2.0</td>\n",
       "      <td>464.0</td>\n",
       "      <td>97.440</td>\n",
       "      <td>1025.440</td>\n",
       "      <td>e-Shop</td>\n",
       "      <td>Books</td>\n",
       "      <td>Fiction</td>\n",
       "    </tr>\n",
       "  </tbody>\n",
       "</table>\n",
       "</div>"
      ],
      "text/plain": [
       "   customer_Id        DOB Gender  city_code  transaction_id  tran_date  \\\n",
       "0       268408 1970-02-01      M        4.0    8.724384e+10 2014-01-13   \n",
       "1       275152 1970-01-16      M        4.0    7.310943e+10 2011-03-25   \n",
       "\n",
       "   prod_subcat_code  prod_cat_code  Qty   Rate     Tax  total_amt Store_type  \\\n",
       "0               7.0            5.0  5.0  187.0  98.175   1033.175   TeleShop   \n",
       "1               7.0            5.0  2.0  464.0  97.440   1025.440     e-Shop   \n",
       "\n",
       "  prod_cat prod_subcat  \n",
       "0    Books     Fiction  \n",
       "1    Books     Fiction  "
      ]
     },
     "execution_count": 937,
     "metadata": {},
     "output_type": "execute_result"
    }
   ],
   "source": [
    "Customer_Final.apply(missing_replace)\n",
    "Customer_Final.head(2)"
   ]
  },
  {
   "cell_type": "code",
   "execution_count": 938,
   "id": "833b6ffe",
   "metadata": {},
   "outputs": [
    {
     "data": {
      "text/plain": [
       "13"
      ]
     },
     "execution_count": 938,
     "metadata": {},
     "output_type": "execute_result"
    }
   ],
   "source": [
    "Customer_Final.duplicated().sum()"
   ]
  },
  {
   "cell_type": "code",
   "execution_count": 939,
   "id": "f9b66eb0",
   "metadata": {},
   "outputs": [],
   "source": [
    "Customer_Final.drop_duplicates(inplace=True)"
   ]
  },
  {
   "cell_type": "markdown",
   "id": "0d29133d",
   "metadata": {},
   "source": [
    "# 2. Prepare a summary report for the merged data set.\n"
   ]
  },
  {
   "cell_type": "code",
   "execution_count": 940,
   "id": "4e1b3e4d",
   "metadata": {},
   "outputs": [
    {
     "name": "stdout",
     "output_type": "stream",
     "text": [
      "<class 'pandas.core.frame.DataFrame'>\n",
      "Int64Index: 23040 entries, 0 to 23052\n",
      "Data columns (total 15 columns):\n",
      " #   Column            Non-Null Count  Dtype         \n",
      "---  ------            --------------  -----         \n",
      " 0   customer_Id       23040 non-null  int64         \n",
      " 1   DOB               23040 non-null  datetime64[ns]\n",
      " 2   Gender            23031 non-null  object        \n",
      " 3   city_code         23032 non-null  float64       \n",
      " 4   transaction_id    23040 non-null  float64       \n",
      " 5   tran_date         23040 non-null  datetime64[ns]\n",
      " 6   prod_subcat_code  23040 non-null  float64       \n",
      " 7   prod_cat_code     23040 non-null  float64       \n",
      " 8   Qty               23040 non-null  float64       \n",
      " 9   Rate              23040 non-null  float64       \n",
      " 10  Tax               23040 non-null  float64       \n",
      " 11  total_amt         23040 non-null  float64       \n",
      " 12  Store_type        23040 non-null  object        \n",
      " 13  prod_cat          23040 non-null  object        \n",
      " 14  prod_subcat       23040 non-null  object        \n",
      "dtypes: datetime64[ns](2), float64(8), int64(1), object(4)\n",
      "memory usage: 2.8+ MB\n"
     ]
    }
   ],
   "source": [
    "#a. Get the column names and their corresponding data types\n",
    "Customer_Final.info()"
   ]
  },
  {
   "cell_type": "code",
   "execution_count": 941,
   "id": "25f88f89",
   "metadata": {},
   "outputs": [
    {
     "data": {
      "text/html": [
       "<div>\n",
       "<style scoped>\n",
       "    .dataframe tbody tr th:only-of-type {\n",
       "        vertical-align: middle;\n",
       "    }\n",
       "\n",
       "    .dataframe tbody tr th {\n",
       "        vertical-align: top;\n",
       "    }\n",
       "\n",
       "    .dataframe thead th {\n",
       "        text-align: right;\n",
       "    }\n",
       "</style>\n",
       "<table border=\"1\" class=\"dataframe\">\n",
       "  <thead>\n",
       "    <tr style=\"text-align: right;\">\n",
       "      <th></th>\n",
       "      <th>customer_Id</th>\n",
       "      <th>DOB</th>\n",
       "      <th>Gender</th>\n",
       "      <th>city_code</th>\n",
       "      <th>transaction_id</th>\n",
       "      <th>tran_date</th>\n",
       "      <th>prod_subcat_code</th>\n",
       "      <th>prod_cat_code</th>\n",
       "      <th>Qty</th>\n",
       "      <th>Rate</th>\n",
       "      <th>Tax</th>\n",
       "      <th>total_amt</th>\n",
       "      <th>Store_type</th>\n",
       "      <th>prod_cat</th>\n",
       "      <th>prod_subcat</th>\n",
       "    </tr>\n",
       "  </thead>\n",
       "  <tbody>\n",
       "    <tr>\n",
       "      <th>0</th>\n",
       "      <td>268408</td>\n",
       "      <td>1970-02-01</td>\n",
       "      <td>M</td>\n",
       "      <td>4.0</td>\n",
       "      <td>8.724384e+10</td>\n",
       "      <td>2014-01-13</td>\n",
       "      <td>7.0</td>\n",
       "      <td>5.0</td>\n",
       "      <td>5.0</td>\n",
       "      <td>187.0</td>\n",
       "      <td>98.175</td>\n",
       "      <td>1033.175</td>\n",
       "      <td>TeleShop</td>\n",
       "      <td>Books</td>\n",
       "      <td>Fiction</td>\n",
       "    </tr>\n",
       "    <tr>\n",
       "      <th>1</th>\n",
       "      <td>275152</td>\n",
       "      <td>1970-01-16</td>\n",
       "      <td>M</td>\n",
       "      <td>4.0</td>\n",
       "      <td>7.310943e+10</td>\n",
       "      <td>2011-03-25</td>\n",
       "      <td>7.0</td>\n",
       "      <td>5.0</td>\n",
       "      <td>2.0</td>\n",
       "      <td>464.0</td>\n",
       "      <td>97.440</td>\n",
       "      <td>1025.440</td>\n",
       "      <td>e-Shop</td>\n",
       "      <td>Books</td>\n",
       "      <td>Fiction</td>\n",
       "    </tr>\n",
       "    <tr>\n",
       "      <th>2</th>\n",
       "      <td>275034</td>\n",
       "      <td>1970-01-18</td>\n",
       "      <td>F</td>\n",
       "      <td>4.0</td>\n",
       "      <td>6.477727e+10</td>\n",
       "      <td>2011-05-23</td>\n",
       "      <td>7.0</td>\n",
       "      <td>5.0</td>\n",
       "      <td>2.0</td>\n",
       "      <td>197.0</td>\n",
       "      <td>41.370</td>\n",
       "      <td>435.370</td>\n",
       "      <td>Flagship store</td>\n",
       "      <td>Books</td>\n",
       "      <td>Fiction</td>\n",
       "    </tr>\n",
       "    <tr>\n",
       "      <th>3</th>\n",
       "      <td>270829</td>\n",
       "      <td>1970-01-22</td>\n",
       "      <td>F</td>\n",
       "      <td>8.0</td>\n",
       "      <td>8.717434e+10</td>\n",
       "      <td>2013-09-12</td>\n",
       "      <td>7.0</td>\n",
       "      <td>5.0</td>\n",
       "      <td>4.0</td>\n",
       "      <td>1141.0</td>\n",
       "      <td>479.220</td>\n",
       "      <td>5043.220</td>\n",
       "      <td>e-Shop</td>\n",
       "      <td>Books</td>\n",
       "      <td>Fiction</td>\n",
       "    </tr>\n",
       "    <tr>\n",
       "      <th>4</th>\n",
       "      <td>267657</td>\n",
       "      <td>1970-01-29</td>\n",
       "      <td>F</td>\n",
       "      <td>7.0</td>\n",
       "      <td>7.624274e+10</td>\n",
       "      <td>2013-05-23</td>\n",
       "      <td>7.0</td>\n",
       "      <td>5.0</td>\n",
       "      <td>4.0</td>\n",
       "      <td>1020.0</td>\n",
       "      <td>428.400</td>\n",
       "      <td>4508.400</td>\n",
       "      <td>e-Shop</td>\n",
       "      <td>Books</td>\n",
       "      <td>Fiction</td>\n",
       "    </tr>\n",
       "    <tr>\n",
       "      <th>5</th>\n",
       "      <td>274630</td>\n",
       "      <td>1970-01-02</td>\n",
       "      <td>M</td>\n",
       "      <td>4.0</td>\n",
       "      <td>7.835735e+10</td>\n",
       "      <td>2012-11-04</td>\n",
       "      <td>7.0</td>\n",
       "      <td>5.0</td>\n",
       "      <td>1.0</td>\n",
       "      <td>646.0</td>\n",
       "      <td>67.830</td>\n",
       "      <td>713.830</td>\n",
       "      <td>TeleShop</td>\n",
       "      <td>Books</td>\n",
       "      <td>Fiction</td>\n",
       "    </tr>\n",
       "    <tr>\n",
       "      <th>6</th>\n",
       "      <td>273541</td>\n",
       "      <td>1970-01-02</td>\n",
       "      <td>M</td>\n",
       "      <td>4.0</td>\n",
       "      <td>2.391682e+10</td>\n",
       "      <td>2013-09-02</td>\n",
       "      <td>7.0</td>\n",
       "      <td>5.0</td>\n",
       "      <td>4.0</td>\n",
       "      <td>410.0</td>\n",
       "      <td>172.200</td>\n",
       "      <td>1812.200</td>\n",
       "      <td>e-Shop</td>\n",
       "      <td>Books</td>\n",
       "      <td>Fiction</td>\n",
       "    </tr>\n",
       "    <tr>\n",
       "      <th>7</th>\n",
       "      <td>269008</td>\n",
       "      <td>1970-02-13</td>\n",
       "      <td>F</td>\n",
       "      <td>6.0</td>\n",
       "      <td>3.556057e+10</td>\n",
       "      <td>2013-09-03</td>\n",
       "      <td>7.0</td>\n",
       "      <td>5.0</td>\n",
       "      <td>1.0</td>\n",
       "      <td>1441.0</td>\n",
       "      <td>151.305</td>\n",
       "      <td>1592.305</td>\n",
       "      <td>e-Shop</td>\n",
       "      <td>Books</td>\n",
       "      <td>Fiction</td>\n",
       "    </tr>\n",
       "    <tr>\n",
       "      <th>8</th>\n",
       "      <td>269008</td>\n",
       "      <td>1970-02-13</td>\n",
       "      <td>F</td>\n",
       "      <td>6.0</td>\n",
       "      <td>9.403331e+10</td>\n",
       "      <td>2012-04-26</td>\n",
       "      <td>7.0</td>\n",
       "      <td>5.0</td>\n",
       "      <td>5.0</td>\n",
       "      <td>746.0</td>\n",
       "      <td>391.650</td>\n",
       "      <td>4121.650</td>\n",
       "      <td>MBR</td>\n",
       "      <td>Books</td>\n",
       "      <td>Fiction</td>\n",
       "    </tr>\n",
       "    <tr>\n",
       "      <th>9</th>\n",
       "      <td>267199</td>\n",
       "      <td>1970-02-14</td>\n",
       "      <td>NaN</td>\n",
       "      <td>2.0</td>\n",
       "      <td>5.674926e+10</td>\n",
       "      <td>2012-11-01</td>\n",
       "      <td>7.0</td>\n",
       "      <td>5.0</td>\n",
       "      <td>4.0</td>\n",
       "      <td>1049.0</td>\n",
       "      <td>440.580</td>\n",
       "      <td>4636.580</td>\n",
       "      <td>MBR</td>\n",
       "      <td>Books</td>\n",
       "      <td>Fiction</td>\n",
       "    </tr>\n",
       "  </tbody>\n",
       "</table>\n",
       "</div>"
      ],
      "text/plain": [
       "   customer_Id        DOB Gender  city_code  transaction_id  tran_date  \\\n",
       "0       268408 1970-02-01      M        4.0    8.724384e+10 2014-01-13   \n",
       "1       275152 1970-01-16      M        4.0    7.310943e+10 2011-03-25   \n",
       "2       275034 1970-01-18      F        4.0    6.477727e+10 2011-05-23   \n",
       "3       270829 1970-01-22      F        8.0    8.717434e+10 2013-09-12   \n",
       "4       267657 1970-01-29      F        7.0    7.624274e+10 2013-05-23   \n",
       "5       274630 1970-01-02      M        4.0    7.835735e+10 2012-11-04   \n",
       "6       273541 1970-01-02      M        4.0    2.391682e+10 2013-09-02   \n",
       "7       269008 1970-02-13      F        6.0    3.556057e+10 2013-09-03   \n",
       "8       269008 1970-02-13      F        6.0    9.403331e+10 2012-04-26   \n",
       "9       267199 1970-02-14    NaN        2.0    5.674926e+10 2012-11-01   \n",
       "\n",
       "   prod_subcat_code  prod_cat_code  Qty    Rate      Tax  total_amt  \\\n",
       "0               7.0            5.0  5.0   187.0   98.175   1033.175   \n",
       "1               7.0            5.0  2.0   464.0   97.440   1025.440   \n",
       "2               7.0            5.0  2.0   197.0   41.370    435.370   \n",
       "3               7.0            5.0  4.0  1141.0  479.220   5043.220   \n",
       "4               7.0            5.0  4.0  1020.0  428.400   4508.400   \n",
       "5               7.0            5.0  1.0   646.0   67.830    713.830   \n",
       "6               7.0            5.0  4.0   410.0  172.200   1812.200   \n",
       "7               7.0            5.0  1.0  1441.0  151.305   1592.305   \n",
       "8               7.0            5.0  5.0   746.0  391.650   4121.650   \n",
       "9               7.0            5.0  4.0  1049.0  440.580   4636.580   \n",
       "\n",
       "       Store_type prod_cat prod_subcat  \n",
       "0        TeleShop    Books     Fiction  \n",
       "1          e-Shop    Books     Fiction  \n",
       "2  Flagship store    Books     Fiction  \n",
       "3          e-Shop    Books     Fiction  \n",
       "4          e-Shop    Books     Fiction  \n",
       "5        TeleShop    Books     Fiction  \n",
       "6          e-Shop    Books     Fiction  \n",
       "7          e-Shop    Books     Fiction  \n",
       "8             MBR    Books     Fiction  \n",
       "9             MBR    Books     Fiction  "
      ]
     },
     "execution_count": 941,
     "metadata": {},
     "output_type": "execute_result"
    }
   ],
   "source": [
    "#b(i).Top 10 observations;\n",
    "Customer_Final.head(10)"
   ]
  },
  {
   "cell_type": "code",
   "execution_count": 942,
   "id": "88b07d9e",
   "metadata": {},
   "outputs": [],
   "source": [
    "#b(ii).Bottom 10 observations"
   ]
  },
  {
   "cell_type": "code",
   "execution_count": 943,
   "id": "6a970a32",
   "metadata": {},
   "outputs": [
    {
     "data": {
      "text/html": [
       "<div>\n",
       "<style scoped>\n",
       "    .dataframe tbody tr th:only-of-type {\n",
       "        vertical-align: middle;\n",
       "    }\n",
       "\n",
       "    .dataframe tbody tr th {\n",
       "        vertical-align: top;\n",
       "    }\n",
       "\n",
       "    .dataframe thead th {\n",
       "        text-align: right;\n",
       "    }\n",
       "</style>\n",
       "<table border=\"1\" class=\"dataframe\">\n",
       "  <thead>\n",
       "    <tr style=\"text-align: right;\">\n",
       "      <th></th>\n",
       "      <th>customer_Id</th>\n",
       "      <th>DOB</th>\n",
       "      <th>Gender</th>\n",
       "      <th>city_code</th>\n",
       "      <th>transaction_id</th>\n",
       "      <th>tran_date</th>\n",
       "      <th>prod_subcat_code</th>\n",
       "      <th>prod_cat_code</th>\n",
       "      <th>Qty</th>\n",
       "      <th>Rate</th>\n",
       "      <th>Tax</th>\n",
       "      <th>total_amt</th>\n",
       "      <th>Store_type</th>\n",
       "      <th>prod_cat</th>\n",
       "      <th>prod_subcat</th>\n",
       "    </tr>\n",
       "  </thead>\n",
       "  <tbody>\n",
       "    <tr>\n",
       "      <th>23043</th>\n",
       "      <td>268914</td>\n",
       "      <td>1992-11-15</td>\n",
       "      <td>F</td>\n",
       "      <td>3.0</td>\n",
       "      <td>1.407824e+09</td>\n",
       "      <td>2011-10-06</td>\n",
       "      <td>10.0</td>\n",
       "      <td>5.0</td>\n",
       "      <td>1.0</td>\n",
       "      <td>1252.0</td>\n",
       "      <td>131.460</td>\n",
       "      <td>1383.460</td>\n",
       "      <td>MBR</td>\n",
       "      <td>Books</td>\n",
       "      <td>Non-Fiction</td>\n",
       "    </tr>\n",
       "    <tr>\n",
       "      <th>23044</th>\n",
       "      <td>269519</td>\n",
       "      <td>1992-11-17</td>\n",
       "      <td>M</td>\n",
       "      <td>9.0</td>\n",
       "      <td>2.971950e+10</td>\n",
       "      <td>2013-12-24</td>\n",
       "      <td>10.0</td>\n",
       "      <td>5.0</td>\n",
       "      <td>4.0</td>\n",
       "      <td>1036.0</td>\n",
       "      <td>435.120</td>\n",
       "      <td>4579.120</td>\n",
       "      <td>TeleShop</td>\n",
       "      <td>Books</td>\n",
       "      <td>Non-Fiction</td>\n",
       "    </tr>\n",
       "    <tr>\n",
       "      <th>23045</th>\n",
       "      <td>273524</td>\n",
       "      <td>1992-11-25</td>\n",
       "      <td>F</td>\n",
       "      <td>1.0</td>\n",
       "      <td>2.576281e+10</td>\n",
       "      <td>2012-11-19</td>\n",
       "      <td>10.0</td>\n",
       "      <td>5.0</td>\n",
       "      <td>1.0</td>\n",
       "      <td>1401.0</td>\n",
       "      <td>147.105</td>\n",
       "      <td>1548.105</td>\n",
       "      <td>Flagship store</td>\n",
       "      <td>Books</td>\n",
       "      <td>Non-Fiction</td>\n",
       "    </tr>\n",
       "    <tr>\n",
       "      <th>23046</th>\n",
       "      <td>272141</td>\n",
       "      <td>1992-02-12</td>\n",
       "      <td>F</td>\n",
       "      <td>10.0</td>\n",
       "      <td>7.133709e+10</td>\n",
       "      <td>2012-07-22</td>\n",
       "      <td>10.0</td>\n",
       "      <td>5.0</td>\n",
       "      <td>-3.0</td>\n",
       "      <td>-1422.0</td>\n",
       "      <td>447.930</td>\n",
       "      <td>-4713.930</td>\n",
       "      <td>e-Shop</td>\n",
       "      <td>Books</td>\n",
       "      <td>Non-Fiction</td>\n",
       "    </tr>\n",
       "    <tr>\n",
       "      <th>23047</th>\n",
       "      <td>272141</td>\n",
       "      <td>1992-02-12</td>\n",
       "      <td>F</td>\n",
       "      <td>10.0</td>\n",
       "      <td>7.133709e+10</td>\n",
       "      <td>2012-07-16</td>\n",
       "      <td>10.0</td>\n",
       "      <td>5.0</td>\n",
       "      <td>3.0</td>\n",
       "      <td>1422.0</td>\n",
       "      <td>447.930</td>\n",
       "      <td>4713.930</td>\n",
       "      <td>e-Shop</td>\n",
       "      <td>Books</td>\n",
       "      <td>Non-Fiction</td>\n",
       "    </tr>\n",
       "    <tr>\n",
       "      <th>23048</th>\n",
       "      <td>267812</td>\n",
       "      <td>1992-04-12</td>\n",
       "      <td>F</td>\n",
       "      <td>1.0</td>\n",
       "      <td>6.354038e+10</td>\n",
       "      <td>2012-10-10</td>\n",
       "      <td>10.0</td>\n",
       "      <td>5.0</td>\n",
       "      <td>3.0</td>\n",
       "      <td>224.0</td>\n",
       "      <td>70.560</td>\n",
       "      <td>742.560</td>\n",
       "      <td>TeleShop</td>\n",
       "      <td>Books</td>\n",
       "      <td>Non-Fiction</td>\n",
       "    </tr>\n",
       "    <tr>\n",
       "      <th>23049</th>\n",
       "      <td>274618</td>\n",
       "      <td>1992-09-12</td>\n",
       "      <td>F</td>\n",
       "      <td>7.0</td>\n",
       "      <td>7.179320e+10</td>\n",
       "      <td>2013-08-17</td>\n",
       "      <td>10.0</td>\n",
       "      <td>5.0</td>\n",
       "      <td>4.0</td>\n",
       "      <td>691.0</td>\n",
       "      <td>290.220</td>\n",
       "      <td>3054.220</td>\n",
       "      <td>Flagship store</td>\n",
       "      <td>Books</td>\n",
       "      <td>Non-Fiction</td>\n",
       "    </tr>\n",
       "    <tr>\n",
       "      <th>23050</th>\n",
       "      <td>268097</td>\n",
       "      <td>1992-12-15</td>\n",
       "      <td>F</td>\n",
       "      <td>7.0</td>\n",
       "      <td>9.121711e+10</td>\n",
       "      <td>2012-01-02</td>\n",
       "      <td>10.0</td>\n",
       "      <td>5.0</td>\n",
       "      <td>2.0</td>\n",
       "      <td>411.0</td>\n",
       "      <td>86.310</td>\n",
       "      <td>908.310</td>\n",
       "      <td>e-Shop</td>\n",
       "      <td>Books</td>\n",
       "      <td>Non-Fiction</td>\n",
       "    </tr>\n",
       "    <tr>\n",
       "      <th>23051</th>\n",
       "      <td>268097</td>\n",
       "      <td>1992-12-15</td>\n",
       "      <td>F</td>\n",
       "      <td>7.0</td>\n",
       "      <td>9.011448e+10</td>\n",
       "      <td>2011-01-31</td>\n",
       "      <td>10.0</td>\n",
       "      <td>5.0</td>\n",
       "      <td>-4.0</td>\n",
       "      <td>-1408.0</td>\n",
       "      <td>591.360</td>\n",
       "      <td>-6223.360</td>\n",
       "      <td>e-Shop</td>\n",
       "      <td>Books</td>\n",
       "      <td>Non-Fiction</td>\n",
       "    </tr>\n",
       "    <tr>\n",
       "      <th>23052</th>\n",
       "      <td>268097</td>\n",
       "      <td>1992-12-15</td>\n",
       "      <td>F</td>\n",
       "      <td>7.0</td>\n",
       "      <td>9.011448e+10</td>\n",
       "      <td>2011-01-26</td>\n",
       "      <td>10.0</td>\n",
       "      <td>5.0</td>\n",
       "      <td>4.0</td>\n",
       "      <td>1408.0</td>\n",
       "      <td>591.360</td>\n",
       "      <td>6223.360</td>\n",
       "      <td>e-Shop</td>\n",
       "      <td>Books</td>\n",
       "      <td>Non-Fiction</td>\n",
       "    </tr>\n",
       "  </tbody>\n",
       "</table>\n",
       "</div>"
      ],
      "text/plain": [
       "       customer_Id        DOB Gender  city_code  transaction_id  tran_date  \\\n",
       "23043       268914 1992-11-15      F        3.0    1.407824e+09 2011-10-06   \n",
       "23044       269519 1992-11-17      M        9.0    2.971950e+10 2013-12-24   \n",
       "23045       273524 1992-11-25      F        1.0    2.576281e+10 2012-11-19   \n",
       "23046       272141 1992-02-12      F       10.0    7.133709e+10 2012-07-22   \n",
       "23047       272141 1992-02-12      F       10.0    7.133709e+10 2012-07-16   \n",
       "23048       267812 1992-04-12      F        1.0    6.354038e+10 2012-10-10   \n",
       "23049       274618 1992-09-12      F        7.0    7.179320e+10 2013-08-17   \n",
       "23050       268097 1992-12-15      F        7.0    9.121711e+10 2012-01-02   \n",
       "23051       268097 1992-12-15      F        7.0    9.011448e+10 2011-01-31   \n",
       "23052       268097 1992-12-15      F        7.0    9.011448e+10 2011-01-26   \n",
       "\n",
       "       prod_subcat_code  prod_cat_code  Qty    Rate      Tax  total_amt  \\\n",
       "23043              10.0            5.0  1.0  1252.0  131.460   1383.460   \n",
       "23044              10.0            5.0  4.0  1036.0  435.120   4579.120   \n",
       "23045              10.0            5.0  1.0  1401.0  147.105   1548.105   \n",
       "23046              10.0            5.0 -3.0 -1422.0  447.930  -4713.930   \n",
       "23047              10.0            5.0  3.0  1422.0  447.930   4713.930   \n",
       "23048              10.0            5.0  3.0   224.0   70.560    742.560   \n",
       "23049              10.0            5.0  4.0   691.0  290.220   3054.220   \n",
       "23050              10.0            5.0  2.0   411.0   86.310    908.310   \n",
       "23051              10.0            5.0 -4.0 -1408.0  591.360  -6223.360   \n",
       "23052              10.0            5.0  4.0  1408.0  591.360   6223.360   \n",
       "\n",
       "           Store_type prod_cat  prod_subcat  \n",
       "23043             MBR    Books  Non-Fiction  \n",
       "23044        TeleShop    Books  Non-Fiction  \n",
       "23045  Flagship store    Books  Non-Fiction  \n",
       "23046          e-Shop    Books  Non-Fiction  \n",
       "23047          e-Shop    Books  Non-Fiction  \n",
       "23048        TeleShop    Books  Non-Fiction  \n",
       "23049  Flagship store    Books  Non-Fiction  \n",
       "23050          e-Shop    Books  Non-Fiction  \n",
       "23051          e-Shop    Books  Non-Fiction  \n",
       "23052          e-Shop    Books  Non-Fiction  "
      ]
     },
     "execution_count": 943,
     "metadata": {},
     "output_type": "execute_result"
    }
   ],
   "source": [
    "Customer_Final.tail(10)"
   ]
  },
  {
   "cell_type": "code",
   "execution_count": 944,
   "id": "df998e82",
   "metadata": {},
   "outputs": [
    {
     "data": {
      "text/html": [
       "<div>\n",
       "<style scoped>\n",
       "    .dataframe tbody tr th:only-of-type {\n",
       "        vertical-align: middle;\n",
       "    }\n",
       "\n",
       "    .dataframe tbody tr th {\n",
       "        vertical-align: top;\n",
       "    }\n",
       "\n",
       "    .dataframe thead th {\n",
       "        text-align: right;\n",
       "    }\n",
       "</style>\n",
       "<table border=\"1\" class=\"dataframe\">\n",
       "  <thead>\n",
       "    <tr style=\"text-align: right;\">\n",
       "      <th></th>\n",
       "      <th>customer_Id</th>\n",
       "      <th>city_code</th>\n",
       "      <th>transaction_id</th>\n",
       "      <th>prod_subcat_code</th>\n",
       "      <th>prod_cat_code</th>\n",
       "      <th>Qty</th>\n",
       "      <th>Rate</th>\n",
       "      <th>Tax</th>\n",
       "      <th>total_amt</th>\n",
       "    </tr>\n",
       "  </thead>\n",
       "  <tbody>\n",
       "    <tr>\n",
       "      <th>min</th>\n",
       "      <td>266783.00</td>\n",
       "      <td>1.0</td>\n",
       "      <td>3.268991e+06</td>\n",
       "      <td>1.0</td>\n",
       "      <td>1.0</td>\n",
       "      <td>-5.0</td>\n",
       "      <td>-1499.0</td>\n",
       "      <td>7.3500</td>\n",
       "      <td>-8270.925</td>\n",
       "    </tr>\n",
       "    <tr>\n",
       "      <th>25%</th>\n",
       "      <td>268935.00</td>\n",
       "      <td>3.0</td>\n",
       "      <td>2.493315e+10</td>\n",
       "      <td>3.0</td>\n",
       "      <td>2.0</td>\n",
       "      <td>1.0</td>\n",
       "      <td>312.0</td>\n",
       "      <td>98.2800</td>\n",
       "      <td>762.450</td>\n",
       "    </tr>\n",
       "    <tr>\n",
       "      <th>50%</th>\n",
       "      <td>270980.50</td>\n",
       "      <td>5.0</td>\n",
       "      <td>5.009188e+10</td>\n",
       "      <td>5.0</td>\n",
       "      <td>4.0</td>\n",
       "      <td>3.0</td>\n",
       "      <td>710.0</td>\n",
       "      <td>199.0800</td>\n",
       "      <td>1756.950</td>\n",
       "    </tr>\n",
       "    <tr>\n",
       "      <th>75%</th>\n",
       "      <td>273114.25</td>\n",
       "      <td>8.0</td>\n",
       "      <td>7.532632e+10</td>\n",
       "      <td>10.0</td>\n",
       "      <td>5.0</td>\n",
       "      <td>4.0</td>\n",
       "      <td>1109.0</td>\n",
       "      <td>365.7675</td>\n",
       "      <td>3570.255</td>\n",
       "    </tr>\n",
       "    <tr>\n",
       "      <th>max</th>\n",
       "      <td>275265.00</td>\n",
       "      <td>10.0</td>\n",
       "      <td>9.998755e+10</td>\n",
       "      <td>12.0</td>\n",
       "      <td>6.0</td>\n",
       "      <td>5.0</td>\n",
       "      <td>1500.0</td>\n",
       "      <td>787.5000</td>\n",
       "      <td>8287.500</td>\n",
       "    </tr>\n",
       "  </tbody>\n",
       "</table>\n",
       "</div>"
      ],
      "text/plain": [
       "     customer_Id  city_code  transaction_id  prod_subcat_code  prod_cat_code  \\\n",
       "min    266783.00        1.0    3.268991e+06               1.0            1.0   \n",
       "25%    268935.00        3.0    2.493315e+10               3.0            2.0   \n",
       "50%    270980.50        5.0    5.009188e+10               5.0            4.0   \n",
       "75%    273114.25        8.0    7.532632e+10              10.0            5.0   \n",
       "max    275265.00       10.0    9.998755e+10              12.0            6.0   \n",
       "\n",
       "     Qty    Rate       Tax  total_amt  \n",
       "min -5.0 -1499.0    7.3500  -8270.925  \n",
       "25%  1.0   312.0   98.2800    762.450  \n",
       "50%  3.0   710.0  199.0800   1756.950  \n",
       "75%  4.0  1109.0  365.7675   3570.255  \n",
       "max  5.0  1500.0  787.5000   8287.500  "
      ]
     },
     "execution_count": 944,
     "metadata": {},
     "output_type": "execute_result"
    }
   ],
   "source": [
    "#c. “Five-number summary” for continuous variables (min, Q1, median, Q3 and max)\n",
    " \n",
    "Cust_summ_n=Customer_Final.describe(include=[np.number])\n",
    "Cust_summ_n.tail()"
   ]
  },
  {
   "cell_type": "code",
   "execution_count": 945,
   "id": "33715457",
   "metadata": {},
   "outputs": [
    {
     "name": "stderr",
     "output_type": "stream",
     "text": [
      "<ipython-input-945-83649ab51100>:2: DeprecationWarning: `np.object` is a deprecated alias for the builtin `object`. To silence this warning, use `object` by itself. Doing this will not modify any behavior and is safe. \n",
      "Deprecated in NumPy 1.20; for more details and guidance: https://numpy.org/devdocs/release/1.20.0-notes.html#deprecations\n",
      "  Cust_summ_o=Customer_Final.describe(include=[np.object])\n"
     ]
    },
    {
     "data": {
      "text/html": [
       "<div>\n",
       "<style scoped>\n",
       "    .dataframe tbody tr th:only-of-type {\n",
       "        vertical-align: middle;\n",
       "    }\n",
       "\n",
       "    .dataframe tbody tr th {\n",
       "        vertical-align: top;\n",
       "    }\n",
       "\n",
       "    .dataframe thead th {\n",
       "        text-align: right;\n",
       "    }\n",
       "</style>\n",
       "<table border=\"1\" class=\"dataframe\">\n",
       "  <thead>\n",
       "    <tr style=\"text-align: right;\">\n",
       "      <th></th>\n",
       "      <th>Gender</th>\n",
       "      <th>Store_type</th>\n",
       "      <th>prod_cat</th>\n",
       "      <th>prod_subcat</th>\n",
       "    </tr>\n",
       "  </thead>\n",
       "  <tbody>\n",
       "    <tr>\n",
       "      <th>count</th>\n",
       "      <td>23031</td>\n",
       "      <td>23040</td>\n",
       "      <td>23040</td>\n",
       "      <td>23040</td>\n",
       "    </tr>\n",
       "    <tr>\n",
       "      <th>unique</th>\n",
       "      <td>2</td>\n",
       "      <td>4</td>\n",
       "      <td>6</td>\n",
       "      <td>18</td>\n",
       "    </tr>\n",
       "    <tr>\n",
       "      <th>top</th>\n",
       "      <td>M</td>\n",
       "      <td>e-Shop</td>\n",
       "      <td>Books</td>\n",
       "      <td>Women</td>\n",
       "    </tr>\n",
       "    <tr>\n",
       "      <th>freq</th>\n",
       "      <td>11804</td>\n",
       "      <td>9304</td>\n",
       "      <td>6066</td>\n",
       "      <td>3046</td>\n",
       "    </tr>\n",
       "  </tbody>\n",
       "</table>\n",
       "</div>"
      ],
      "text/plain": [
       "       Gender Store_type prod_cat prod_subcat\n",
       "count   23031      23040    23040       23040\n",
       "unique      2          4        6          18\n",
       "top         M     e-Shop    Books       Women\n",
       "freq    11804       9304     6066        3046"
      ]
     },
     "execution_count": 945,
     "metadata": {},
     "output_type": "execute_result"
    }
   ],
   "source": [
    "#d. Frequency tables for all the categorical variables\n",
    "Cust_summ_o=Customer_Final.describe(include=[np.object])\n",
    "Cust_summ_o"
   ]
  },
  {
   "cell_type": "code",
   "execution_count": 946,
   "id": "c50afab2",
   "metadata": {},
   "outputs": [
    {
     "data": {
      "text/html": [
       "<div>\n",
       "<style scoped>\n",
       "    .dataframe tbody tr th:only-of-type {\n",
       "        vertical-align: middle;\n",
       "    }\n",
       "\n",
       "    .dataframe tbody tr th {\n",
       "        vertical-align: top;\n",
       "    }\n",
       "\n",
       "    .dataframe thead th {\n",
       "        text-align: right;\n",
       "    }\n",
       "</style>\n",
       "<table border=\"1\" class=\"dataframe\">\n",
       "  <thead>\n",
       "    <tr style=\"text-align: right;\">\n",
       "      <th></th>\n",
       "      <th>customer_Id</th>\n",
       "      <th>DOB</th>\n",
       "      <th>Gender</th>\n",
       "      <th>city_code</th>\n",
       "      <th>transaction_id</th>\n",
       "      <th>tran_date</th>\n",
       "      <th>prod_subcat_code</th>\n",
       "      <th>prod_cat_code</th>\n",
       "      <th>Qty</th>\n",
       "      <th>Rate</th>\n",
       "      <th>Tax</th>\n",
       "      <th>total_amt</th>\n",
       "      <th>Store_type</th>\n",
       "      <th>prod_cat</th>\n",
       "      <th>prod_subcat</th>\n",
       "    </tr>\n",
       "  </thead>\n",
       "  <tbody>\n",
       "    <tr>\n",
       "      <th>0</th>\n",
       "      <td>268408</td>\n",
       "      <td>1970-02-01</td>\n",
       "      <td>M</td>\n",
       "      <td>4.0</td>\n",
       "      <td>8.724384e+10</td>\n",
       "      <td>2014-01-13</td>\n",
       "      <td>7.0</td>\n",
       "      <td>5.0</td>\n",
       "      <td>5.0</td>\n",
       "      <td>187.0</td>\n",
       "      <td>98.175</td>\n",
       "      <td>1033.175</td>\n",
       "      <td>TeleShop</td>\n",
       "      <td>Books</td>\n",
       "      <td>Fiction</td>\n",
       "    </tr>\n",
       "  </tbody>\n",
       "</table>\n",
       "</div>"
      ],
      "text/plain": [
       "   customer_Id        DOB Gender  city_code  transaction_id  tran_date  \\\n",
       "0       268408 1970-02-01      M        4.0    8.724384e+10 2014-01-13   \n",
       "\n",
       "   prod_subcat_code  prod_cat_code  Qty   Rate     Tax  total_amt Store_type  \\\n",
       "0               7.0            5.0  5.0  187.0  98.175   1033.175   TeleShop   \n",
       "\n",
       "  prod_cat prod_subcat  \n",
       "0    Books     Fiction  "
      ]
     },
     "execution_count": 946,
     "metadata": {},
     "output_type": "execute_result"
    }
   ],
   "source": [
    "Customer_Final.head(1)"
   ]
  },
  {
   "cell_type": "markdown",
   "id": "c862a7b8",
   "metadata": {},
   "source": [
    "# 3. Generate histograms for all continuous variables and frequency bars for categorical variables."
   ]
  },
  {
   "cell_type": "code",
   "execution_count": 947,
   "id": "7b2a7754",
   "metadata": {},
   "outputs": [],
   "source": [
    "import matplotlib as mp\n",
    "import matplotlib.pyplot as plt"
   ]
  },
  {
   "cell_type": "code",
   "execution_count": 948,
   "id": "fb640d81",
   "metadata": {},
   "outputs": [
    {
     "data": {
      "text/plain": [
       "<function __main__.<lambda>(x)>"
      ]
     },
     "execution_count": 948,
     "metadata": {},
     "output_type": "execute_result"
    }
   ],
   "source": [
    "#continuous variables.\n",
    "cont_cust=Customer_Final.loc[:,[\"Qty\",\"Rate\",\"Tax\",\"total_amt\"]]\n",
    "lambda x: x "
   ]
  },
  {
   "cell_type": "code",
   "execution_count": 949,
   "id": "42d3adbc",
   "metadata": {},
   "outputs": [
    {
     "data": {
      "text/plain": [
       "Text(0.5, 1.0, 'Qty')"
      ]
     },
     "execution_count": 949,
     "metadata": {},
     "output_type": "execute_result"
    },
    {
     "data": {
      "image/png": "[encoded data removed]",
      "text/plain": [
       "<Figure size 432x288 with 1 Axes>"
      ]
     },
     "metadata": {
      "needs_background": "light"
     },
     "output_type": "display_data"
    }
   ],
   "source": [
    "cont_cust.Qty.plot.hist()\n",
    "plt.title('Qty')"
   ]
  },
  {
   "cell_type": "code",
   "execution_count": 950,
   "id": "7220a7ad",
   "metadata": {},
   "outputs": [
    {
     "data": {
      "text/plain": [
       "Text(0.5, 1.0, 'Rate')"
      ]
     },
     "execution_count": 950,
     "metadata": {},
     "output_type": "execute_result"
    },
    {
     "data": {
      "image/png": "[encoded data removed]",
      "text/plain": [
       "<Figure size 432x288 with 1 Axes>"
      ]
     },
     "metadata": {
      "needs_background": "light"
     },
     "output_type": "display_data"
    }
   ],
   "source": [
    "cont_cust.Rate.plot.hist()\n",
    "plt.title('Rate')"
   ]
  },
  {
   "cell_type": "code",
   "execution_count": 951,
   "id": "760957b9",
   "metadata": {},
   "outputs": [
    {
     "data": {
      "text/plain": [
       "Text(0.5, 1.0, 'Tax')"
      ]
     },
     "execution_count": 951,
     "metadata": {},
     "output_type": "execute_result"
    },
    {
     "data": {
      "image/png": "[encoded data removed]",
      "text/plain": [
       "<Figure size 432x288 with 1 Axes>"
      ]
     },
     "metadata": {
      "needs_background": "light"
     },
     "output_type": "display_data"
    }
   ],
   "source": [
    "cont_cust.Tax.plot.hist()\n",
    "plt.title('Tax')"
   ]
  },
  {
   "cell_type": "code",
   "execution_count": 952,
   "id": "190f96c1",
   "metadata": {},
   "outputs": [
    {
     "data": {
      "text/plain": [
       "Text(0.5, 1.0, 'total_amt')"
      ]
     },
     "execution_count": 952,
     "metadata": {},
     "output_type": "execute_result"
    },
    {
     "data": {
      "image/png": "[encoded data removed]",
      "text/plain": [
       "<Figure size 432x288 with 1 Axes>"
      ]
     },
     "metadata": {
      "needs_background": "light"
     },
     "output_type": "display_data"
    }
   ],
   "source": [
    "cont_cust.total_amt.plot.hist()\n",
    "plt.title('total_amt')"
   ]
  },
  {
   "cell_type": "code",
   "execution_count": 953,
   "id": "189c3231",
   "metadata": {},
   "outputs": [],
   "source": [
    "import seaborn as sns  \n",
    "#categorical variables.\n",
    "cate_cust=Customer_Final.loc[:,Customer_Final.dtypes=='object']"
   ]
  },
  {
   "cell_type": "code",
   "execution_count": 954,
   "id": "d7149133",
   "metadata": {},
   "outputs": [
    {
     "data": {
      "text/html": [
       "<div>\n",
       "<style scoped>\n",
       "    .dataframe tbody tr th:only-of-type {\n",
       "        vertical-align: middle;\n",
       "    }\n",
       "\n",
       "    .dataframe tbody tr th {\n",
       "        vertical-align: top;\n",
       "    }\n",
       "\n",
       "    .dataframe thead th {\n",
       "        text-align: right;\n",
       "    }\n",
       "</style>\n",
       "<table border=\"1\" class=\"dataframe\">\n",
       "  <thead>\n",
       "    <tr style=\"text-align: right;\">\n",
       "      <th></th>\n",
       "      <th>Gender</th>\n",
       "      <th>Store_type</th>\n",
       "      <th>prod_cat</th>\n",
       "      <th>prod_subcat</th>\n",
       "    </tr>\n",
       "  </thead>\n",
       "  <tbody>\n",
       "    <tr>\n",
       "      <th>0</th>\n",
       "      <td>M</td>\n",
       "      <td>TeleShop</td>\n",
       "      <td>Books</td>\n",
       "      <td>Fiction</td>\n",
       "    </tr>\n",
       "    <tr>\n",
       "      <th>1</th>\n",
       "      <td>M</td>\n",
       "      <td>e-Shop</td>\n",
       "      <td>Books</td>\n",
       "      <td>Fiction</td>\n",
       "    </tr>\n",
       "    <tr>\n",
       "      <th>2</th>\n",
       "      <td>F</td>\n",
       "      <td>Flagship store</td>\n",
       "      <td>Books</td>\n",
       "      <td>Fiction</td>\n",
       "    </tr>\n",
       "    <tr>\n",
       "      <th>3</th>\n",
       "      <td>F</td>\n",
       "      <td>e-Shop</td>\n",
       "      <td>Books</td>\n",
       "      <td>Fiction</td>\n",
       "    </tr>\n",
       "    <tr>\n",
       "      <th>4</th>\n",
       "      <td>F</td>\n",
       "      <td>e-Shop</td>\n",
       "      <td>Books</td>\n",
       "      <td>Fiction</td>\n",
       "    </tr>\n",
       "  </tbody>\n",
       "</table>\n",
       "</div>"
      ],
      "text/plain": [
       "  Gender      Store_type prod_cat prod_subcat\n",
       "0      M        TeleShop    Books     Fiction\n",
       "1      M          e-Shop    Books     Fiction\n",
       "2      F  Flagship store    Books     Fiction\n",
       "3      F          e-Shop    Books     Fiction\n",
       "4      F          e-Shop    Books     Fiction"
      ]
     },
     "execution_count": 954,
     "metadata": {},
     "output_type": "execute_result"
    }
   ],
   "source": [
    "cate_cust.head()"
   ]
  },
  {
   "cell_type": "code",
   "execution_count": 955,
   "id": "9c59d98b",
   "metadata": {},
   "outputs": [
    {
     "name": "stderr",
     "output_type": "stream",
     "text": [
      "C:\\ProgramData\\Anaconda3\\lib\\site-packages\\seaborn\\_decorators.py:36: FutureWarning: Pass the following variable as a keyword arg: x. From version 0.12, the only valid positional argument will be `data`, and passing other arguments without an explicit keyword will result in an error or misinterpretation.\n",
      "  warnings.warn(\n"
     ]
    },
    {
     "data": {
      "text/plain": [
       "<AxesSubplot:xlabel='Gender', ylabel='count'>"
      ]
     },
     "execution_count": 955,
     "metadata": {},
     "output_type": "execute_result"
    },
    {
     "data": {
      "image/png": "[encoded data removed]",
      "text/plain": [
       "<Figure size 432x288 with 1 Axes>"
      ]
     },
     "metadata": {
      "needs_background": "light"
     },
     "output_type": "display_data"
    }
   ],
   "source": [
    "sns.countplot(cate_cust['Gender'])"
   ]
  },
  {
   "cell_type": "code",
   "execution_count": 956,
   "id": "97eb5952",
   "metadata": {},
   "outputs": [
    {
     "name": "stderr",
     "output_type": "stream",
     "text": [
      "C:\\ProgramData\\Anaconda3\\lib\\site-packages\\seaborn\\_decorators.py:36: FutureWarning: Pass the following variable as a keyword arg: x. From version 0.12, the only valid positional argument will be `data`, and passing other arguments without an explicit keyword will result in an error or misinterpretation.\n",
      "  warnings.warn(\n"
     ]
    },
    {
     "data": {
      "text/plain": [
       "<AxesSubplot:xlabel='Store_type', ylabel='count'>"
      ]
     },
     "execution_count": 956,
     "metadata": {},
     "output_type": "execute_result"
    },
    {
     "data": {
      "image/png": "[encoded data removed]",
      "text/plain": [
       "<Figure size 432x288 with 1 Axes>"
      ]
     },
     "metadata": {
      "needs_background": "light"
     },
     "output_type": "display_data"
    }
   ],
   "source": [
    "sns.countplot(cate_cust['Store_type'])"
   ]
  },
  {
   "cell_type": "code",
   "execution_count": 957,
   "id": "d465ea9f",
   "metadata": {},
   "outputs": [
    {
     "name": "stderr",
     "output_type": "stream",
     "text": [
      "C:\\ProgramData\\Anaconda3\\lib\\site-packages\\seaborn\\_decorators.py:36: FutureWarning: Pass the following variable as a keyword arg: x. From version 0.12, the only valid positional argument will be `data`, and passing other arguments without an explicit keyword will result in an error or misinterpretation.\n",
      "  warnings.warn(\n"
     ]
    },
    {
     "data": {
      "text/plain": [
       "<AxesSubplot:xlabel='prod_cat', ylabel='count'>"
      ]
     },
     "execution_count": 957,
     "metadata": {},
     "output_type": "execute_result"
    },
    {
     "data": {
      "image/png": "[encoded data removed]",
      "text/plain": [
       "<Figure size 576x576 with 1 Axes>"
      ]
     },
     "metadata": {
      "needs_background": "light"
     },
     "output_type": "display_data"
    }
   ],
   "source": [
    "plt.figure(figsize=(8,8))\n",
    "sns.countplot(cate_cust['prod_cat'])\n"
   ]
  },
  {
   "cell_type": "code",
   "execution_count": 958,
   "id": "d5de6b84",
   "metadata": {},
   "outputs": [
    {
     "data": {
      "text/plain": [
       "<AxesSubplot:ylabel='prod_subcat'>"
      ]
     },
     "execution_count": 958,
     "metadata": {},
     "output_type": "execute_result"
    },
    {
     "data": {
      "image/png": "[encoded data removed]",
      "text/plain": [
       "<Figure size 576x576 with 1 Axes>"
      ]
     },
     "metadata": {
      "needs_background": "light"
     },
     "output_type": "display_data"
    }
   ],
   "source": [
    "plt.figure(figsize=(8,8))\n",
    "cate_cust.groupby('prod_subcat')['prod_subcat'].count().plot(kind='barh')"
   ]
  },
  {
   "cell_type": "markdown",
   "id": "3fdc27cc",
   "metadata": {},
   "source": [
    "# 4. Calculate the following information using the merged dataset :"
   ]
  },
  {
   "cell_type": "code",
   "execution_count": 959,
   "id": "3f55be9e",
   "metadata": {},
   "outputs": [],
   "source": [
    "#a. Time period of the available transaction data\n",
    "total_days=Customer_Final.tran_date.max()-Customer_Final.tran_date.min()"
   ]
  },
  {
   "cell_type": "code",
   "execution_count": 960,
   "id": "cdf39690",
   "metadata": {},
   "outputs": [],
   "source": [
    "start_date=Customer_Final.tran_date.min()\n",
    "end_date=Customer_Final.tran_date.max()"
   ]
  },
  {
   "cell_type": "code",
   "execution_count": 961,
   "id": "57044981",
   "metadata": {},
   "outputs": [
    {
     "name": "stdout",
     "output_type": "stream",
     "text": [
      "Total 1430 days 00:00:00 time period of available data from 02-01-2011 to 02-12-2014\n"
     ]
    }
   ],
   "source": [
    "print('Total',total_days ,'time period of available data','from', pd.Timestamp.strftime(start_date,format=\"%d-%m-%Y\"),'to',pd.Timestamp.strftime(end_date,format=\"%d-%m-%Y\"))"
   ]
  },
  {
   "cell_type": "code",
   "execution_count": 962,
   "id": "238609ca",
   "metadata": {},
   "outputs": [],
   "source": [
    "#b. Count of transactions where the total amount of transaction was negative"
   ]
  },
  {
   "cell_type": "code",
   "execution_count": 963,
   "id": "4fcc9fd4",
   "metadata": {},
   "outputs": [
    {
     "data": {
      "text/html": [
       "<div>\n",
       "<style scoped>\n",
       "    .dataframe tbody tr th:only-of-type {\n",
       "        vertical-align: middle;\n",
       "    }\n",
       "\n",
       "    .dataframe tbody tr th {\n",
       "        vertical-align: top;\n",
       "    }\n",
       "\n",
       "    .dataframe thead th {\n",
       "        text-align: right;\n",
       "    }\n",
       "</style>\n",
       "<table border=\"1\" class=\"dataframe\">\n",
       "  <thead>\n",
       "    <tr style=\"text-align: right;\">\n",
       "      <th></th>\n",
       "      <th>customer_Id</th>\n",
       "      <th>DOB</th>\n",
       "      <th>Gender</th>\n",
       "      <th>city_code</th>\n",
       "      <th>transaction_id</th>\n",
       "      <th>tran_date</th>\n",
       "      <th>prod_subcat_code</th>\n",
       "      <th>prod_cat_code</th>\n",
       "      <th>Qty</th>\n",
       "      <th>Rate</th>\n",
       "      <th>Tax</th>\n",
       "      <th>total_amt</th>\n",
       "      <th>Store_type</th>\n",
       "      <th>prod_cat</th>\n",
       "      <th>prod_subcat</th>\n",
       "    </tr>\n",
       "  </thead>\n",
       "  <tbody>\n",
       "    <tr>\n",
       "      <th>0</th>\n",
       "      <td>268408</td>\n",
       "      <td>1970-02-01</td>\n",
       "      <td>M</td>\n",
       "      <td>4.0</td>\n",
       "      <td>8.724384e+10</td>\n",
       "      <td>2014-01-13</td>\n",
       "      <td>7.0</td>\n",
       "      <td>5.0</td>\n",
       "      <td>5.0</td>\n",
       "      <td>187.0</td>\n",
       "      <td>98.175</td>\n",
       "      <td>1033.175</td>\n",
       "      <td>TeleShop</td>\n",
       "      <td>Books</td>\n",
       "      <td>Fiction</td>\n",
       "    </tr>\n",
       "    <tr>\n",
       "      <th>1</th>\n",
       "      <td>275152</td>\n",
       "      <td>1970-01-16</td>\n",
       "      <td>M</td>\n",
       "      <td>4.0</td>\n",
       "      <td>7.310943e+10</td>\n",
       "      <td>2011-03-25</td>\n",
       "      <td>7.0</td>\n",
       "      <td>5.0</td>\n",
       "      <td>2.0</td>\n",
       "      <td>464.0</td>\n",
       "      <td>97.440</td>\n",
       "      <td>1025.440</td>\n",
       "      <td>e-Shop</td>\n",
       "      <td>Books</td>\n",
       "      <td>Fiction</td>\n",
       "    </tr>\n",
       "  </tbody>\n",
       "</table>\n",
       "</div>"
      ],
      "text/plain": [
       "   customer_Id        DOB Gender  city_code  transaction_id  tran_date  \\\n",
       "0       268408 1970-02-01      M        4.0    8.724384e+10 2014-01-13   \n",
       "1       275152 1970-01-16      M        4.0    7.310943e+10 2011-03-25   \n",
       "\n",
       "   prod_subcat_code  prod_cat_code  Qty   Rate     Tax  total_amt Store_type  \\\n",
       "0               7.0            5.0  5.0  187.0  98.175   1033.175   TeleShop   \n",
       "1               7.0            5.0  2.0  464.0  97.440   1025.440     e-Shop   \n",
       "\n",
       "  prod_cat prod_subcat  \n",
       "0    Books     Fiction  \n",
       "1    Books     Fiction  "
      ]
     },
     "execution_count": 963,
     "metadata": {},
     "output_type": "execute_result"
    }
   ],
   "source": [
    "Customer_Final.head(2)"
   ]
  },
  {
   "cell_type": "code",
   "execution_count": 964,
   "id": "f75e6f4e",
   "metadata": {},
   "outputs": [
    {
     "data": {
      "text/plain": [
       "2164"
      ]
     },
     "execution_count": 964,
     "metadata": {},
     "output_type": "execute_result"
    }
   ],
   "source": [
    "Customer_Final.loc[Customer_Final[\"total_amt\"]<0,'transaction_id'].count()"
   ]
  },
  {
   "cell_type": "markdown",
   "id": "a1414cd9",
   "metadata": {},
   "source": [
    "# 5. Analyze which product categories are more popular among females vs male customers"
   ]
  },
  {
   "cell_type": "code",
   "execution_count": 965,
   "id": "04c92a15",
   "metadata": {},
   "outputs": [
    {
     "data": {
      "text/plain": [
       "count     23040\n",
       "unique        6\n",
       "top       Books\n",
       "freq       6066\n",
       "Name: prod_cat, dtype: object"
      ]
     },
     "execution_count": 965,
     "metadata": {},
     "output_type": "execute_result"
    }
   ],
   "source": [
    "Customer_Final.prod_cat.describe()"
   ]
  },
  {
   "cell_type": "code",
   "execution_count": 966,
   "id": "f947034c",
   "metadata": {},
   "outputs": [],
   "source": [
    "Gender_popular=Customer_Final.groupby(['Gender','prod_cat'])[['Qty']].sum() "
   ]
  },
  {
   "cell_type": "code",
   "execution_count": 967,
   "id": "1e55a899",
   "metadata": {},
   "outputs": [
    {
     "data": {
      "text/html": [
       "<div>\n",
       "<style scoped>\n",
       "    .dataframe tbody tr th:only-of-type {\n",
       "        vertical-align: middle;\n",
       "    }\n",
       "\n",
       "    .dataframe tbody tr th {\n",
       "        vertical-align: top;\n",
       "    }\n",
       "\n",
       "    .dataframe thead th {\n",
       "        text-align: right;\n",
       "    }\n",
       "</style>\n",
       "<table border=\"1\" class=\"dataframe\">\n",
       "  <thead>\n",
       "    <tr style=\"text-align: right;\">\n",
       "      <th></th>\n",
       "      <th>Gender</th>\n",
       "      <th>prod_cat</th>\n",
       "      <th>Qty</th>\n",
       "    </tr>\n",
       "  </thead>\n",
       "  <tbody>\n",
       "    <tr>\n",
       "      <th>0</th>\n",
       "      <td>F</td>\n",
       "      <td>Bags</td>\n",
       "      <td>2364.0</td>\n",
       "    </tr>\n",
       "    <tr>\n",
       "      <th>1</th>\n",
       "      <td>F</td>\n",
       "      <td>Books</td>\n",
       "      <td>7080.0</td>\n",
       "    </tr>\n",
       "    <tr>\n",
       "      <th>2</th>\n",
       "      <td>F</td>\n",
       "      <td>Clothing</td>\n",
       "      <td>3425.0</td>\n",
       "    </tr>\n",
       "    <tr>\n",
       "      <th>3</th>\n",
       "      <td>F</td>\n",
       "      <td>Electronics</td>\n",
       "      <td>5832.0</td>\n",
       "    </tr>\n",
       "    <tr>\n",
       "      <th>4</th>\n",
       "      <td>F</td>\n",
       "      <td>Footwear</td>\n",
       "      <td>3721.0</td>\n",
       "    </tr>\n",
       "    <tr>\n",
       "      <th>5</th>\n",
       "      <td>F</td>\n",
       "      <td>Home and kitchen</td>\n",
       "      <td>4898.0</td>\n",
       "    </tr>\n",
       "    <tr>\n",
       "      <th>6</th>\n",
       "      <td>M</td>\n",
       "      <td>Bags</td>\n",
       "      <td>2346.0</td>\n",
       "    </tr>\n",
       "    <tr>\n",
       "      <th>7</th>\n",
       "      <td>M</td>\n",
       "      <td>Books</td>\n",
       "      <td>7587.0</td>\n",
       "    </tr>\n",
       "    <tr>\n",
       "      <th>8</th>\n",
       "      <td>M</td>\n",
       "      <td>Clothing</td>\n",
       "      <td>3748.0</td>\n",
       "    </tr>\n",
       "    <tr>\n",
       "      <th>9</th>\n",
       "      <td>M</td>\n",
       "      <td>Electronics</td>\n",
       "      <td>6486.0</td>\n",
       "    </tr>\n",
       "    <tr>\n",
       "      <th>10</th>\n",
       "      <td>M</td>\n",
       "      <td>Footwear</td>\n",
       "      <td>3561.0</td>\n",
       "    </tr>\n",
       "    <tr>\n",
       "      <th>11</th>\n",
       "      <td>M</td>\n",
       "      <td>Home and kitchen</td>\n",
       "      <td>5051.0</td>\n",
       "    </tr>\n",
       "  </tbody>\n",
       "</table>\n",
       "</div>"
      ],
      "text/plain": [
       "   Gender          prod_cat     Qty\n",
       "0       F              Bags  2364.0\n",
       "1       F             Books  7080.0\n",
       "2       F          Clothing  3425.0\n",
       "3       F       Electronics  5832.0\n",
       "4       F          Footwear  3721.0\n",
       "5       F  Home and kitchen  4898.0\n",
       "6       M              Bags  2346.0\n",
       "7       M             Books  7587.0\n",
       "8       M          Clothing  3748.0\n",
       "9       M       Electronics  6486.0\n",
       "10      M          Footwear  3561.0\n",
       "11      M  Home and kitchen  5051.0"
      ]
     },
     "execution_count": 967,
     "metadata": {},
     "output_type": "execute_result"
    }
   ],
   "source": [
    "Gender_popular1=Gender_popular.reset_index()\n",
    "Gender_popular1"
   ]
  },
  {
   "cell_type": "code",
   "execution_count": 968,
   "id": "cef68483",
   "metadata": {},
   "outputs": [],
   "source": [
    "GM=Gender_popular1 [\"Gender\"].isin([\"M\"])\n",
    "GF=Gender_popular1 [\"Gender\"].isin([\"F\"])"
   ]
  },
  {
   "cell_type": "code",
   "execution_count": 969,
   "id": "f4d4eb57",
   "metadata": {},
   "outputs": [],
   "source": [
    "M=Gender_popular1[GM]\n",
    "F=Gender_popular1[GF]"
   ]
  },
  {
   "cell_type": "code",
   "execution_count": 970,
   "id": "c23622e6",
   "metadata": {},
   "outputs": [],
   "source": [
    "F=F.reindex()\n",
    "M=M.reindex()"
   ]
  },
  {
   "cell_type": "code",
   "execution_count": 971,
   "id": "b98809aa",
   "metadata": {},
   "outputs": [
    {
     "data": {
      "text/html": [
       "<div>\n",
       "<style scoped>\n",
       "    .dataframe tbody tr th:only-of-type {\n",
       "        vertical-align: middle;\n",
       "    }\n",
       "\n",
       "    .dataframe tbody tr th {\n",
       "        vertical-align: top;\n",
       "    }\n",
       "\n",
       "    .dataframe thead th {\n",
       "        text-align: right;\n",
       "    }\n",
       "</style>\n",
       "<table border=\"1\" class=\"dataframe\">\n",
       "  <thead>\n",
       "    <tr style=\"text-align: right;\">\n",
       "      <th></th>\n",
       "      <th>Gender</th>\n",
       "      <th>prod_cat</th>\n",
       "      <th>Qty</th>\n",
       "    </tr>\n",
       "  </thead>\n",
       "  <tbody>\n",
       "    <tr>\n",
       "      <th>0</th>\n",
       "      <td>F</td>\n",
       "      <td>Bags</td>\n",
       "      <td>2364.0</td>\n",
       "    </tr>\n",
       "    <tr>\n",
       "      <th>1</th>\n",
       "      <td>F</td>\n",
       "      <td>Books</td>\n",
       "      <td>7080.0</td>\n",
       "    </tr>\n",
       "    <tr>\n",
       "      <th>2</th>\n",
       "      <td>F</td>\n",
       "      <td>Clothing</td>\n",
       "      <td>3425.0</td>\n",
       "    </tr>\n",
       "    <tr>\n",
       "      <th>3</th>\n",
       "      <td>F</td>\n",
       "      <td>Electronics</td>\n",
       "      <td>5832.0</td>\n",
       "    </tr>\n",
       "    <tr>\n",
       "      <th>4</th>\n",
       "      <td>F</td>\n",
       "      <td>Footwear</td>\n",
       "      <td>3721.0</td>\n",
       "    </tr>\n",
       "    <tr>\n",
       "      <th>5</th>\n",
       "      <td>F</td>\n",
       "      <td>Home and kitchen</td>\n",
       "      <td>4898.0</td>\n",
       "    </tr>\n",
       "  </tbody>\n",
       "</table>\n",
       "</div>"
      ],
      "text/plain": [
       "  Gender          prod_cat     Qty\n",
       "0      F              Bags  2364.0\n",
       "1      F             Books  7080.0\n",
       "2      F          Clothing  3425.0\n",
       "3      F       Electronics  5832.0\n",
       "4      F          Footwear  3721.0\n",
       "5      F  Home and kitchen  4898.0"
      ]
     },
     "execution_count": 971,
     "metadata": {},
     "output_type": "execute_result"
    }
   ],
   "source": [
    "F \n"
   ]
  },
  {
   "cell_type": "markdown",
   "id": "9378dd90",
   "metadata": {},
   "source": [
    "#### product categories are more popular among females"
   ]
  },
  {
   "cell_type": "code",
   "execution_count": 972,
   "id": "cf154fb1",
   "metadata": {},
   "outputs": [
    {
     "data": {
      "text/html": [
       "<div>\n",
       "<style scoped>\n",
       "    .dataframe tbody tr th:only-of-type {\n",
       "        vertical-align: middle;\n",
       "    }\n",
       "\n",
       "    .dataframe tbody tr th {\n",
       "        vertical-align: top;\n",
       "    }\n",
       "\n",
       "    .dataframe thead th {\n",
       "        text-align: right;\n",
       "    }\n",
       "</style>\n",
       "<table border=\"1\" class=\"dataframe\">\n",
       "  <thead>\n",
       "    <tr style=\"text-align: right;\">\n",
       "      <th></th>\n",
       "      <th>Gender</th>\n",
       "      <th>prod_cat</th>\n",
       "      <th>Qty</th>\n",
       "    </tr>\n",
       "  </thead>\n",
       "  <tbody>\n",
       "    <tr>\n",
       "      <th>0</th>\n",
       "      <td>F</td>\n",
       "      <td>Bags</td>\n",
       "      <td>2364.0</td>\n",
       "    </tr>\n",
       "    <tr>\n",
       "      <th>4</th>\n",
       "      <td>F</td>\n",
       "      <td>Footwear</td>\n",
       "      <td>3721.0</td>\n",
       "    </tr>\n",
       "  </tbody>\n",
       "</table>\n",
       "</div>"
      ],
      "text/plain": [
       "  Gender  prod_cat     Qty\n",
       "0      F      Bags  2364.0\n",
       "4      F  Footwear  3721.0"
      ]
     },
     "execution_count": 972,
     "metadata": {},
     "output_type": "execute_result"
    }
   ],
   "source": [
    "F[F.Qty.values>M.Qty.values]"
   ]
  },
  {
   "cell_type": "markdown",
   "id": "03b0329e",
   "metadata": {},
   "source": [
    "#### product categories are more popular among males"
   ]
  },
  {
   "cell_type": "code",
   "execution_count": 973,
   "id": "b6e8f83c",
   "metadata": {},
   "outputs": [
    {
     "data": {
      "text/html": [
       "<div>\n",
       "<style scoped>\n",
       "    .dataframe tbody tr th:only-of-type {\n",
       "        vertical-align: middle;\n",
       "    }\n",
       "\n",
       "    .dataframe tbody tr th {\n",
       "        vertical-align: top;\n",
       "    }\n",
       "\n",
       "    .dataframe thead th {\n",
       "        text-align: right;\n",
       "    }\n",
       "</style>\n",
       "<table border=\"1\" class=\"dataframe\">\n",
       "  <thead>\n",
       "    <tr style=\"text-align: right;\">\n",
       "      <th></th>\n",
       "      <th>Gender</th>\n",
       "      <th>prod_cat</th>\n",
       "      <th>Qty</th>\n",
       "    </tr>\n",
       "  </thead>\n",
       "  <tbody>\n",
       "    <tr>\n",
       "      <th>7</th>\n",
       "      <td>M</td>\n",
       "      <td>Books</td>\n",
       "      <td>7587.0</td>\n",
       "    </tr>\n",
       "    <tr>\n",
       "      <th>8</th>\n",
       "      <td>M</td>\n",
       "      <td>Clothing</td>\n",
       "      <td>3748.0</td>\n",
       "    </tr>\n",
       "    <tr>\n",
       "      <th>9</th>\n",
       "      <td>M</td>\n",
       "      <td>Electronics</td>\n",
       "      <td>6486.0</td>\n",
       "    </tr>\n",
       "    <tr>\n",
       "      <th>11</th>\n",
       "      <td>M</td>\n",
       "      <td>Home and kitchen</td>\n",
       "      <td>5051.0</td>\n",
       "    </tr>\n",
       "  </tbody>\n",
       "</table>\n",
       "</div>"
      ],
      "text/plain": [
       "   Gender          prod_cat     Qty\n",
       "7       M             Books  7587.0\n",
       "8       M          Clothing  3748.0\n",
       "9       M       Electronics  6486.0\n",
       "11      M  Home and kitchen  5051.0"
      ]
     },
     "execution_count": 973,
     "metadata": {},
     "output_type": "execute_result"
    }
   ],
   "source": [
    "M[F.Qty.values<M.Qty.values]"
   ]
  },
  {
   "cell_type": "markdown",
   "id": "348ba452",
   "metadata": {},
   "source": [
    "# 6. Which City code has the maximum customers and what was the percentage of customers from\n",
    "that city?"
   ]
  },
  {
   "cell_type": "code",
   "execution_count": 974,
   "id": "19728c25",
   "metadata": {},
   "outputs": [],
   "source": [
    "Cust_city=Customer_Final.groupby('city_code')[['customer_Id']].count()"
   ]
  },
  {
   "cell_type": "code",
   "execution_count": 975,
   "id": "25c48f68",
   "metadata": {},
   "outputs": [],
   "source": [
    "Cust_cityAsc=Cust_city.sort_values(by=['customer_Id'],ascending=False).reset_index()"
   ]
  },
  {
   "cell_type": "code",
   "execution_count": 976,
   "id": "07fe94bd",
   "metadata": {},
   "outputs": [
    {
     "data": {
      "text/html": [
       "<div>\n",
       "<style scoped>\n",
       "    .dataframe tbody tr th:only-of-type {\n",
       "        vertical-align: middle;\n",
       "    }\n",
       "\n",
       "    .dataframe tbody tr th {\n",
       "        vertical-align: top;\n",
       "    }\n",
       "\n",
       "    .dataframe thead th {\n",
       "        text-align: right;\n",
       "    }\n",
       "</style>\n",
       "<table border=\"1\" class=\"dataframe\">\n",
       "  <thead>\n",
       "    <tr style=\"text-align: right;\">\n",
       "      <th></th>\n",
       "      <th>city_code</th>\n",
       "      <th>customer_Id</th>\n",
       "    </tr>\n",
       "  </thead>\n",
       "  <tbody>\n",
       "    <tr>\n",
       "      <th>0</th>\n",
       "      <td>4.0</td>\n",
       "      <td>2422</td>\n",
       "    </tr>\n",
       "    <tr>\n",
       "      <th>1</th>\n",
       "      <td>3.0</td>\n",
       "      <td>2410</td>\n",
       "    </tr>\n",
       "    <tr>\n",
       "      <th>2</th>\n",
       "      <td>5.0</td>\n",
       "      <td>2357</td>\n",
       "    </tr>\n",
       "    <tr>\n",
       "      <th>3</th>\n",
       "      <td>7.0</td>\n",
       "      <td>2356</td>\n",
       "    </tr>\n",
       "    <tr>\n",
       "      <th>4</th>\n",
       "      <td>10.0</td>\n",
       "      <td>2333</td>\n",
       "    </tr>\n",
       "    <tr>\n",
       "      <th>5</th>\n",
       "      <td>8.0</td>\n",
       "      <td>2328</td>\n",
       "    </tr>\n",
       "    <tr>\n",
       "      <th>6</th>\n",
       "      <td>2.0</td>\n",
       "      <td>2268</td>\n",
       "    </tr>\n",
       "    <tr>\n",
       "      <th>7</th>\n",
       "      <td>1.0</td>\n",
       "      <td>2255</td>\n",
       "    </tr>\n",
       "    <tr>\n",
       "      <th>8</th>\n",
       "      <td>9.0</td>\n",
       "      <td>2176</td>\n",
       "    </tr>\n",
       "    <tr>\n",
       "      <th>9</th>\n",
       "      <td>6.0</td>\n",
       "      <td>2127</td>\n",
       "    </tr>\n",
       "  </tbody>\n",
       "</table>\n",
       "</div>"
      ],
      "text/plain": [
       "   city_code  customer_Id\n",
       "0        4.0         2422\n",
       "1        3.0         2410\n",
       "2        5.0         2357\n",
       "3        7.0         2356\n",
       "4       10.0         2333\n",
       "5        8.0         2328\n",
       "6        2.0         2268\n",
       "7        1.0         2255\n",
       "8        9.0         2176\n",
       "9        6.0         2127"
      ]
     },
     "execution_count": 976,
     "metadata": {},
     "output_type": "execute_result"
    }
   ],
   "source": [
    "Cust_cityAsc"
   ]
  },
  {
   "cell_type": "code",
   "execution_count": 977,
   "id": "c1ffa315",
   "metadata": {},
   "outputs": [
    {
     "data": {
      "text/plain": [
       "23032"
      ]
     },
     "execution_count": 977,
     "metadata": {},
     "output_type": "execute_result"
    }
   ],
   "source": [
    "TotalCust_city=Cust_city.customer_Id.sum()\n",
    "TotalCust_city"
   ]
  },
  {
   "cell_type": "code",
   "execution_count": 978,
   "id": "1b54956f",
   "metadata": {},
   "outputs": [
    {
     "data": {
      "text/plain": [
       "customer_Id    2422.0\n",
       "Name: 0, dtype: float64"
      ]
     },
     "execution_count": 978,
     "metadata": {},
     "output_type": "execute_result"
    }
   ],
   "source": [
    "\n",
    "Cust_cityAsc.iloc[0,1:]"
   ]
  },
  {
   "cell_type": "code",
   "execution_count": 979,
   "id": "4c076c38",
   "metadata": {},
   "outputs": [],
   "source": [
    "per=round((Cust_cityAsc.customer_Id[0] / TotalCust_city) * 100,2)"
   ]
  },
  {
   "cell_type": "code",
   "execution_count": 980,
   "id": "a8a4bb61",
   "metadata": {},
   "outputs": [
    {
     "name": "stdout",
     "output_type": "stream",
     "text": [
      "10.52 % from City_Code: 4.0 total Customer: customer_Id    2422.0\n",
      "Name: 0, dtype: float64\n"
     ]
    }
   ],
   "source": [
    "print(per,'%','from City_Code:',Cust_cityAsc.city_code[0],'total Customer:',Cust_cityAsc.iloc[0,1:])"
   ]
  },
  {
   "cell_type": "markdown",
   "id": "76242996",
   "metadata": {},
   "source": [
    "# 7. Which store type sells the maximum products by value and by quantity?"
   ]
  },
  {
   "cell_type": "code",
   "execution_count": 981,
   "id": "5aa01a34",
   "metadata": {},
   "outputs": [
    {
     "data": {
      "text/html": [
       "<div>\n",
       "<style scoped>\n",
       "    .dataframe tbody tr th:only-of-type {\n",
       "        vertical-align: middle;\n",
       "    }\n",
       "\n",
       "    .dataframe tbody tr th {\n",
       "        vertical-align: top;\n",
       "    }\n",
       "\n",
       "    .dataframe thead th {\n",
       "        text-align: right;\n",
       "    }\n",
       "</style>\n",
       "<table border=\"1\" class=\"dataframe\">\n",
       "  <thead>\n",
       "    <tr style=\"text-align: right;\">\n",
       "      <th></th>\n",
       "      <th>customer_Id</th>\n",
       "      <th>DOB</th>\n",
       "      <th>Gender</th>\n",
       "      <th>city_code</th>\n",
       "      <th>transaction_id</th>\n",
       "      <th>tran_date</th>\n",
       "      <th>prod_subcat_code</th>\n",
       "      <th>prod_cat_code</th>\n",
       "      <th>Qty</th>\n",
       "      <th>Rate</th>\n",
       "      <th>Tax</th>\n",
       "      <th>total_amt</th>\n",
       "      <th>Store_type</th>\n",
       "      <th>prod_cat</th>\n",
       "      <th>prod_subcat</th>\n",
       "    </tr>\n",
       "  </thead>\n",
       "  <tbody>\n",
       "    <tr>\n",
       "      <th>0</th>\n",
       "      <td>268408</td>\n",
       "      <td>1970-02-01</td>\n",
       "      <td>M</td>\n",
       "      <td>4.0</td>\n",
       "      <td>8.724384e+10</td>\n",
       "      <td>2014-01-13</td>\n",
       "      <td>7.0</td>\n",
       "      <td>5.0</td>\n",
       "      <td>5.0</td>\n",
       "      <td>187.0</td>\n",
       "      <td>98.175</td>\n",
       "      <td>1033.175</td>\n",
       "      <td>TeleShop</td>\n",
       "      <td>Books</td>\n",
       "      <td>Fiction</td>\n",
       "    </tr>\n",
       "  </tbody>\n",
       "</table>\n",
       "</div>"
      ],
      "text/plain": [
       "   customer_Id        DOB Gender  city_code  transaction_id  tran_date  \\\n",
       "0       268408 1970-02-01      M        4.0    8.724384e+10 2014-01-13   \n",
       "\n",
       "   prod_subcat_code  prod_cat_code  Qty   Rate     Tax  total_amt Store_type  \\\n",
       "0               7.0            5.0  5.0  187.0  98.175   1033.175   TeleShop   \n",
       "\n",
       "  prod_cat prod_subcat  \n",
       "0    Books     Fiction  "
      ]
     },
     "execution_count": 981,
     "metadata": {},
     "output_type": "execute_result"
    }
   ],
   "source": [
    "Customer_Final.head(1)"
   ]
  },
  {
   "cell_type": "code",
   "execution_count": 982,
   "id": "d96bdb6e",
   "metadata": {},
   "outputs": [
    {
     "name": "stderr",
     "output_type": "stream",
     "text": [
      "<ipython-input-982-4fa5f03b971a>:1: FutureWarning: Indexing with multiple keys (implicitly converted to a tuple of keys) will be deprecated, use a list instead.\n",
      "  max_sell=Customer_Final.groupby('Store_type')['Qty','Rate'].sum()\n"
     ]
    }
   ],
   "source": [
    "max_sell=Customer_Final.groupby('Store_type')['Qty','Rate'].sum()"
   ]
  },
  {
   "cell_type": "code",
   "execution_count": 983,
   "id": "0142c391",
   "metadata": {},
   "outputs": [],
   "source": [
    "max_sell=max_sell.sort_values(by=['Qty','Rate'],ascending=False)"
   ]
  },
  {
   "cell_type": "code",
   "execution_count": 984,
   "id": "5e933475",
   "metadata": {},
   "outputs": [
    {
     "data": {
      "text/html": [
       "<div>\n",
       "<style scoped>\n",
       "    .dataframe tbody tr th:only-of-type {\n",
       "        vertical-align: middle;\n",
       "    }\n",
       "\n",
       "    .dataframe tbody tr th {\n",
       "        vertical-align: top;\n",
       "    }\n",
       "\n",
       "    .dataframe thead th {\n",
       "        text-align: right;\n",
       "    }\n",
       "</style>\n",
       "<table border=\"1\" class=\"dataframe\">\n",
       "  <thead>\n",
       "    <tr style=\"text-align: right;\">\n",
       "      <th></th>\n",
       "      <th>Qty</th>\n",
       "      <th>Rate</th>\n",
       "    </tr>\n",
       "    <tr>\n",
       "      <th>Store_type</th>\n",
       "      <th></th>\n",
       "      <th></th>\n",
       "    </tr>\n",
       "  </thead>\n",
       "  <tbody>\n",
       "    <tr>\n",
       "      <th>e-Shop</th>\n",
       "      <td>22790.0</td>\n",
       "      <td>5945770.0</td>\n",
       "    </tr>\n",
       "  </tbody>\n",
       "</table>\n",
       "</div>"
      ],
      "text/plain": [
       "                Qty       Rate\n",
       "Store_type                    \n",
       "e-Shop      22790.0  5945770.0"
      ]
     },
     "execution_count": 984,
     "metadata": {},
     "output_type": "execute_result"
    }
   ],
   "source": [
    "max_sell.head(1)"
   ]
  },
  {
   "cell_type": "markdown",
   "id": "f68713b8",
   "metadata": {},
   "source": [
    "# 8. What was the total amount earned from the \"Electronics\" and \"Clothing\" categories from\n",
    "Flagship Stores?"
   ]
  },
  {
   "cell_type": "code",
   "execution_count": 985,
   "id": "aa7beec8",
   "metadata": {},
   "outputs": [
    {
     "data": {
      "text/html": [
       "<div>\n",
       "<style scoped>\n",
       "    .dataframe tbody tr th:only-of-type {\n",
       "        vertical-align: middle;\n",
       "    }\n",
       "\n",
       "    .dataframe tbody tr th {\n",
       "        vertical-align: top;\n",
       "    }\n",
       "\n",
       "    .dataframe thead th {\n",
       "        text-align: right;\n",
       "    }\n",
       "</style>\n",
       "<table border=\"1\" class=\"dataframe\">\n",
       "  <thead>\n",
       "    <tr style=\"text-align: right;\">\n",
       "      <th></th>\n",
       "      <th>customer_Id</th>\n",
       "      <th>DOB</th>\n",
       "      <th>Gender</th>\n",
       "      <th>city_code</th>\n",
       "      <th>transaction_id</th>\n",
       "      <th>tran_date</th>\n",
       "      <th>prod_subcat_code</th>\n",
       "      <th>prod_cat_code</th>\n",
       "      <th>Qty</th>\n",
       "      <th>Rate</th>\n",
       "      <th>Tax</th>\n",
       "      <th>total_amt</th>\n",
       "      <th>Store_type</th>\n",
       "      <th>prod_cat</th>\n",
       "      <th>prod_subcat</th>\n",
       "    </tr>\n",
       "  </thead>\n",
       "  <tbody>\n",
       "    <tr>\n",
       "      <th>0</th>\n",
       "      <td>268408</td>\n",
       "      <td>1970-02-01</td>\n",
       "      <td>M</td>\n",
       "      <td>4.0</td>\n",
       "      <td>8.724384e+10</td>\n",
       "      <td>2014-01-13</td>\n",
       "      <td>7.0</td>\n",
       "      <td>5.0</td>\n",
       "      <td>5.0</td>\n",
       "      <td>187.0</td>\n",
       "      <td>98.175</td>\n",
       "      <td>1033.175</td>\n",
       "      <td>TeleShop</td>\n",
       "      <td>Books</td>\n",
       "      <td>Fiction</td>\n",
       "    </tr>\n",
       "  </tbody>\n",
       "</table>\n",
       "</div>"
      ],
      "text/plain": [
       "   customer_Id        DOB Gender  city_code  transaction_id  tran_date  \\\n",
       "0       268408 1970-02-01      M        4.0    8.724384e+10 2014-01-13   \n",
       "\n",
       "   prod_subcat_code  prod_cat_code  Qty   Rate     Tax  total_amt Store_type  \\\n",
       "0               7.0            5.0  5.0  187.0  98.175   1033.175   TeleShop   \n",
       "\n",
       "  prod_cat prod_subcat  \n",
       "0    Books     Fiction  "
      ]
     },
     "execution_count": 985,
     "metadata": {},
     "output_type": "execute_result"
    }
   ],
   "source": [
    "Customer_Final.head(1)"
   ]
  },
  {
   "cell_type": "code",
   "execution_count": 986,
   "id": "d19f9d40",
   "metadata": {},
   "outputs": [],
   "source": [
    "Earned_store=Customer_Final.groupby(['Store_type','prod_cat'])[['total_amt']].sum().reset_index()"
   ]
  },
  {
   "cell_type": "code",
   "execution_count": 987,
   "id": "b244c5b2",
   "metadata": {},
   "outputs": [
    {
     "data": {
      "text/html": [
       "<div>\n",
       "<style scoped>\n",
       "    .dataframe tbody tr th:only-of-type {\n",
       "        vertical-align: middle;\n",
       "    }\n",
       "\n",
       "    .dataframe tbody tr th {\n",
       "        vertical-align: top;\n",
       "    }\n",
       "\n",
       "    .dataframe thead th {\n",
       "        text-align: right;\n",
       "    }\n",
       "</style>\n",
       "<table border=\"1\" class=\"dataframe\">\n",
       "  <thead>\n",
       "    <tr style=\"text-align: right;\">\n",
       "      <th></th>\n",
       "      <th>Store_type</th>\n",
       "      <th>prod_cat</th>\n",
       "      <th>total_amt</th>\n",
       "    </tr>\n",
       "  </thead>\n",
       "  <tbody>\n",
       "    <tr>\n",
       "      <th>0</th>\n",
       "      <td>Flagship store</td>\n",
       "      <td>Bags</td>\n",
       "      <td>870548.835</td>\n",
       "    </tr>\n",
       "    <tr>\n",
       "      <th>1</th>\n",
       "      <td>Flagship store</td>\n",
       "      <td>Books</td>\n",
       "      <td>2493677.810</td>\n",
       "    </tr>\n",
       "    <tr>\n",
       "      <th>2</th>\n",
       "      <td>Flagship store</td>\n",
       "      <td>Clothing</td>\n",
       "      <td>1194423.230</td>\n",
       "    </tr>\n",
       "    <tr>\n",
       "      <th>3</th>\n",
       "      <td>Flagship store</td>\n",
       "      <td>Electronics</td>\n",
       "      <td>2215136.040</td>\n",
       "    </tr>\n",
       "    <tr>\n",
       "      <th>4</th>\n",
       "      <td>Flagship store</td>\n",
       "      <td>Footwear</td>\n",
       "      <td>1234806.560</td>\n",
       "    </tr>\n",
       "    <tr>\n",
       "      <th>5</th>\n",
       "      <td>Flagship store</td>\n",
       "      <td>Home and kitchen</td>\n",
       "      <td>1713004.150</td>\n",
       "    </tr>\n",
       "    <tr>\n",
       "      <th>6</th>\n",
       "      <td>MBR</td>\n",
       "      <td>Bags</td>\n",
       "      <td>848678.675</td>\n",
       "    </tr>\n",
       "    <tr>\n",
       "      <th>7</th>\n",
       "      <td>MBR</td>\n",
       "      <td>Books</td>\n",
       "      <td>2496039.195</td>\n",
       "    </tr>\n",
       "  </tbody>\n",
       "</table>\n",
       "</div>"
      ],
      "text/plain": [
       "       Store_type          prod_cat    total_amt\n",
       "0  Flagship store              Bags   870548.835\n",
       "1  Flagship store             Books  2493677.810\n",
       "2  Flagship store          Clothing  1194423.230\n",
       "3  Flagship store       Electronics  2215136.040\n",
       "4  Flagship store          Footwear  1234806.560\n",
       "5  Flagship store  Home and kitchen  1713004.150\n",
       "6             MBR              Bags   848678.675\n",
       "7             MBR             Books  2496039.195"
      ]
     },
     "execution_count": 987,
     "metadata": {},
     "output_type": "execute_result"
    }
   ],
   "source": [
    "Earned_store.head(8)"
   ]
  },
  {
   "cell_type": "code",
   "execution_count": 988,
   "id": "9031f4a5",
   "metadata": {},
   "outputs": [],
   "source": [
    "Flagship_store=Earned_store['Store_type'].isin(['Flagship store'])"
   ]
  },
  {
   "cell_type": "code",
   "execution_count": 989,
   "id": "d8011acd",
   "metadata": {},
   "outputs": [
    {
     "data": {
      "text/html": [
       "<div>\n",
       "<style scoped>\n",
       "    .dataframe tbody tr th:only-of-type {\n",
       "        vertical-align: middle;\n",
       "    }\n",
       "\n",
       "    .dataframe tbody tr th {\n",
       "        vertical-align: top;\n",
       "    }\n",
       "\n",
       "    .dataframe thead th {\n",
       "        text-align: right;\n",
       "    }\n",
       "</style>\n",
       "<table border=\"1\" class=\"dataframe\">\n",
       "  <thead>\n",
       "    <tr style=\"text-align: right;\">\n",
       "      <th></th>\n",
       "      <th>Store_type</th>\n",
       "      <th>prod_cat</th>\n",
       "      <th>total_amt</th>\n",
       "    </tr>\n",
       "  </thead>\n",
       "  <tbody>\n",
       "    <tr>\n",
       "      <th>0</th>\n",
       "      <td>Flagship store</td>\n",
       "      <td>Bags</td>\n",
       "      <td>870548.835</td>\n",
       "    </tr>\n",
       "    <tr>\n",
       "      <th>1</th>\n",
       "      <td>Flagship store</td>\n",
       "      <td>Books</td>\n",
       "      <td>2493677.810</td>\n",
       "    </tr>\n",
       "    <tr>\n",
       "      <th>2</th>\n",
       "      <td>Flagship store</td>\n",
       "      <td>Clothing</td>\n",
       "      <td>1194423.230</td>\n",
       "    </tr>\n",
       "    <tr>\n",
       "      <th>3</th>\n",
       "      <td>Flagship store</td>\n",
       "      <td>Electronics</td>\n",
       "      <td>2215136.040</td>\n",
       "    </tr>\n",
       "    <tr>\n",
       "      <th>4</th>\n",
       "      <td>Flagship store</td>\n",
       "      <td>Footwear</td>\n",
       "      <td>1234806.560</td>\n",
       "    </tr>\n",
       "    <tr>\n",
       "      <th>5</th>\n",
       "      <td>Flagship store</td>\n",
       "      <td>Home and kitchen</td>\n",
       "      <td>1713004.150</td>\n",
       "    </tr>\n",
       "  </tbody>\n",
       "</table>\n",
       "</div>"
      ],
      "text/plain": [
       "       Store_type          prod_cat    total_amt\n",
       "0  Flagship store              Bags   870548.835\n",
       "1  Flagship store             Books  2493677.810\n",
       "2  Flagship store          Clothing  1194423.230\n",
       "3  Flagship store       Electronics  2215136.040\n",
       "4  Flagship store          Footwear  1234806.560\n",
       "5  Flagship store  Home and kitchen  1713004.150"
      ]
     },
     "execution_count": 989,
     "metadata": {},
     "output_type": "execute_result"
    }
   ],
   "source": [
    "Flagship_store=Earned_store[Flagship_store]\n",
    "Flagship_store"
   ]
  },
  {
   "cell_type": "code",
   "execution_count": 990,
   "id": "833728c7",
   "metadata": {},
   "outputs": [],
   "source": [
    "E=Flagship_store['prod_cat'].isin(['Electronics'])\n",
    "C=Flagship_store['prod_cat'].isin(['Clothing'])"
   ]
  },
  {
   "cell_type": "code",
   "execution_count": 991,
   "id": "87a8227b",
   "metadata": {},
   "outputs": [
    {
     "data": {
      "text/plain": [
       "1194423.2299999988"
      ]
     },
     "execution_count": 991,
     "metadata": {},
     "output_type": "execute_result"
    }
   ],
   "source": [
    "Electronics_cat=Flagship_store[E]\n",
    "Clothing_cat=Flagship_store[C]\n",
    "CC=Clothing_cat.total_amt.sum()\n",
    "EE=Electronics_cat.total_amt.sum()\n",
    "CC"
   ]
  },
  {
   "cell_type": "code",
   "execution_count": 992,
   "id": "e1c63999",
   "metadata": {},
   "outputs": [
    {
     "name": "stdout",
     "output_type": "stream",
     "text": [
      "total amount of both Clothing : 1194423.2299999988 and Electronics : 2215136.0400000038 total amount earned from  Flagship Store: 3409559.2700000023\n"
     ]
    }
   ],
   "source": [
    "print('total amount of both Clothing :' ,CC ,'and Electronics :' ,EE, 'total amount earned from ' ,'Flagship Store:',Clothing_cat.total_amt.sum() + Electronics_cat.total_amt.sum())"
   ]
  },
  {
   "cell_type": "markdown",
   "id": "3f81f5f2",
   "metadata": {},
   "source": [
    "# 9. What was the total amount earned from \"Male\" customers under the \"Electronics\" category?"
   ]
  },
  {
   "cell_type": "code",
   "execution_count": 993,
   "id": "3bd6354f",
   "metadata": {},
   "outputs": [],
   "source": [
    "Male_Ele=Customer_Final.groupby(['Gender','prod_cat'])[['total_amt']].sum().reset_index()"
   ]
  },
  {
   "cell_type": "code",
   "execution_count": 994,
   "id": "b8fb3238",
   "metadata": {},
   "outputs": [
    {
     "data": {
      "text/html": [
       "<div>\n",
       "<style scoped>\n",
       "    .dataframe tbody tr th:only-of-type {\n",
       "        vertical-align: middle;\n",
       "    }\n",
       "\n",
       "    .dataframe tbody tr th {\n",
       "        vertical-align: top;\n",
       "    }\n",
       "\n",
       "    .dataframe thead th {\n",
       "        text-align: right;\n",
       "    }\n",
       "</style>\n",
       "<table border=\"1\" class=\"dataframe\">\n",
       "  <thead>\n",
       "    <tr style=\"text-align: right;\">\n",
       "      <th></th>\n",
       "      <th>Gender</th>\n",
       "      <th>prod_cat</th>\n",
       "      <th>total_amt</th>\n",
       "    </tr>\n",
       "  </thead>\n",
       "  <tbody>\n",
       "    <tr>\n",
       "      <th>0</th>\n",
       "      <td>F</td>\n",
       "      <td>Bags</td>\n",
       "      <td>2079618.840</td>\n",
       "    </tr>\n",
       "    <tr>\n",
       "      <th>1</th>\n",
       "      <td>F</td>\n",
       "      <td>Books</td>\n",
       "      <td>6174590.825</td>\n",
       "    </tr>\n",
       "    <tr>\n",
       "      <th>2</th>\n",
       "      <td>F</td>\n",
       "      <td>Clothing</td>\n",
       "      <td>3026750.805</td>\n",
       "    </tr>\n",
       "    <tr>\n",
       "      <th>3</th>\n",
       "      <td>F</td>\n",
       "      <td>Electronics</td>\n",
       "      <td>5019354.210</td>\n",
       "    </tr>\n",
       "    <tr>\n",
       "      <th>4</th>\n",
       "      <td>F</td>\n",
       "      <td>Footwear</td>\n",
       "      <td>3203155.215</td>\n",
       "    </tr>\n",
       "    <tr>\n",
       "      <th>5</th>\n",
       "      <td>F</td>\n",
       "      <td>Home and kitchen</td>\n",
       "      <td>4133702.235</td>\n",
       "    </tr>\n",
       "    <tr>\n",
       "      <th>6</th>\n",
       "      <td>M</td>\n",
       "      <td>Bags</td>\n",
       "      <td>2046722.990</td>\n",
       "    </tr>\n",
       "    <tr>\n",
       "      <th>7</th>\n",
       "      <td>M</td>\n",
       "      <td>Books</td>\n",
       "      <td>6645972.775</td>\n",
       "    </tr>\n",
       "    <tr>\n",
       "      <th>8</th>\n",
       "      <td>M</td>\n",
       "      <td>Clothing</td>\n",
       "      <td>3224079.495</td>\n",
       "    </tr>\n",
       "    <tr>\n",
       "      <th>9</th>\n",
       "      <td>M</td>\n",
       "      <td>Electronics</td>\n",
       "      <td>5711351.620</td>\n",
       "    </tr>\n",
       "    <tr>\n",
       "      <th>10</th>\n",
       "      <td>M</td>\n",
       "      <td>Footwear</td>\n",
       "      <td>3020200.365</td>\n",
       "    </tr>\n",
       "    <tr>\n",
       "      <th>11</th>\n",
       "      <td>M</td>\n",
       "      <td>Home and kitchen</td>\n",
       "      <td>4305169.505</td>\n",
       "    </tr>\n",
       "  </tbody>\n",
       "</table>\n",
       "</div>"
      ],
      "text/plain": [
       "   Gender          prod_cat    total_amt\n",
       "0       F              Bags  2079618.840\n",
       "1       F             Books  6174590.825\n",
       "2       F          Clothing  3026750.805\n",
       "3       F       Electronics  5019354.210\n",
       "4       F          Footwear  3203155.215\n",
       "5       F  Home and kitchen  4133702.235\n",
       "6       M              Bags  2046722.990\n",
       "7       M             Books  6645972.775\n",
       "8       M          Clothing  3224079.495\n",
       "9       M       Electronics  5711351.620\n",
       "10      M          Footwear  3020200.365\n",
       "11      M  Home and kitchen  4305169.505"
      ]
     },
     "execution_count": 994,
     "metadata": {},
     "output_type": "execute_result"
    }
   ],
   "source": [
    "Male_Ele"
   ]
  },
  {
   "cell_type": "code",
   "execution_count": 995,
   "id": "257bf3e2",
   "metadata": {},
   "outputs": [
    {
     "name": "stdout",
     "output_type": "stream",
     "text": [
      "total amount earned from \"Male\" customers under the \"Electronics\" category: 5711351.620000006\n"
     ]
    }
   ],
   "source": [
    "print('total amount earned from \"Male\" customers under the \"Electronics\" category:',Male_Ele.total_amt[9])"
   ]
  },
  {
   "cell_type": "markdown",
   "id": "84030821",
   "metadata": {},
   "source": [
    "# 10. How many customers have more than 10 unique transactions, after removing all transactions\n",
    "which have any negative amounts?"
   ]
  },
  {
   "cell_type": "code",
   "execution_count": 996,
   "id": "c927ebe6",
   "metadata": {},
   "outputs": [],
   "source": [
    "posi_tran=Customer_Final.loc[Customer_Final['total_amt']>0]"
   ]
  },
  {
   "cell_type": "code",
   "execution_count": 997,
   "id": "283c98b9",
   "metadata": {},
   "outputs": [
    {
     "data": {
      "text/html": [
       "<div>\n",
       "<style scoped>\n",
       "    .dataframe tbody tr th:only-of-type {\n",
       "        vertical-align: middle;\n",
       "    }\n",
       "\n",
       "    .dataframe tbody tr th {\n",
       "        vertical-align: top;\n",
       "    }\n",
       "\n",
       "    .dataframe thead th {\n",
       "        text-align: right;\n",
       "    }\n",
       "</style>\n",
       "<table border=\"1\" class=\"dataframe\">\n",
       "  <thead>\n",
       "    <tr style=\"text-align: right;\">\n",
       "      <th></th>\n",
       "      <th>customer_Id</th>\n",
       "      <th>DOB</th>\n",
       "      <th>Gender</th>\n",
       "      <th>city_code</th>\n",
       "      <th>transaction_id</th>\n",
       "      <th>tran_date</th>\n",
       "      <th>prod_subcat_code</th>\n",
       "      <th>prod_cat_code</th>\n",
       "      <th>Qty</th>\n",
       "      <th>Rate</th>\n",
       "      <th>Tax</th>\n",
       "      <th>total_amt</th>\n",
       "      <th>Store_type</th>\n",
       "      <th>prod_cat</th>\n",
       "      <th>prod_subcat</th>\n",
       "    </tr>\n",
       "  </thead>\n",
       "  <tbody>\n",
       "    <tr>\n",
       "      <th>0</th>\n",
       "      <td>268408</td>\n",
       "      <td>1970-02-01</td>\n",
       "      <td>M</td>\n",
       "      <td>4.0</td>\n",
       "      <td>8.724384e+10</td>\n",
       "      <td>2014-01-13</td>\n",
       "      <td>7.0</td>\n",
       "      <td>5.0</td>\n",
       "      <td>5.0</td>\n",
       "      <td>187.0</td>\n",
       "      <td>98.175</td>\n",
       "      <td>1033.175</td>\n",
       "      <td>TeleShop</td>\n",
       "      <td>Books</td>\n",
       "      <td>Fiction</td>\n",
       "    </tr>\n",
       "    <tr>\n",
       "      <th>1</th>\n",
       "      <td>275152</td>\n",
       "      <td>1970-01-16</td>\n",
       "      <td>M</td>\n",
       "      <td>4.0</td>\n",
       "      <td>7.310943e+10</td>\n",
       "      <td>2011-03-25</td>\n",
       "      <td>7.0</td>\n",
       "      <td>5.0</td>\n",
       "      <td>2.0</td>\n",
       "      <td>464.0</td>\n",
       "      <td>97.440</td>\n",
       "      <td>1025.440</td>\n",
       "      <td>e-Shop</td>\n",
       "      <td>Books</td>\n",
       "      <td>Fiction</td>\n",
       "    </tr>\n",
       "  </tbody>\n",
       "</table>\n",
       "</div>"
      ],
      "text/plain": [
       "   customer_Id        DOB Gender  city_code  transaction_id  tran_date  \\\n",
       "0       268408 1970-02-01      M        4.0    8.724384e+10 2014-01-13   \n",
       "1       275152 1970-01-16      M        4.0    7.310943e+10 2011-03-25   \n",
       "\n",
       "   prod_subcat_code  prod_cat_code  Qty   Rate     Tax  total_amt Store_type  \\\n",
       "0               7.0            5.0  5.0  187.0  98.175   1033.175   TeleShop   \n",
       "1               7.0            5.0  2.0  464.0  97.440   1025.440     e-Shop   \n",
       "\n",
       "  prod_cat prod_subcat  \n",
       "0    Books     Fiction  \n",
       "1    Books     Fiction  "
      ]
     },
     "execution_count": 997,
     "metadata": {},
     "output_type": "execute_result"
    }
   ],
   "source": [
    "posi_tran.head(2)"
   ]
  },
  {
   "cell_type": "code",
   "execution_count": 998,
   "id": "25ecab6a",
   "metadata": {},
   "outputs": [],
   "source": [
    "tran_uni=posi_tran.groupby(['customer_Id','prod_cat','prod_subcat'])[['transaction_id']].count().reset_index()"
   ]
  },
  {
   "cell_type": "code",
   "execution_count": 999,
   "id": "195d40d7",
   "metadata": {},
   "outputs": [],
   "source": [
    "tran_uni_count=tran_uni.groupby('customer_Id')['transaction_id'].count().reset_index()"
   ]
  },
  {
   "cell_type": "code",
   "execution_count": 1000,
   "id": "848ad514",
   "metadata": {},
   "outputs": [
    {
     "data": {
      "text/html": [
       "<div>\n",
       "<style scoped>\n",
       "    .dataframe tbody tr th:only-of-type {\n",
       "        vertical-align: middle;\n",
       "    }\n",
       "\n",
       "    .dataframe tbody tr th {\n",
       "        vertical-align: top;\n",
       "    }\n",
       "\n",
       "    .dataframe thead th {\n",
       "        text-align: right;\n",
       "    }\n",
       "</style>\n",
       "<table border=\"1\" class=\"dataframe\">\n",
       "  <thead>\n",
       "    <tr style=\"text-align: right;\">\n",
       "      <th></th>\n",
       "      <th>customer_Id</th>\n",
       "      <th>transaction_id</th>\n",
       "    </tr>\n",
       "  </thead>\n",
       "  <tbody>\n",
       "  </tbody>\n",
       "</table>\n",
       "</div>"
      ],
      "text/plain": [
       "Empty DataFrame\n",
       "Columns: [customer_Id, transaction_id]\n",
       "Index: []"
      ]
     },
     "execution_count": 1000,
     "metadata": {},
     "output_type": "execute_result"
    }
   ],
   "source": [
    "tran_uni_count[tran_uni_count['transaction_id'] > 10]"
   ]
  },
  {
   "cell_type": "code",
   "execution_count": 1001,
   "id": "7975e004",
   "metadata": {},
   "outputs": [
    {
     "data": {
      "text/html": [
       "<div>\n",
       "<style scoped>\n",
       "    .dataframe tbody tr th:only-of-type {\n",
       "        vertical-align: middle;\n",
       "    }\n",
       "\n",
       "    .dataframe tbody tr th {\n",
       "        vertical-align: top;\n",
       "    }\n",
       "\n",
       "    .dataframe thead th {\n",
       "        text-align: right;\n",
       "    }\n",
       "</style>\n",
       "<table border=\"1\" class=\"dataframe\">\n",
       "  <thead>\n",
       "    <tr style=\"text-align: right;\">\n",
       "      <th></th>\n",
       "      <th>customer_Id</th>\n",
       "      <th>DOB</th>\n",
       "      <th>Gender</th>\n",
       "      <th>city_code</th>\n",
       "      <th>transaction_id</th>\n",
       "      <th>tran_date</th>\n",
       "      <th>prod_subcat_code</th>\n",
       "      <th>prod_cat_code</th>\n",
       "      <th>Qty</th>\n",
       "      <th>Rate</th>\n",
       "      <th>Tax</th>\n",
       "      <th>total_amt</th>\n",
       "      <th>Store_type</th>\n",
       "      <th>prod_cat</th>\n",
       "      <th>prod_subcat</th>\n",
       "    </tr>\n",
       "  </thead>\n",
       "  <tbody>\n",
       "    <tr>\n",
       "      <th>0</th>\n",
       "      <td>268408</td>\n",
       "      <td>1970-02-01</td>\n",
       "      <td>M</td>\n",
       "      <td>4.0</td>\n",
       "      <td>8.724384e+10</td>\n",
       "      <td>2014-01-13</td>\n",
       "      <td>7.0</td>\n",
       "      <td>5.0</td>\n",
       "      <td>5.0</td>\n",
       "      <td>187.0</td>\n",
       "      <td>98.175</td>\n",
       "      <td>1033.175</td>\n",
       "      <td>TeleShop</td>\n",
       "      <td>Books</td>\n",
       "      <td>Fiction</td>\n",
       "    </tr>\n",
       "    <tr>\n",
       "      <th>1</th>\n",
       "      <td>275152</td>\n",
       "      <td>1970-01-16</td>\n",
       "      <td>M</td>\n",
       "      <td>4.0</td>\n",
       "      <td>7.310943e+10</td>\n",
       "      <td>2011-03-25</td>\n",
       "      <td>7.0</td>\n",
       "      <td>5.0</td>\n",
       "      <td>2.0</td>\n",
       "      <td>464.0</td>\n",
       "      <td>97.440</td>\n",
       "      <td>1025.440</td>\n",
       "      <td>e-Shop</td>\n",
       "      <td>Books</td>\n",
       "      <td>Fiction</td>\n",
       "    </tr>\n",
       "    <tr>\n",
       "      <th>2</th>\n",
       "      <td>275034</td>\n",
       "      <td>1970-01-18</td>\n",
       "      <td>F</td>\n",
       "      <td>4.0</td>\n",
       "      <td>6.477727e+10</td>\n",
       "      <td>2011-05-23</td>\n",
       "      <td>7.0</td>\n",
       "      <td>5.0</td>\n",
       "      <td>2.0</td>\n",
       "      <td>197.0</td>\n",
       "      <td>41.370</td>\n",
       "      <td>435.370</td>\n",
       "      <td>Flagship store</td>\n",
       "      <td>Books</td>\n",
       "      <td>Fiction</td>\n",
       "    </tr>\n",
       "    <tr>\n",
       "      <th>3</th>\n",
       "      <td>270829</td>\n",
       "      <td>1970-01-22</td>\n",
       "      <td>F</td>\n",
       "      <td>8.0</td>\n",
       "      <td>8.717434e+10</td>\n",
       "      <td>2013-09-12</td>\n",
       "      <td>7.0</td>\n",
       "      <td>5.0</td>\n",
       "      <td>4.0</td>\n",
       "      <td>1141.0</td>\n",
       "      <td>479.220</td>\n",
       "      <td>5043.220</td>\n",
       "      <td>e-Shop</td>\n",
       "      <td>Books</td>\n",
       "      <td>Fiction</td>\n",
       "    </tr>\n",
       "    <tr>\n",
       "      <th>4</th>\n",
       "      <td>267657</td>\n",
       "      <td>1970-01-29</td>\n",
       "      <td>F</td>\n",
       "      <td>7.0</td>\n",
       "      <td>7.624274e+10</td>\n",
       "      <td>2013-05-23</td>\n",
       "      <td>7.0</td>\n",
       "      <td>5.0</td>\n",
       "      <td>4.0</td>\n",
       "      <td>1020.0</td>\n",
       "      <td>428.400</td>\n",
       "      <td>4508.400</td>\n",
       "      <td>e-Shop</td>\n",
       "      <td>Books</td>\n",
       "      <td>Fiction</td>\n",
       "    </tr>\n",
       "    <tr>\n",
       "      <th>...</th>\n",
       "      <td>...</td>\n",
       "      <td>...</td>\n",
       "      <td>...</td>\n",
       "      <td>...</td>\n",
       "      <td>...</td>\n",
       "      <td>...</td>\n",
       "      <td>...</td>\n",
       "      <td>...</td>\n",
       "      <td>...</td>\n",
       "      <td>...</td>\n",
       "      <td>...</td>\n",
       "      <td>...</td>\n",
       "      <td>...</td>\n",
       "      <td>...</td>\n",
       "      <td>...</td>\n",
       "    </tr>\n",
       "    <tr>\n",
       "      <th>23048</th>\n",
       "      <td>267812</td>\n",
       "      <td>1992-04-12</td>\n",
       "      <td>F</td>\n",
       "      <td>1.0</td>\n",
       "      <td>6.354038e+10</td>\n",
       "      <td>2012-10-10</td>\n",
       "      <td>10.0</td>\n",
       "      <td>5.0</td>\n",
       "      <td>3.0</td>\n",
       "      <td>224.0</td>\n",
       "      <td>70.560</td>\n",
       "      <td>742.560</td>\n",
       "      <td>TeleShop</td>\n",
       "      <td>Books</td>\n",
       "      <td>Non-Fiction</td>\n",
       "    </tr>\n",
       "    <tr>\n",
       "      <th>23049</th>\n",
       "      <td>274618</td>\n",
       "      <td>1992-09-12</td>\n",
       "      <td>F</td>\n",
       "      <td>7.0</td>\n",
       "      <td>7.179320e+10</td>\n",
       "      <td>2013-08-17</td>\n",
       "      <td>10.0</td>\n",
       "      <td>5.0</td>\n",
       "      <td>4.0</td>\n",
       "      <td>691.0</td>\n",
       "      <td>290.220</td>\n",
       "      <td>3054.220</td>\n",
       "      <td>Flagship store</td>\n",
       "      <td>Books</td>\n",
       "      <td>Non-Fiction</td>\n",
       "    </tr>\n",
       "    <tr>\n",
       "      <th>23050</th>\n",
       "      <td>268097</td>\n",
       "      <td>1992-12-15</td>\n",
       "      <td>F</td>\n",
       "      <td>7.0</td>\n",
       "      <td>9.121711e+10</td>\n",
       "      <td>2012-01-02</td>\n",
       "      <td>10.0</td>\n",
       "      <td>5.0</td>\n",
       "      <td>2.0</td>\n",
       "      <td>411.0</td>\n",
       "      <td>86.310</td>\n",
       "      <td>908.310</td>\n",
       "      <td>e-Shop</td>\n",
       "      <td>Books</td>\n",
       "      <td>Non-Fiction</td>\n",
       "    </tr>\n",
       "    <tr>\n",
       "      <th>23051</th>\n",
       "      <td>268097</td>\n",
       "      <td>1992-12-15</td>\n",
       "      <td>F</td>\n",
       "      <td>7.0</td>\n",
       "      <td>9.011448e+10</td>\n",
       "      <td>2011-01-31</td>\n",
       "      <td>10.0</td>\n",
       "      <td>5.0</td>\n",
       "      <td>-4.0</td>\n",
       "      <td>-1408.0</td>\n",
       "      <td>591.360</td>\n",
       "      <td>-6223.360</td>\n",
       "      <td>e-Shop</td>\n",
       "      <td>Books</td>\n",
       "      <td>Non-Fiction</td>\n",
       "    </tr>\n",
       "    <tr>\n",
       "      <th>23052</th>\n",
       "      <td>268097</td>\n",
       "      <td>1992-12-15</td>\n",
       "      <td>F</td>\n",
       "      <td>7.0</td>\n",
       "      <td>9.011448e+10</td>\n",
       "      <td>2011-01-26</td>\n",
       "      <td>10.0</td>\n",
       "      <td>5.0</td>\n",
       "      <td>4.0</td>\n",
       "      <td>1408.0</td>\n",
       "      <td>591.360</td>\n",
       "      <td>6223.360</td>\n",
       "      <td>e-Shop</td>\n",
       "      <td>Books</td>\n",
       "      <td>Non-Fiction</td>\n",
       "    </tr>\n",
       "  </tbody>\n",
       "</table>\n",
       "<p>23040 rows × 15 columns</p>\n",
       "</div>"
      ],
      "text/plain": [
       "       customer_Id        DOB Gender  city_code  transaction_id  tran_date  \\\n",
       "0           268408 1970-02-01      M        4.0    8.724384e+10 2014-01-13   \n",
       "1           275152 1970-01-16      M        4.0    7.310943e+10 2011-03-25   \n",
       "2           275034 1970-01-18      F        4.0    6.477727e+10 2011-05-23   \n",
       "3           270829 1970-01-22      F        8.0    8.717434e+10 2013-09-12   \n",
       "4           267657 1970-01-29      F        7.0    7.624274e+10 2013-05-23   \n",
       "...            ...        ...    ...        ...             ...        ...   \n",
       "23048       267812 1992-04-12      F        1.0    6.354038e+10 2012-10-10   \n",
       "23049       274618 1992-09-12      F        7.0    7.179320e+10 2013-08-17   \n",
       "23050       268097 1992-12-15      F        7.0    9.121711e+10 2012-01-02   \n",
       "23051       268097 1992-12-15      F        7.0    9.011448e+10 2011-01-31   \n",
       "23052       268097 1992-12-15      F        7.0    9.011448e+10 2011-01-26   \n",
       "\n",
       "       prod_subcat_code  prod_cat_code  Qty    Rate      Tax  total_amt  \\\n",
       "0                   7.0            5.0  5.0   187.0   98.175   1033.175   \n",
       "1                   7.0            5.0  2.0   464.0   97.440   1025.440   \n",
       "2                   7.0            5.0  2.0   197.0   41.370    435.370   \n",
       "3                   7.0            5.0  4.0  1141.0  479.220   5043.220   \n",
       "4                   7.0            5.0  4.0  1020.0  428.400   4508.400   \n",
       "...                 ...            ...  ...     ...      ...        ...   \n",
       "23048              10.0            5.0  3.0   224.0   70.560    742.560   \n",
       "23049              10.0            5.0  4.0   691.0  290.220   3054.220   \n",
       "23050              10.0            5.0  2.0   411.0   86.310    908.310   \n",
       "23051              10.0            5.0 -4.0 -1408.0  591.360  -6223.360   \n",
       "23052              10.0            5.0  4.0  1408.0  591.360   6223.360   \n",
       "\n",
       "           Store_type prod_cat  prod_subcat  \n",
       "0            TeleShop    Books      Fiction  \n",
       "1              e-Shop    Books      Fiction  \n",
       "2      Flagship store    Books      Fiction  \n",
       "3              e-Shop    Books      Fiction  \n",
       "4              e-Shop    Books      Fiction  \n",
       "...               ...      ...          ...  \n",
       "23048        TeleShop    Books  Non-Fiction  \n",
       "23049  Flagship store    Books  Non-Fiction  \n",
       "23050          e-Shop    Books  Non-Fiction  \n",
       "23051          e-Shop    Books  Non-Fiction  \n",
       "23052          e-Shop    Books  Non-Fiction  \n",
       "\n",
       "[23040 rows x 15 columns]"
      ]
     },
     "execution_count": 1001,
     "metadata": {},
     "output_type": "execute_result"
    }
   ],
   "source": [
    "Customer_Final"
   ]
  },
  {
   "cell_type": "markdown",
   "id": "df575c4a",
   "metadata": {},
   "source": [
    "# 11. For all customers aged between 25 - 35, find out:\n",
    "\n"
   ]
  },
  {
   "cell_type": "code",
   "execution_count": 1002,
   "id": "8b580e9d",
   "metadata": {},
   "outputs": [],
   "source": [
    "Customer_Final['Year']=pd.DatetimeIndex(Customer_Final['DOB']).year"
   ]
  },
  {
   "cell_type": "code",
   "execution_count": 1003,
   "id": "96132c51",
   "metadata": {},
   "outputs": [
    {
     "data": {
      "text/plain": [
       "2022"
      ]
     },
     "execution_count": 1003,
     "metadata": {},
     "output_type": "execute_result"
    }
   ],
   "source": [
    "C_Y=td.date.today().year\n",
    "C_Y"
   ]
  },
  {
   "cell_type": "code",
   "execution_count": 1004,
   "id": "6a77dffc",
   "metadata": {},
   "outputs": [],
   "source": [
    "Customer_Final['Age']=C_Y-Customer_Final.Year"
   ]
  },
  {
   "cell_type": "code",
   "execution_count": 1005,
   "id": "8d8072f0",
   "metadata": {},
   "outputs": [],
   "source": [
    "Customer_Final11=Customer_Final.loc[25<Customer_Final['Age']]\n",
    "Customer_Final11=Customer_Final11.loc[Customer_Final['Age']>35]"
   ]
  },
  {
   "cell_type": "code",
   "execution_count": 1006,
   "id": "680f82b0",
   "metadata": {},
   "outputs": [
    {
     "data": {
      "text/html": [
       "<div>\n",
       "<style scoped>\n",
       "    .dataframe tbody tr th:only-of-type {\n",
       "        vertical-align: middle;\n",
       "    }\n",
       "\n",
       "    .dataframe tbody tr th {\n",
       "        vertical-align: top;\n",
       "    }\n",
       "\n",
       "    .dataframe thead th {\n",
       "        text-align: right;\n",
       "    }\n",
       "</style>\n",
       "<table border=\"1\" class=\"dataframe\">\n",
       "  <thead>\n",
       "    <tr style=\"text-align: right;\">\n",
       "      <th></th>\n",
       "      <th>customer_Id</th>\n",
       "      <th>DOB</th>\n",
       "      <th>Gender</th>\n",
       "      <th>city_code</th>\n",
       "      <th>transaction_id</th>\n",
       "      <th>tran_date</th>\n",
       "      <th>prod_subcat_code</th>\n",
       "      <th>prod_cat_code</th>\n",
       "      <th>Qty</th>\n",
       "      <th>Rate</th>\n",
       "      <th>Tax</th>\n",
       "      <th>total_amt</th>\n",
       "      <th>Store_type</th>\n",
       "      <th>prod_cat</th>\n",
       "      <th>prod_subcat</th>\n",
       "      <th>Year</th>\n",
       "      <th>Age</th>\n",
       "    </tr>\n",
       "  </thead>\n",
       "  <tbody>\n",
       "    <tr>\n",
       "      <th>0</th>\n",
       "      <td>268408</td>\n",
       "      <td>1970-02-01</td>\n",
       "      <td>M</td>\n",
       "      <td>4.0</td>\n",
       "      <td>8.724384e+10</td>\n",
       "      <td>2014-01-13</td>\n",
       "      <td>7.0</td>\n",
       "      <td>5.0</td>\n",
       "      <td>5.0</td>\n",
       "      <td>187.0</td>\n",
       "      <td>98.175</td>\n",
       "      <td>1033.175</td>\n",
       "      <td>TeleShop</td>\n",
       "      <td>Books</td>\n",
       "      <td>Fiction</td>\n",
       "      <td>1970</td>\n",
       "      <td>52</td>\n",
       "    </tr>\n",
       "    <tr>\n",
       "      <th>1</th>\n",
       "      <td>275152</td>\n",
       "      <td>1970-01-16</td>\n",
       "      <td>M</td>\n",
       "      <td>4.0</td>\n",
       "      <td>7.310943e+10</td>\n",
       "      <td>2011-03-25</td>\n",
       "      <td>7.0</td>\n",
       "      <td>5.0</td>\n",
       "      <td>2.0</td>\n",
       "      <td>464.0</td>\n",
       "      <td>97.440</td>\n",
       "      <td>1025.440</td>\n",
       "      <td>e-Shop</td>\n",
       "      <td>Books</td>\n",
       "      <td>Fiction</td>\n",
       "      <td>1970</td>\n",
       "      <td>52</td>\n",
       "    </tr>\n",
       "    <tr>\n",
       "      <th>2</th>\n",
       "      <td>275034</td>\n",
       "      <td>1970-01-18</td>\n",
       "      <td>F</td>\n",
       "      <td>4.0</td>\n",
       "      <td>6.477727e+10</td>\n",
       "      <td>2011-05-23</td>\n",
       "      <td>7.0</td>\n",
       "      <td>5.0</td>\n",
       "      <td>2.0</td>\n",
       "      <td>197.0</td>\n",
       "      <td>41.370</td>\n",
       "      <td>435.370</td>\n",
       "      <td>Flagship store</td>\n",
       "      <td>Books</td>\n",
       "      <td>Fiction</td>\n",
       "      <td>1970</td>\n",
       "      <td>52</td>\n",
       "    </tr>\n",
       "    <tr>\n",
       "      <th>3</th>\n",
       "      <td>270829</td>\n",
       "      <td>1970-01-22</td>\n",
       "      <td>F</td>\n",
       "      <td>8.0</td>\n",
       "      <td>8.717434e+10</td>\n",
       "      <td>2013-09-12</td>\n",
       "      <td>7.0</td>\n",
       "      <td>5.0</td>\n",
       "      <td>4.0</td>\n",
       "      <td>1141.0</td>\n",
       "      <td>479.220</td>\n",
       "      <td>5043.220</td>\n",
       "      <td>e-Shop</td>\n",
       "      <td>Books</td>\n",
       "      <td>Fiction</td>\n",
       "      <td>1970</td>\n",
       "      <td>52</td>\n",
       "    </tr>\n",
       "    <tr>\n",
       "      <th>4</th>\n",
       "      <td>267657</td>\n",
       "      <td>1970-01-29</td>\n",
       "      <td>F</td>\n",
       "      <td>7.0</td>\n",
       "      <td>7.624274e+10</td>\n",
       "      <td>2013-05-23</td>\n",
       "      <td>7.0</td>\n",
       "      <td>5.0</td>\n",
       "      <td>4.0</td>\n",
       "      <td>1020.0</td>\n",
       "      <td>428.400</td>\n",
       "      <td>4508.400</td>\n",
       "      <td>e-Shop</td>\n",
       "      <td>Books</td>\n",
       "      <td>Fiction</td>\n",
       "      <td>1970</td>\n",
       "      <td>52</td>\n",
       "    </tr>\n",
       "  </tbody>\n",
       "</table>\n",
       "</div>"
      ],
      "text/plain": [
       "   customer_Id        DOB Gender  city_code  transaction_id  tran_date  \\\n",
       "0       268408 1970-02-01      M        4.0    8.724384e+10 2014-01-13   \n",
       "1       275152 1970-01-16      M        4.0    7.310943e+10 2011-03-25   \n",
       "2       275034 1970-01-18      F        4.0    6.477727e+10 2011-05-23   \n",
       "3       270829 1970-01-22      F        8.0    8.717434e+10 2013-09-12   \n",
       "4       267657 1970-01-29      F        7.0    7.624274e+10 2013-05-23   \n",
       "\n",
       "   prod_subcat_code  prod_cat_code  Qty    Rate      Tax  total_amt  \\\n",
       "0               7.0            5.0  5.0   187.0   98.175   1033.175   \n",
       "1               7.0            5.0  2.0   464.0   97.440   1025.440   \n",
       "2               7.0            5.0  2.0   197.0   41.370    435.370   \n",
       "3               7.0            5.0  4.0  1141.0  479.220   5043.220   \n",
       "4               7.0            5.0  4.0  1020.0  428.400   4508.400   \n",
       "\n",
       "       Store_type prod_cat prod_subcat  Year  Age  \n",
       "0        TeleShop    Books     Fiction  1970   52  \n",
       "1          e-Shop    Books     Fiction  1970   52  \n",
       "2  Flagship store    Books     Fiction  1970   52  \n",
       "3          e-Shop    Books     Fiction  1970   52  \n",
       "4          e-Shop    Books     Fiction  1970   52  "
      ]
     },
     "execution_count": 1006,
     "metadata": {},
     "output_type": "execute_result"
    }
   ],
   "source": [
    "Customer_Final11.head(5)"
   ]
  },
  {
   "cell_type": "markdown",
   "id": "6d6c5342",
   "metadata": {},
   "source": [
    "# a. What was the total amount spent for “Electronics” and “Books” product categories?"
   ]
  },
  {
   "cell_type": "code",
   "execution_count": 1007,
   "id": "561030ec",
   "metadata": {},
   "outputs": [
    {
     "data": {
      "text/html": [
       "<div>\n",
       "<style scoped>\n",
       "    .dataframe tbody tr th:only-of-type {\n",
       "        vertical-align: middle;\n",
       "    }\n",
       "\n",
       "    .dataframe tbody tr th {\n",
       "        vertical-align: top;\n",
       "    }\n",
       "\n",
       "    .dataframe thead th {\n",
       "        text-align: right;\n",
       "    }\n",
       "</style>\n",
       "<table border=\"1\" class=\"dataframe\">\n",
       "  <thead>\n",
       "    <tr style=\"text-align: right;\">\n",
       "      <th></th>\n",
       "      <th>total_amt</th>\n",
       "    </tr>\n",
       "    <tr>\n",
       "      <th>prod_cat</th>\n",
       "      <th></th>\n",
       "    </tr>\n",
       "  </thead>\n",
       "  <tbody>\n",
       "    <tr>\n",
       "      <th>Bags</th>\n",
       "      <td>3074490.120</td>\n",
       "    </tr>\n",
       "    <tr>\n",
       "      <th>Books</th>\n",
       "      <td>9658509.965</td>\n",
       "    </tr>\n",
       "    <tr>\n",
       "      <th>Clothing</th>\n",
       "      <td>4436005.925</td>\n",
       "    </tr>\n",
       "    <tr>\n",
       "      <th>Electronics</th>\n",
       "      <td>7846329.855</td>\n",
       "    </tr>\n",
       "    <tr>\n",
       "      <th>Footwear</th>\n",
       "      <td>4491147.635</td>\n",
       "    </tr>\n",
       "    <tr>\n",
       "      <th>Home and kitchen</th>\n",
       "      <td>6144496.150</td>\n",
       "    </tr>\n",
       "  </tbody>\n",
       "</table>\n",
       "</div>"
      ],
      "text/plain": [
       "                    total_amt\n",
       "prod_cat                     \n",
       "Bags              3074490.120\n",
       "Books             9658509.965\n",
       "Clothing          4436005.925\n",
       "Electronics       7846329.855\n",
       "Footwear          4491147.635\n",
       "Home and kitchen  6144496.150"
      ]
     },
     "execution_count": 1007,
     "metadata": {},
     "output_type": "execute_result"
    }
   ],
   "source": [
    "Cust_final_11a=Customer_Final11.groupby(['prod_cat'])[['total_amt']].sum()\n",
    "Cust_final_11a"
   ]
  },
  {
   "cell_type": "code",
   "execution_count": 1008,
   "id": "b9c1e068",
   "metadata": {},
   "outputs": [],
   "source": [
    "Ele_Boo=Cust_final_11a.sort_values(by='total_amt',ascending=False).head(2)"
   ]
  },
  {
   "cell_type": "code",
   "execution_count": 1009,
   "id": "c17d5753",
   "metadata": {},
   "outputs": [
    {
     "data": {
      "text/html": [
       "<div>\n",
       "<style scoped>\n",
       "    .dataframe tbody tr th:only-of-type {\n",
       "        vertical-align: middle;\n",
       "    }\n",
       "\n",
       "    .dataframe tbody tr th {\n",
       "        vertical-align: top;\n",
       "    }\n",
       "\n",
       "    .dataframe thead th {\n",
       "        text-align: right;\n",
       "    }\n",
       "</style>\n",
       "<table border=\"1\" class=\"dataframe\">\n",
       "  <thead>\n",
       "    <tr style=\"text-align: right;\">\n",
       "      <th></th>\n",
       "      <th>total_amt</th>\n",
       "    </tr>\n",
       "    <tr>\n",
       "      <th>prod_cat</th>\n",
       "      <th></th>\n",
       "    </tr>\n",
       "  </thead>\n",
       "  <tbody>\n",
       "    <tr>\n",
       "      <th>Books</th>\n",
       "      <td>9658509.965</td>\n",
       "    </tr>\n",
       "    <tr>\n",
       "      <th>Electronics</th>\n",
       "      <td>7846329.855</td>\n",
       "    </tr>\n",
       "  </tbody>\n",
       "</table>\n",
       "</div>"
      ],
      "text/plain": [
       "               total_amt\n",
       "prod_cat                \n",
       "Books        9658509.965\n",
       "Electronics  7846329.855"
      ]
     },
     "execution_count": 1009,
     "metadata": {},
     "output_type": "execute_result"
    }
   ],
   "source": [
    "Ele_Boo"
   ]
  },
  {
   "cell_type": "markdown",
   "id": "058a33b2",
   "metadata": {},
   "source": [
    "# b. What was the total amount spent by these customers between 1st Jan, 2014 to 1st Mar, 2014?"
   ]
  },
  {
   "cell_type": "code",
   "execution_count": 1010,
   "id": "5c854edd",
   "metadata": {},
   "outputs": [
    {
     "data": {
      "text/html": [
       "<div>\n",
       "<style scoped>\n",
       "    .dataframe tbody tr th:only-of-type {\n",
       "        vertical-align: middle;\n",
       "    }\n",
       "\n",
       "    .dataframe tbody tr th {\n",
       "        vertical-align: top;\n",
       "    }\n",
       "\n",
       "    .dataframe thead th {\n",
       "        text-align: right;\n",
       "    }\n",
       "</style>\n",
       "<table border=\"1\" class=\"dataframe\">\n",
       "  <thead>\n",
       "    <tr style=\"text-align: right;\">\n",
       "      <th></th>\n",
       "      <th>customer_Id</th>\n",
       "      <th>DOB</th>\n",
       "      <th>Gender</th>\n",
       "      <th>city_code</th>\n",
       "      <th>transaction_id</th>\n",
       "      <th>tran_date</th>\n",
       "      <th>prod_subcat_code</th>\n",
       "      <th>prod_cat_code</th>\n",
       "      <th>Qty</th>\n",
       "      <th>Rate</th>\n",
       "      <th>Tax</th>\n",
       "      <th>total_amt</th>\n",
       "      <th>Store_type</th>\n",
       "      <th>prod_cat</th>\n",
       "      <th>prod_subcat</th>\n",
       "      <th>Year</th>\n",
       "      <th>Age</th>\n",
       "    </tr>\n",
       "  </thead>\n",
       "  <tbody>\n",
       "    <tr>\n",
       "      <th>0</th>\n",
       "      <td>268408</td>\n",
       "      <td>1970-02-01</td>\n",
       "      <td>M</td>\n",
       "      <td>4.0</td>\n",
       "      <td>8.724384e+10</td>\n",
       "      <td>2014-01-13</td>\n",
       "      <td>7.0</td>\n",
       "      <td>5.0</td>\n",
       "      <td>5.0</td>\n",
       "      <td>187.0</td>\n",
       "      <td>98.175</td>\n",
       "      <td>1033.175</td>\n",
       "      <td>TeleShop</td>\n",
       "      <td>Books</td>\n",
       "      <td>Fiction</td>\n",
       "      <td>1970</td>\n",
       "      <td>52</td>\n",
       "    </tr>\n",
       "    <tr>\n",
       "      <th>1</th>\n",
       "      <td>275152</td>\n",
       "      <td>1970-01-16</td>\n",
       "      <td>M</td>\n",
       "      <td>4.0</td>\n",
       "      <td>7.310943e+10</td>\n",
       "      <td>2011-03-25</td>\n",
       "      <td>7.0</td>\n",
       "      <td>5.0</td>\n",
       "      <td>2.0</td>\n",
       "      <td>464.0</td>\n",
       "      <td>97.440</td>\n",
       "      <td>1025.440</td>\n",
       "      <td>e-Shop</td>\n",
       "      <td>Books</td>\n",
       "      <td>Fiction</td>\n",
       "      <td>1970</td>\n",
       "      <td>52</td>\n",
       "    </tr>\n",
       "    <tr>\n",
       "      <th>2</th>\n",
       "      <td>275034</td>\n",
       "      <td>1970-01-18</td>\n",
       "      <td>F</td>\n",
       "      <td>4.0</td>\n",
       "      <td>6.477727e+10</td>\n",
       "      <td>2011-05-23</td>\n",
       "      <td>7.0</td>\n",
       "      <td>5.0</td>\n",
       "      <td>2.0</td>\n",
       "      <td>197.0</td>\n",
       "      <td>41.370</td>\n",
       "      <td>435.370</td>\n",
       "      <td>Flagship store</td>\n",
       "      <td>Books</td>\n",
       "      <td>Fiction</td>\n",
       "      <td>1970</td>\n",
       "      <td>52</td>\n",
       "    </tr>\n",
       "    <tr>\n",
       "      <th>3</th>\n",
       "      <td>270829</td>\n",
       "      <td>1970-01-22</td>\n",
       "      <td>F</td>\n",
       "      <td>8.0</td>\n",
       "      <td>8.717434e+10</td>\n",
       "      <td>2013-09-12</td>\n",
       "      <td>7.0</td>\n",
       "      <td>5.0</td>\n",
       "      <td>4.0</td>\n",
       "      <td>1141.0</td>\n",
       "      <td>479.220</td>\n",
       "      <td>5043.220</td>\n",
       "      <td>e-Shop</td>\n",
       "      <td>Books</td>\n",
       "      <td>Fiction</td>\n",
       "      <td>1970</td>\n",
       "      <td>52</td>\n",
       "    </tr>\n",
       "    <tr>\n",
       "      <th>4</th>\n",
       "      <td>267657</td>\n",
       "      <td>1970-01-29</td>\n",
       "      <td>F</td>\n",
       "      <td>7.0</td>\n",
       "      <td>7.624274e+10</td>\n",
       "      <td>2013-05-23</td>\n",
       "      <td>7.0</td>\n",
       "      <td>5.0</td>\n",
       "      <td>4.0</td>\n",
       "      <td>1020.0</td>\n",
       "      <td>428.400</td>\n",
       "      <td>4508.400</td>\n",
       "      <td>e-Shop</td>\n",
       "      <td>Books</td>\n",
       "      <td>Fiction</td>\n",
       "      <td>1970</td>\n",
       "      <td>52</td>\n",
       "    </tr>\n",
       "    <tr>\n",
       "      <th>...</th>\n",
       "      <td>...</td>\n",
       "      <td>...</td>\n",
       "      <td>...</td>\n",
       "      <td>...</td>\n",
       "      <td>...</td>\n",
       "      <td>...</td>\n",
       "      <td>...</td>\n",
       "      <td>...</td>\n",
       "      <td>...</td>\n",
       "      <td>...</td>\n",
       "      <td>...</td>\n",
       "      <td>...</td>\n",
       "      <td>...</td>\n",
       "      <td>...</td>\n",
       "      <td>...</td>\n",
       "      <td>...</td>\n",
       "      <td>...</td>\n",
       "    </tr>\n",
       "    <tr>\n",
       "      <th>23048</th>\n",
       "      <td>267812</td>\n",
       "      <td>1992-04-12</td>\n",
       "      <td>F</td>\n",
       "      <td>1.0</td>\n",
       "      <td>6.354038e+10</td>\n",
       "      <td>2012-10-10</td>\n",
       "      <td>10.0</td>\n",
       "      <td>5.0</td>\n",
       "      <td>3.0</td>\n",
       "      <td>224.0</td>\n",
       "      <td>70.560</td>\n",
       "      <td>742.560</td>\n",
       "      <td>TeleShop</td>\n",
       "      <td>Books</td>\n",
       "      <td>Non-Fiction</td>\n",
       "      <td>1992</td>\n",
       "      <td>30</td>\n",
       "    </tr>\n",
       "    <tr>\n",
       "      <th>23049</th>\n",
       "      <td>274618</td>\n",
       "      <td>1992-09-12</td>\n",
       "      <td>F</td>\n",
       "      <td>7.0</td>\n",
       "      <td>7.179320e+10</td>\n",
       "      <td>2013-08-17</td>\n",
       "      <td>10.0</td>\n",
       "      <td>5.0</td>\n",
       "      <td>4.0</td>\n",
       "      <td>691.0</td>\n",
       "      <td>290.220</td>\n",
       "      <td>3054.220</td>\n",
       "      <td>Flagship store</td>\n",
       "      <td>Books</td>\n",
       "      <td>Non-Fiction</td>\n",
       "      <td>1992</td>\n",
       "      <td>30</td>\n",
       "    </tr>\n",
       "    <tr>\n",
       "      <th>23050</th>\n",
       "      <td>268097</td>\n",
       "      <td>1992-12-15</td>\n",
       "      <td>F</td>\n",
       "      <td>7.0</td>\n",
       "      <td>9.121711e+10</td>\n",
       "      <td>2012-01-02</td>\n",
       "      <td>10.0</td>\n",
       "      <td>5.0</td>\n",
       "      <td>2.0</td>\n",
       "      <td>411.0</td>\n",
       "      <td>86.310</td>\n",
       "      <td>908.310</td>\n",
       "      <td>e-Shop</td>\n",
       "      <td>Books</td>\n",
       "      <td>Non-Fiction</td>\n",
       "      <td>1992</td>\n",
       "      <td>30</td>\n",
       "    </tr>\n",
       "    <tr>\n",
       "      <th>23051</th>\n",
       "      <td>268097</td>\n",
       "      <td>1992-12-15</td>\n",
       "      <td>F</td>\n",
       "      <td>7.0</td>\n",
       "      <td>9.011448e+10</td>\n",
       "      <td>2011-01-31</td>\n",
       "      <td>10.0</td>\n",
       "      <td>5.0</td>\n",
       "      <td>-4.0</td>\n",
       "      <td>-1408.0</td>\n",
       "      <td>591.360</td>\n",
       "      <td>-6223.360</td>\n",
       "      <td>e-Shop</td>\n",
       "      <td>Books</td>\n",
       "      <td>Non-Fiction</td>\n",
       "      <td>1992</td>\n",
       "      <td>30</td>\n",
       "    </tr>\n",
       "    <tr>\n",
       "      <th>23052</th>\n",
       "      <td>268097</td>\n",
       "      <td>1992-12-15</td>\n",
       "      <td>F</td>\n",
       "      <td>7.0</td>\n",
       "      <td>9.011448e+10</td>\n",
       "      <td>2011-01-26</td>\n",
       "      <td>10.0</td>\n",
       "      <td>5.0</td>\n",
       "      <td>4.0</td>\n",
       "      <td>1408.0</td>\n",
       "      <td>591.360</td>\n",
       "      <td>6223.360</td>\n",
       "      <td>e-Shop</td>\n",
       "      <td>Books</td>\n",
       "      <td>Non-Fiction</td>\n",
       "      <td>1992</td>\n",
       "      <td>30</td>\n",
       "    </tr>\n",
       "  </tbody>\n",
       "</table>\n",
       "<p>23040 rows × 17 columns</p>\n",
       "</div>"
      ],
      "text/plain": [
       "       customer_Id        DOB Gender  city_code  transaction_id  tran_date  \\\n",
       "0           268408 1970-02-01      M        4.0    8.724384e+10 2014-01-13   \n",
       "1           275152 1970-01-16      M        4.0    7.310943e+10 2011-03-25   \n",
       "2           275034 1970-01-18      F        4.0    6.477727e+10 2011-05-23   \n",
       "3           270829 1970-01-22      F        8.0    8.717434e+10 2013-09-12   \n",
       "4           267657 1970-01-29      F        7.0    7.624274e+10 2013-05-23   \n",
       "...            ...        ...    ...        ...             ...        ...   \n",
       "23048       267812 1992-04-12      F        1.0    6.354038e+10 2012-10-10   \n",
       "23049       274618 1992-09-12      F        7.0    7.179320e+10 2013-08-17   \n",
       "23050       268097 1992-12-15      F        7.0    9.121711e+10 2012-01-02   \n",
       "23051       268097 1992-12-15      F        7.0    9.011448e+10 2011-01-31   \n",
       "23052       268097 1992-12-15      F        7.0    9.011448e+10 2011-01-26   \n",
       "\n",
       "       prod_subcat_code  prod_cat_code  Qty    Rate      Tax  total_amt  \\\n",
       "0                   7.0            5.0  5.0   187.0   98.175   1033.175   \n",
       "1                   7.0            5.0  2.0   464.0   97.440   1025.440   \n",
       "2                   7.0            5.0  2.0   197.0   41.370    435.370   \n",
       "3                   7.0            5.0  4.0  1141.0  479.220   5043.220   \n",
       "4                   7.0            5.0  4.0  1020.0  428.400   4508.400   \n",
       "...                 ...            ...  ...     ...      ...        ...   \n",
       "23048              10.0            5.0  3.0   224.0   70.560    742.560   \n",
       "23049              10.0            5.0  4.0   691.0  290.220   3054.220   \n",
       "23050              10.0            5.0  2.0   411.0   86.310    908.310   \n",
       "23051              10.0            5.0 -4.0 -1408.0  591.360  -6223.360   \n",
       "23052              10.0            5.0  4.0  1408.0  591.360   6223.360   \n",
       "\n",
       "           Store_type prod_cat  prod_subcat  Year  Age  \n",
       "0            TeleShop    Books      Fiction  1970   52  \n",
       "1              e-Shop    Books      Fiction  1970   52  \n",
       "2      Flagship store    Books      Fiction  1970   52  \n",
       "3              e-Shop    Books      Fiction  1970   52  \n",
       "4              e-Shop    Books      Fiction  1970   52  \n",
       "...               ...      ...          ...   ...  ...  \n",
       "23048        TeleShop    Books  Non-Fiction  1992   30  \n",
       "23049  Flagship store    Books  Non-Fiction  1992   30  \n",
       "23050          e-Shop    Books  Non-Fiction  1992   30  \n",
       "23051          e-Shop    Books  Non-Fiction  1992   30  \n",
       "23052          e-Shop    Books  Non-Fiction  1992   30  \n",
       "\n",
       "[23040 rows x 17 columns]"
      ]
     },
     "execution_count": 1010,
     "metadata": {},
     "output_type": "execute_result"
    }
   ],
   "source": [
    "Customer_Final"
   ]
  },
  {
   "cell_type": "code",
   "execution_count": 1011,
   "id": "3df0a588",
   "metadata": {},
   "outputs": [],
   "source": [
    "total_amount=Customer_Final[(Customer_Final['tran_date'] >='2014-01-01')&(Customer_Final['tran_date'] >='2014-03-01')]"
   ]
  },
  {
   "cell_type": "code",
   "execution_count": 1012,
   "id": "040d4026",
   "metadata": {},
   "outputs": [
    {
     "data": {
      "text/plain": [
       "869370.905"
      ]
     },
     "execution_count": 1012,
     "metadata": {},
     "output_type": "execute_result"
    }
   ],
   "source": [
    "total_amount['total_amt'].sum()"
   ]
  },
  {
   "cell_type": "code",
   "execution_count": null,
   "id": "f1c6a2fd",
   "metadata": {},
   "outputs": [],
   "source": []
  }
 ],
 "metadata": {
  "kernelspec": {
   "display_name": "Python 3",
   "language": "python",
   "name": "python3"
  },
  "language_info": {
   "codemirror_mode": {
    "name": "ipython",
    "version": 3
   },
   "file_extension": ".py",
   "mimetype": "text/x-python",
   "name": "python",
   "nbconvert_exporter": "python",
   "pygments_lexer": "ipython3",
   "version": "3.8.8"
  }
 },
 "nbformat": 4,
 "nbformat_minor": 5
}
