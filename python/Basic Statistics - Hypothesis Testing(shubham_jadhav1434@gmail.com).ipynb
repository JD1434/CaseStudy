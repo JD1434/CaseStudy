{
 "cells": [
  {
   "cell_type": "markdown",
   "id": "4e8a187b",
   "metadata": {},
   "source": [
    "# BUSINESS PROBLEM - 1"
   ]
  },
  {
   "cell_type": "code",
   "execution_count": 1,
   "id": "a3b31014",
   "metadata": {
    "scrolled": true
   },
   "outputs": [],
   "source": [
    "import pandas as pd\n",
    "import numpy as np\n",
    "import math as m\n",
    "import seaborn as sns\n",
    "import matplotlib.pyplot as plt\n",
    "import matplotlib as mt\n",
    "import re\n",
    "import scipy\n",
    "import statistics\n",
    "import warnings\n",
    "import statsmodels\n",
    "from statsmodels.multivariate.manova import MANOVA\n"
   ]
  },
  {
   "cell_type": "code",
   "execution_count": 2,
   "id": "789a0a3c",
   "metadata": {
    "scrolled": true
   },
   "outputs": [
    {
     "data": {
      "text/html": [
       "<div>\n",
       "<style scoped>\n",
       "    .dataframe tbody tr th:only-of-type {\n",
       "        vertical-align: middle;\n",
       "    }\n",
       "\n",
       "    .dataframe tbody tr th {\n",
       "        vertical-align: top;\n",
       "    }\n",
       "\n",
       "    .dataframe thead th {\n",
       "        text-align: right;\n",
       "    }\n",
       "</style>\n",
       "<table border=\"1\" class=\"dataframe\">\n",
       "  <thead>\n",
       "    <tr style=\"text-align: right;\">\n",
       "      <th></th>\n",
       "      <th>Amount.Requested</th>\n",
       "      <th>Amount.Funded.By.Investors</th>\n",
       "      <th>Interest.Rate</th>\n",
       "      <th>Loan.Length</th>\n",
       "      <th>Loan.Purpose</th>\n",
       "      <th>Debt.To.Income.Ratio</th>\n",
       "      <th>State</th>\n",
       "      <th>Home.Ownership</th>\n",
       "      <th>Monthly.Income</th>\n",
       "      <th>FICO.Range</th>\n",
       "      <th>Open.CREDIT.Lines</th>\n",
       "      <th>Revolving.CREDIT.Balance</th>\n",
       "      <th>Inquiries.in.the.Last.6.Months</th>\n",
       "      <th>Employment.Length</th>\n",
       "    </tr>\n",
       "  </thead>\n",
       "  <tbody>\n",
       "    <tr>\n",
       "      <th>0</th>\n",
       "      <td>20000.0</td>\n",
       "      <td>20000.0</td>\n",
       "      <td>8.90%</td>\n",
       "      <td>36 months</td>\n",
       "      <td>debt_consolidation</td>\n",
       "      <td>14.90%</td>\n",
       "      <td>SC</td>\n",
       "      <td>MORTGAGE</td>\n",
       "      <td>6541.67</td>\n",
       "      <td>735-739</td>\n",
       "      <td>14.0</td>\n",
       "      <td>14272.0</td>\n",
       "      <td>2.0</td>\n",
       "      <td>&lt; 1 year</td>\n",
       "    </tr>\n",
       "    <tr>\n",
       "      <th>1</th>\n",
       "      <td>19200.0</td>\n",
       "      <td>19200.0</td>\n",
       "      <td>12.12%</td>\n",
       "      <td>36 months</td>\n",
       "      <td>debt_consolidation</td>\n",
       "      <td>28.36%</td>\n",
       "      <td>TX</td>\n",
       "      <td>MORTGAGE</td>\n",
       "      <td>4583.33</td>\n",
       "      <td>715-719</td>\n",
       "      <td>12.0</td>\n",
       "      <td>11140.0</td>\n",
       "      <td>1.0</td>\n",
       "      <td>2 years</td>\n",
       "    </tr>\n",
       "    <tr>\n",
       "      <th>2</th>\n",
       "      <td>35000.0</td>\n",
       "      <td>35000.0</td>\n",
       "      <td>21.98%</td>\n",
       "      <td>60 months</td>\n",
       "      <td>debt_consolidation</td>\n",
       "      <td>23.81%</td>\n",
       "      <td>CA</td>\n",
       "      <td>MORTGAGE</td>\n",
       "      <td>11500.00</td>\n",
       "      <td>690-694</td>\n",
       "      <td>14.0</td>\n",
       "      <td>21977.0</td>\n",
       "      <td>1.0</td>\n",
       "      <td>2 years</td>\n",
       "    </tr>\n",
       "    <tr>\n",
       "      <th>3</th>\n",
       "      <td>10000.0</td>\n",
       "      <td>9975.0</td>\n",
       "      <td>9.99%</td>\n",
       "      <td>36 months</td>\n",
       "      <td>debt_consolidation</td>\n",
       "      <td>14.30%</td>\n",
       "      <td>KS</td>\n",
       "      <td>MORTGAGE</td>\n",
       "      <td>3833.33</td>\n",
       "      <td>695-699</td>\n",
       "      <td>10.0</td>\n",
       "      <td>9346.0</td>\n",
       "      <td>0.0</td>\n",
       "      <td>5 years</td>\n",
       "    </tr>\n",
       "    <tr>\n",
       "      <th>4</th>\n",
       "      <td>12000.0</td>\n",
       "      <td>12000.0</td>\n",
       "      <td>11.71%</td>\n",
       "      <td>36 months</td>\n",
       "      <td>credit_card</td>\n",
       "      <td>18.78%</td>\n",
       "      <td>NJ</td>\n",
       "      <td>RENT</td>\n",
       "      <td>3195.00</td>\n",
       "      <td>695-699</td>\n",
       "      <td>11.0</td>\n",
       "      <td>14469.0</td>\n",
       "      <td>0.0</td>\n",
       "      <td>9 years</td>\n",
       "    </tr>\n",
       "  </tbody>\n",
       "</table>\n",
       "</div>"
      ],
      "text/plain": [
       "   Amount.Requested  Amount.Funded.By.Investors Interest.Rate Loan.Length  \\\n",
       "0           20000.0                     20000.0         8.90%   36 months   \n",
       "1           19200.0                     19200.0        12.12%   36 months   \n",
       "2           35000.0                     35000.0        21.98%   60 months   \n",
       "3           10000.0                      9975.0         9.99%   36 months   \n",
       "4           12000.0                     12000.0        11.71%   36 months   \n",
       "\n",
       "         Loan.Purpose Debt.To.Income.Ratio State Home.Ownership  \\\n",
       "0  debt_consolidation               14.90%    SC       MORTGAGE   \n",
       "1  debt_consolidation               28.36%    TX       MORTGAGE   \n",
       "2  debt_consolidation               23.81%    CA       MORTGAGE   \n",
       "3  debt_consolidation               14.30%    KS       MORTGAGE   \n",
       "4         credit_card               18.78%    NJ           RENT   \n",
       "\n",
       "   Monthly.Income FICO.Range  Open.CREDIT.Lines  Revolving.CREDIT.Balance  \\\n",
       "0         6541.67    735-739               14.0                   14272.0   \n",
       "1         4583.33    715-719               12.0                   11140.0   \n",
       "2        11500.00    690-694               14.0                   21977.0   \n",
       "3         3833.33    695-699               10.0                    9346.0   \n",
       "4         3195.00    695-699               11.0                   14469.0   \n",
       "\n",
       "   Inquiries.in.the.Last.6.Months Employment.Length  \n",
       "0                             2.0          < 1 year  \n",
       "1                             1.0           2 years  \n",
       "2                             1.0           2 years  \n",
       "3                             0.0           5 years  \n",
       "4                             0.0           9 years  "
      ]
     },
     "execution_count": 2,
     "metadata": {},
     "output_type": "execute_result"
    }
   ],
   "source": [
    "Loans=pd.read_csv(r'LoansData.csv',delimiter=',')\n",
    "LoansData=Loans.copy()\n",
    "LoansData.head()\n"
   ]
  },
  {
   "cell_type": "code",
   "execution_count": 3,
   "id": "c2d7e600",
   "metadata": {
    "scrolled": true
   },
   "outputs": [
    {
     "data": {
      "text/plain": [
       "(2500, 14)"
      ]
     },
     "execution_count": 3,
     "metadata": {},
     "output_type": "execute_result"
    }
   ],
   "source": [
    "LoansData.shape"
   ]
  },
  {
   "cell_type": "code",
   "execution_count": 4,
   "id": "58797508",
   "metadata": {
    "scrolled": true
   },
   "outputs": [
    {
     "data": {
      "text/plain": [
       "35000"
      ]
     },
     "execution_count": 4,
     "metadata": {},
     "output_type": "execute_result"
    }
   ],
   "source": [
    "LoansData.size"
   ]
  },
  {
   "cell_type": "code",
   "execution_count": 5,
   "id": "64a912a1",
   "metadata": {
    "scrolled": true
   },
   "outputs": [
    {
     "data": {
      "text/plain": [
       "Amount.Requested                  float64\n",
       "Amount.Funded.By.Investors        float64\n",
       "Interest.Rate                      object\n",
       "Loan.Length                        object\n",
       "Loan.Purpose                       object\n",
       "Debt.To.Income.Ratio               object\n",
       "State                              object\n",
       "Home.Ownership                     object\n",
       "Monthly.Income                    float64\n",
       "FICO.Range                         object\n",
       "Open.CREDIT.Lines                 float64\n",
       "Revolving.CREDIT.Balance          float64\n",
       "Inquiries.in.the.Last.6.Months    float64\n",
       "Employment.Length                  object\n",
       "dtype: object"
      ]
     },
     "execution_count": 5,
     "metadata": {},
     "output_type": "execute_result"
    }
   ],
   "source": [
    "LoansData.dtypes"
   ]
  },
  {
   "cell_type": "code",
   "execution_count": 6,
   "id": "9a28461d",
   "metadata": {
    "scrolled": true
   },
   "outputs": [
    {
     "data": {
      "text/html": [
       "<div>\n",
       "<style scoped>\n",
       "    .dataframe tbody tr th:only-of-type {\n",
       "        vertical-align: middle;\n",
       "    }\n",
       "\n",
       "    .dataframe tbody tr th {\n",
       "        vertical-align: top;\n",
       "    }\n",
       "\n",
       "    .dataframe thead th {\n",
       "        text-align: right;\n",
       "    }\n",
       "</style>\n",
       "<table border=\"1\" class=\"dataframe\">\n",
       "  <thead>\n",
       "    <tr style=\"text-align: right;\">\n",
       "      <th></th>\n",
       "      <th>Amount.Requested</th>\n",
       "      <th>Amount.Funded.By.Investors</th>\n",
       "      <th>Monthly.Income</th>\n",
       "      <th>Open.CREDIT.Lines</th>\n",
       "      <th>Revolving.CREDIT.Balance</th>\n",
       "      <th>Inquiries.in.the.Last.6.Months</th>\n",
       "    </tr>\n",
       "  </thead>\n",
       "  <tbody>\n",
       "    <tr>\n",
       "      <th>count</th>\n",
       "      <td>2499.000000</td>\n",
       "      <td>2499.000000</td>\n",
       "      <td>2499.000000</td>\n",
       "      <td>2497.000000</td>\n",
       "      <td>2497.000000</td>\n",
       "      <td>2497.000000</td>\n",
       "    </tr>\n",
       "    <tr>\n",
       "      <th>mean</th>\n",
       "      <td>12405.462185</td>\n",
       "      <td>12002.374186</td>\n",
       "      <td>5688.931321</td>\n",
       "      <td>10.072887</td>\n",
       "      <td>15223.184622</td>\n",
       "      <td>0.906688</td>\n",
       "    </tr>\n",
       "    <tr>\n",
       "      <th>std</th>\n",
       "      <td>7802.933666</td>\n",
       "      <td>7746.767348</td>\n",
       "      <td>3963.118185</td>\n",
       "      <td>4.507416</td>\n",
       "      <td>18281.015258</td>\n",
       "      <td>1.231149</td>\n",
       "    </tr>\n",
       "    <tr>\n",
       "      <th>min</th>\n",
       "      <td>1000.000000</td>\n",
       "      <td>-0.010000</td>\n",
       "      <td>588.500000</td>\n",
       "      <td>2.000000</td>\n",
       "      <td>0.000000</td>\n",
       "      <td>0.000000</td>\n",
       "    </tr>\n",
       "    <tr>\n",
       "      <th>25%</th>\n",
       "      <td>6000.000000</td>\n",
       "      <td>6000.000000</td>\n",
       "      <td>3500.000000</td>\n",
       "      <td>7.000000</td>\n",
       "      <td>5584.000000</td>\n",
       "      <td>0.000000</td>\n",
       "    </tr>\n",
       "    <tr>\n",
       "      <th>50%</th>\n",
       "      <td>10000.000000</td>\n",
       "      <td>10000.000000</td>\n",
       "      <td>5000.000000</td>\n",
       "      <td>9.000000</td>\n",
       "      <td>10948.000000</td>\n",
       "      <td>0.000000</td>\n",
       "    </tr>\n",
       "    <tr>\n",
       "      <th>75%</th>\n",
       "      <td>17000.000000</td>\n",
       "      <td>16000.000000</td>\n",
       "      <td>6800.000000</td>\n",
       "      <td>13.000000</td>\n",
       "      <td>18861.000000</td>\n",
       "      <td>1.000000</td>\n",
       "    </tr>\n",
       "    <tr>\n",
       "      <th>max</th>\n",
       "      <td>35000.000000</td>\n",
       "      <td>35000.000000</td>\n",
       "      <td>102750.000000</td>\n",
       "      <td>38.000000</td>\n",
       "      <td>270800.000000</td>\n",
       "      <td>9.000000</td>\n",
       "    </tr>\n",
       "  </tbody>\n",
       "</table>\n",
       "</div>"
      ],
      "text/plain": [
       "       Amount.Requested  Amount.Funded.By.Investors  Monthly.Income  \\\n",
       "count       2499.000000                 2499.000000     2499.000000   \n",
       "mean       12405.462185                12002.374186     5688.931321   \n",
       "std         7802.933666                 7746.767348     3963.118185   \n",
       "min         1000.000000                   -0.010000      588.500000   \n",
       "25%         6000.000000                 6000.000000     3500.000000   \n",
       "50%        10000.000000                10000.000000     5000.000000   \n",
       "75%        17000.000000                16000.000000     6800.000000   \n",
       "max        35000.000000                35000.000000   102750.000000   \n",
       "\n",
       "       Open.CREDIT.Lines  Revolving.CREDIT.Balance  \\\n",
       "count        2497.000000               2497.000000   \n",
       "mean           10.072887              15223.184622   \n",
       "std             4.507416              18281.015258   \n",
       "min             2.000000                  0.000000   \n",
       "25%             7.000000               5584.000000   \n",
       "50%             9.000000              10948.000000   \n",
       "75%            13.000000              18861.000000   \n",
       "max            38.000000             270800.000000   \n",
       "\n",
       "       Inquiries.in.the.Last.6.Months  \n",
       "count                     2497.000000  \n",
       "mean                         0.906688  \n",
       "std                          1.231149  \n",
       "min                          0.000000  \n",
       "25%                          0.000000  \n",
       "50%                          0.000000  \n",
       "75%                          1.000000  \n",
       "max                          9.000000  "
      ]
     },
     "execution_count": 6,
     "metadata": {},
     "output_type": "execute_result"
    }
   ],
   "source": [
    "LoansData.describe()"
   ]
  },
  {
   "cell_type": "code",
   "execution_count": 7,
   "id": "788410da",
   "metadata": {
    "scrolled": true
   },
   "outputs": [
    {
     "data": {
      "text/plain": [
       "Amount.Requested                   1\n",
       "Amount.Funded.By.Investors         1\n",
       "Interest.Rate                      2\n",
       "Loan.Length                        0\n",
       "Loan.Purpose                       0\n",
       "Debt.To.Income.Ratio               1\n",
       "State                              0\n",
       "Home.Ownership                     1\n",
       "Monthly.Income                     1\n",
       "FICO.Range                         2\n",
       "Open.CREDIT.Lines                  3\n",
       "Revolving.CREDIT.Balance           3\n",
       "Inquiries.in.the.Last.6.Months     3\n",
       "Employment.Length                 77\n",
       "dtype: int64"
      ]
     },
     "execution_count": 7,
     "metadata": {},
     "output_type": "execute_result"
    }
   ],
   "source": [
    "LoansData.isna().sum()"
   ]
  },
  {
   "cell_type": "code",
   "execution_count": 8,
   "id": "78372767",
   "metadata": {
    "scrolled": true
   },
   "outputs": [
    {
     "name": "stdout",
     "output_type": "stream",
     "text": [
      "<class 'pandas.core.frame.DataFrame'>\n",
      "RangeIndex: 2500 entries, 0 to 2499\n",
      "Data columns (total 14 columns):\n",
      " #   Column                          Non-Null Count  Dtype  \n",
      "---  ------                          --------------  -----  \n",
      " 0   Amount.Requested                2499 non-null   float64\n",
      " 1   Amount.Funded.By.Investors      2499 non-null   float64\n",
      " 2   Interest.Rate                   2498 non-null   object \n",
      " 3   Loan.Length                     2500 non-null   object \n",
      " 4   Loan.Purpose                    2500 non-null   object \n",
      " 5   Debt.To.Income.Ratio            2499 non-null   object \n",
      " 6   State                           2500 non-null   object \n",
      " 7   Home.Ownership                  2499 non-null   object \n",
      " 8   Monthly.Income                  2499 non-null   float64\n",
      " 9   FICO.Range                      2498 non-null   object \n",
      " 10  Open.CREDIT.Lines               2497 non-null   float64\n",
      " 11  Revolving.CREDIT.Balance        2497 non-null   float64\n",
      " 12  Inquiries.in.the.Last.6.Months  2497 non-null   float64\n",
      " 13  Employment.Length               2423 non-null   object \n",
      "dtypes: float64(6), object(8)\n",
      "memory usage: 273.6+ KB\n"
     ]
    }
   ],
   "source": [
    "LoansData.info()"
   ]
  },
  {
   "cell_type": "code",
   "execution_count": 9,
   "id": "0e590418",
   "metadata": {
    "scrolled": true
   },
   "outputs": [
    {
     "data": {
      "text/html": [
       "<div>\n",
       "<style scoped>\n",
       "    .dataframe tbody tr th:only-of-type {\n",
       "        vertical-align: middle;\n",
       "    }\n",
       "\n",
       "    .dataframe tbody tr th {\n",
       "        vertical-align: top;\n",
       "    }\n",
       "\n",
       "    .dataframe thead th {\n",
       "        text-align: right;\n",
       "    }\n",
       "</style>\n",
       "<table border=\"1\" class=\"dataframe\">\n",
       "  <thead>\n",
       "    <tr style=\"text-align: right;\">\n",
       "      <th></th>\n",
       "      <th>Amount.Requested</th>\n",
       "      <th>Amount.Funded.By.Investors</th>\n",
       "      <th>Interest.Rate</th>\n",
       "      <th>Loan.Length</th>\n",
       "      <th>Loan.Purpose</th>\n",
       "      <th>Debt.To.Income.Ratio</th>\n",
       "      <th>State</th>\n",
       "      <th>Home.Ownership</th>\n",
       "      <th>Monthly.Income</th>\n",
       "      <th>FICO.Range</th>\n",
       "      <th>Open.CREDIT.Lines</th>\n",
       "      <th>Revolving.CREDIT.Balance</th>\n",
       "      <th>Inquiries.in.the.Last.6.Months</th>\n",
       "      <th>Employment.Length</th>\n",
       "    </tr>\n",
       "  </thead>\n",
       "  <tbody>\n",
       "  </tbody>\n",
       "</table>\n",
       "</div>"
      ],
      "text/plain": [
       "Empty DataFrame\n",
       "Columns: [Amount.Requested, Amount.Funded.By.Investors, Interest.Rate, Loan.Length, Loan.Purpose, Debt.To.Income.Ratio, State, Home.Ownership, Monthly.Income, FICO.Range, Open.CREDIT.Lines, Revolving.CREDIT.Balance, Inquiries.in.the.Last.6.Months, Employment.Length]\n",
       "Index: []"
      ]
     },
     "execution_count": 9,
     "metadata": {},
     "output_type": "execute_result"
    }
   ],
   "source": [
    "LoansData[LoansData.duplicated()]"
   ]
  },
  {
   "cell_type": "code",
   "execution_count": 10,
   "id": "18afd069",
   "metadata": {
    "scrolled": true
   },
   "outputs": [
    {
     "name": "stderr",
     "output_type": "stream",
     "text": [
      "<ipython-input-10-8bc80a32521b>:1: FutureWarning: The default value of regex will change from True to False in a future version. In addition, single character regular expressions will*not* be treated as literal strings when regex=True.\n",
      "  LoansData.columns = LoansData.columns.str.replace(\".\", \"_\")\n"
     ]
    }
   ],
   "source": [
    "LoansData.columns = LoansData.columns.str.replace(\".\", \"_\")\n"
   ]
  },
  {
   "cell_type": "code",
   "execution_count": 11,
   "id": "0f5e01ec",
   "metadata": {
    "scrolled": true
   },
   "outputs": [
    {
     "data": {
      "text/plain": [
       "Index(['Amount_Requested', 'Amount_Funded_By_Investors', 'Interest_Rate',\n",
       "       'Loan_Length', 'Loan_Purpose', 'Debt_To_Income_Ratio', 'State',\n",
       "       'Home_Ownership', 'Monthly_Income', 'FICO_Range', 'Open_CREDIT_Lines',\n",
       "       'Revolving_CREDIT_Balance', 'Inquiries_in_the_Last_6_Months',\n",
       "       'Employment_Length'],\n",
       "      dtype='object')"
      ]
     },
     "execution_count": 11,
     "metadata": {},
     "output_type": "execute_result"
    }
   ],
   "source": [
    "LoansData.columns"
   ]
  },
  {
   "cell_type": "code",
   "execution_count": null,
   "id": "af304115",
   "metadata": {
    "scrolled": true
   },
   "outputs": [],
   "source": []
  },
  {
   "cell_type": "code",
   "execution_count": null,
   "id": "4f884f42",
   "metadata": {
    "scrolled": true
   },
   "outputs": [],
   "source": []
  },
  {
   "cell_type": "code",
   "execution_count": null,
   "id": "e32c2e28",
   "metadata": {
    "scrolled": true
   },
   "outputs": [],
   "source": []
  },
  {
   "cell_type": "code",
   "execution_count": null,
   "id": "c466a4b0",
   "metadata": {
    "scrolled": true
   },
   "outputs": [],
   "source": []
  },
  {
   "cell_type": "raw",
   "id": "530915f9",
   "metadata": {},
   "source": [
    "#missing_value_treatment:\n",
    "\n",
    "LoansData['Amount_Requested']=LoansData.Amount_Requested.fillna(value=LoansData.Amount_Requested.mean())\n",
    "LoansData['Amount_Funded_By_Investors']=LoansData.Amount_Funded_By_Investors.fillna(value=LoansData.Amount_Funded_By_Investors.mean())\n",
    "\n",
    "LoansData['Interest_Rate']=LoansData.Interest_Rate.str.strip('%').astype('float')\n",
    "LoansData['Interest_Rate']=LoansData.Interest_Rate.fillna(value=LoansData.Interest_Rate.mean())\n",
    "\n",
    "LoansData['Debt_To_Income_Ratio']=LoansData.Debt_To_Income_Ratio.str.strip('%').astype('float')\n",
    "LoansData['Debt_To_Income_Ratio']=LoansData.Debt_To_Income_Ratio.fillna(value=LoansData.Debt_To_Income_Ratio.mean())\n",
    "\n",
    "LoansData['Home_Ownership']=LoansData.Home_Ownership.fillna(value=LoansData.Home_Ownership.mode()[0])\n",
    "\n",
    "LoansData['Monthly_Income']=LoansData.Monthly_Income.fillna(value=LoansData.Monthly_Income.mean())\n",
    "\n",
    "LoansData['FICO_Range']=LoansData.FICO_Range.fillna(LoansData.FICO_Range.mode()[0])\n",
    "#LoansData=LoansData[LoansData['FICO_Range'].notna()]\n",
    "\n",
    "\n",
    "LoansData['Open_CREDIT_Lines']=LoansData.Open_CREDIT_Lines.fillna(LoansData.Open_CREDIT_Lines.mode()[0])\n",
    "\n",
    "LoansData['Revolving_CREDIT_Balance']=LoansData.Revolving_CREDIT_Balance.fillna(int(LoansData.Revolving_CREDIT_Balance.mean()))\n",
    "\n",
    "LoansData['Inquiries_in_the_Last_6_Months']=LoansData.Inquiries_in_the_Last_6_Months.fillna(int(LoansData.Inquiries_in_the_Last_6_Months.mode()[0]))\n",
    "\n",
    "LoansData['Employment_Length']=LoansData['Employment_Length'].dropna()"
   ]
  },
  {
   "cell_type": "code",
   "execution_count": null,
   "id": "8d2ee090",
   "metadata": {
    "scrolled": true
   },
   "outputs": [],
   "source": []
  },
  {
   "cell_type": "code",
   "execution_count": 12,
   "id": "d8aa9736",
   "metadata": {
    "scrolled": true
   },
   "outputs": [],
   "source": [
    "LoansData=LoansData.dropna()"
   ]
  },
  {
   "cell_type": "code",
   "execution_count": 13,
   "id": "d76f9a0b",
   "metadata": {
    "scrolled": true
   },
   "outputs": [
    {
     "data": {
      "text/plain": [
       "Amount_Requested                  0\n",
       "Amount_Funded_By_Investors        0\n",
       "Interest_Rate                     0\n",
       "Loan_Length                       0\n",
       "Loan_Purpose                      0\n",
       "Debt_To_Income_Ratio              0\n",
       "State                             0\n",
       "Home_Ownership                    0\n",
       "Monthly_Income                    0\n",
       "FICO_Range                        0\n",
       "Open_CREDIT_Lines                 0\n",
       "Revolving_CREDIT_Balance          0\n",
       "Inquiries_in_the_Last_6_Months    0\n",
       "Employment_Length                 0\n",
       "dtype: int64"
      ]
     },
     "execution_count": 13,
     "metadata": {},
     "output_type": "execute_result"
    }
   ],
   "source": [
    "LoansData.isnull().sum()"
   ]
  },
  {
   "cell_type": "code",
   "execution_count": 14,
   "id": "bbf097ce",
   "metadata": {
    "scrolled": true
   },
   "outputs": [],
   "source": [
    "#removing the word ” years\" and other symbol  from Employment_Length.\n",
    "LoansData['Employment_Length'] = LoansData['Employment_Length'].str.replace(r'\\D+', '', regex=True)"
   ]
  },
  {
   "cell_type": "code",
   "execution_count": 15,
   "id": "f11cc05f",
   "metadata": {
    "scrolled": true
   },
   "outputs": [],
   "source": [
    "#removing the word ” months\"  from loan Interest_Rate.\n",
    "LoansData['Loan_Length']=LoansData['Loan_Length'].str.replace('months','')"
   ]
  },
  {
   "cell_type": "code",
   "execution_count": 16,
   "id": "e47f5de6",
   "metadata": {
    "scrolled": true
   },
   "outputs": [],
   "source": [
    "#removing \"%\" symbol from Interest_Rate,Debt_To_Income_Ratio\n",
    "LoansData['Interest_Rate']=LoansData['Interest_Rate'].str.replace('%','')\n",
    "LoansData['Debt_To_Income_Ratio']=LoansData['Debt_To_Income_Ratio'].str.replace('%','')"
   ]
  },
  {
   "cell_type": "code",
   "execution_count": 17,
   "id": "bc5d405e",
   "metadata": {
    "scrolled": true
   },
   "outputs": [],
   "source": [
    "#Converting data Types\n",
    "#i)\n",
    "LoansData['Interest_Rate']=LoansData.Interest_Rate.astype('float64') # change data type object to float64\n",
    "#ii)\n",
    "LoansData['Loan_Length']=LoansData.Loan_Length.astype('int64')# change data type object to int64\n",
    "#iii)\n",
    "LoansData['Debt_To_Income_Ratio']=LoansData.Debt_To_Income_Ratio.astype('float64') # change data type object to float64\n",
    "#iv)\n",
    "LoansData['FICO_Range']=LoansData.FICO_Range.astype('string')\n",
    "LoansData['FICO_Range']=LoansData.FICO_Range.str.split('-')\n",
    "#v)\n",
    "LoansData['Inquiries_in_the_Last_6_Months']=LoansData.Inquiries_in_the_Last_6_Months.astype('int64')\n",
    "#vi)\n",
    "LoansData['Employment_Length'] = LoansData.Employment_Length.astype('int64')\n",
    "#vii)\n",
    "LoansData['Open_CREDIT_Lines']=LoansData.Open_CREDIT_Lines.astype('int64')"
   ]
  },
  {
   "cell_type": "code",
   "execution_count": 18,
   "id": "b0b3dfb9",
   "metadata": {
    "scrolled": true
   },
   "outputs": [
    {
     "data": {
      "text/plain": [
       "Amount_Requested                  float64\n",
       "Amount_Funded_By_Investors        float64\n",
       "Interest_Rate                     float64\n",
       "Loan_Length                         int64\n",
       "Loan_Purpose                       object\n",
       "Debt_To_Income_Ratio              float64\n",
       "State                              object\n",
       "Home_Ownership                     object\n",
       "Monthly_Income                    float64\n",
       "FICO_Range                         object\n",
       "Open_CREDIT_Lines                   int64\n",
       "Revolving_CREDIT_Balance          float64\n",
       "Inquiries_in_the_Last_6_Months      int64\n",
       "Employment_Length                   int64\n",
       "dtype: object"
      ]
     },
     "execution_count": 18,
     "metadata": {},
     "output_type": "execute_result"
    }
   ],
   "source": [
    "LoansData.dtypes"
   ]
  },
  {
   "cell_type": "code",
   "execution_count": 19,
   "id": "91d7bc7b",
   "metadata": {
    "scrolled": true
   },
   "outputs": [],
   "source": [
    "#LoansData[LoansData.dtypes[LoansData.dtypes != \"object\"].index.values]"
   ]
  },
  {
   "cell_type": "markdown",
   "id": "8ec64353",
   "metadata": {},
   "source": [
    "### a. Intrest rate is varied for different loan amounts (Less intrest charged for high loan amounts)"
   ]
  },
  {
   "cell_type": "raw",
   "id": "311ebd7c",
   "metadata": {},
   "source": []
  },
  {
   "cell_type": "code",
   "execution_count": 20,
   "id": "124b6962",
   "metadata": {
    "scrolled": true
   },
   "outputs": [],
   "source": [
    "a=LoansData[['Amount_Funded_By_Investors','Interest_Rate']]"
   ]
  },
  {
   "cell_type": "code",
   "execution_count": 21,
   "id": "db12c683",
   "metadata": {
    "scrolled": true
   },
   "outputs": [
    {
     "name": "stdout",
     "output_type": "stream",
     "text": [
      "P-value( 5.064256950483673e-63 )  is less then 0.05 so we can reject Ho(null) hypothesis and accept Ha(alternative) hypothesis \n"
     ]
    }
   ],
   "source": [
    "#Ho=intrest rate is not varied\n",
    "#Ha=intrest rate is varied \n",
    "\n",
    "#continuous vs continuous\n",
    "##pearsonr Correlation:\n",
    "corr_value,Pvalue=scipy.stats.pearsonr(a['Interest_Rate'],a['Amount_Funded_By_Investors'])\n",
    "#checking hypothesis:\n",
    "\n",
    "def p_value(p):\n",
    "    if p<0.05:\n",
    "        print(\"P-value(\",p,\")  is less then 0.05 so we can reject Ho(null) hypothesis and accept Ha(alternative) hypothesis \" )\n",
    "    else:\n",
    "        print(\"P-value(\",p,\") is greater then 0.05 so we can not reject Ho(null) hypothesis\" )\n",
    "p_value(Pvalue)"
   ]
  },
  {
   "cell_type": "code",
   "execution_count": 22,
   "id": "dfe6c0aa",
   "metadata": {
    "scrolled": true
   },
   "outputs": [],
   "source": [
    "#a[['Amount_Funded_By_Investors','Interest_Rate']].corr()"
   ]
  },
  {
   "cell_type": "code",
   "execution_count": 23,
   "id": "3c39a6fb",
   "metadata": {
    "scrolled": true
   },
   "outputs": [
    {
     "data": {
      "text/plain": [
       "<matplotlib.collections.PathCollection at 0x1b75c6558b0>"
      ]
     },
     "execution_count": 23,
     "metadata": {},
     "output_type": "execute_result"
    },
    {
     "data": {
      "image/png": "[encoded data removed]",
      "text/plain": [
       "<Figure size 432x288 with 1 Axes>"
      ]
     },
     "metadata": {
      "needs_background": "light"
     },
     "output_type": "display_data"
    }
   ],
   "source": [
    "plt.scatter(a['Interest_Rate'],a['Amount_Funded_By_Investors'])"
   ]
  },
  {
   "cell_type": "code",
   "execution_count": 24,
   "id": "cbda0de4",
   "metadata": {
    "scrolled": true
   },
   "outputs": [
    {
     "name": "stderr",
     "output_type": "stream",
     "text": [
      "<ipython-input-24-71729ba95435>:1: DeprecationWarning: scipy.cov is deprecated and will be removed in SciPy 2.0.0, use numpy.cov instead\n",
      "  scipy.cov(a['Amount_Funded_By_Investors'],a['Interest_Rate'])[0][1]\n"
     ]
    },
    {
     "data": {
      "text/plain": [
       "10656.331586503833"
      ]
     },
     "execution_count": 24,
     "metadata": {},
     "output_type": "execute_result"
    }
   ],
   "source": [
    "scipy.cov(a['Amount_Funded_By_Investors'],a['Interest_Rate'])[0][1]"
   ]
  },
  {
   "cell_type": "code",
   "execution_count": 25,
   "id": "a5a44089",
   "metadata": {
    "scrolled": true
   },
   "outputs": [
    {
     "name": "stderr",
     "output_type": "stream",
     "text": [
      "<ipython-input-25-41af6f39c25a>:1: DeprecationWarning: scipy.corrcoef is deprecated and will be removed in SciPy 2.0.0, use numpy.corrcoef instead\n",
      "  scipy.corrcoef(a['Amount_Funded_By_Investors'],a['Interest_Rate'])\n"
     ]
    },
    {
     "data": {
      "text/plain": [
       "array([[1.        , 0.33159553],\n",
       "       [0.33159553, 1.        ]])"
      ]
     },
     "execution_count": 25,
     "metadata": {},
     "output_type": "execute_result"
    }
   ],
   "source": [
    "scipy.corrcoef(a['Amount_Funded_By_Investors'],a['Interest_Rate'])"
   ]
  },
  {
   "cell_type": "code",
   "execution_count": 26,
   "id": "4395453f",
   "metadata": {
    "scrolled": true
   },
   "outputs": [
    {
     "data": {
      "text/plain": [
       "<seaborn.axisgrid.FacetGrid at 0x1b75bed8d30>"
      ]
     },
     "execution_count": 26,
     "metadata": {},
     "output_type": "execute_result"
    },
    {
     "data": {
      "image/png": "[encoded data removed]",
      "text/plain": [
       "<Figure size 360x360 with 1 Axes>"
      ]
     },
     "metadata": {
      "needs_background": "light"
     },
     "output_type": "display_data"
    }
   ],
   "source": [
    "sns.lmplot(y='Amount_Funded_By_Investors',x='Interest_Rate',data=a,legend=True,markers='.')"
   ]
  },
  {
   "cell_type": "markdown",
   "id": "8903812d",
   "metadata": {},
   "source": [
    " yes here we can say with 95% confidence Intrest rate is varied for different loan amounts.week positive relationship between \"Amount_Funded_By_Investors\" and \"Interest_Rate\" ."
   ]
  },
  {
   "cell_type": "code",
   "execution_count": null,
   "id": "9dedc3ca",
   "metadata": {
    "scrolled": true
   },
   "outputs": [],
   "source": []
  },
  {
   "cell_type": "raw",
   "id": "d1e0db1a",
   "metadata": {},
   "source": [
    "#Spearman’s Correlation:\n",
    "#Ho=intrest rate is not varied\n",
    "#Ha=intrest rate is varied \n",
    "corr_value,Pvalue=scipy.stats.spearmanr(a['Amount_Funded_By_Investors'],a['Interest_Rate'])\n",
    "#checking hypothesis:\n",
    "\n",
    "def p_value(p):\n",
    "    if p<0.05:\n",
    "        print(\"P-value(\",p,\")  is less then 0.05 so we can reject Ho(null) hypothesis and accept Ha(alternative) hypothesis \" )\n",
    "    else:\n",
    "        print(\"P-value(\",p,\") is greater then 0.05 so we can not reject Ho(null) hypothesis\" )\n",
    "p_value(Pvalue)"
   ]
  },
  {
   "cell_type": "markdown",
   "id": "78ddaf25",
   "metadata": {},
   "source": [
    "### b. Loan length is directly effecting intrest rate."
   ]
  },
  {
   "cell_type": "code",
   "execution_count": 27,
   "id": "c32a859b",
   "metadata": {
    "scrolled": true
   },
   "outputs": [],
   "source": [
    "b=LoansData[['Loan_Length','Interest_Rate']]"
   ]
  },
  {
   "cell_type": "code",
   "execution_count": 28,
   "id": "6778994a",
   "metadata": {
    "scrolled": true
   },
   "outputs": [
    {
     "data": {
      "text/plain": [
       "array([36, 60], dtype=int64)"
      ]
     },
     "execution_count": 28,
     "metadata": {},
     "output_type": "execute_result"
    }
   ],
   "source": [
    "b.Loan_Length.unique()"
   ]
  },
  {
   "cell_type": "code",
   "execution_count": 29,
   "id": "6384e302",
   "metadata": {
    "scrolled": true
   },
   "outputs": [
    {
     "data": {
      "text/plain": [
       "Ttest_indResult(statistic=128.36728199919077, pvalue=0.0)"
      ]
     },
     "execution_count": 29,
     "metadata": {},
     "output_type": "execute_result"
    }
   ],
   "source": [
    "scipy.stats.ttest_ind(b['Loan_Length'],b['Interest_Rate'])"
   ]
  },
  {
   "cell_type": "code",
   "execution_count": 30,
   "id": "01cedae6",
   "metadata": {
    "scrolled": true
   },
   "outputs": [
    {
     "name": "stdout",
     "output_type": "stream",
     "text": [
      "P-value( 0.0 )  is less then 0.05 so we can reject Ho(null) hypothesis and accept Ha(alternative) hypothesis \n"
     ]
    }
   ],
   "source": [
    "#Ho:Loan length is not effecting on intrest rate\n",
    "#Ha:Loan length is directly effecting on intrest rate\n",
    "#categorical(binary)  vs continuous\n",
    "\n",
    "#T-test:\n",
    "\n",
    "_,Pvalue=scipy.stats.ttest_ind(b['Loan_Length'],b['Interest_Rate'])\n",
    "#checking hypothesis:\n",
    "\n",
    "def p_value(p):\n",
    "    if p<0.05:\n",
    "        print(\"P-value(\",p,\")  is less then 0.05 so we can reject Ho(null) hypothesis and accept Ha(alternative) hypothesis \" )\n",
    "    else:\n",
    "        print(\"P-value(\",p,\") is greater then 0.05 so we can not reject Ho(null) hypothesis\" )\n",
    "p_value(Pvalue)"
   ]
  },
  {
   "cell_type": "markdown",
   "id": "c273a80c",
   "metadata": {},
   "source": [
    "yes here we can say with 95% confidence Loan length is directly effecting on intrest rate"
   ]
  },
  {
   "cell_type": "code",
   "execution_count": 31,
   "id": "2353936c",
   "metadata": {
    "scrolled": true
   },
   "outputs": [
    {
     "data": {
      "text/plain": [
       "<AxesSubplot:xlabel='Loan_Length', ylabel='Interest_Rate'>"
      ]
     },
     "execution_count": 31,
     "metadata": {},
     "output_type": "execute_result"
    },
    {
     "data": {
      "image/png": "[encoded data removed]",
      "text/plain": [
       "<Figure size 432x288 with 1 Axes>"
      ]
     },
     "metadata": {
      "needs_background": "light"
     },
     "output_type": "display_data"
    }
   ],
   "source": [
    "sns.barplot(x='Loan_Length',y='Interest_Rate',data=b )"
   ]
  },
  {
   "cell_type": "code",
   "execution_count": 32,
   "id": "e66dd54a",
   "metadata": {
    "scrolled": true
   },
   "outputs": [
    {
     "data": {
      "text/plain": [
       "<AxesSubplot:xlabel='Loan_Length', ylabel='Interest_Rate'>"
      ]
     },
     "execution_count": 32,
     "metadata": {},
     "output_type": "execute_result"
    },
    {
     "data": {
      "image/png": "[encoded data removed]",
      "text/plain": [
       "<Figure size 432x288 with 1 Axes>"
      ]
     },
     "metadata": {
      "needs_background": "light"
     },
     "output_type": "display_data"
    }
   ],
   "source": [
    "sns.boxplot(x='Loan_Length',y='Interest_Rate',data=b )"
   ]
  },
  {
   "cell_type": "code",
   "execution_count": 33,
   "id": "3288ded0",
   "metadata": {
    "scrolled": true
   },
   "outputs": [
    {
     "data": {
      "text/html": [
       "<div>\n",
       "<style scoped>\n",
       "    .dataframe tbody tr th:only-of-type {\n",
       "        vertical-align: middle;\n",
       "    }\n",
       "\n",
       "    .dataframe tbody tr th {\n",
       "        vertical-align: top;\n",
       "    }\n",
       "\n",
       "    .dataframe thead tr th {\n",
       "        text-align: left;\n",
       "    }\n",
       "\n",
       "    .dataframe thead tr:last-of-type th {\n",
       "        text-align: right;\n",
       "    }\n",
       "</style>\n",
       "<table border=\"1\" class=\"dataframe\">\n",
       "  <thead>\n",
       "    <tr>\n",
       "      <th></th>\n",
       "      <th colspan=\"8\" halign=\"left\">Interest_Rate</th>\n",
       "    </tr>\n",
       "    <tr>\n",
       "      <th></th>\n",
       "      <th>count</th>\n",
       "      <th>mean</th>\n",
       "      <th>std</th>\n",
       "      <th>min</th>\n",
       "      <th>25%</th>\n",
       "      <th>50%</th>\n",
       "      <th>75%</th>\n",
       "      <th>max</th>\n",
       "    </tr>\n",
       "    <tr>\n",
       "      <th>Loan_Length</th>\n",
       "      <th></th>\n",
       "      <th></th>\n",
       "      <th></th>\n",
       "      <th></th>\n",
       "      <th></th>\n",
       "      <th></th>\n",
       "      <th></th>\n",
       "      <th></th>\n",
       "    </tr>\n",
       "  </thead>\n",
       "  <tbody>\n",
       "    <tr>\n",
       "      <th>36</th>\n",
       "      <td>1876.0</td>\n",
       "      <td>12.130075</td>\n",
       "      <td>3.663183</td>\n",
       "      <td>5.42</td>\n",
       "      <td>8.90</td>\n",
       "      <td>12.12</td>\n",
       "      <td>14.33</td>\n",
       "      <td>24.89</td>\n",
       "    </tr>\n",
       "    <tr>\n",
       "      <th>60</th>\n",
       "      <td>537.0</td>\n",
       "      <td>16.378734</td>\n",
       "      <td>4.101119</td>\n",
       "      <td>5.79</td>\n",
       "      <td>13.11</td>\n",
       "      <td>16.49</td>\n",
       "      <td>19.22</td>\n",
       "      <td>24.89</td>\n",
       "    </tr>\n",
       "  </tbody>\n",
       "</table>\n",
       "</div>"
      ],
      "text/plain": [
       "            Interest_Rate                                                  \\\n",
       "                    count       mean       std   min    25%    50%    75%   \n",
       "Loan_Length                                                                 \n",
       "36                 1876.0  12.130075  3.663183  5.42   8.90  12.12  14.33   \n",
       "60                  537.0  16.378734  4.101119  5.79  13.11  16.49  19.22   \n",
       "\n",
       "                    \n",
       "               max  \n",
       "Loan_Length         \n",
       "36           24.89  \n",
       "60           24.89  "
      ]
     },
     "execution_count": 33,
     "metadata": {},
     "output_type": "execute_result"
    }
   ],
   "source": [
    "#Loan_Length observation \n",
    "b.groupby(b['Loan_Length']).describe()"
   ]
  },
  {
   "cell_type": "code",
   "execution_count": null,
   "id": "8cba77b4",
   "metadata": {
    "scrolled": true
   },
   "outputs": [],
   "source": []
  },
  {
   "cell_type": "code",
   "execution_count": 34,
   "id": "1da01e59",
   "metadata": {
    "scrolled": true
   },
   "outputs": [
    {
     "name": "stderr",
     "output_type": "stream",
     "text": [
      "<ipython-input-34-673bbd080b53>:1: DeprecationWarning: scipy.cov is deprecated and will be removed in SciPy 2.0.0, use numpy.cov instead\n",
      "  scipy.cov(b['Loan_Length'],b['Interest_Rate'])[0][1]\n"
     ]
    },
    {
     "data": {
      "text/plain": [
       "17.64963058722136"
      ]
     },
     "execution_count": 34,
     "metadata": {},
     "output_type": "execute_result"
    }
   ],
   "source": [
    "scipy.cov(b['Loan_Length'],b['Interest_Rate'])[0][1]"
   ]
  },
  {
   "cell_type": "code",
   "execution_count": 35,
   "id": "76ec4df8",
   "metadata": {
    "scrolled": true
   },
   "outputs": [
    {
     "name": "stderr",
     "output_type": "stream",
     "text": [
      "<ipython-input-35-d079f374034b>:1: DeprecationWarning: scipy.corrcoef is deprecated and will be removed in SciPy 2.0.0, use numpy.corrcoef instead\n",
      "  scipy.corrcoef(b['Loan_Length'],b['Interest_Rate'])\n"
     ]
    },
    {
     "data": {
      "text/plain": [
       "array([[1.        , 0.42505738],\n",
       "       [0.42505738, 1.        ]])"
      ]
     },
     "execution_count": 35,
     "metadata": {},
     "output_type": "execute_result"
    }
   ],
   "source": [
    "scipy.corrcoef(b['Loan_Length'],b['Interest_Rate'])"
   ]
  },
  {
   "cell_type": "code",
   "execution_count": 36,
   "id": "252be53a",
   "metadata": {
    "scrolled": true
   },
   "outputs": [
    {
     "data": {
      "text/html": [
       "<div>\n",
       "<style scoped>\n",
       "    .dataframe tbody tr th:only-of-type {\n",
       "        vertical-align: middle;\n",
       "    }\n",
       "\n",
       "    .dataframe tbody tr th {\n",
       "        vertical-align: top;\n",
       "    }\n",
       "\n",
       "    .dataframe thead th {\n",
       "        text-align: right;\n",
       "    }\n",
       "</style>\n",
       "<table border=\"1\" class=\"dataframe\">\n",
       "  <thead>\n",
       "    <tr style=\"text-align: right;\">\n",
       "      <th></th>\n",
       "      <th>Amount_Requested</th>\n",
       "      <th>Amount_Funded_By_Investors</th>\n",
       "      <th>Interest_Rate</th>\n",
       "      <th>Loan_Length</th>\n",
       "      <th>Loan_Purpose</th>\n",
       "      <th>Debt_To_Income_Ratio</th>\n",
       "      <th>State</th>\n",
       "      <th>Home_Ownership</th>\n",
       "      <th>Monthly_Income</th>\n",
       "      <th>FICO_Range</th>\n",
       "      <th>Open_CREDIT_Lines</th>\n",
       "      <th>Revolving_CREDIT_Balance</th>\n",
       "      <th>Inquiries_in_the_Last_6_Months</th>\n",
       "      <th>Employment_Length</th>\n",
       "    </tr>\n",
       "  </thead>\n",
       "  <tbody>\n",
       "    <tr>\n",
       "      <th>0</th>\n",
       "      <td>20000.0</td>\n",
       "      <td>20000.00</td>\n",
       "      <td>8.90</td>\n",
       "      <td>36</td>\n",
       "      <td>debt_consolidation</td>\n",
       "      <td>14.90</td>\n",
       "      <td>SC</td>\n",
       "      <td>MORTGAGE</td>\n",
       "      <td>6541.67</td>\n",
       "      <td>[735, 739]</td>\n",
       "      <td>14</td>\n",
       "      <td>14272.0</td>\n",
       "      <td>2</td>\n",
       "      <td>1</td>\n",
       "    </tr>\n",
       "    <tr>\n",
       "      <th>1</th>\n",
       "      <td>19200.0</td>\n",
       "      <td>19200.00</td>\n",
       "      <td>12.12</td>\n",
       "      <td>36</td>\n",
       "      <td>debt_consolidation</td>\n",
       "      <td>28.36</td>\n",
       "      <td>TX</td>\n",
       "      <td>MORTGAGE</td>\n",
       "      <td>4583.33</td>\n",
       "      <td>[715, 719]</td>\n",
       "      <td>12</td>\n",
       "      <td>11140.0</td>\n",
       "      <td>1</td>\n",
       "      <td>2</td>\n",
       "    </tr>\n",
       "    <tr>\n",
       "      <th>2</th>\n",
       "      <td>35000.0</td>\n",
       "      <td>35000.00</td>\n",
       "      <td>21.98</td>\n",
       "      <td>60</td>\n",
       "      <td>debt_consolidation</td>\n",
       "      <td>23.81</td>\n",
       "      <td>CA</td>\n",
       "      <td>MORTGAGE</td>\n",
       "      <td>11500.00</td>\n",
       "      <td>[690, 694]</td>\n",
       "      <td>14</td>\n",
       "      <td>21977.0</td>\n",
       "      <td>1</td>\n",
       "      <td>2</td>\n",
       "    </tr>\n",
       "    <tr>\n",
       "      <th>3</th>\n",
       "      <td>10000.0</td>\n",
       "      <td>9975.00</td>\n",
       "      <td>9.99</td>\n",
       "      <td>36</td>\n",
       "      <td>debt_consolidation</td>\n",
       "      <td>14.30</td>\n",
       "      <td>KS</td>\n",
       "      <td>MORTGAGE</td>\n",
       "      <td>3833.33</td>\n",
       "      <td>[695, 699]</td>\n",
       "      <td>10</td>\n",
       "      <td>9346.0</td>\n",
       "      <td>0</td>\n",
       "      <td>5</td>\n",
       "    </tr>\n",
       "    <tr>\n",
       "      <th>4</th>\n",
       "      <td>12000.0</td>\n",
       "      <td>12000.00</td>\n",
       "      <td>11.71</td>\n",
       "      <td>36</td>\n",
       "      <td>credit_card</td>\n",
       "      <td>18.78</td>\n",
       "      <td>NJ</td>\n",
       "      <td>RENT</td>\n",
       "      <td>3195.00</td>\n",
       "      <td>[695, 699]</td>\n",
       "      <td>11</td>\n",
       "      <td>14469.0</td>\n",
       "      <td>0</td>\n",
       "      <td>9</td>\n",
       "    </tr>\n",
       "    <tr>\n",
       "      <th>...</th>\n",
       "      <td>...</td>\n",
       "      <td>...</td>\n",
       "      <td>...</td>\n",
       "      <td>...</td>\n",
       "      <td>...</td>\n",
       "      <td>...</td>\n",
       "      <td>...</td>\n",
       "      <td>...</td>\n",
       "      <td>...</td>\n",
       "      <td>...</td>\n",
       "      <td>...</td>\n",
       "      <td>...</td>\n",
       "      <td>...</td>\n",
       "      <td>...</td>\n",
       "    </tr>\n",
       "    <tr>\n",
       "      <th>2495</th>\n",
       "      <td>30000.0</td>\n",
       "      <td>29950.00</td>\n",
       "      <td>16.77</td>\n",
       "      <td>60</td>\n",
       "      <td>debt_consolidation</td>\n",
       "      <td>19.23</td>\n",
       "      <td>NY</td>\n",
       "      <td>MORTGAGE</td>\n",
       "      <td>9250.00</td>\n",
       "      <td>[705, 709]</td>\n",
       "      <td>15</td>\n",
       "      <td>45880.0</td>\n",
       "      <td>1</td>\n",
       "      <td>8</td>\n",
       "    </tr>\n",
       "    <tr>\n",
       "      <th>2496</th>\n",
       "      <td>16000.0</td>\n",
       "      <td>16000.00</td>\n",
       "      <td>14.09</td>\n",
       "      <td>60</td>\n",
       "      <td>home_improvement</td>\n",
       "      <td>21.54</td>\n",
       "      <td>MD</td>\n",
       "      <td>OWN</td>\n",
       "      <td>8903.25</td>\n",
       "      <td>[740, 744]</td>\n",
       "      <td>18</td>\n",
       "      <td>18898.0</td>\n",
       "      <td>1</td>\n",
       "      <td>10</td>\n",
       "    </tr>\n",
       "    <tr>\n",
       "      <th>2497</th>\n",
       "      <td>10000.0</td>\n",
       "      <td>10000.00</td>\n",
       "      <td>13.99</td>\n",
       "      <td>36</td>\n",
       "      <td>debt_consolidation</td>\n",
       "      <td>4.89</td>\n",
       "      <td>PA</td>\n",
       "      <td>MORTGAGE</td>\n",
       "      <td>2166.67</td>\n",
       "      <td>[680, 684]</td>\n",
       "      <td>4</td>\n",
       "      <td>4544.0</td>\n",
       "      <td>0</td>\n",
       "      <td>10</td>\n",
       "    </tr>\n",
       "    <tr>\n",
       "      <th>2498</th>\n",
       "      <td>6000.0</td>\n",
       "      <td>6000.00</td>\n",
       "      <td>12.42</td>\n",
       "      <td>36</td>\n",
       "      <td>major_purchase</td>\n",
       "      <td>16.66</td>\n",
       "      <td>NJ</td>\n",
       "      <td>RENT</td>\n",
       "      <td>3500.00</td>\n",
       "      <td>[675, 679]</td>\n",
       "      <td>8</td>\n",
       "      <td>7753.0</td>\n",
       "      <td>0</td>\n",
       "      <td>5</td>\n",
       "    </tr>\n",
       "    <tr>\n",
       "      <th>2499</th>\n",
       "      <td>9000.0</td>\n",
       "      <td>5242.75</td>\n",
       "      <td>13.79</td>\n",
       "      <td>36</td>\n",
       "      <td>debt_consolidation</td>\n",
       "      <td>6.76</td>\n",
       "      <td>NY</td>\n",
       "      <td>RENT</td>\n",
       "      <td>3875.00</td>\n",
       "      <td>[670, 674]</td>\n",
       "      <td>7</td>\n",
       "      <td>7589.0</td>\n",
       "      <td>0</td>\n",
       "      <td>10</td>\n",
       "    </tr>\n",
       "  </tbody>\n",
       "</table>\n",
       "<p>2413 rows × 14 columns</p>\n",
       "</div>"
      ],
      "text/plain": [
       "      Amount_Requested  Amount_Funded_By_Investors  Interest_Rate  \\\n",
       "0              20000.0                    20000.00           8.90   \n",
       "1              19200.0                    19200.00          12.12   \n",
       "2              35000.0                    35000.00          21.98   \n",
       "3              10000.0                     9975.00           9.99   \n",
       "4              12000.0                    12000.00          11.71   \n",
       "...                ...                         ...            ...   \n",
       "2495           30000.0                    29950.00          16.77   \n",
       "2496           16000.0                    16000.00          14.09   \n",
       "2497           10000.0                    10000.00          13.99   \n",
       "2498            6000.0                     6000.00          12.42   \n",
       "2499            9000.0                     5242.75          13.79   \n",
       "\n",
       "      Loan_Length        Loan_Purpose  Debt_To_Income_Ratio State  \\\n",
       "0              36  debt_consolidation                 14.90    SC   \n",
       "1              36  debt_consolidation                 28.36    TX   \n",
       "2              60  debt_consolidation                 23.81    CA   \n",
       "3              36  debt_consolidation                 14.30    KS   \n",
       "4              36         credit_card                 18.78    NJ   \n",
       "...           ...                 ...                   ...   ...   \n",
       "2495           60  debt_consolidation                 19.23    NY   \n",
       "2496           60    home_improvement                 21.54    MD   \n",
       "2497           36  debt_consolidation                  4.89    PA   \n",
       "2498           36      major_purchase                 16.66    NJ   \n",
       "2499           36  debt_consolidation                  6.76    NY   \n",
       "\n",
       "     Home_Ownership  Monthly_Income  FICO_Range  Open_CREDIT_Lines  \\\n",
       "0          MORTGAGE         6541.67  [735, 739]                 14   \n",
       "1          MORTGAGE         4583.33  [715, 719]                 12   \n",
       "2          MORTGAGE        11500.00  [690, 694]                 14   \n",
       "3          MORTGAGE         3833.33  [695, 699]                 10   \n",
       "4              RENT         3195.00  [695, 699]                 11   \n",
       "...             ...             ...         ...                ...   \n",
       "2495       MORTGAGE         9250.00  [705, 709]                 15   \n",
       "2496            OWN         8903.25  [740, 744]                 18   \n",
       "2497       MORTGAGE         2166.67  [680, 684]                  4   \n",
       "2498           RENT         3500.00  [675, 679]                  8   \n",
       "2499           RENT         3875.00  [670, 674]                  7   \n",
       "\n",
       "      Revolving_CREDIT_Balance  Inquiries_in_the_Last_6_Months  \\\n",
       "0                      14272.0                               2   \n",
       "1                      11140.0                               1   \n",
       "2                      21977.0                               1   \n",
       "3                       9346.0                               0   \n",
       "4                      14469.0                               0   \n",
       "...                        ...                             ...   \n",
       "2495                   45880.0                               1   \n",
       "2496                   18898.0                               1   \n",
       "2497                    4544.0                               0   \n",
       "2498                    7753.0                               0   \n",
       "2499                    7589.0                               0   \n",
       "\n",
       "      Employment_Length  \n",
       "0                     1  \n",
       "1                     2  \n",
       "2                     2  \n",
       "3                     5  \n",
       "4                     9  \n",
       "...                 ...  \n",
       "2495                  8  \n",
       "2496                 10  \n",
       "2497                 10  \n",
       "2498                  5  \n",
       "2499                 10  \n",
       "\n",
       "[2413 rows x 14 columns]"
      ]
     },
     "execution_count": 36,
     "metadata": {},
     "output_type": "execute_result"
    }
   ],
   "source": [
    "LoansData"
   ]
  },
  {
   "cell_type": "raw",
   "id": "8b07f83b",
   "metadata": {},
   "source": [
    "#Ho:Loan length is not effecting on intrest rate\n",
    "#Ha:Loan length is directly effecting on intrest rate\n",
    "#discrete  vs continuous\n",
    "\n",
    "#spearmanr:\n",
    "\n",
    "_,Pvalue=scipy.stats.spearmanr(b['Loan_Length'],b['Interest_Rate'])\n",
    "#checking hypothesis:\n",
    "\n",
    "def p_value(p):\n",
    "    if p<0.05:\n",
    "        print(\"P-value(\",p,\")  is less then 0.05 so we can reject Ho(null) hypothesis and accept Ha(alternative) hypothesis \" )\n",
    "    else:\n",
    "        print(\"P-value(\",p,\") is greater then 0.05 so we can not reject Ho(null) hypothesis\" )\n",
    "p_value(Pvalue)"
   ]
  },
  {
   "cell_type": "raw",
   "id": "c446dfbc",
   "metadata": {},
   "source": [
    "#Ho:Loan length is not effecting on intrest rate\n",
    "#Ha:Loan length is directly effecting on intrest rate\n",
    "#categorical(more than Two Group)  vs continuous\n",
    "\n",
    "\n",
    "##one-way ANOVA :\n",
    "_,Pvalue=scipy.stats.f_oneway(b['Interest_Rate'],b['Loan_Length'])\n",
    "#checking hypothesis:\n",
    "\n",
    "def p_value(p):\n",
    "    if p<0.05:\n",
    "        print(\"P-value(\",p,\")  is less then 0.05 so we can reject Ho(null) hypothesis and accept Ha(alternative) hypothesis \" )\n",
    "    else:\n",
    "        print(\"P-value(\",p,\") is greater then 0.05 so we can not reject Ho(null) hypothesis\" )\n",
    "p_value(Pvalue)"
   ]
  },
  {
   "cell_type": "markdown",
   "id": "60a0f6f4",
   "metadata": {},
   "source": [
    "### c.Inrest rate varies for different purpose of loans"
   ]
  },
  {
   "cell_type": "code",
   "execution_count": 37,
   "id": "4de6b0d5",
   "metadata": {
    "scrolled": true
   },
   "outputs": [],
   "source": [
    "c=LoansData[['Loan_Purpose','Interest_Rate']]"
   ]
  },
  {
   "cell_type": "code",
   "execution_count": 38,
   "id": "a56942fd",
   "metadata": {
    "scrolled": true
   },
   "outputs": [
    {
     "data": {
      "text/html": [
       "<div>\n",
       "<style scoped>\n",
       "    .dataframe tbody tr th:only-of-type {\n",
       "        vertical-align: middle;\n",
       "    }\n",
       "\n",
       "    .dataframe tbody tr th {\n",
       "        vertical-align: top;\n",
       "    }\n",
       "\n",
       "    .dataframe thead tr th {\n",
       "        text-align: left;\n",
       "    }\n",
       "\n",
       "    .dataframe thead tr:last-of-type th {\n",
       "        text-align: right;\n",
       "    }\n",
       "</style>\n",
       "<table border=\"1\" class=\"dataframe\">\n",
       "  <thead>\n",
       "    <tr>\n",
       "      <th></th>\n",
       "      <th colspan=\"8\" halign=\"left\">Interest_Rate</th>\n",
       "    </tr>\n",
       "    <tr>\n",
       "      <th></th>\n",
       "      <th>count</th>\n",
       "      <th>mean</th>\n",
       "      <th>std</th>\n",
       "      <th>min</th>\n",
       "      <th>25%</th>\n",
       "      <th>50%</th>\n",
       "      <th>75%</th>\n",
       "      <th>max</th>\n",
       "    </tr>\n",
       "    <tr>\n",
       "      <th>Loan_Purpose</th>\n",
       "      <th></th>\n",
       "      <th></th>\n",
       "      <th></th>\n",
       "      <th></th>\n",
       "      <th></th>\n",
       "      <th></th>\n",
       "      <th></th>\n",
       "      <th></th>\n",
       "    </tr>\n",
       "  </thead>\n",
       "  <tbody>\n",
       "    <tr>\n",
       "      <th>car</th>\n",
       "      <td>50.0</td>\n",
       "      <td>11.113000</td>\n",
       "      <td>3.940604</td>\n",
       "      <td>5.79</td>\n",
       "      <td>7.6850</td>\n",
       "      <td>10.475</td>\n",
       "      <td>13.8650</td>\n",
       "      <td>19.72</td>\n",
       "    </tr>\n",
       "    <tr>\n",
       "      <th>credit_card</th>\n",
       "      <td>430.0</td>\n",
       "      <td>13.025558</td>\n",
       "      <td>4.021337</td>\n",
       "      <td>5.42</td>\n",
       "      <td>10.1600</td>\n",
       "      <td>13.110</td>\n",
       "      <td>15.7625</td>\n",
       "      <td>24.70</td>\n",
       "    </tr>\n",
       "    <tr>\n",
       "      <th>debt_consolidation</th>\n",
       "      <td>1262.0</td>\n",
       "      <td>13.597773</td>\n",
       "      <td>4.116616</td>\n",
       "      <td>5.79</td>\n",
       "      <td>10.7400</td>\n",
       "      <td>13.490</td>\n",
       "      <td>16.2900</td>\n",
       "      <td>24.89</td>\n",
       "    </tr>\n",
       "    <tr>\n",
       "      <th>educational</th>\n",
       "      <td>14.0</td>\n",
       "      <td>10.874286</td>\n",
       "      <td>3.442119</td>\n",
       "      <td>6.76</td>\n",
       "      <td>8.0575</td>\n",
       "      <td>9.755</td>\n",
       "      <td>13.2625</td>\n",
       "      <td>18.67</td>\n",
       "    </tr>\n",
       "    <tr>\n",
       "      <th>home_improvement</th>\n",
       "      <td>147.0</td>\n",
       "      <td>11.612041</td>\n",
       "      <td>4.289658</td>\n",
       "      <td>5.42</td>\n",
       "      <td>7.9000</td>\n",
       "      <td>11.120</td>\n",
       "      <td>14.0900</td>\n",
       "      <td>22.95</td>\n",
       "    </tr>\n",
       "    <tr>\n",
       "      <th>house</th>\n",
       "      <td>20.0</td>\n",
       "      <td>13.448000</td>\n",
       "      <td>4.954452</td>\n",
       "      <td>5.99</td>\n",
       "      <td>10.1850</td>\n",
       "      <td>13.085</td>\n",
       "      <td>16.0500</td>\n",
       "      <td>22.47</td>\n",
       "    </tr>\n",
       "    <tr>\n",
       "      <th>major_purchase</th>\n",
       "      <td>100.0</td>\n",
       "      <td>10.827000</td>\n",
       "      <td>3.279356</td>\n",
       "      <td>5.42</td>\n",
       "      <td>7.7250</td>\n",
       "      <td>11.130</td>\n",
       "      <td>13.4300</td>\n",
       "      <td>19.41</td>\n",
       "    </tr>\n",
       "    <tr>\n",
       "      <th>medical</th>\n",
       "      <td>28.0</td>\n",
       "      <td>11.763214</td>\n",
       "      <td>4.695454</td>\n",
       "      <td>5.42</td>\n",
       "      <td>7.5050</td>\n",
       "      <td>13.110</td>\n",
       "      <td>14.3650</td>\n",
       "      <td>23.28</td>\n",
       "    </tr>\n",
       "    <tr>\n",
       "      <th>moving</th>\n",
       "      <td>29.0</td>\n",
       "      <td>13.621034</td>\n",
       "      <td>4.796949</td>\n",
       "      <td>5.79</td>\n",
       "      <td>10.7500</td>\n",
       "      <td>13.110</td>\n",
       "      <td>15.3100</td>\n",
       "      <td>24.89</td>\n",
       "    </tr>\n",
       "    <tr>\n",
       "      <th>other</th>\n",
       "      <td>189.0</td>\n",
       "      <td>13.237037</td>\n",
       "      <td>4.057830</td>\n",
       "      <td>5.79</td>\n",
       "      <td>10.1600</td>\n",
       "      <td>13.110</td>\n",
       "      <td>16.2900</td>\n",
       "      <td>23.28</td>\n",
       "    </tr>\n",
       "    <tr>\n",
       "      <th>renewable_energy</th>\n",
       "      <td>4.0</td>\n",
       "      <td>9.877500</td>\n",
       "      <td>3.302266</td>\n",
       "      <td>6.92</td>\n",
       "      <td>7.6550</td>\n",
       "      <td>9.130</td>\n",
       "      <td>11.3525</td>\n",
       "      <td>14.33</td>\n",
       "    </tr>\n",
       "    <tr>\n",
       "      <th>small_business</th>\n",
       "      <td>83.0</td>\n",
       "      <td>12.892410</td>\n",
       "      <td>4.249753</td>\n",
       "      <td>5.79</td>\n",
       "      <td>9.6950</td>\n",
       "      <td>12.840</td>\n",
       "      <td>16.0050</td>\n",
       "      <td>21.98</td>\n",
       "    </tr>\n",
       "    <tr>\n",
       "      <th>vacation</th>\n",
       "      <td>20.0</td>\n",
       "      <td>12.263000</td>\n",
       "      <td>3.957040</td>\n",
       "      <td>5.42</td>\n",
       "      <td>8.6800</td>\n",
       "      <td>12.895</td>\n",
       "      <td>14.9375</td>\n",
       "      <td>18.39</td>\n",
       "    </tr>\n",
       "    <tr>\n",
       "      <th>wedding</th>\n",
       "      <td>37.0</td>\n",
       "      <td>11.958919</td>\n",
       "      <td>3.844805</td>\n",
       "      <td>5.42</td>\n",
       "      <td>8.0000</td>\n",
       "      <td>12.120</td>\n",
       "      <td>14.0900</td>\n",
       "      <td>22.45</td>\n",
       "    </tr>\n",
       "  </tbody>\n",
       "</table>\n",
       "</div>"
      ],
      "text/plain": [
       "                   Interest_Rate                                              \\\n",
       "                           count       mean       std   min      25%     50%   \n",
       "Loan_Purpose                                                                   \n",
       "car                         50.0  11.113000  3.940604  5.79   7.6850  10.475   \n",
       "credit_card                430.0  13.025558  4.021337  5.42  10.1600  13.110   \n",
       "debt_consolidation        1262.0  13.597773  4.116616  5.79  10.7400  13.490   \n",
       "educational                 14.0  10.874286  3.442119  6.76   8.0575   9.755   \n",
       "home_improvement           147.0  11.612041  4.289658  5.42   7.9000  11.120   \n",
       "house                       20.0  13.448000  4.954452  5.99  10.1850  13.085   \n",
       "major_purchase             100.0  10.827000  3.279356  5.42   7.7250  11.130   \n",
       "medical                     28.0  11.763214  4.695454  5.42   7.5050  13.110   \n",
       "moving                      29.0  13.621034  4.796949  5.79  10.7500  13.110   \n",
       "other                      189.0  13.237037  4.057830  5.79  10.1600  13.110   \n",
       "renewable_energy             4.0   9.877500  3.302266  6.92   7.6550   9.130   \n",
       "small_business              83.0  12.892410  4.249753  5.79   9.6950  12.840   \n",
       "vacation                    20.0  12.263000  3.957040  5.42   8.6800  12.895   \n",
       "wedding                     37.0  11.958919  3.844805  5.42   8.0000  12.120   \n",
       "\n",
       "                                    \n",
       "                        75%    max  \n",
       "Loan_Purpose                        \n",
       "car                 13.8650  19.72  \n",
       "credit_card         15.7625  24.70  \n",
       "debt_consolidation  16.2900  24.89  \n",
       "educational         13.2625  18.67  \n",
       "home_improvement    14.0900  22.95  \n",
       "house               16.0500  22.47  \n",
       "major_purchase      13.4300  19.41  \n",
       "medical             14.3650  23.28  \n",
       "moving              15.3100  24.89  \n",
       "other               16.2900  23.28  \n",
       "renewable_energy    11.3525  14.33  \n",
       "small_business      16.0050  21.98  \n",
       "vacation            14.9375  18.39  \n",
       "wedding             14.0900  22.45  "
      ]
     },
     "execution_count": 38,
     "metadata": {},
     "output_type": "execute_result"
    }
   ],
   "source": [
    "c.groupby(['Loan_Purpose']).describe()"
   ]
  },
  {
   "cell_type": "code",
   "execution_count": 39,
   "id": "70c29419",
   "metadata": {
    "scrolled": true
   },
   "outputs": [
    {
     "name": "stdout",
     "output_type": "stream",
     "text": [
      "P-value( 2.7646672581411367e-14 )  is less then 0.05 so we can reject Ho(null) hypothesis and accept Ha(alternative) hypothesis \n"
     ]
    }
   ],
   "source": [
    "\n",
    "#Ho:Inrest rate not varies for different purpose of loans\n",
    "#Ha:Inrest rate varies for different purpose of loans\n",
    "\n",
    "#categorical(more than two group) vs continuous\n",
    "#ANOVA test\n",
    "categorical_Group_list=c.groupby('Loan_Purpose')['Interest_Rate'].apply(list)\n",
    "_,Pvalue=scipy.stats.f_oneway(*categorical_Group_list )\n",
    "\n",
    "def p_value(p):\n",
    "    if p<0.05:\n",
    "        print(\"P-value(\",p,\")  is less then 0.05 so we can reject Ho(null) hypothesis and accept Ha(alternative) hypothesis \" )\n",
    "    else:\n",
    "        print(\"P-value(\",p,\") is greater then 0.05 so we can not reject Ho(null) hypothesis\" )\n",
    "p_value(Pvalue)"
   ]
  },
  {
   "cell_type": "code",
   "execution_count": 40,
   "id": "65777524",
   "metadata": {
    "scrolled": true
   },
   "outputs": [
    {
     "name": "stderr",
     "output_type": "stream",
     "text": [
      "C:\\ProgramData\\Anaconda3\\lib\\site-packages\\seaborn\\_decorators.py:36: FutureWarning: Pass the following variables as keyword args: x, y. From version 0.12, the only valid positional argument will be `data`, and passing other arguments without an explicit keyword will result in an error or misinterpretation.\n",
      "  warnings.warn(\n"
     ]
    },
    {
     "data": {
      "text/plain": [
       "<AxesSubplot:xlabel='Interest_Rate', ylabel='Loan_Purpose'>"
      ]
     },
     "execution_count": 40,
     "metadata": {},
     "output_type": "execute_result"
    },
    {
     "data": {
      "image/png": "[encoded data removed]",
      "text/plain": [
       "<Figure size 432x288 with 1 Axes>"
      ]
     },
     "metadata": {
      "needs_background": "light"
     },
     "output_type": "display_data"
    }
   ],
   "source": [
    "sns.barplot('Interest_Rate','Loan_Purpose',data=c)\n"
   ]
  },
  {
   "cell_type": "code",
   "execution_count": null,
   "id": "902c5959",
   "metadata": {
    "scrolled": true
   },
   "outputs": [],
   "source": []
  },
  {
   "cell_type": "markdown",
   "id": "1e9bf09d",
   "metadata": {},
   "source": [
    "### d. There is relationship between FICO scores and Home Ownership. It means that, People with owning home will have high FICO scores."
   ]
  },
  {
   "cell_type": "code",
   "execution_count": 41,
   "id": "7d40ccf4",
   "metadata": {
    "scrolled": true
   },
   "outputs": [
    {
     "data": {
      "text/html": [
       "<div>\n",
       "<style scoped>\n",
       "    .dataframe tbody tr th:only-of-type {\n",
       "        vertical-align: middle;\n",
       "    }\n",
       "\n",
       "    .dataframe tbody tr th {\n",
       "        vertical-align: top;\n",
       "    }\n",
       "\n",
       "    .dataframe thead th {\n",
       "        text-align: right;\n",
       "    }\n",
       "</style>\n",
       "<table border=\"1\" class=\"dataframe\">\n",
       "  <thead>\n",
       "    <tr style=\"text-align: right;\">\n",
       "      <th></th>\n",
       "      <th>Home_Ownership</th>\n",
       "      <th>Lower_FICO_Range</th>\n",
       "      <th>Upper_FICO_Range</th>\n",
       "    </tr>\n",
       "  </thead>\n",
       "  <tbody>\n",
       "    <tr>\n",
       "      <th>0</th>\n",
       "      <td>MORTGAGE</td>\n",
       "      <td>735</td>\n",
       "      <td>739</td>\n",
       "    </tr>\n",
       "    <tr>\n",
       "      <th>1</th>\n",
       "      <td>MORTGAGE</td>\n",
       "      <td>715</td>\n",
       "      <td>719</td>\n",
       "    </tr>\n",
       "    <tr>\n",
       "      <th>2</th>\n",
       "      <td>MORTGAGE</td>\n",
       "      <td>690</td>\n",
       "      <td>694</td>\n",
       "    </tr>\n",
       "    <tr>\n",
       "      <th>3</th>\n",
       "      <td>MORTGAGE</td>\n",
       "      <td>695</td>\n",
       "      <td>699</td>\n",
       "    </tr>\n",
       "    <tr>\n",
       "      <th>4</th>\n",
       "      <td>RENT</td>\n",
       "      <td>695</td>\n",
       "      <td>699</td>\n",
       "    </tr>\n",
       "    <tr>\n",
       "      <th>...</th>\n",
       "      <td>...</td>\n",
       "      <td>...</td>\n",
       "      <td>...</td>\n",
       "    </tr>\n",
       "    <tr>\n",
       "      <th>2408</th>\n",
       "      <td>MORTGAGE</td>\n",
       "      <td>705</td>\n",
       "      <td>709</td>\n",
       "    </tr>\n",
       "    <tr>\n",
       "      <th>2409</th>\n",
       "      <td>OWN</td>\n",
       "      <td>740</td>\n",
       "      <td>744</td>\n",
       "    </tr>\n",
       "    <tr>\n",
       "      <th>2410</th>\n",
       "      <td>MORTGAGE</td>\n",
       "      <td>680</td>\n",
       "      <td>684</td>\n",
       "    </tr>\n",
       "    <tr>\n",
       "      <th>2411</th>\n",
       "      <td>RENT</td>\n",
       "      <td>675</td>\n",
       "      <td>679</td>\n",
       "    </tr>\n",
       "    <tr>\n",
       "      <th>2412</th>\n",
       "      <td>RENT</td>\n",
       "      <td>670</td>\n",
       "      <td>674</td>\n",
       "    </tr>\n",
       "  </tbody>\n",
       "</table>\n",
       "<p>2413 rows × 3 columns</p>\n",
       "</div>"
      ],
      "text/plain": [
       "     Home_Ownership  Lower_FICO_Range  Upper_FICO_Range\n",
       "0          MORTGAGE               735               739\n",
       "1          MORTGAGE               715               719\n",
       "2          MORTGAGE               690               694\n",
       "3          MORTGAGE               695               699\n",
       "4              RENT               695               699\n",
       "...             ...               ...               ...\n",
       "2408       MORTGAGE               705               709\n",
       "2409            OWN               740               744\n",
       "2410       MORTGAGE               680               684\n",
       "2411           RENT               675               679\n",
       "2412           RENT               670               674\n",
       "\n",
       "[2413 rows x 3 columns]"
      ]
     },
     "execution_count": 41,
     "metadata": {},
     "output_type": "execute_result"
    }
   ],
   "source": [
    "d=LoansData[['FICO_Range','Home_Ownership']]\n",
    "FICO=d['FICO_Range']\n",
    "U_F=[]\n",
    "L_F=[]\n",
    "for x,y in FICO:\n",
    "            U_F.append(int(y))\n",
    "            L_F.append(int(x))\n",
    "FICO=pd.DataFrame(L_F,U_F).reindex()  \n",
    "FICO=FICO.reset_index()\n",
    "FICO['Lower_FICO_Range']=FICO[0]\n",
    "FICO['Upper_FICO_Range']=FICO['index']\n",
    "FICO=FICO.drop(columns=['index', 0],axis=1)\n",
    "e=d.reset_index()\n",
    "d=e.join(FICO).drop(columns=['index','FICO_Range'])\n",
    "d"
   ]
  },
  {
   "cell_type": "raw",
   "id": "af3becef",
   "metadata": {},
   "source": [
    "# Loans['FICO.Range'].unique()\n",
    "array(['735-739', '715-719', '690-694', '695-699', '670-674', '720-724',\n",
    "       '705-709', '685-689', '665-669', '725-729', '730-734', '740-744',\n",
    "       '760-764', '675-679', '765-769', '780-784', '830-834', '660-664',\n",
    "       '710-714', '785-789', '750-754', '700-704', '680-684', '755-759',\n",
    "       '790-794', '810-814', '775-779', '815-819', '745-749', '805-809',\n",
    "       '800-804', '655-659', '770-774', '795-799', '640-644', '645-649',\n",
    "       '820-824', '650-654', nan], dtype=object)"
   ]
  },
  {
   "cell_type": "raw",
   "id": "ed4ed907",
   "metadata": {},
   "source": [
    "\n",
    "score=[]\n",
    "for U_Range in d['Upper_FICO_Range']:\n",
    "    if U_Range <= 644: \n",
    "        score.append('low')\n",
    "    elif U_Range > 644 and U_Range < 707:\n",
    "        score.append('Fair')\n",
    "    elif U_Range > 707 and U_Range < 770:\n",
    "        score.append('Good')\n",
    "    elif U_Range > 770 and U_Range < 834:\n",
    "        score.append('Very Good')\n",
    "    elif U_Range >= 834:\n",
    "        score.append('Excellent')\n",
    "    else:\n",
    "        score.append(\"ERROR\")\n",
    "    \n",
    "d['score']=score"
   ]
  },
  {
   "cell_type": "code",
   "execution_count": 42,
   "id": "8b0adfe0",
   "metadata": {
    "scrolled": true
   },
   "outputs": [],
   "source": [
    "score=[]\n",
    "for U_Range in d['Upper_FICO_Range']:\n",
    "    if U_Range <= 707: \n",
    "        score.append('Low')\n",
    "    elif U_Range > 707 and U_Range < 770:\n",
    "        score.append('Medium')\n",
    "    elif U_Range >= 770:\n",
    "        score.append('High')\n",
    "    else:\n",
    "        score.append(\"ERROR\")\n",
    "    \n",
    "d['score']=score"
   ]
  },
  {
   "cell_type": "raw",
   "id": "85623e2d",
   "metadata": {},
   "source": [
    "Ho: There is No relationship between FICO scores and Home Ownership.\n",
    "H1: There is relationship between FICO scores and Home Ownership."
   ]
  },
  {
   "cell_type": "code",
   "execution_count": 43,
   "id": "e19d75a8",
   "metadata": {
    "scrolled": true
   },
   "outputs": [],
   "source": [
    "#d[d['Home_Ownership']=='OWN'].groupby(['score'])['score'].count()\n",
    "#d.groupby(['Home_Ownership','score'])['score'].count()\n",
    "contingency=pd.crosstab(d['Home_Ownership'], d['score'])"
   ]
  },
  {
   "cell_type": "code",
   "execution_count": 44,
   "id": "f9df41ca",
   "metadata": {
    "scrolled": true
   },
   "outputs": [
    {
     "name": "stdout",
     "output_type": "stream",
     "text": [
      "P-value( 6.752165448138336e-11 )  is less then 0.05 so we can reject Ho(null) hypothesis and accept Ha(alternative) hypothesis \n"
     ]
    }
   ],
   "source": [
    "_, Pvalue, __, ___ =scipy.stats.chi2_contingency(contingency)\n",
    "def p_value(p):\n",
    "    if p<0.05:\n",
    "        print(\"P-value(\",p,\")  is less then 0.05 so we can reject Ho(null) hypothesis and accept Ha(alternative) hypothesis \" )\n",
    "    else:\n",
    "        print(\"P-value(\",p,\") is greater then 0.05 so we can not reject Ho(null) hypothesis\" )\n",
    "p_value(Pvalue)"
   ]
  },
  {
   "cell_type": "markdown",
   "id": "178d0421",
   "metadata": {},
   "source": [
    "means that FICO scores and Home Ownership have relation but not surely that , People with owning home will have high FICO scores"
   ]
  },
  {
   "cell_type": "code",
   "execution_count": 45,
   "id": "1245896a",
   "metadata": {
    "scrolled": true
   },
   "outputs": [
    {
     "data": {
      "text/html": [
       "<div>\n",
       "<style scoped>\n",
       "    .dataframe tbody tr th:only-of-type {\n",
       "        vertical-align: middle;\n",
       "    }\n",
       "\n",
       "    .dataframe tbody tr th {\n",
       "        vertical-align: top;\n",
       "    }\n",
       "\n",
       "    .dataframe thead th {\n",
       "        text-align: right;\n",
       "    }\n",
       "</style>\n",
       "<table border=\"1\" class=\"dataframe\">\n",
       "  <thead>\n",
       "    <tr style=\"text-align: right;\">\n",
       "      <th>score</th>\n",
       "      <th>High</th>\n",
       "      <th>Low</th>\n",
       "      <th>Medium</th>\n",
       "    </tr>\n",
       "    <tr>\n",
       "      <th>Home_Ownership</th>\n",
       "      <th></th>\n",
       "      <th></th>\n",
       "      <th></th>\n",
       "    </tr>\n",
       "  </thead>\n",
       "  <tbody>\n",
       "    <tr>\n",
       "      <th>MORTGAGE</th>\n",
       "      <td>102</td>\n",
       "      <td>524</td>\n",
       "      <td>483</td>\n",
       "    </tr>\n",
       "    <tr>\n",
       "      <th>OTHER</th>\n",
       "      <td>0</td>\n",
       "      <td>5</td>\n",
       "      <td>0</td>\n",
       "    </tr>\n",
       "    <tr>\n",
       "      <th>OWN</th>\n",
       "      <td>17</td>\n",
       "      <td>103</td>\n",
       "      <td>69</td>\n",
       "    </tr>\n",
       "    <tr>\n",
       "      <th>RENT</th>\n",
       "      <td>34</td>\n",
       "      <td>655</td>\n",
       "      <td>421</td>\n",
       "    </tr>\n",
       "  </tbody>\n",
       "</table>\n",
       "</div>"
      ],
      "text/plain": [
       "score           High  Low  Medium\n",
       "Home_Ownership                   \n",
       "MORTGAGE         102  524     483\n",
       "OTHER              0    5       0\n",
       "OWN               17  103      69\n",
       "RENT              34  655     421"
      ]
     },
     "execution_count": 45,
     "metadata": {},
     "output_type": "execute_result"
    }
   ],
   "source": [
    "contingency"
   ]
  },
  {
   "cell_type": "code",
   "execution_count": 46,
   "id": "80c4a808",
   "metadata": {
    "scrolled": true
   },
   "outputs": [
    {
     "data": {
      "text/plain": [
       "<AxesSubplot:xlabel='score'>"
      ]
     },
     "execution_count": 46,
     "metadata": {},
     "output_type": "execute_result"
    },
    {
     "data": {
      "image/png": "[encoded data removed]",
      "text/plain": [
       "<Figure size 432x288 with 1 Axes>"
      ]
     },
     "metadata": {
      "needs_background": "light"
     },
     "output_type": "display_data"
    }
   ],
   "source": [
    "T=contingency.T\n",
    "T.plot(kind='bar')"
   ]
  },
  {
   "cell_type": "markdown",
   "id": "8041ff37",
   "metadata": {},
   "source": [
    "# BUSINESS PROBLEM - 2"
   ]
  },
  {
   "cell_type": "code",
   "execution_count": 47,
   "id": "30195820",
   "metadata": {
    "scrolled": true
   },
   "outputs": [],
   "source": [
    "Price_Quotes=pd.read_csv('Price_Quotes.csv')"
   ]
  },
  {
   "cell_type": "code",
   "execution_count": 48,
   "id": "65853584",
   "metadata": {
    "scrolled": true
   },
   "outputs": [
    {
     "data": {
      "text/html": [
       "<div>\n",
       "<style scoped>\n",
       "    .dataframe tbody tr th:only-of-type {\n",
       "        vertical-align: middle;\n",
       "    }\n",
       "\n",
       "    .dataframe tbody tr th {\n",
       "        vertical-align: top;\n",
       "    }\n",
       "\n",
       "    .dataframe thead th {\n",
       "        text-align: right;\n",
       "    }\n",
       "</style>\n",
       "<table border=\"1\" class=\"dataframe\">\n",
       "  <thead>\n",
       "    <tr style=\"text-align: right;\">\n",
       "      <th></th>\n",
       "      <th>Order_Number</th>\n",
       "      <th>Barry_Price</th>\n",
       "      <th>Mary_Price</th>\n",
       "    </tr>\n",
       "  </thead>\n",
       "  <tbody>\n",
       "    <tr>\n",
       "      <th>0</th>\n",
       "      <td>1</td>\n",
       "      <td>126</td>\n",
       "      <td>114</td>\n",
       "    </tr>\n",
       "    <tr>\n",
       "      <th>1</th>\n",
       "      <td>2</td>\n",
       "      <td>110</td>\n",
       "      <td>118</td>\n",
       "    </tr>\n",
       "    <tr>\n",
       "      <th>2</th>\n",
       "      <td>3</td>\n",
       "      <td>138</td>\n",
       "      <td>114</td>\n",
       "    </tr>\n",
       "    <tr>\n",
       "      <th>3</th>\n",
       "      <td>4</td>\n",
       "      <td>142</td>\n",
       "      <td>111</td>\n",
       "    </tr>\n",
       "    <tr>\n",
       "      <th>4</th>\n",
       "      <td>5</td>\n",
       "      <td>146</td>\n",
       "      <td>129</td>\n",
       "    </tr>\n",
       "    <tr>\n",
       "      <th>5</th>\n",
       "      <td>6</td>\n",
       "      <td>136</td>\n",
       "      <td>119</td>\n",
       "    </tr>\n",
       "    <tr>\n",
       "      <th>6</th>\n",
       "      <td>7</td>\n",
       "      <td>94</td>\n",
       "      <td>97</td>\n",
       "    </tr>\n",
       "    <tr>\n",
       "      <th>7</th>\n",
       "      <td>8</td>\n",
       "      <td>103</td>\n",
       "      <td>104</td>\n",
       "    </tr>\n",
       "    <tr>\n",
       "      <th>8</th>\n",
       "      <td>9</td>\n",
       "      <td>140</td>\n",
       "      <td>127</td>\n",
       "    </tr>\n",
       "    <tr>\n",
       "      <th>9</th>\n",
       "      <td>10</td>\n",
       "      <td>152</td>\n",
       "      <td>133</td>\n",
       "    </tr>\n",
       "    <tr>\n",
       "      <th>10</th>\n",
       "      <td>11</td>\n",
       "      <td>108</td>\n",
       "      <td>103</td>\n",
       "    </tr>\n",
       "    <tr>\n",
       "      <th>11</th>\n",
       "      <td>12</td>\n",
       "      <td>97</td>\n",
       "      <td>108</td>\n",
       "    </tr>\n",
       "  </tbody>\n",
       "</table>\n",
       "</div>"
      ],
      "text/plain": [
       "    Order_Number  Barry_Price  Mary_Price\n",
       "0              1          126         114\n",
       "1              2          110         118\n",
       "2              3          138         114\n",
       "3              4          142         111\n",
       "4              5          146         129\n",
       "5              6          136         119\n",
       "6              7           94          97\n",
       "7              8          103         104\n",
       "8              9          140         127\n",
       "9             10          152         133\n",
       "10            11          108         103\n",
       "11            12           97         108"
      ]
     },
     "execution_count": 48,
     "metadata": {},
     "output_type": "execute_result"
    }
   ],
   "source": [
    "Price_Quotes"
   ]
  },
  {
   "cell_type": "code",
   "execution_count": 49,
   "id": "35737267",
   "metadata": {
    "scrolled": true
   },
   "outputs": [
    {
     "data": {
      "text/html": [
       "<div>\n",
       "<style scoped>\n",
       "    .dataframe tbody tr th:only-of-type {\n",
       "        vertical-align: middle;\n",
       "    }\n",
       "\n",
       "    .dataframe tbody tr th {\n",
       "        vertical-align: top;\n",
       "    }\n",
       "\n",
       "    .dataframe thead th {\n",
       "        text-align: right;\n",
       "    }\n",
       "</style>\n",
       "<table border=\"1\" class=\"dataframe\">\n",
       "  <thead>\n",
       "    <tr style=\"text-align: right;\">\n",
       "      <th></th>\n",
       "      <th>Barry_Price-</th>\n",
       "      <th>Mary_Price-</th>\n",
       "      <th>average_difference</th>\n",
       "    </tr>\n",
       "  </thead>\n",
       "  <tbody>\n",
       "    <tr>\n",
       "      <th>0</th>\n",
       "      <td>10.500000</td>\n",
       "      <td>9.500000</td>\n",
       "      <td>1.000000</td>\n",
       "    </tr>\n",
       "    <tr>\n",
       "      <th>1</th>\n",
       "      <td>9.166667</td>\n",
       "      <td>9.833333</td>\n",
       "      <td>-0.666667</td>\n",
       "    </tr>\n",
       "    <tr>\n",
       "      <th>2</th>\n",
       "      <td>11.500000</td>\n",
       "      <td>9.500000</td>\n",
       "      <td>2.000000</td>\n",
       "    </tr>\n",
       "    <tr>\n",
       "      <th>3</th>\n",
       "      <td>11.833333</td>\n",
       "      <td>9.250000</td>\n",
       "      <td>2.583333</td>\n",
       "    </tr>\n",
       "    <tr>\n",
       "      <th>4</th>\n",
       "      <td>12.166667</td>\n",
       "      <td>10.750000</td>\n",
       "      <td>1.416667</td>\n",
       "    </tr>\n",
       "    <tr>\n",
       "      <th>5</th>\n",
       "      <td>11.333333</td>\n",
       "      <td>9.916667</td>\n",
       "      <td>1.416667</td>\n",
       "    </tr>\n",
       "    <tr>\n",
       "      <th>6</th>\n",
       "      <td>7.833333</td>\n",
       "      <td>8.083333</td>\n",
       "      <td>-0.250000</td>\n",
       "    </tr>\n",
       "    <tr>\n",
       "      <th>7</th>\n",
       "      <td>8.583333</td>\n",
       "      <td>8.666667</td>\n",
       "      <td>-0.083333</td>\n",
       "    </tr>\n",
       "    <tr>\n",
       "      <th>8</th>\n",
       "      <td>11.666667</td>\n",
       "      <td>10.583333</td>\n",
       "      <td>1.083333</td>\n",
       "    </tr>\n",
       "    <tr>\n",
       "      <th>9</th>\n",
       "      <td>12.666667</td>\n",
       "      <td>11.083333</td>\n",
       "      <td>1.583333</td>\n",
       "    </tr>\n",
       "    <tr>\n",
       "      <th>10</th>\n",
       "      <td>9.000000</td>\n",
       "      <td>8.583333</td>\n",
       "      <td>0.416667</td>\n",
       "    </tr>\n",
       "    <tr>\n",
       "      <th>11</th>\n",
       "      <td>8.083333</td>\n",
       "      <td>9.000000</td>\n",
       "      <td>-0.916667</td>\n",
       "    </tr>\n",
       "  </tbody>\n",
       "</table>\n",
       "</div>"
      ],
      "text/plain": [
       "    Barry_Price-  Mary_Price-  average_difference\n",
       "0      10.500000     9.500000            1.000000\n",
       "1       9.166667     9.833333           -0.666667\n",
       "2      11.500000     9.500000            2.000000\n",
       "3      11.833333     9.250000            2.583333\n",
       "4      12.166667    10.750000            1.416667\n",
       "5      11.333333     9.916667            1.416667\n",
       "6       7.833333     8.083333           -0.250000\n",
       "7       8.583333     8.666667           -0.083333\n",
       "8      11.666667    10.583333            1.083333\n",
       "9      12.666667    11.083333            1.583333\n",
       "10      9.000000     8.583333            0.416667\n",
       "11      8.083333     9.000000           -0.916667"
      ]
     },
     "execution_count": 49,
     "metadata": {},
     "output_type": "execute_result"
    }
   ],
   "source": [
    "average_difference ={'Barry_Price-':Price_Quotes['Barry_Price']/12,\n",
    "          'Mary_Price-':Price_Quotes['Mary_Price']/12,\n",
    "          'average_difference':(Price_Quotes['Barry_Price'] / 12) - (Price_Quotes['Mary_Price'] / 12)}\n",
    "pd.DataFrame(average_difference)"
   ]
  },
  {
   "cell_type": "code",
   "execution_count": 50,
   "id": "e8a9565c",
   "metadata": {
    "scrolled": true
   },
   "outputs": [
    {
     "name": "stdout",
     "output_type": "stream",
     "text": [
      "m_average 8.083333333333334\n",
      "b_average 9.0\n"
     ]
    }
   ],
   "source": [
    "m_average = 0\n",
    "b_average = 0\n",
    "\n",
    "for i in range(12):\n",
    "    \n",
    "    m_average = m_average + Price_Quotes['Barry_Price'][i] / 12\n",
    "    #print('Marry-',i,m_average)\n",
    "print('m_average',Price_Quotes['Barry_Price'][i] / 12)\n",
    "\n",
    "for j in range(12):\n",
    "    b_average = b_average + Price_Quotes['Mary_Price'][j] / 12\n",
    "    #print('Barry-',j,b_average)\n",
    "print('b_average',Price_Quotes['Mary_Price'][j] / 12)\n"
   ]
  },
  {
   "cell_type": "code",
   "execution_count": 51,
   "id": "447cd193",
   "metadata": {
    "scrolled": true
   },
   "outputs": [
    {
     "name": "stdout",
     "output_type": "stream",
     "text": [
      "There are different average prices\n"
     ]
    }
   ],
   "source": [
    "if m_average == b_average:\n",
    "    print(\"There are same average prices\")\n",
    "else:\n",
    "    print(\"There are different average prices\")"
   ]
  },
  {
   "cell_type": "markdown",
   "id": "1d53c603",
   "metadata": {},
   "source": [
    "# BUSINESS PROBLEM -3:"
   ]
  },
  {
   "cell_type": "raw",
   "id": "8e4a57aa",
   "metadata": {},
   "source": [
    "Determine what effect, if any,\n",
    "the reengineering effort had on the incidence behavioral problems and staff turnover.\n",
    "i.e To determine if the reengineering effort changed the critical incidence rate.\n",
    "Is there evidence that the critical incidence rate improved?"
   ]
  },
  {
   "cell_type": "code",
   "execution_count": 52,
   "id": "d02a416a",
   "metadata": {
    "scrolled": true
   },
   "outputs": [],
   "source": [
    "Treatment_Facility=pd.read_csv(\"Treatment_Facility.csv\")\n"
   ]
  },
  {
   "cell_type": "code",
   "execution_count": 53,
   "id": "b4c39063",
   "metadata": {
    "scrolled": true
   },
   "outputs": [],
   "source": [
    "#Treatment_Facility=Treatment_Facility.set_index('Month')"
   ]
  },
  {
   "cell_type": "code",
   "execution_count": 54,
   "id": "260a8c10",
   "metadata": {
    "scrolled": true
   },
   "outputs": [
    {
     "data": {
      "text/html": [
       "<div>\n",
       "<style scoped>\n",
       "    .dataframe tbody tr th:only-of-type {\n",
       "        vertical-align: middle;\n",
       "    }\n",
       "\n",
       "    .dataframe tbody tr th {\n",
       "        vertical-align: top;\n",
       "    }\n",
       "\n",
       "    .dataframe thead th {\n",
       "        text-align: right;\n",
       "    }\n",
       "</style>\n",
       "<table border=\"1\" class=\"dataframe\">\n",
       "  <thead>\n",
       "    <tr style=\"text-align: right;\">\n",
       "      <th></th>\n",
       "      <th>Month</th>\n",
       "      <th>Reengineer</th>\n",
       "      <th>Employee_Turnover</th>\n",
       "      <th>VAR4</th>\n",
       "      <th>VAR5</th>\n",
       "    </tr>\n",
       "  </thead>\n",
       "  <tbody>\n",
       "    <tr>\n",
       "      <th>0</th>\n",
       "      <td>1</td>\n",
       "      <td>Prior</td>\n",
       "      <td>0.0000</td>\n",
       "      <td>24.390244</td>\n",
       "      <td>42.682927</td>\n",
       "    </tr>\n",
       "    <tr>\n",
       "      <th>1</th>\n",
       "      <td>2</td>\n",
       "      <td>Prior</td>\n",
       "      <td>6.0606</td>\n",
       "      <td>19.354839</td>\n",
       "      <td>25.806452</td>\n",
       "    </tr>\n",
       "    <tr>\n",
       "      <th>2</th>\n",
       "      <td>3</td>\n",
       "      <td>Prior</td>\n",
       "      <td>12.1212</td>\n",
       "      <td>35.087719</td>\n",
       "      <td>146.198830</td>\n",
       "    </tr>\n",
       "    <tr>\n",
       "      <th>3</th>\n",
       "      <td>4</td>\n",
       "      <td>Prior</td>\n",
       "      <td>3.3333</td>\n",
       "      <td>18.404908</td>\n",
       "      <td>110.429448</td>\n",
       "    </tr>\n",
       "    <tr>\n",
       "      <th>4</th>\n",
       "      <td>5</td>\n",
       "      <td>Prior</td>\n",
       "      <td>12.9032</td>\n",
       "      <td>17.964072</td>\n",
       "      <td>23.952096</td>\n",
       "    </tr>\n",
       "  </tbody>\n",
       "</table>\n",
       "</div>"
      ],
      "text/plain": [
       "   Month Reengineer  Employee_Turnover       VAR4        VAR5\n",
       "0      1      Prior             0.0000  24.390244   42.682927\n",
       "1      2      Prior             6.0606  19.354839   25.806452\n",
       "2      3      Prior            12.1212  35.087719  146.198830\n",
       "3      4      Prior             3.3333  18.404908  110.429448\n",
       "4      5      Prior            12.9032  17.964072   23.952096"
      ]
     },
     "execution_count": 54,
     "metadata": {},
     "output_type": "execute_result"
    }
   ],
   "source": [
    "Treatment_Facility.head(5)"
   ]
  },
  {
   "cell_type": "code",
   "execution_count": 55,
   "id": "fb57c8a0",
   "metadata": {
    "scrolled": true
   },
   "outputs": [],
   "source": [
    "#TRFF(%):temporarily removed from the facility\n",
    "#CI (%):critical incident\n",
    "\n",
    "Treatment_Facility.rename(columns={'VAR4':'TRFF', 'VAR5':'CI'}, inplace = True)"
   ]
  },
  {
   "cell_type": "code",
   "execution_count": 56,
   "id": "b82c741b",
   "metadata": {
    "scrolled": true
   },
   "outputs": [
    {
     "data": {
      "image/png": "[encoded data removed]",
      "text/plain": [
       "<Figure size 432x288 with 3 Axes>"
      ]
     },
     "metadata": {
      "needs_background": "light"
     },
     "output_type": "display_data"
    }
   ],
   "source": [
    "fig, axs = plt.subplots(ncols=3)\n",
    "sns.boxplot(x=Treatment_Facility.Reengineer,y=Treatment_Facility.Employee_Turnover, ax=axs[0])\n",
    "sns.boxplot(x=Treatment_Facility.Reengineer,y=Treatment_Facility.CI, ax=axs[1])\n",
    "sns.boxplot(x=Treatment_Facility.Reengineer,y=Treatment_Facility.TRFF,ax=axs[2])\n",
    "\n",
    "plt.subplots_adjust(left=0.1,\n",
    "                    bottom=0.1, \n",
    "                    right=1, \n",
    "                    top=0.9, \n",
    "                    wspace=0.6, \n",
    "                    hspace=0.2)\n",
    "plt.show()"
   ]
  },
  {
   "cell_type": "code",
   "execution_count": 57,
   "id": "db68eb98",
   "metadata": {
    "scrolled": true
   },
   "outputs": [
    {
     "name": "stdout",
     "output_type": "stream",
     "text": [
      "P-value( 0.009856726962285454 )  is less then 0.05 so we can reject Ho(null) hypothesis and accept Ha(alternative) hypothesis \n"
     ]
    }
   ],
   "source": [
    "#Ho:There is no effect of reengineering effort on  Employee_Turnover\n",
    "#Ha:There is  effect of reengineering effort on  Employee_Turnover\n",
    "#choosing random sample of Prior as  equal to Post \n",
    "\n",
    "s,Pvalue=scipy.stats.ttest_ind(Treatment_Facility.Employee_Turnover[Treatment_Facility.Reengineer.eq('Prior')].sample(7,replace=True),Treatment_Facility.Employee_Turnover[Treatment_Facility.Reengineer.eq('Post')], equal_var=False, alternative='less')\n",
    "def p_value(p):\n",
    "    if p<0.05:\n",
    "        print(\"P-value(\",p,\")  is less then 0.05 so we can reject Ho(null) hypothesis and accept Ha(alternative) hypothesis \" )\n",
    "    else:\n",
    "        print(\"P-value(\",p,\") is greater then 0.05 so we can not reject Ho(null) hypothesis\" )\n",
    "p_value(Pvalue)"
   ]
  },
  {
   "cell_type": "code",
   "execution_count": null,
   "id": "a3596909",
   "metadata": {
    "scrolled": true
   },
   "outputs": [],
   "source": []
  },
  {
   "cell_type": "code",
   "execution_count": 58,
   "id": "cee75ed9",
   "metadata": {
    "scrolled": true
   },
   "outputs": [
    {
     "name": "stdout",
     "output_type": "stream",
     "text": [
      "P-value( 0.04680554672767652 )  is less then 0.05 so we can reject Ho(null) hypothesis and accept Ha(alternative) hypothesis \n"
     ]
    }
   ],
   "source": [
    "#Ho:There is no effect of reengineering effort on  Employee_Turnover\n",
    "#Ha:There is  effect of reengineering effort on  Employee_Turnover\n",
    "\n",
    "s,Pvalue=scipy.stats.ttest_ind(Treatment_Facility.Employee_Turnover[Treatment_Facility.Reengineer.eq('Prior')],Treatment_Facility.Employee_Turnover[Treatment_Facility.Reengineer.eq('Post')], equal_var=True, alternative='less')\n",
    "def p_value(p):\n",
    "    if p<0.05:\n",
    "        print(\"P-value(\",p,\")  is less then 0.05 so we can reject Ho(null) hypothesis and accept Ha(alternative) hypothesis \" )\n",
    "    else:\n",
    "        print(\"P-value(\",p,\") is greater then 0.05 so we can not reject Ho(null) hypothesis\" )\n",
    "p_value(Pvalue)"
   ]
  },
  {
   "cell_type": "code",
   "execution_count": null,
   "id": "8493c276",
   "metadata": {
    "scrolled": true
   },
   "outputs": [],
   "source": []
  },
  {
   "cell_type": "code",
   "execution_count": 59,
   "id": "0ee97f35",
   "metadata": {
    "scrolled": true
   },
   "outputs": [
    {
     "name": "stdout",
     "output_type": "stream",
     "text": [
      "P-value( 0.022782759785096588 )  is less then 0.05 so we can reject Ho(null) hypothesis and accept Ha(alternative) hypothesis \n"
     ]
    }
   ],
   "source": [
    "#Ho:reengineering effort not changed the critical incidence rate.\n",
    "#Ha:reengineering effort changed the critical incidence rate.\n",
    "\n",
    "s,Pvalue=scipy.stats.ttest_ind(Treatment_Facility.CI[Treatment_Facility.Reengineer.eq('Prior')],Treatment_Facility.CI[Treatment_Facility.Reengineer.eq('Post')], \n",
    "                      equal_var=False,alternative='greater')\n",
    "def p_value(p):\n",
    "    if p<0.05:\n",
    "        print(\"P-value(\",p,\")  is less then 0.05 so we can reject Ho(null) hypothesis and accept Ha(alternative) hypothesis \" )\n",
    "    else:\n",
    "        print(\"P-value(\",p,\") is greater then 0.05 so we can not reject Ho(null) hypothesis\" )\n",
    "p_value(Pvalue)"
   ]
  },
  {
   "cell_type": "code",
   "execution_count": null,
   "id": "184c9ac7",
   "metadata": {
    "scrolled": true
   },
   "outputs": [],
   "source": []
  },
  {
   "cell_type": "code",
   "execution_count": 60,
   "id": "6f994633",
   "metadata": {
    "scrolled": true
   },
   "outputs": [
    {
     "name": "stdout",
     "output_type": "stream",
     "text": [
      "Mean: -30.538187041960434 Standard deviation: -40.887365677786825 Variance: -2310.288587708754 mean absolute deviation: -34.7700037551176\n"
     ]
    }
   ],
   "source": [
    "#finding Reengineer difference between Post data and Prior data\n",
    "Mean=Treatment_Facility.CI[Treatment_Facility.Reengineer.eq('Post')].mean()-Treatment_Facility.CI[Treatment_Facility.Reengineer.eq('Prior')].mean()\n",
    "Std=Treatment_Facility.CI[Treatment_Facility.Reengineer.eq('Post')].std()-Treatment_Facility.CI[Treatment_Facility.Reengineer.eq('Prior')].std()\n",
    "Var=Treatment_Facility.CI[Treatment_Facility.Reengineer.eq('Post')].var()-Treatment_Facility.CI[Treatment_Facility.Reengineer.eq('Prior')].var()\n",
    "MAD=Treatment_Facility.CI[Treatment_Facility.Reengineer.eq('Post')].mad()-Treatment_Facility.CI[Treatment_Facility.Reengineer.eq('Prior')].mad()\n",
    "print('Mean:',Mean,'Standard deviation:',Std,'Variance:',Var,'mean absolute deviation:',MAD)"
   ]
  },
  {
   "cell_type": "markdown",
   "id": "bdff46c5",
   "metadata": {},
   "source": [
    "negative sign give us evidence that the critical incidence rate is decreased after Reengineer effort"
   ]
  },
  {
   "cell_type": "code",
   "execution_count": 61,
   "id": "b7b9da1d",
   "metadata": {
    "scrolled": true
   },
   "outputs": [
    {
     "data": {
      "text/plain": [
       "<function matplotlib.pyplot.show(close=None, block=None)>"
      ]
     },
     "execution_count": 61,
     "metadata": {},
     "output_type": "execute_result"
    },
    {
     "data": {
      "image/png": "[encoded data removed]",
      "text/plain": [
       "<Figure size 432x288 with 1 Axes>"
      ]
     },
     "metadata": {
      "needs_background": "light"
     },
     "output_type": "display_data"
    }
   ],
   "source": [
    "sns.boxplot(x=Treatment_Facility.Reengineer,y=Treatment_Facility.CI)\n",
    "plt.show"
   ]
  },
  {
   "cell_type": "code",
   "execution_count": null,
   "id": "f9ea8f32",
   "metadata": {
    "scrolled": true
   },
   "outputs": [],
   "source": []
  },
  {
   "cell_type": "code",
   "execution_count": null,
   "id": "9c827c62",
   "metadata": {
    "scrolled": true
   },
   "outputs": [],
   "source": []
  },
  {
   "cell_type": "raw",
   "id": "9abe99bc",
   "metadata": {},
   "source": [
    "#ho:two population variances are  equal\n",
    "#ha:two population variances are not equal\n",
    "x=Treatment_Facility.CI[Treatment_Facility.Reengineer.eq('Prior')]\n",
    "y=Treatment_Facility.CI[Treatment_Facility.Reengineer.eq('Post')]\n",
    "def f_test(group1, group2):\n",
    "    f = np.var(group1, ddof=1)/np.var(group2, ddof=1)\n",
    "    nun = x.size-1\n",
    "    dun = y.size-1\n",
    "    p_value = 1-scipy.stats.f.cdf(f, nun, dun)\n",
    "    return f, p_value\n",
    "# perform F-test\n",
    "s,Pvalue=f_test(x, y)\n",
    "def p_value(p):\n",
    "    if p<0.05:\n",
    "        print(\"P-value(\",p,\")  is less then 0.05 so we can reject Ho(null) hypothesis and accept Ha(alternative) hypothesis \" )\n",
    "    else:\n",
    "        print(\"P-value(\",p,\") is greater then 0.05 so we can not reject Ho(null) hypothesis\" )\n",
    "p_value(Pvalue)"
   ]
  },
  {
   "cell_type": "code",
   "execution_count": null,
   "id": "212a2f18",
   "metadata": {
    "scrolled": true
   },
   "outputs": [],
   "source": []
  },
  {
   "cell_type": "markdown",
   "id": "7d0b1b76",
   "metadata": {},
   "source": [
    "# BUSINESS PROBLEM-4"
   ]
  },
  {
   "cell_type": "code",
   "execution_count": 62,
   "id": "effb5ff2",
   "metadata": {
    "scrolled": true
   },
   "outputs": [],
   "source": [
    "Priority_Assessment=pd.read_csv('Priority_Assessment.csv')"
   ]
  },
  {
   "cell_type": "code",
   "execution_count": 63,
   "id": "5be3ff7c",
   "metadata": {
    "scrolled": true
   },
   "outputs": [
    {
     "data": {
      "text/plain": [
       "Priority\n",
       "High      3.023620\n",
       "Low       4.228358\n",
       "Medium    2.500000\n",
       "Name: Days, dtype: float64"
      ]
     },
     "execution_count": 63,
     "metadata": {},
     "output_type": "execute_result"
    }
   ],
   "source": [
    "Priority_Assessment.groupby('Priority')['Days'].mean()"
   ]
  },
  {
   "cell_type": "code",
   "execution_count": 64,
   "id": "d414c368",
   "metadata": {
    "scrolled": true
   },
   "outputs": [
    {
     "name": "stderr",
     "output_type": "stream",
     "text": [
      "C:\\ProgramData\\Anaconda3\\lib\\site-packages\\seaborn\\_decorators.py:36: FutureWarning: Pass the following variables as keyword args: x, y. From version 0.12, the only valid positional argument will be `data`, and passing other arguments without an explicit keyword will result in an error or misinterpretation.\n",
      "  warnings.warn(\n"
     ]
    },
    {
     "data": {
      "text/plain": [
       "<AxesSubplot:xlabel='Priority', ylabel='Days'>"
      ]
     },
     "execution_count": 64,
     "metadata": {},
     "output_type": "execute_result"
    },
    {
     "data": {
      "image/png": "[encoded data removed]",
      "text/plain": [
       "<Figure size 432x288 with 1 Axes>"
      ]
     },
     "metadata": {
      "needs_background": "light"
     },
     "output_type": "display_data"
    }
   ],
   "source": [
    "sns.barplot(Priority_Assessment.Priority,Priority_Assessment.Days)"
   ]
  },
  {
   "cell_type": "code",
   "execution_count": 65,
   "id": "cf0d3c1f",
   "metadata": {
    "scrolled": true
   },
   "outputs": [
    {
     "name": "stdout",
     "output_type": "stream",
     "text": [
      "P-value( 0.030305760547285312 )  is less then 0.05 so we can reject Ho(null) hypothesis and accept Ha(alternative) hypothesis \n"
     ]
    }
   ],
   "source": [
    "#Ho: µ(High)=µ(Medium)=µ(Low)\n",
    "#Ha: one Priority is diffrent from another two\n",
    "s,Pvalue=scipy.stats.kruskal(Priority_Assessment.Days[Priority_Assessment.Priority.eq('High')],Priority_Assessment.Days[Priority_Assessment.Priority.eq('Medium')],Priority_Assessment.Days[Priority_Assessment.Priority.eq('Low')])\n",
    "def p_value(p):\n",
    "    if p<0.05:\n",
    "        print(\"P-value(\",p,\")  is less then 0.05 so we can reject Ho(null) hypothesis and accept Ha(alternative) hypothesis \" )\n",
    "    else:\n",
    "        print(\"P-value(\",p,\") is greater then 0.05 so we can not reject Ho(null) hypothesis\" )\n",
    "p_value(Pvalue)"
   ]
  },
  {
   "cell_type": "raw",
   "id": "b6ff65b4",
   "metadata": {},
   "source": [
    "#Ho:there is no difference in average,\n",
    "#Ha:there is  difference in average.\n",
    "s,Pvalue=scipy.stats.f_oneway(Priority_Assessment['Days'][Priority_Assessment['Priority'] == 'High'],\n",
    "               Priority_Assessment['Days'][Priority_Assessment['Priority'] == 'Medium'],\n",
    "               Priority_Assessment['Days'][Priority_Assessment['Priority'] == 'Low'])\n",
    "def p_value(p):\n",
    "    if p<0.05:\n",
    "        print(\"P-value(\",p,\")  is less then 0.05 so we can reject Ho(null) hypothesis and accept Ha(alternative) hypothesis \" )\n",
    "    else:\n",
    "        print(\"P-value(\",p,\") is greater then 0.05 so we can not reject Ho(null) hypothesis\" )\n",
    "p_value(Pvalue)"
   ]
  },
  {
   "cell_type": "code",
   "execution_count": 66,
   "id": "d6aa8cd3",
   "metadata": {
    "scrolled": true
   },
   "outputs": [
    {
     "name": "stdout",
     "output_type": "stream",
     "text": [
      "P-value( 0.8357702171701902 ) is greater then 0.05 so we can not reject Ho(null) hypothesis\n"
     ]
    }
   ],
   "source": [
    "#high priority jobs, on average, should be completed more quickly than medium priority jobs\n",
    "#Ho:high priority jobs, on average, should not be  completed more quickly than medium priority jobs\n",
    "#Ha:high priority jobs, on average, should be  completed more quickly than medium priority jobs\n",
    "    \n",
    "s,Pvalue=scipy.stats.ttest_ind(Priority_Assessment.Days[Priority_Assessment.Priority.eq('High')],Priority_Assessment.Days[Priority_Assessment.Priority.eq('Medium')],equal_var=False,alternative='less')\n",
    "def p_value(p):\n",
    "    if p<0.05:\n",
    "        print(\"P-value(\",p,\")  is less then 0.05 so we can reject Ho(null) hypothesis and accept Ha(alternative) hypothesis \" )\n",
    "    else:\n",
    "        print(\"P-value(\",p,\") is greater then 0.05 so we can not reject Ho(null) hypothesis\" )\n",
    "p_value(Pvalue)"
   ]
  },
  {
   "cell_type": "code",
   "execution_count": 67,
   "id": "bc5f90a2",
   "metadata": {
    "scrolled": true
   },
   "outputs": [
    {
     "name": "stdout",
     "output_type": "stream",
     "text": [
      "P-value( 0.019977887476419157 )  is less then 0.05 so we can reject Ho(null) hypothesis and accept Ha(alternative) hypothesis \n"
     ]
    }
   ],
   "source": [
    "#high priority jobs, on average, should be completed more quickly than medium priority jobs\n",
    "#Ho:Medium priority jobs, on average, should not be  completed more quickly than Low priority jobs\n",
    "#Ha:Medium priority jobs, on average, should be  completed more quickly than Low priority jobs\n",
    "    \n",
    "s,Pvalue=scipy.stats.ttest_ind(Priority_Assessment.Days[Priority_Assessment.Priority.eq('Medium')],Priority_Assessment.Days[Priority_Assessment.Priority.eq('Low')],equal_var=False,alternative='less')\n",
    "def p_value(p):\n",
    "    if p<0.05:\n",
    "        print(\"P-value(\",p,\")  is less then 0.05 so we can reject Ho(null) hypothesis and accept Ha(alternative) hypothesis \" )\n",
    "    else:\n",
    "        print(\"P-value(\",p,\") is greater then 0.05 so we can not reject Ho(null) hypothesis\" )\n",
    "p_value(Pvalue)"
   ]
  },
  {
   "cell_type": "code",
   "execution_count": 68,
   "id": "0ffe79a9",
   "metadata": {
    "scrolled": true
   },
   "outputs": [
    {
     "name": "stdout",
     "output_type": "stream",
     "text": [
      "P-value( 0.08658763310564742 ) is greater then 0.05 so we can not reject Ho(null) hypothesis\n"
     ]
    }
   ],
   "source": [
    "#high priority jobs, on average, should be completed more quickly than medium priority jobs\n",
    "#Ho:High priority jobs, on average, should not be  completed more quickly than Low priority jobs\n",
    "#Ha:High priority jobs, on average, should be  completed more quickly than Low priority jobs\n",
    "    \n",
    "s,Pvalue=scipy.stats.ttest_ind(Priority_Assessment.Days[Priority_Assessment.Priority.eq('High')],Priority_Assessment.Days[Priority_Assessment.Priority.eq('Low')],equal_var=False,alternative='less')\n",
    "def p_value(p):\n",
    "    if p<0.05:\n",
    "        print(\"P-value(\",p,\")  is less then 0.05 so we can reject Ho(null) hypothesis and accept Ha(alternative) hypothesis \" )\n",
    "    else:\n",
    "        print(\"P-value(\",p,\") is greater then 0.05 so we can not reject Ho(null) hypothesis\" )\n",
    "p_value(Pvalue)"
   ]
  },
  {
   "cell_type": "markdown",
   "id": "c5d65e08",
   "metadata": {},
   "source": [
    "'high priority jobs, on average, should be completed more quickly than medium priority jobs,\n",
    "and medium priority jobs should be completed more quickly than low priority jobs.'\n",
    " \n",
    "using 95% confidence interval we can't say surely given fact happening.."
   ]
  },
  {
   "cell_type": "code",
   "execution_count": null,
   "id": "4d8ee289",
   "metadata": {
    "scrolled": true
   },
   "outputs": [],
   "source": []
  },
  {
   "cell_type": "markdown",
   "id": "958b0c21",
   "metadata": {},
   "source": [
    "# BUSINESS PROBLEM-5"
   ]
  },
  {
   "cell_type": "raw",
   "id": "5c7f7182",
   "metadata": {},
   "source": [
    "Gender      Marital Status  Age(years)  Income                  Hear About         Likert-scaled\n",
    "1 = male;   1 = married;    1 = 1-12;   1 = Less than $50,000;  1 = television;    1 = Excellent;\n",
    "2 = female  2 = single      2 = 13-30;  2 = $50-$100,000;       2 = newspaper;     2 = Good;\n",
    "                            3 = 31-60;  3 = $100,000+           3 = radio;         3 = Average/Fair;\n",
    "                            4 = 60+                             4 = website;       4 = Poor;\n",
    "                                                                5 = word of mouth  5 = Very Poor"
   ]
  },
  {
   "cell_type": "code",
   "execution_count": 69,
   "id": "fce44696",
   "metadata": {
    "scrolled": true
   },
   "outputs": [],
   "source": [
    "Films=pd.read_csv('Films.csv')\n",
    "Films=Films.dropna()\n",
    "Films=Films.drop('_rowstate_',axis=1)\n",
    "Films['Gender']=Films['Gender'].replace(['Female','Male'],[2,1],inplace=False).astype('int64')\n",
    "Films['Marital_Status']=Films['Marital_Status'].replace(['Single','Slngle','Married'],[2,2,1],inplace=False).astype('int64')\n",
    "Films[['Sinage','Parking','Clean','Overall','Age','Income']]=Films[['Sinage','Parking','Clean','Overall','Age','Income']].astype('int64')\n",
    "#Films['Hear_About']=Films['Hear_About'].str.replace(',', '').astype('int64')"
   ]
  },
  {
   "cell_type": "code",
   "execution_count": 70,
   "id": "706f4a38",
   "metadata": {
    "scrolled": true
   },
   "outputs": [
    {
     "data": {
      "text/plain": [
       "Movie             object\n",
       "Gender             int64\n",
       "Marital_Status     int64\n",
       "Sinage             int64\n",
       "Parking            int64\n",
       "Clean              int64\n",
       "Overall            int64\n",
       "Age                int64\n",
       "Income             int64\n",
       "Hear_About        object\n",
       "dtype: object"
      ]
     },
     "execution_count": 70,
     "metadata": {},
     "output_type": "execute_result"
    }
   ],
   "source": [
    "Films.dtypes"
   ]
  },
  {
   "cell_type": "code",
   "execution_count": null,
   "id": "3bd01b93",
   "metadata": {
    "scrolled": true
   },
   "outputs": [],
   "source": []
  },
  {
   "cell_type": "raw",
   "id": "429806db",
   "metadata": {},
   "source": [
    "What is the overall level of customer satisfaction?\n",
    "What factors are linked to satisfaction?\n",
    "What is the demographic profile of Film on the Rocks patrons?\n",
    "In what media outlet(s) should the film series be advertised"
   ]
  },
  {
   "cell_type": "raw",
   "id": "4eaaf71b",
   "metadata": {},
   "source": [
    "1 = Excellent; 2 = Good; 3 = Average/Fair; 4 = Poor; 5 = Very Poor."
   ]
  },
  {
   "cell_type": "code",
   "execution_count": 71,
   "id": "2695984b",
   "metadata": {
    "scrolled": true
   },
   "outputs": [],
   "source": [
    "#What is the overall level of customer satisfaction?"
   ]
  },
  {
   "cell_type": "code",
   "execution_count": 72,
   "id": "532c4a08",
   "metadata": {
    "scrolled": true
   },
   "outputs": [
    {
     "data": {
      "text/html": [
       "<div>\n",
       "<style scoped>\n",
       "    .dataframe tbody tr th:only-of-type {\n",
       "        vertical-align: middle;\n",
       "    }\n",
       "\n",
       "    .dataframe tbody tr th {\n",
       "        vertical-align: top;\n",
       "    }\n",
       "\n",
       "    .dataframe thead th {\n",
       "        text-align: right;\n",
       "    }\n",
       "</style>\n",
       "<table border=\"1\" class=\"dataframe\">\n",
       "  <thead>\n",
       "    <tr style=\"text-align: right;\">\n",
       "      <th></th>\n",
       "      <th>Sinage</th>\n",
       "      <th>Parking</th>\n",
       "      <th>Clean</th>\n",
       "    </tr>\n",
       "    <tr>\n",
       "      <th>Overall</th>\n",
       "      <th></th>\n",
       "      <th></th>\n",
       "      <th></th>\n",
       "    </tr>\n",
       "  </thead>\n",
       "  <tbody>\n",
       "    <tr>\n",
       "      <th>1</th>\n",
       "      <td>1.554745</td>\n",
       "      <td>1.364964</td>\n",
       "      <td>1.364964</td>\n",
       "    </tr>\n",
       "    <tr>\n",
       "      <th>2</th>\n",
       "      <td>2.101351</td>\n",
       "      <td>2.027027</td>\n",
       "      <td>1.918919</td>\n",
       "    </tr>\n",
       "    <tr>\n",
       "      <th>3</th>\n",
       "      <td>2.666667</td>\n",
       "      <td>2.666667</td>\n",
       "      <td>2.083333</td>\n",
       "    </tr>\n",
       "    <tr>\n",
       "      <th>4</th>\n",
       "      <td>3.000000</td>\n",
       "      <td>5.000000</td>\n",
       "      <td>2.000000</td>\n",
       "    </tr>\n",
       "    <tr>\n",
       "      <th>5</th>\n",
       "      <td>3.333333</td>\n",
       "      <td>3.666667</td>\n",
       "      <td>2.666667</td>\n",
       "    </tr>\n",
       "  </tbody>\n",
       "</table>\n",
       "</div>"
      ],
      "text/plain": [
       "           Sinage   Parking     Clean\n",
       "Overall                              \n",
       "1        1.554745  1.364964  1.364964\n",
       "2        2.101351  2.027027  1.918919\n",
       "3        2.666667  2.666667  2.083333\n",
       "4        3.000000  5.000000  2.000000\n",
       "5        3.333333  3.666667  2.666667"
      ]
     },
     "execution_count": 72,
     "metadata": {},
     "output_type": "execute_result"
    }
   ],
   "source": [
    "Films.groupby('Overall')[['Sinage','Parking','Clean']].mean()"
   ]
  },
  {
   "cell_type": "code",
   "execution_count": null,
   "id": "d2ccaad3",
   "metadata": {
    "scrolled": true
   },
   "outputs": [],
   "source": []
  },
  {
   "cell_type": "code",
   "execution_count": 73,
   "id": "a6578d39",
   "metadata": {
    "scrolled": true
   },
   "outputs": [],
   "source": [
    "#What factors are linked to satisfaction?"
   ]
  },
  {
   "cell_type": "code",
   "execution_count": 74,
   "id": "7e7cf0f1",
   "metadata": {
    "scrolled": true
   },
   "outputs": [
    {
     "data": {
      "text/html": [
       "<div>\n",
       "<style scoped>\n",
       "    .dataframe tbody tr th:only-of-type {\n",
       "        vertical-align: middle;\n",
       "    }\n",
       "\n",
       "    .dataframe tbody tr th {\n",
       "        vertical-align: top;\n",
       "    }\n",
       "\n",
       "    .dataframe thead th {\n",
       "        text-align: right;\n",
       "    }\n",
       "</style>\n",
       "<table border=\"1\" class=\"dataframe\">\n",
       "  <thead>\n",
       "    <tr style=\"text-align: right;\">\n",
       "      <th></th>\n",
       "      <th>Gender</th>\n",
       "      <th>Marital_Status</th>\n",
       "      <th>Sinage</th>\n",
       "      <th>Parking</th>\n",
       "      <th>Clean</th>\n",
       "      <th>Overall</th>\n",
       "      <th>Age</th>\n",
       "      <th>Income</th>\n",
       "    </tr>\n",
       "  </thead>\n",
       "  <tbody>\n",
       "    <tr>\n",
       "      <th>Gender</th>\n",
       "      <td>1.000000</td>\n",
       "      <td>0.059875</td>\n",
       "      <td>-0.103779</td>\n",
       "      <td>-0.081853</td>\n",
       "      <td>-0.073708</td>\n",
       "      <td>-0.042774</td>\n",
       "      <td>-0.051682</td>\n",
       "      <td>-0.043455</td>\n",
       "    </tr>\n",
       "    <tr>\n",
       "      <th>Marital_Status</th>\n",
       "      <td>0.059875</td>\n",
       "      <td>1.000000</td>\n",
       "      <td>0.102818</td>\n",
       "      <td>-0.064377</td>\n",
       "      <td>-0.010047</td>\n",
       "      <td>0.037927</td>\n",
       "      <td>-0.570388</td>\n",
       "      <td>-0.376749</td>\n",
       "    </tr>\n",
       "    <tr>\n",
       "      <th>Sinage</th>\n",
       "      <td>-0.103779</td>\n",
       "      <td>0.102818</td>\n",
       "      <td>1.000000</td>\n",
       "      <td>0.470412</td>\n",
       "      <td>0.365028</td>\n",
       "      <td>0.410689</td>\n",
       "      <td>-0.091722</td>\n",
       "      <td>-0.029748</td>\n",
       "    </tr>\n",
       "    <tr>\n",
       "      <th>Parking</th>\n",
       "      <td>-0.081853</td>\n",
       "      <td>-0.064377</td>\n",
       "      <td>0.470412</td>\n",
       "      <td>1.000000</td>\n",
       "      <td>0.457018</td>\n",
       "      <td>0.547717</td>\n",
       "      <td>0.001640</td>\n",
       "      <td>-0.033455</td>\n",
       "    </tr>\n",
       "    <tr>\n",
       "      <th>Clean</th>\n",
       "      <td>-0.073708</td>\n",
       "      <td>-0.010047</td>\n",
       "      <td>0.365028</td>\n",
       "      <td>0.457018</td>\n",
       "      <td>1.000000</td>\n",
       "      <td>0.385523</td>\n",
       "      <td>-0.000745</td>\n",
       "      <td>0.007355</td>\n",
       "    </tr>\n",
       "    <tr>\n",
       "      <th>Overall</th>\n",
       "      <td>-0.042774</td>\n",
       "      <td>0.037927</td>\n",
       "      <td>0.410689</td>\n",
       "      <td>0.547717</td>\n",
       "      <td>0.385523</td>\n",
       "      <td>1.000000</td>\n",
       "      <td>-0.023926</td>\n",
       "      <td>-0.014984</td>\n",
       "    </tr>\n",
       "    <tr>\n",
       "      <th>Age</th>\n",
       "      <td>-0.051682</td>\n",
       "      <td>-0.570388</td>\n",
       "      <td>-0.091722</td>\n",
       "      <td>0.001640</td>\n",
       "      <td>-0.000745</td>\n",
       "      <td>-0.023926</td>\n",
       "      <td>1.000000</td>\n",
       "      <td>0.155053</td>\n",
       "    </tr>\n",
       "    <tr>\n",
       "      <th>Income</th>\n",
       "      <td>-0.043455</td>\n",
       "      <td>-0.376749</td>\n",
       "      <td>-0.029748</td>\n",
       "      <td>-0.033455</td>\n",
       "      <td>0.007355</td>\n",
       "      <td>-0.014984</td>\n",
       "      <td>0.155053</td>\n",
       "      <td>1.000000</td>\n",
       "    </tr>\n",
       "  </tbody>\n",
       "</table>\n",
       "</div>"
      ],
      "text/plain": [
       "                  Gender  Marital_Status    Sinage   Parking     Clean  \\\n",
       "Gender          1.000000        0.059875 -0.103779 -0.081853 -0.073708   \n",
       "Marital_Status  0.059875        1.000000  0.102818 -0.064377 -0.010047   \n",
       "Sinage         -0.103779        0.102818  1.000000  0.470412  0.365028   \n",
       "Parking        -0.081853       -0.064377  0.470412  1.000000  0.457018   \n",
       "Clean          -0.073708       -0.010047  0.365028  0.457018  1.000000   \n",
       "Overall        -0.042774        0.037927  0.410689  0.547717  0.385523   \n",
       "Age            -0.051682       -0.570388 -0.091722  0.001640 -0.000745   \n",
       "Income         -0.043455       -0.376749 -0.029748 -0.033455  0.007355   \n",
       "\n",
       "                 Overall       Age    Income  \n",
       "Gender         -0.042774 -0.051682 -0.043455  \n",
       "Marital_Status  0.037927 -0.570388 -0.376749  \n",
       "Sinage          0.410689 -0.091722 -0.029748  \n",
       "Parking         0.547717  0.001640 -0.033455  \n",
       "Clean           0.385523 -0.000745  0.007355  \n",
       "Overall         1.000000 -0.023926 -0.014984  \n",
       "Age            -0.023926  1.000000  0.155053  \n",
       "Income         -0.014984  0.155053  1.000000  "
      ]
     },
     "execution_count": 74,
     "metadata": {},
     "output_type": "execute_result"
    }
   ],
   "source": [
    "Films.corr()"
   ]
  },
  {
   "cell_type": "code",
   "execution_count": 75,
   "id": "25f3142d",
   "metadata": {
    "scrolled": true
   },
   "outputs": [
    {
     "data": {
      "text/plain": [
       "<AxesSubplot:>"
      ]
     },
     "execution_count": 75,
     "metadata": {},
     "output_type": "execute_result"
    },
    {
     "data": {
      "image/png": "[encoded data removed]",
      "text/plain": [
       "<Figure size 432x288 with 2 Axes>"
      ]
     },
     "metadata": {
      "needs_background": "light"
     },
     "output_type": "display_data"
    }
   ],
   "source": [
    "sns.heatmap(Films.corr())"
   ]
  },
  {
   "cell_type": "code",
   "execution_count": null,
   "id": "23c021c7",
   "metadata": {
    "scrolled": true
   },
   "outputs": [],
   "source": []
  },
  {
   "cell_type": "code",
   "execution_count": 76,
   "id": "f1ca3f40",
   "metadata": {
    "scrolled": true
   },
   "outputs": [
    {
     "name": "stdout",
     "output_type": "stream",
     "text": [
      "for Gender P-value: 0.4746946769990794 Not linked to satisfaction\n",
      "for Marital_Status P-value: 0.317595469011392 Not linked to satisfaction\n",
      "for Sinage P-value: 3.0544447763605627e-18 linked to satisfaction\n",
      "for Parking P-value: 1.2264032549812005e-37 linked to satisfaction\n",
      "for Clean P-value: 9.882317099745693e-20 linked to satisfaction\n",
      "for Age P-value: 0.5267913370930692 Not linked to satisfaction\n",
      "for Income P-value: 0.7631326888324932 Not linked to satisfaction\n",
      "for Hear_About P-value: 0.9920532791201511 Not linked to satisfaction\n",
      "THIS FACTOR ['Sinage', 'Parking', 'Clean'] IMPACTING ON Overall satisfaction\n"
     ]
    }
   ],
   "source": [
    "IMPACTING=[]\n",
    "col=['Gender','Marital_Status', 'Sinage','Parking','Clean','Age','Income','Hear_About']\n",
    "for x in col:\n",
    "    \n",
    "    chi2,Pvalue,dof,expected=scipy.stats.chi2_contingency(pd.crosstab(Films.Overall, Films[(x)]))\n",
    "    def p_value(p):\n",
    "        if p<0.05:\n",
    "            print('for',x,\"P-value:\",p,\"linked to satisfaction\" )\n",
    "            IMPACTING.append(x)\n",
    "        else:\n",
    "            print('for',x,\"P-value:\",p,\"Not linked to satisfaction\" )\n",
    "            \n",
    "    p_value(Pvalue)\n",
    "print('THIS FACTOR',IMPACTING,'IMPACTING ON Overall satisfaction' )"
   ]
  },
  {
   "cell_type": "code",
   "execution_count": null,
   "id": "b30c4b99",
   "metadata": {
    "scrolled": true
   },
   "outputs": [],
   "source": []
  },
  {
   "cell_type": "code",
   "execution_count": null,
   "id": "dab89215",
   "metadata": {
    "scrolled": true
   },
   "outputs": [],
   "source": []
  },
  {
   "cell_type": "code",
   "execution_count": 77,
   "id": "caca75d2",
   "metadata": {
    "scrolled": true
   },
   "outputs": [],
   "source": [
    "#What is the demographic profile of Film on the Rocks patrons?"
   ]
  },
  {
   "cell_type": "raw",
   "id": "ba761686",
   "metadata": {},
   "source": [
    "Gender      Marital Status  Age(years)  Income                  Hear About         Likert-scaled\n",
    "1 = male;   1 = married;    1 = 1-12;   1 = Less than $50,000;  1 = television;    1 = Excellent;\n",
    "2 = female  2 = single      2 = 13-30;  2 = $50-$100,000;       2 = newspaper;     2 = Good;\n",
    "                            3 = 31-60;  3 = $100,000+           3 = radio;         3 = Average/Fair;\n",
    "                            4 = 60+                             4 = website;       4 = Poor;\n",
    "                                                                5 = word of mouth  5 = Very Poor"
   ]
  },
  {
   "cell_type": "code",
   "execution_count": 78,
   "id": "ca5465e5",
   "metadata": {
    "scrolled": true
   },
   "outputs": [
    {
     "name": "stderr",
     "output_type": "stream",
     "text": [
      "<ipython-input-78-c87ffaaf2cf9>:1: FutureWarning: Indexing with multiple keys (implicitly converted to a tuple of keys) will be deprecated, use a list instead.\n",
      "  Films.groupby(['Gender','Marital_Status','Age'])['Age','Sinage','Parking','Clean','Overall'].mean()\n"
     ]
    },
    {
     "data": {
      "text/html": [
       "<div>\n",
       "<style scoped>\n",
       "    .dataframe tbody tr th:only-of-type {\n",
       "        vertical-align: middle;\n",
       "    }\n",
       "\n",
       "    .dataframe tbody tr th {\n",
       "        vertical-align: top;\n",
       "    }\n",
       "\n",
       "    .dataframe thead th {\n",
       "        text-align: right;\n",
       "    }\n",
       "</style>\n",
       "<table border=\"1\" class=\"dataframe\">\n",
       "  <thead>\n",
       "    <tr style=\"text-align: right;\">\n",
       "      <th></th>\n",
       "      <th></th>\n",
       "      <th></th>\n",
       "      <th>Age</th>\n",
       "      <th>Sinage</th>\n",
       "      <th>Parking</th>\n",
       "      <th>Clean</th>\n",
       "      <th>Overall</th>\n",
       "    </tr>\n",
       "    <tr>\n",
       "      <th>Gender</th>\n",
       "      <th>Marital_Status</th>\n",
       "      <th>Age</th>\n",
       "      <th></th>\n",
       "      <th></th>\n",
       "      <th></th>\n",
       "      <th></th>\n",
       "      <th></th>\n",
       "    </tr>\n",
       "  </thead>\n",
       "  <tbody>\n",
       "    <tr>\n",
       "      <th rowspan=\"6\" valign=\"top\">1</th>\n",
       "      <th rowspan=\"3\" valign=\"top\">1</th>\n",
       "      <th>2</th>\n",
       "      <td>2.0</td>\n",
       "      <td>1.875000</td>\n",
       "      <td>1.875000</td>\n",
       "      <td>1.375000</td>\n",
       "      <td>1.500000</td>\n",
       "    </tr>\n",
       "    <tr>\n",
       "      <th>3</th>\n",
       "      <td>3.0</td>\n",
       "      <td>1.680000</td>\n",
       "      <td>1.800000</td>\n",
       "      <td>1.680000</td>\n",
       "      <td>1.520000</td>\n",
       "    </tr>\n",
       "    <tr>\n",
       "      <th>4</th>\n",
       "      <td>4.0</td>\n",
       "      <td>2.000000</td>\n",
       "      <td>2.333333</td>\n",
       "      <td>2.000000</td>\n",
       "      <td>1.666667</td>\n",
       "    </tr>\n",
       "    <tr>\n",
       "      <th rowspan=\"3\" valign=\"top\">2</th>\n",
       "      <th>1</th>\n",
       "      <td>1.0</td>\n",
       "      <td>2.000000</td>\n",
       "      <td>2.250000</td>\n",
       "      <td>2.000000</td>\n",
       "      <td>1.750000</td>\n",
       "    </tr>\n",
       "    <tr>\n",
       "      <th>2</th>\n",
       "      <td>2.0</td>\n",
       "      <td>2.245283</td>\n",
       "      <td>1.905660</td>\n",
       "      <td>1.849057</td>\n",
       "      <td>1.773585</td>\n",
       "    </tr>\n",
       "    <tr>\n",
       "      <th>3</th>\n",
       "      <td>3.0</td>\n",
       "      <td>1.769231</td>\n",
       "      <td>1.615385</td>\n",
       "      <td>1.615385</td>\n",
       "      <td>1.538462</td>\n",
       "    </tr>\n",
       "    <tr>\n",
       "      <th rowspan=\"8\" valign=\"top\">2</th>\n",
       "      <th rowspan=\"4\" valign=\"top\">1</th>\n",
       "      <th>1</th>\n",
       "      <td>1.0</td>\n",
       "      <td>1.000000</td>\n",
       "      <td>1.000000</td>\n",
       "      <td>2.000000</td>\n",
       "      <td>1.000000</td>\n",
       "    </tr>\n",
       "    <tr>\n",
       "      <th>2</th>\n",
       "      <td>2.0</td>\n",
       "      <td>1.833333</td>\n",
       "      <td>2.166667</td>\n",
       "      <td>1.666667</td>\n",
       "      <td>2.000000</td>\n",
       "    </tr>\n",
       "    <tr>\n",
       "      <th>3</th>\n",
       "      <td>3.0</td>\n",
       "      <td>1.800000</td>\n",
       "      <td>1.822222</td>\n",
       "      <td>1.733333</td>\n",
       "      <td>1.555556</td>\n",
       "    </tr>\n",
       "    <tr>\n",
       "      <th>4</th>\n",
       "      <td>4.0</td>\n",
       "      <td>1.333333</td>\n",
       "      <td>2.000000</td>\n",
       "      <td>1.666667</td>\n",
       "      <td>2.000000</td>\n",
       "    </tr>\n",
       "    <tr>\n",
       "      <th rowspan=\"4\" valign=\"top\">2</th>\n",
       "      <th>1</th>\n",
       "      <td>1.0</td>\n",
       "      <td>1.647059</td>\n",
       "      <td>1.529412</td>\n",
       "      <td>1.470588</td>\n",
       "      <td>1.529412</td>\n",
       "    </tr>\n",
       "    <tr>\n",
       "      <th>2</th>\n",
       "      <td>2.0</td>\n",
       "      <td>1.927835</td>\n",
       "      <td>1.752577</td>\n",
       "      <td>1.659794</td>\n",
       "      <td>1.597938</td>\n",
       "    </tr>\n",
       "    <tr>\n",
       "      <th>3</th>\n",
       "      <td>3.0</td>\n",
       "      <td>1.720000</td>\n",
       "      <td>1.520000</td>\n",
       "      <td>1.520000</td>\n",
       "      <td>1.640000</td>\n",
       "    </tr>\n",
       "    <tr>\n",
       "      <th>4</th>\n",
       "      <td>4.0</td>\n",
       "      <td>1.000000</td>\n",
       "      <td>1.000000</td>\n",
       "      <td>1.000000</td>\n",
       "      <td>1.000000</td>\n",
       "    </tr>\n",
       "  </tbody>\n",
       "</table>\n",
       "</div>"
      ],
      "text/plain": [
       "                           Age    Sinage   Parking     Clean   Overall\n",
       "Gender Marital_Status Age                                             \n",
       "1      1              2    2.0  1.875000  1.875000  1.375000  1.500000\n",
       "                      3    3.0  1.680000  1.800000  1.680000  1.520000\n",
       "                      4    4.0  2.000000  2.333333  2.000000  1.666667\n",
       "       2              1    1.0  2.000000  2.250000  2.000000  1.750000\n",
       "                      2    2.0  2.245283  1.905660  1.849057  1.773585\n",
       "                      3    3.0  1.769231  1.615385  1.615385  1.538462\n",
       "2      1              1    1.0  1.000000  1.000000  2.000000  1.000000\n",
       "                      2    2.0  1.833333  2.166667  1.666667  2.000000\n",
       "                      3    3.0  1.800000  1.822222  1.733333  1.555556\n",
       "                      4    4.0  1.333333  2.000000  1.666667  2.000000\n",
       "       2              1    1.0  1.647059  1.529412  1.470588  1.529412\n",
       "                      2    2.0  1.927835  1.752577  1.659794  1.597938\n",
       "                      3    3.0  1.720000  1.520000  1.520000  1.640000\n",
       "                      4    4.0  1.000000  1.000000  1.000000  1.000000"
      ]
     },
     "execution_count": 78,
     "metadata": {},
     "output_type": "execute_result"
    }
   ],
   "source": [
    "Films.groupby(['Gender','Marital_Status','Age'])['Age','Sinage','Parking','Clean','Overall'].mean()"
   ]
  },
  {
   "cell_type": "code",
   "execution_count": 79,
   "id": "a1105e52",
   "metadata": {
    "scrolled": true
   },
   "outputs": [],
   "source": [
    "#In what media outlet(s) should the film series be advertised?"
   ]
  },
  {
   "cell_type": "code",
   "execution_count": null,
   "id": "ee14a4e4",
   "metadata": {},
   "outputs": [],
   "source": []
  },
  {
   "cell_type": "code",
   "execution_count": 183,
   "id": "fee94824",
   "metadata": {},
   "outputs": [
    {
     "data": {
      "text/plain": [
       "Gender  Marital_Status  Age  Hear_About\n",
       "1       1               2    1              1\n",
       "                             3              1\n",
       "                             4              1\n",
       "                             5              5\n",
       "                        3    1              1\n",
       "                             2,5            1\n",
       "                             3              3\n",
       "                             3,5            1\n",
       "                             4              2\n",
       "                             5             17\n",
       "                        4    1              1\n",
       "                             3              1\n",
       "                             5              1\n",
       "        2               1    5              4\n",
       "                        2    1              4\n",
       "                             2              3\n",
       "                             3              2\n",
       "                             4              4\n",
       "                             5             40\n",
       "                        3    1              1\n",
       "                             2,5            1\n",
       "                             4              4\n",
       "                             5              7\n",
       "2       1               1    4              1\n",
       "                        2    1              1\n",
       "                             3              1\n",
       "                             5              4\n",
       "                        3    1              2\n",
       "                             2              2\n",
       "                             3              2\n",
       "                             4              7\n",
       "                             5             32\n",
       "                        4    1              1\n",
       "                             4              1\n",
       "                             5              1\n",
       "        2               1    1              1\n",
       "                             1,5            1\n",
       "                             2              1\n",
       "                             3              2\n",
       "                             4              1\n",
       "                             5             11\n",
       "                        2    1              3\n",
       "                             2              3\n",
       "                             3              1\n",
       "                             4             12\n",
       "                             5             78\n",
       "                        3    1              3\n",
       "                             2              2\n",
       "                             3,4            1\n",
       "                             4              5\n",
       "                             4,5            1\n",
       "                             5             12\n",
       "                             5,4            1\n",
       "                        4    4              1\n",
       "Name: Hear_About, dtype: int64"
      ]
     },
     "execution_count": 183,
     "metadata": {},
     "output_type": "execute_result"
    }
   ],
   "source": [
    "Films.groupby(['Gender','Marital_Status','Age','Hear_About'])['Hear_About'].count()"
   ]
  },
  {
   "cell_type": "code",
   "execution_count": 178,
   "id": "8a6b4172",
   "metadata": {
    "scrolled": true
   },
   "outputs": [
    {
     "data": {
      "text/plain": [
       "Hear_About  Gender  Marital_Status  Age\n",
       "1           1       1               2      0.003322\n",
       "                                    3      0.003322\n",
       "                                    4      0.003322\n",
       "                    2               2      0.013289\n",
       "                                    3      0.003322\n",
       "            2       1               2      0.003322\n",
       "                                    3      0.006645\n",
       "                                    4      0.003322\n",
       "                    2               1      0.003322\n",
       "                                    2      0.009967\n",
       "                                    3      0.009967\n",
       "1,5         2       2               1      0.003322\n",
       "2           1       2               2      0.009967\n",
       "            2       1               3      0.006645\n",
       "                    2               1      0.003322\n",
       "                                    2      0.009967\n",
       "                                    3      0.006645\n",
       "2,5         1       1               3      0.003322\n",
       "                    2               3      0.003322\n",
       "3           1       1               2      0.003322\n",
       "                                    3      0.009967\n",
       "                                    4      0.003322\n",
       "                    2               2      0.006645\n",
       "            2       1               2      0.003322\n",
       "                                    3      0.006645\n",
       "                    2               1      0.006645\n",
       "                                    2      0.003322\n",
       "3,4         2       2               3      0.003322\n",
       "3,5         1       1               3      0.003322\n",
       "4           1       1               2      0.003322\n",
       "                                    3      0.006645\n",
       "                    2               2      0.013289\n",
       "                                    3      0.013289\n",
       "            2       1               1      0.003322\n",
       "                                    3      0.023256\n",
       "                                    4      0.003322\n",
       "                    2               1      0.003322\n",
       "                                    2      0.039867\n",
       "                                    3      0.016611\n",
       "                                    4      0.003322\n",
       "4,5         2       2               3      0.003322\n",
       "5           1       1               2      0.016611\n",
       "                                    3      0.056478\n",
       "                                    4      0.003322\n",
       "                    2               1      0.013289\n",
       "                                    2      0.132890\n",
       "                                    3      0.023256\n",
       "            2       1               2      0.013289\n",
       "                                    3      0.106312\n",
       "                                    4      0.003322\n",
       "                    2               1      0.036545\n",
       "                                    2      0.259136\n",
       "                                    3      0.039867\n",
       "5,4         2       2               3      0.003322\n",
       "Name: Hear_About, dtype: float64"
      ]
     },
     "execution_count": 178,
     "metadata": {},
     "output_type": "execute_result"
    }
   ],
   "source": [
    "Films.groupby(['Hear_About','Gender','Marital_Status','Age'])['Hear_About'].count()/Films.groupby('Hear_About')['Hear_About'].count().sum()"
   ]
  },
  {
   "cell_type": "code",
   "execution_count": 187,
   "id": "e0cc3e2c",
   "metadata": {},
   "outputs": [],
   "source": [
    "#(Films.groupby(['Hear_About','Marital_Status'])['Hear_About'].count()/Films.groupby('Hear_About')['Hear_About'].count().sum()).unstack()\n",
    "#(Films.groupby(['Hear_About','Gender'])['Hear_About'].count()/Films.groupby('Hear_About')['Hear_About'].count().sum()).unstack()\n",
    "#(Films.groupby(['Hear_About','Age'])['Hear_About'].count()/Films.groupby('Hear_About')['Hear_About'].count().sum()).unstack()\n",
    "#(Films.groupby(['Hear_About','Income'])['Hear_About'].count()/Films.groupby('Hear_About')['Hear_About'].count().sum()).unstack()"
   ]
  },
  {
   "cell_type": "code",
   "execution_count": null,
   "id": "460aed02",
   "metadata": {},
   "outputs": [],
   "source": []
  },
  {
   "cell_type": "code",
   "execution_count": null,
   "id": "22e762f7",
   "metadata": {},
   "outputs": [],
   "source": []
  }
 ],
 "metadata": {
  "kernelspec": {
   "display_name": "Python 3",
   "language": "python",
   "name": "python3"
  },
  "language_info": {
   "codemirror_mode": {
    "name": "ipython",
    "version": 3
   },
   "file_extension": ".py",
   "mimetype": "text/x-python",
   "name": "python",
   "nbconvert_exporter": "python",
   "pygments_lexer": "ipython3",
   "version": "3.8.8"
  }
 },
 "nbformat": 4,
 "nbformat_minor": 5
}
