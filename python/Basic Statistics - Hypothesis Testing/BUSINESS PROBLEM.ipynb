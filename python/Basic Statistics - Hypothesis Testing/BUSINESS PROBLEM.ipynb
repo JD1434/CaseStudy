{
 "cells": [
  {
   "cell_type": "markdown",
   "id": "1873730f",
   "metadata": {},
   "source": [
    "# Step 1:  Import packages "
   ]
  },
  {
   "cell_type": "code",
   "execution_count": 131,
   "id": "59458812",
   "metadata": {},
   "outputs": [],
   "source": [
    "import pandas as pd\n",
    "import numpy as np\n",
    "import math as m\n",
    "import seaborn as sns\n",
    "import matplotlib.pyplot as plt\n",
    "import re\n",
    "import scipy\n",
    "import seaborn as sns\n",
    "import statistics"
   ]
  },
  {
   "cell_type": "markdown",
   "id": "b2539604",
   "metadata": {},
   "source": [
    "# step 2: Import Data "
   ]
  },
  {
   "cell_type": "code",
   "execution_count": 132,
   "id": "06673379",
   "metadata": {},
   "outputs": [
    {
     "data": {
      "text/html": [
       "<div>\n",
       "<style scoped>\n",
       "    .dataframe tbody tr th:only-of-type {\n",
       "        vertical-align: middle;\n",
       "    }\n",
       "\n",
       "    .dataframe tbody tr th {\n",
       "        vertical-align: top;\n",
       "    }\n",
       "\n",
       "    .dataframe thead th {\n",
       "        text-align: right;\n",
       "    }\n",
       "</style>\n",
       "<table border=\"1\" class=\"dataframe\">\n",
       "  <thead>\n",
       "    <tr style=\"text-align: right;\">\n",
       "      <th></th>\n",
       "      <th>Amount.Requested</th>\n",
       "      <th>Amount.Funded.By.Investors</th>\n",
       "      <th>Interest.Rate</th>\n",
       "      <th>Loan.Length</th>\n",
       "      <th>Loan.Purpose</th>\n",
       "      <th>Debt.To.Income.Ratio</th>\n",
       "      <th>State</th>\n",
       "      <th>Home.Ownership</th>\n",
       "      <th>Monthly.Income</th>\n",
       "      <th>FICO.Range</th>\n",
       "      <th>Open.CREDIT.Lines</th>\n",
       "      <th>Revolving.CREDIT.Balance</th>\n",
       "      <th>Inquiries.in.the.Last.6.Months</th>\n",
       "      <th>Employment.Length</th>\n",
       "    </tr>\n",
       "  </thead>\n",
       "  <tbody>\n",
       "    <tr>\n",
       "      <th>0</th>\n",
       "      <td>20000.0</td>\n",
       "      <td>20000.0</td>\n",
       "      <td>8.90%</td>\n",
       "      <td>36 months</td>\n",
       "      <td>debt_consolidation</td>\n",
       "      <td>14.90%</td>\n",
       "      <td>SC</td>\n",
       "      <td>MORTGAGE</td>\n",
       "      <td>6541.67</td>\n",
       "      <td>735-739</td>\n",
       "      <td>14.0</td>\n",
       "      <td>14272.0</td>\n",
       "      <td>2.0</td>\n",
       "      <td>&lt; 1 year</td>\n",
       "    </tr>\n",
       "    <tr>\n",
       "      <th>1</th>\n",
       "      <td>19200.0</td>\n",
       "      <td>19200.0</td>\n",
       "      <td>12.12%</td>\n",
       "      <td>36 months</td>\n",
       "      <td>debt_consolidation</td>\n",
       "      <td>28.36%</td>\n",
       "      <td>TX</td>\n",
       "      <td>MORTGAGE</td>\n",
       "      <td>4583.33</td>\n",
       "      <td>715-719</td>\n",
       "      <td>12.0</td>\n",
       "      <td>11140.0</td>\n",
       "      <td>1.0</td>\n",
       "      <td>2 years</td>\n",
       "    </tr>\n",
       "    <tr>\n",
       "      <th>2</th>\n",
       "      <td>35000.0</td>\n",
       "      <td>35000.0</td>\n",
       "      <td>21.98%</td>\n",
       "      <td>60 months</td>\n",
       "      <td>debt_consolidation</td>\n",
       "      <td>23.81%</td>\n",
       "      <td>CA</td>\n",
       "      <td>MORTGAGE</td>\n",
       "      <td>11500.00</td>\n",
       "      <td>690-694</td>\n",
       "      <td>14.0</td>\n",
       "      <td>21977.0</td>\n",
       "      <td>1.0</td>\n",
       "      <td>2 years</td>\n",
       "    </tr>\n",
       "    <tr>\n",
       "      <th>3</th>\n",
       "      <td>10000.0</td>\n",
       "      <td>9975.0</td>\n",
       "      <td>9.99%</td>\n",
       "      <td>36 months</td>\n",
       "      <td>debt_consolidation</td>\n",
       "      <td>14.30%</td>\n",
       "      <td>KS</td>\n",
       "      <td>MORTGAGE</td>\n",
       "      <td>3833.33</td>\n",
       "      <td>695-699</td>\n",
       "      <td>10.0</td>\n",
       "      <td>9346.0</td>\n",
       "      <td>0.0</td>\n",
       "      <td>5 years</td>\n",
       "    </tr>\n",
       "    <tr>\n",
       "      <th>4</th>\n",
       "      <td>12000.0</td>\n",
       "      <td>12000.0</td>\n",
       "      <td>11.71%</td>\n",
       "      <td>36 months</td>\n",
       "      <td>credit_card</td>\n",
       "      <td>18.78%</td>\n",
       "      <td>NJ</td>\n",
       "      <td>RENT</td>\n",
       "      <td>3195.00</td>\n",
       "      <td>695-699</td>\n",
       "      <td>11.0</td>\n",
       "      <td>14469.0</td>\n",
       "      <td>0.0</td>\n",
       "      <td>9 years</td>\n",
       "    </tr>\n",
       "  </tbody>\n",
       "</table>\n",
       "</div>"
      ],
      "text/plain": [
       "   Amount.Requested  Amount.Funded.By.Investors Interest.Rate Loan.Length  \\\n",
       "0           20000.0                     20000.0         8.90%   36 months   \n",
       "1           19200.0                     19200.0        12.12%   36 months   \n",
       "2           35000.0                     35000.0        21.98%   60 months   \n",
       "3           10000.0                      9975.0         9.99%   36 months   \n",
       "4           12000.0                     12000.0        11.71%   36 months   \n",
       "\n",
       "         Loan.Purpose Debt.To.Income.Ratio State Home.Ownership  \\\n",
       "0  debt_consolidation               14.90%    SC       MORTGAGE   \n",
       "1  debt_consolidation               28.36%    TX       MORTGAGE   \n",
       "2  debt_consolidation               23.81%    CA       MORTGAGE   \n",
       "3  debt_consolidation               14.30%    KS       MORTGAGE   \n",
       "4         credit_card               18.78%    NJ           RENT   \n",
       "\n",
       "   Monthly.Income FICO.Range  Open.CREDIT.Lines  Revolving.CREDIT.Balance  \\\n",
       "0         6541.67    735-739               14.0                   14272.0   \n",
       "1         4583.33    715-719               12.0                   11140.0   \n",
       "2        11500.00    690-694               14.0                   21977.0   \n",
       "3         3833.33    695-699               10.0                    9346.0   \n",
       "4         3195.00    695-699               11.0                   14469.0   \n",
       "\n",
       "   Inquiries.in.the.Last.6.Months Employment.Length  \n",
       "0                             2.0          < 1 year  \n",
       "1                             1.0           2 years  \n",
       "2                             1.0           2 years  \n",
       "3                             0.0           5 years  \n",
       "4                             0.0           9 years  "
      ]
     },
     "execution_count": 132,
     "metadata": {},
     "output_type": "execute_result"
    }
   ],
   "source": [
    "Loans=pd.read_csv(r'LoansData.csv',delimiter=',')\n",
    "LoansData=Loans.copy()\n",
    "LoansData.head()\n"
   ]
  },
  {
   "cell_type": "markdown",
   "id": "c5bbfa5c",
   "metadata": {},
   "source": [
    "# step 3: Check Data"
   ]
  },
  {
   "cell_type": "markdown",
   "id": "b6ed0c92",
   "metadata": {},
   "source": [
    "Data understanding / auditing / Qulity checks"
   ]
  },
  {
   "cell_type": "markdown",
   "id": "7f8a95a7",
   "metadata": {},
   "source": [
    "### 01)MetaData"
   ]
  },
  {
   "cell_type": "markdown",
   "id": "2746ef38",
   "metadata": {},
   "source": [
    "#checking dataframe shape"
   ]
  },
  {
   "cell_type": "code",
   "execution_count": 133,
   "id": "a58064fe",
   "metadata": {},
   "outputs": [
    {
     "data": {
      "text/plain": [
       "(2500, 14)"
      ]
     },
     "execution_count": 133,
     "metadata": {},
     "output_type": "execute_result"
    }
   ],
   "source": [
    "LoansData.shape"
   ]
  },
  {
   "cell_type": "markdown",
   "id": "76e53097",
   "metadata": {},
   "source": [
    "#checking dataframe size"
   ]
  },
  {
   "cell_type": "code",
   "execution_count": 134,
   "id": "bb4c1b81",
   "metadata": {},
   "outputs": [
    {
     "data": {
      "text/plain": [
       "35000"
      ]
     },
     "execution_count": 134,
     "metadata": {},
     "output_type": "execute_result"
    }
   ],
   "source": [
    "LoansData.size"
   ]
  },
  {
   "cell_type": "markdown",
   "id": "5f0dc8f9",
   "metadata": {},
   "source": [
    "#checking dataframe Memory Usage"
   ]
  },
  {
   "cell_type": "code",
   "execution_count": 135,
   "id": "ca29efed",
   "metadata": {},
   "outputs": [
    {
     "data": {
      "text/plain": [
       "Index                               128\n",
       "Amount.Requested                  20000\n",
       "Amount.Funded.By.Investors        20000\n",
       "Interest.Rate                     20000\n",
       "Loan.Length                       20000\n",
       "Loan.Purpose                      20000\n",
       "Debt.To.Income.Ratio              20000\n",
       "State                             20000\n",
       "Home.Ownership                    20000\n",
       "Monthly.Income                    20000\n",
       "FICO.Range                        20000\n",
       "Open.CREDIT.Lines                 20000\n",
       "Revolving.CREDIT.Balance          20000\n",
       "Inquiries.in.the.Last.6.Months    20000\n",
       "Employment.Length                 20000\n",
       "dtype: int64"
      ]
     },
     "execution_count": 135,
     "metadata": {},
     "output_type": "execute_result"
    }
   ],
   "source": [
    "LoansData.memory_usage()"
   ]
  },
  {
   "cell_type": "markdown",
   "id": "0de6dbaa",
   "metadata": {},
   "source": [
    "#checking data frame columns with name"
   ]
  },
  {
   "cell_type": "code",
   "execution_count": 136,
   "id": "306207aa",
   "metadata": {},
   "outputs": [
    {
     "data": {
      "text/plain": [
       "Index(['Amount.Requested', 'Amount.Funded.By.Investors', 'Interest.Rate',\n",
       "       'Loan.Length', 'Loan.Purpose', 'Debt.To.Income.Ratio', 'State',\n",
       "       'Home.Ownership', 'Monthly.Income', 'FICO.Range', 'Open.CREDIT.Lines',\n",
       "       'Revolving.CREDIT.Balance', 'Inquiries.in.the.Last.6.Months',\n",
       "       'Employment.Length'],\n",
       "      dtype='object')"
      ]
     },
     "execution_count": 136,
     "metadata": {},
     "output_type": "execute_result"
    }
   ],
   "source": [
    "LoansData.columns"
   ]
  },
  {
   "cell_type": "markdown",
   "id": "53c0b2e0",
   "metadata": {},
   "source": [
    "#checking dataframe  data-types"
   ]
  },
  {
   "cell_type": "code",
   "execution_count": 137,
   "id": "2552aab0",
   "metadata": {},
   "outputs": [
    {
     "data": {
      "text/plain": [
       "Amount.Requested                  float64\n",
       "Amount.Funded.By.Investors        float64\n",
       "Interest.Rate                      object\n",
       "Loan.Length                        object\n",
       "Loan.Purpose                       object\n",
       "Debt.To.Income.Ratio               object\n",
       "State                              object\n",
       "Home.Ownership                     object\n",
       "Monthly.Income                    float64\n",
       "FICO.Range                         object\n",
       "Open.CREDIT.Lines                 float64\n",
       "Revolving.CREDIT.Balance          float64\n",
       "Inquiries.in.the.Last.6.Months    float64\n",
       "Employment.Length                  object\n",
       "dtype: object"
      ]
     },
     "execution_count": 137,
     "metadata": {},
     "output_type": "execute_result"
    }
   ],
   "source": [
    "LoansData.dtypes"
   ]
  },
  {
   "cell_type": "markdown",
   "id": "74c6bca2",
   "metadata": {},
   "source": [
    "#checking additional information about data"
   ]
  },
  {
   "cell_type": "code",
   "execution_count": 138,
   "id": "9ea0fa15",
   "metadata": {},
   "outputs": [
    {
     "data": {
      "text/html": [
       "<div>\n",
       "<style scoped>\n",
       "    .dataframe tbody tr th:only-of-type {\n",
       "        vertical-align: middle;\n",
       "    }\n",
       "\n",
       "    .dataframe tbody tr th {\n",
       "        vertical-align: top;\n",
       "    }\n",
       "\n",
       "    .dataframe thead th {\n",
       "        text-align: right;\n",
       "    }\n",
       "</style>\n",
       "<table border=\"1\" class=\"dataframe\">\n",
       "  <thead>\n",
       "    <tr style=\"text-align: right;\">\n",
       "      <th></th>\n",
       "      <th>Amount.Requested</th>\n",
       "      <th>Amount.Funded.By.Investors</th>\n",
       "      <th>Monthly.Income</th>\n",
       "      <th>Open.CREDIT.Lines</th>\n",
       "      <th>Revolving.CREDIT.Balance</th>\n",
       "      <th>Inquiries.in.the.Last.6.Months</th>\n",
       "    </tr>\n",
       "  </thead>\n",
       "  <tbody>\n",
       "    <tr>\n",
       "      <th>count</th>\n",
       "      <td>2499.000000</td>\n",
       "      <td>2499.000000</td>\n",
       "      <td>2499.000000</td>\n",
       "      <td>2497.000000</td>\n",
       "      <td>2497.000000</td>\n",
       "      <td>2497.000000</td>\n",
       "    </tr>\n",
       "    <tr>\n",
       "      <th>mean</th>\n",
       "      <td>12405.462185</td>\n",
       "      <td>12002.374186</td>\n",
       "      <td>5688.931321</td>\n",
       "      <td>10.072887</td>\n",
       "      <td>15223.184622</td>\n",
       "      <td>0.906688</td>\n",
       "    </tr>\n",
       "    <tr>\n",
       "      <th>std</th>\n",
       "      <td>7802.933666</td>\n",
       "      <td>7746.767348</td>\n",
       "      <td>3963.118185</td>\n",
       "      <td>4.507416</td>\n",
       "      <td>18281.015258</td>\n",
       "      <td>1.231149</td>\n",
       "    </tr>\n",
       "    <tr>\n",
       "      <th>min</th>\n",
       "      <td>1000.000000</td>\n",
       "      <td>-0.010000</td>\n",
       "      <td>588.500000</td>\n",
       "      <td>2.000000</td>\n",
       "      <td>0.000000</td>\n",
       "      <td>0.000000</td>\n",
       "    </tr>\n",
       "    <tr>\n",
       "      <th>25%</th>\n",
       "      <td>6000.000000</td>\n",
       "      <td>6000.000000</td>\n",
       "      <td>3500.000000</td>\n",
       "      <td>7.000000</td>\n",
       "      <td>5584.000000</td>\n",
       "      <td>0.000000</td>\n",
       "    </tr>\n",
       "    <tr>\n",
       "      <th>50%</th>\n",
       "      <td>10000.000000</td>\n",
       "      <td>10000.000000</td>\n",
       "      <td>5000.000000</td>\n",
       "      <td>9.000000</td>\n",
       "      <td>10948.000000</td>\n",
       "      <td>0.000000</td>\n",
       "    </tr>\n",
       "    <tr>\n",
       "      <th>75%</th>\n",
       "      <td>17000.000000</td>\n",
       "      <td>16000.000000</td>\n",
       "      <td>6800.000000</td>\n",
       "      <td>13.000000</td>\n",
       "      <td>18861.000000</td>\n",
       "      <td>1.000000</td>\n",
       "    </tr>\n",
       "    <tr>\n",
       "      <th>max</th>\n",
       "      <td>35000.000000</td>\n",
       "      <td>35000.000000</td>\n",
       "      <td>102750.000000</td>\n",
       "      <td>38.000000</td>\n",
       "      <td>270800.000000</td>\n",
       "      <td>9.000000</td>\n",
       "    </tr>\n",
       "  </tbody>\n",
       "</table>\n",
       "</div>"
      ],
      "text/plain": [
       "       Amount.Requested  Amount.Funded.By.Investors  Monthly.Income  \\\n",
       "count       2499.000000                 2499.000000     2499.000000   \n",
       "mean       12405.462185                12002.374186     5688.931321   \n",
       "std         7802.933666                 7746.767348     3963.118185   \n",
       "min         1000.000000                   -0.010000      588.500000   \n",
       "25%         6000.000000                 6000.000000     3500.000000   \n",
       "50%        10000.000000                10000.000000     5000.000000   \n",
       "75%        17000.000000                16000.000000     6800.000000   \n",
       "max        35000.000000                35000.000000   102750.000000   \n",
       "\n",
       "       Open.CREDIT.Lines  Revolving.CREDIT.Balance  \\\n",
       "count        2497.000000               2497.000000   \n",
       "mean           10.072887              15223.184622   \n",
       "std             4.507416              18281.015258   \n",
       "min             2.000000                  0.000000   \n",
       "25%             7.000000               5584.000000   \n",
       "50%             9.000000              10948.000000   \n",
       "75%            13.000000              18861.000000   \n",
       "max            38.000000             270800.000000   \n",
       "\n",
       "       Inquiries.in.the.Last.6.Months  \n",
       "count                     2497.000000  \n",
       "mean                         0.906688  \n",
       "std                          1.231149  \n",
       "min                          0.000000  \n",
       "25%                          0.000000  \n",
       "50%                          0.000000  \n",
       "75%                          1.000000  \n",
       "max                          9.000000  "
      ]
     },
     "execution_count": 138,
     "metadata": {},
     "output_type": "execute_result"
    }
   ],
   "source": [
    "LoansData.describe()"
   ]
  },
  {
   "cell_type": "markdown",
   "id": "ed64f886",
   "metadata": {},
   "source": [
    "#checking  dataframe have any null value? "
   ]
  },
  {
   "cell_type": "code",
   "execution_count": 139,
   "id": "0beba368",
   "metadata": {},
   "outputs": [
    {
     "data": {
      "text/plain": [
       "Amount.Requested                   1\n",
       "Amount.Funded.By.Investors         1\n",
       "Interest.Rate                      2\n",
       "Loan.Length                        0\n",
       "Loan.Purpose                       0\n",
       "Debt.To.Income.Ratio               1\n",
       "State                              0\n",
       "Home.Ownership                     1\n",
       "Monthly.Income                     1\n",
       "FICO.Range                         2\n",
       "Open.CREDIT.Lines                  3\n",
       "Revolving.CREDIT.Balance           3\n",
       "Inquiries.in.the.Last.6.Months     3\n",
       "Employment.Length                 77\n",
       "dtype: int64"
      ]
     },
     "execution_count": 139,
     "metadata": {},
     "output_type": "execute_result"
    }
   ],
   "source": [
    "LoansData.isna().sum()"
   ]
  },
  {
   "cell_type": "code",
   "execution_count": null,
   "id": "13fc3a29",
   "metadata": {},
   "outputs": [],
   "source": []
  },
  {
   "cell_type": "markdown",
   "id": "b555c293",
   "metadata": {},
   "source": [
    "### 02)Actual Data"
   ]
  },
  {
   "cell_type": "markdown",
   "id": "26676f0b",
   "metadata": {},
   "source": [
    "#checking any mismatch datatypes in dataFrame ? "
   ]
  },
  {
   "cell_type": "code",
   "execution_count": 140,
   "id": "a978b2c9",
   "metadata": {},
   "outputs": [
    {
     "name": "stdout",
     "output_type": "stream",
     "text": [
      "<class 'pandas.core.frame.DataFrame'>\n",
      "RangeIndex: 2500 entries, 0 to 2499\n",
      "Data columns (total 14 columns):\n",
      " #   Column                          Non-Null Count  Dtype  \n",
      "---  ------                          --------------  -----  \n",
      " 0   Amount.Requested                2499 non-null   float64\n",
      " 1   Amount.Funded.By.Investors      2499 non-null   float64\n",
      " 2   Interest.Rate                   2498 non-null   object \n",
      " 3   Loan.Length                     2500 non-null   object \n",
      " 4   Loan.Purpose                    2500 non-null   object \n",
      " 5   Debt.To.Income.Ratio            2499 non-null   object \n",
      " 6   State                           2500 non-null   object \n",
      " 7   Home.Ownership                  2499 non-null   object \n",
      " 8   Monthly.Income                  2499 non-null   float64\n",
      " 9   FICO.Range                      2498 non-null   object \n",
      " 10  Open.CREDIT.Lines               2497 non-null   float64\n",
      " 11  Revolving.CREDIT.Balance        2497 non-null   float64\n",
      " 12  Inquiries.in.the.Last.6.Months  2497 non-null   float64\n",
      " 13  Employment.Length               2423 non-null   object \n",
      "dtypes: float64(6), object(8)\n",
      "memory usage: 273.6+ KB\n"
     ]
    }
   ],
   "source": [
    "LoansData.info()"
   ]
  },
  {
   "cell_type": "markdown",
   "id": "62e5ec85",
   "metadata": {},
   "source": [
    "#checking duplicates in dataframe"
   ]
  },
  {
   "cell_type": "code",
   "execution_count": 141,
   "id": "7a07ca0e",
   "metadata": {
    "scrolled": true
   },
   "outputs": [
    {
     "data": {
      "text/html": [
       "<div>\n",
       "<style scoped>\n",
       "    .dataframe tbody tr th:only-of-type {\n",
       "        vertical-align: middle;\n",
       "    }\n",
       "\n",
       "    .dataframe tbody tr th {\n",
       "        vertical-align: top;\n",
       "    }\n",
       "\n",
       "    .dataframe thead th {\n",
       "        text-align: right;\n",
       "    }\n",
       "</style>\n",
       "<table border=\"1\" class=\"dataframe\">\n",
       "  <thead>\n",
       "    <tr style=\"text-align: right;\">\n",
       "      <th></th>\n",
       "      <th>Amount.Requested</th>\n",
       "      <th>Amount.Funded.By.Investors</th>\n",
       "      <th>Interest.Rate</th>\n",
       "      <th>Loan.Length</th>\n",
       "      <th>Loan.Purpose</th>\n",
       "      <th>Debt.To.Income.Ratio</th>\n",
       "      <th>State</th>\n",
       "      <th>Home.Ownership</th>\n",
       "      <th>Monthly.Income</th>\n",
       "      <th>FICO.Range</th>\n",
       "      <th>Open.CREDIT.Lines</th>\n",
       "      <th>Revolving.CREDIT.Balance</th>\n",
       "      <th>Inquiries.in.the.Last.6.Months</th>\n",
       "      <th>Employment.Length</th>\n",
       "    </tr>\n",
       "  </thead>\n",
       "  <tbody>\n",
       "  </tbody>\n",
       "</table>\n",
       "</div>"
      ],
      "text/plain": [
       "Empty DataFrame\n",
       "Columns: [Amount.Requested, Amount.Funded.By.Investors, Interest.Rate, Loan.Length, Loan.Purpose, Debt.To.Income.Ratio, State, Home.Ownership, Monthly.Income, FICO.Range, Open.CREDIT.Lines, Revolving.CREDIT.Balance, Inquiries.in.the.Last.6.Months, Employment.Length]\n",
       "Index: []"
      ]
     },
     "execution_count": 141,
     "metadata": {},
     "output_type": "execute_result"
    }
   ],
   "source": [
    "LoansData[LoansData.duplicated()]"
   ]
  },
  {
   "cell_type": "markdown",
   "id": "aa5a2b64",
   "metadata": {},
   "source": [
    "#variation"
   ]
  },
  {
   "cell_type": "code",
   "execution_count": 142,
   "id": "37a50131",
   "metadata": {},
   "outputs": [
    {
     "data": {
      "text/plain": [
       "<bound method NDFrame._add_numeric_operations.<locals>.var of       Amount.Requested  Amount.Funded.By.Investors Interest.Rate Loan.Length  \\\n",
       "0              20000.0                    20000.00         8.90%   36 months   \n",
       "1              19200.0                    19200.00        12.12%   36 months   \n",
       "2              35000.0                    35000.00        21.98%   60 months   \n",
       "3              10000.0                     9975.00         9.99%   36 months   \n",
       "4              12000.0                    12000.00        11.71%   36 months   \n",
       "...                ...                         ...           ...         ...   \n",
       "2495           30000.0                    29950.00        16.77%   60 months   \n",
       "2496           16000.0                    16000.00        14.09%   60 months   \n",
       "2497           10000.0                    10000.00        13.99%   36 months   \n",
       "2498            6000.0                     6000.00        12.42%   36 months   \n",
       "2499            9000.0                     5242.75        13.79%   36 months   \n",
       "\n",
       "            Loan.Purpose Debt.To.Income.Ratio State Home.Ownership  \\\n",
       "0     debt_consolidation               14.90%    SC       MORTGAGE   \n",
       "1     debt_consolidation               28.36%    TX       MORTGAGE   \n",
       "2     debt_consolidation               23.81%    CA       MORTGAGE   \n",
       "3     debt_consolidation               14.30%    KS       MORTGAGE   \n",
       "4            credit_card               18.78%    NJ           RENT   \n",
       "...                  ...                  ...   ...            ...   \n",
       "2495  debt_consolidation               19.23%    NY       MORTGAGE   \n",
       "2496    home_improvement               21.54%    MD            OWN   \n",
       "2497  debt_consolidation                4.89%    PA       MORTGAGE   \n",
       "2498      major_purchase               16.66%    NJ           RENT   \n",
       "2499  debt_consolidation                6.76%    NY           RENT   \n",
       "\n",
       "      Monthly.Income FICO.Range  Open.CREDIT.Lines  Revolving.CREDIT.Balance  \\\n",
       "0            6541.67    735-739               14.0                   14272.0   \n",
       "1            4583.33    715-719               12.0                   11140.0   \n",
       "2           11500.00    690-694               14.0                   21977.0   \n",
       "3            3833.33    695-699               10.0                    9346.0   \n",
       "4            3195.00    695-699               11.0                   14469.0   \n",
       "...              ...        ...                ...                       ...   \n",
       "2495         9250.00    705-709               15.0                   45880.0   \n",
       "2496         8903.25    740-744               18.0                   18898.0   \n",
       "2497         2166.67    680-684                4.0                    4544.0   \n",
       "2498         3500.00    675-679                8.0                    7753.0   \n",
       "2499         3875.00    670-674                7.0                    7589.0   \n",
       "\n",
       "      Inquiries.in.the.Last.6.Months Employment.Length  \n",
       "0                                2.0          < 1 year  \n",
       "1                                1.0           2 years  \n",
       "2                                1.0           2 years  \n",
       "3                                0.0           5 years  \n",
       "4                                0.0           9 years  \n",
       "...                              ...               ...  \n",
       "2495                             1.0           8 years  \n",
       "2496                             1.0         10+ years  \n",
       "2497                             0.0         10+ years  \n",
       "2498                             0.0           5 years  \n",
       "2499                             0.0         10+ years  \n",
       "\n",
       "[2500 rows x 14 columns]>"
      ]
     },
     "execution_count": 142,
     "metadata": {},
     "output_type": "execute_result"
    }
   ],
   "source": [
    "LoansData.var"
   ]
  },
  {
   "cell_type": "code",
   "execution_count": null,
   "id": "6afa0567",
   "metadata": {},
   "outputs": [],
   "source": []
  },
  {
   "cell_type": "markdown",
   "id": "dd4472ca",
   "metadata": {},
   "source": [
    "# Data Preparation/Manipulation/Wrangling"
   ]
  },
  {
   "cell_type": "markdown",
   "id": "9a1f9c38",
   "metadata": {},
   "source": [
    "#Renaming Variables"
   ]
  },
  {
   "cell_type": "code",
   "execution_count": 143,
   "id": "4d4c793d",
   "metadata": {},
   "outputs": [
    {
     "name": "stderr",
     "output_type": "stream",
     "text": [
      "<ipython-input-143-f7a32c01a386>:1: FutureWarning: The default value of regex will change from True to False in a future version. In addition, single character regular expressions will*not* be treated as literal strings when regex=True.\n",
      "  LoansData.columns = LoansData.columns.str.replace(\".\", \"_\")\n"
     ]
    },
    {
     "data": {
      "text/plain": [
       "Index(['Amount_Requested', 'Amount_Funded_By_Investors', 'Interest_Rate',\n",
       "       'Loan_Length', 'Loan_Purpose', 'Debt_To_Income_Ratio', 'State',\n",
       "       'Home_Ownership', 'Monthly_Income', 'FICO_Range', 'Open_CREDIT_Lines',\n",
       "       'Revolving_CREDIT_Balance', 'Inquiries_in_the_Last_6_Months',\n",
       "       'Employment_Length'],\n",
       "      dtype='object')"
      ]
     },
     "execution_count": 143,
     "metadata": {},
     "output_type": "execute_result"
    }
   ],
   "source": [
    "LoansData.columns = LoansData.columns.str.replace(\".\", \"_\")\n",
    "LoansData.columns"
   ]
  },
  {
   "cell_type": "markdown",
   "id": "b897c450",
   "metadata": {},
   "source": [
    "#Dealing With Missing Values"
   ]
  },
  {
   "cell_type": "code",
   "execution_count": 144,
   "id": "d5716075",
   "metadata": {},
   "outputs": [
    {
     "data": {
      "text/plain": [
       "Amount_Requested                   1\n",
       "Amount_Funded_By_Investors         1\n",
       "Interest_Rate                      2\n",
       "Loan_Length                        0\n",
       "Loan_Purpose                       0\n",
       "Debt_To_Income_Ratio               1\n",
       "State                              0\n",
       "Home_Ownership                     1\n",
       "Monthly_Income                     1\n",
       "FICO_Range                         2\n",
       "Open_CREDIT_Lines                  3\n",
       "Revolving_CREDIT_Balance           3\n",
       "Inquiries_in_the_Last_6_Months     3\n",
       "Employment_Length                 77\n",
       "dtype: int64"
      ]
     },
     "execution_count": 144,
     "metadata": {},
     "output_type": "execute_result"
    }
   ],
   "source": [
    "LoansData.isnull().sum()"
   ]
  },
  {
   "cell_type": "code",
   "execution_count": 145,
   "id": "295bf5e4",
   "metadata": {},
   "outputs": [
    {
     "data": {
      "text/html": [
       "<div>\n",
       "<style scoped>\n",
       "    .dataframe tbody tr th:only-of-type {\n",
       "        vertical-align: middle;\n",
       "    }\n",
       "\n",
       "    .dataframe tbody tr th {\n",
       "        vertical-align: top;\n",
       "    }\n",
       "\n",
       "    .dataframe thead th {\n",
       "        text-align: right;\n",
       "    }\n",
       "</style>\n",
       "<table border=\"1\" class=\"dataframe\">\n",
       "  <thead>\n",
       "    <tr style=\"text-align: right;\">\n",
       "      <th></th>\n",
       "      <th>Amount_Requested</th>\n",
       "      <th>Amount_Funded_By_Investors</th>\n",
       "      <th>Interest_Rate</th>\n",
       "      <th>Loan_Length</th>\n",
       "      <th>Loan_Purpose</th>\n",
       "      <th>Debt_To_Income_Ratio</th>\n",
       "      <th>State</th>\n",
       "      <th>Home_Ownership</th>\n",
       "      <th>Monthly_Income</th>\n",
       "      <th>FICO_Range</th>\n",
       "      <th>Open_CREDIT_Lines</th>\n",
       "      <th>Revolving_CREDIT_Balance</th>\n",
       "      <th>Inquiries_in_the_Last_6_Months</th>\n",
       "      <th>Employment_Length</th>\n",
       "    </tr>\n",
       "  </thead>\n",
       "  <tbody>\n",
       "    <tr>\n",
       "      <th>2484</th>\n",
       "      <td>15000.0</td>\n",
       "      <td>15000.0</td>\n",
       "      <td>NaN</td>\n",
       "      <td>36 months</td>\n",
       "      <td>credit_card</td>\n",
       "      <td>28.28%</td>\n",
       "      <td>OH</td>\n",
       "      <td>MORTGAGE</td>\n",
       "      <td>6666.67</td>\n",
       "      <td>690-694</td>\n",
       "      <td>15.0</td>\n",
       "      <td>14880.0</td>\n",
       "      <td>0.0</td>\n",
       "      <td>10+ years</td>\n",
       "    </tr>\n",
       "    <tr>\n",
       "      <th>2487</th>\n",
       "      <td>NaN</td>\n",
       "      <td>15000.0</td>\n",
       "      <td>NaN</td>\n",
       "      <td>36 months</td>\n",
       "      <td>wedding</td>\n",
       "      <td>18.05%</td>\n",
       "      <td>CA</td>\n",
       "      <td>RENT</td>\n",
       "      <td>8000.00</td>\n",
       "      <td>660-664</td>\n",
       "      <td>6.0</td>\n",
       "      <td>45976.0</td>\n",
       "      <td>1.0</td>\n",
       "      <td>2 years</td>\n",
       "    </tr>\n",
       "  </tbody>\n",
       "</table>\n",
       "</div>"
      ],
      "text/plain": [
       "      Amount_Requested  Amount_Funded_By_Investors Interest_Rate Loan_Length  \\\n",
       "2484           15000.0                     15000.0           NaN   36 months   \n",
       "2487               NaN                     15000.0           NaN   36 months   \n",
       "\n",
       "     Loan_Purpose Debt_To_Income_Ratio State Home_Ownership  Monthly_Income  \\\n",
       "2484  credit_card               28.28%    OH       MORTGAGE         6666.67   \n",
       "2487      wedding               18.05%    CA           RENT         8000.00   \n",
       "\n",
       "     FICO_Range  Open_CREDIT_Lines  Revolving_CREDIT_Balance  \\\n",
       "2484    690-694               15.0                   14880.0   \n",
       "2487    660-664                6.0                   45976.0   \n",
       "\n",
       "      Inquiries_in_the_Last_6_Months Employment_Length  \n",
       "2484                             0.0         10+ years  \n",
       "2487                             1.0           2 years  "
      ]
     },
     "execution_count": 145,
     "metadata": {},
     "output_type": "execute_result"
    }
   ],
   "source": [
    "LoansData[LoansData.Interest_Rate.isna()]"
   ]
  },
  {
   "cell_type": "raw",
   "id": "b80fca41",
   "metadata": {},
   "source": [
    "#missing_value_treatment:\n",
    "\n",
    "LoansData['Amount_Requested']=LoansData.Amount_Requested.fillna(value=LoansData.Amount_Requested.mean())\n",
    "LoansData['Amount_Funded_By_Investors']=LoansData.Amount_Funded_By_Investors.fillna(value=LoansData.Amount_Funded_By_Investors.mean())\n",
    "\n",
    "LoansData['Interest_Rate']=LoansData.Interest_Rate.str.strip('%').astype('float')\n",
    "LoansData['Interest_Rate']=LoansData.Interest_Rate.fillna(value=LoansData.Interest_Rate.mean())\n",
    "\n",
    "LoansData['Debt_To_Income_Ratio']=LoansData.Debt_To_Income_Ratio.str.strip('%').astype('float')\n",
    "LoansData['Debt_To_Income_Ratio']=LoansData.Debt_To_Income_Ratio.fillna(value=LoansData.Debt_To_Income_Ratio.mean())\n",
    "\n",
    "LoansData['Home_Ownership']=LoansData.Home_Ownership.fillna(value=LoansData.Home_Ownership.mode()[0])\n",
    "\n",
    "LoansData['Monthly_Income']=LoansData.Monthly_Income.fillna(value=LoansData.Monthly_Income.mean())\n",
    "\n",
    "LoansData['FICO_Range']=LoansData.FICO_Range.fillna(LoansData.FICO_Range.mode()[0])\n",
    "#LoansData=LoansData[LoansData['FICO_Range'].notna()]\n",
    "\n",
    "\n",
    "LoansData['Open_CREDIT_Lines']=LoansData.Open_CREDIT_Lines.fillna(LoansData.Open_CREDIT_Lines.mode()[0])\n",
    "\n",
    "LoansData['Revolving_CREDIT_Balance']=LoansData.Revolving_CREDIT_Balance.fillna(int(LoansData.Revolving_CREDIT_Balance.mean()))\n",
    "\n",
    "LoansData['Inquiries_in_the_Last_6_Months']=LoansData.Inquiries_in_the_Last_6_Months.fillna(int(LoansData.Inquiries_in_the_Last_6_Months.mode()[0]))\n",
    "\n",
    "LoansData['Employment_Length']=LoansData['Employment_Length'].dropna()"
   ]
  },
  {
   "cell_type": "code",
   "execution_count": 146,
   "id": "01209c7e",
   "metadata": {},
   "outputs": [],
   "source": [
    "LoansData=LoansData.dropna()"
   ]
  },
  {
   "cell_type": "code",
   "execution_count": 147,
   "id": "74a784f6",
   "metadata": {},
   "outputs": [
    {
     "data": {
      "text/plain": [
       "Amount_Requested                  0\n",
       "Amount_Funded_By_Investors        0\n",
       "Interest_Rate                     0\n",
       "Loan_Length                       0\n",
       "Loan_Purpose                      0\n",
       "Debt_To_Income_Ratio              0\n",
       "State                             0\n",
       "Home_Ownership                    0\n",
       "Monthly_Income                    0\n",
       "FICO_Range                        0\n",
       "Open_CREDIT_Lines                 0\n",
       "Revolving_CREDIT_Balance          0\n",
       "Inquiries_in_the_Last_6_Months    0\n",
       "Employment_Length                 0\n",
       "dtype: int64"
      ]
     },
     "execution_count": 147,
     "metadata": {},
     "output_type": "execute_result"
    }
   ],
   "source": [
    "LoansData.isnull().sum()"
   ]
  },
  {
   "cell_type": "markdown",
   "id": "090d8232",
   "metadata": {},
   "source": [
    "#Removing words/symbol"
   ]
  },
  {
   "cell_type": "code",
   "execution_count": 148,
   "id": "cf49f986",
   "metadata": {},
   "outputs": [
    {
     "name": "stderr",
     "output_type": "stream",
     "text": [
      "<ipython-input-148-0583d4fec008>:2: SettingWithCopyWarning: \n",
      "A value is trying to be set on a copy of a slice from a DataFrame.\n",
      "Try using .loc[row_indexer,col_indexer] = value instead\n",
      "\n",
      "See the caveats in the documentation: https://pandas.pydata.org/pandas-docs/stable/user_guide/indexing.html#returning-a-view-versus-a-copy\n",
      "  LoansData['Employment_Length'] = LoansData['Employment_Length'].str.replace(r'\\D+', '', regex=True)\n"
     ]
    }
   ],
   "source": [
    "#removing the word ” years\" and other symbol  from Employment_Length.\n",
    "LoansData['Employment_Length'] = LoansData['Employment_Length'].str.replace(r'\\D+', '', regex=True)"
   ]
  },
  {
   "cell_type": "code",
   "execution_count": 149,
   "id": "1956b481",
   "metadata": {},
   "outputs": [
    {
     "name": "stderr",
     "output_type": "stream",
     "text": [
      "<ipython-input-149-5b109ef6a8e7>:2: SettingWithCopyWarning: \n",
      "A value is trying to be set on a copy of a slice from a DataFrame.\n",
      "Try using .loc[row_indexer,col_indexer] = value instead\n",
      "\n",
      "See the caveats in the documentation: https://pandas.pydata.org/pandas-docs/stable/user_guide/indexing.html#returning-a-view-versus-a-copy\n",
      "  LoansData['Loan_Length']=LoansData['Loan_Length'].str.replace('months','')\n"
     ]
    }
   ],
   "source": [
    "#removing the word ” months\"  from loan Interest_Rate.\n",
    "LoansData['Loan_Length']=LoansData['Loan_Length'].str.replace('months','')"
   ]
  },
  {
   "cell_type": "code",
   "execution_count": 150,
   "id": "a49eb550",
   "metadata": {},
   "outputs": [
    {
     "name": "stderr",
     "output_type": "stream",
     "text": [
      "<ipython-input-150-50e1a71fe650>:2: SettingWithCopyWarning: \n",
      "A value is trying to be set on a copy of a slice from a DataFrame.\n",
      "Try using .loc[row_indexer,col_indexer] = value instead\n",
      "\n",
      "See the caveats in the documentation: https://pandas.pydata.org/pandas-docs/stable/user_guide/indexing.html#returning-a-view-versus-a-copy\n",
      "  LoansData['Interest_Rate']=LoansData['Interest_Rate'].str.replace('%','')\n",
      "<ipython-input-150-50e1a71fe650>:3: SettingWithCopyWarning: \n",
      "A value is trying to be set on a copy of a slice from a DataFrame.\n",
      "Try using .loc[row_indexer,col_indexer] = value instead\n",
      "\n",
      "See the caveats in the documentation: https://pandas.pydata.org/pandas-docs/stable/user_guide/indexing.html#returning-a-view-versus-a-copy\n",
      "  LoansData['Debt_To_Income_Ratio']=LoansData['Debt_To_Income_Ratio'].str.replace('%','')\n"
     ]
    }
   ],
   "source": [
    "#removing \"%\" symbol from Interest_Rate,Debt_To_Income_Ratio\n",
    "LoansData['Interest_Rate']=LoansData['Interest_Rate'].str.replace('%','')\n",
    "LoansData['Debt_To_Income_Ratio']=LoansData['Debt_To_Income_Ratio'].str.replace('%','')"
   ]
  },
  {
   "cell_type": "code",
   "execution_count": 151,
   "id": "b3808068",
   "metadata": {},
   "outputs": [
    {
     "data": {
      "text/html": [
       "<div>\n",
       "<style scoped>\n",
       "    .dataframe tbody tr th:only-of-type {\n",
       "        vertical-align: middle;\n",
       "    }\n",
       "\n",
       "    .dataframe tbody tr th {\n",
       "        vertical-align: top;\n",
       "    }\n",
       "\n",
       "    .dataframe thead th {\n",
       "        text-align: right;\n",
       "    }\n",
       "</style>\n",
       "<table border=\"1\" class=\"dataframe\">\n",
       "  <thead>\n",
       "    <tr style=\"text-align: right;\">\n",
       "      <th></th>\n",
       "      <th>Amount_Requested</th>\n",
       "      <th>Amount_Funded_By_Investors</th>\n",
       "      <th>Interest_Rate</th>\n",
       "      <th>Loan_Length</th>\n",
       "      <th>Loan_Purpose</th>\n",
       "      <th>Debt_To_Income_Ratio</th>\n",
       "      <th>State</th>\n",
       "      <th>Home_Ownership</th>\n",
       "      <th>Monthly_Income</th>\n",
       "      <th>FICO_Range</th>\n",
       "      <th>Open_CREDIT_Lines</th>\n",
       "      <th>Revolving_CREDIT_Balance</th>\n",
       "      <th>Inquiries_in_the_Last_6_Months</th>\n",
       "      <th>Employment_Length</th>\n",
       "    </tr>\n",
       "  </thead>\n",
       "  <tbody>\n",
       "    <tr>\n",
       "      <th>0</th>\n",
       "      <td>20000.0</td>\n",
       "      <td>20000.00</td>\n",
       "      <td>8.90</td>\n",
       "      <td>36</td>\n",
       "      <td>debt_consolidation</td>\n",
       "      <td>14.90</td>\n",
       "      <td>SC</td>\n",
       "      <td>MORTGAGE</td>\n",
       "      <td>6541.67</td>\n",
       "      <td>735-739</td>\n",
       "      <td>14.0</td>\n",
       "      <td>14272.0</td>\n",
       "      <td>2.0</td>\n",
       "      <td>1</td>\n",
       "    </tr>\n",
       "    <tr>\n",
       "      <th>1</th>\n",
       "      <td>19200.0</td>\n",
       "      <td>19200.00</td>\n",
       "      <td>12.12</td>\n",
       "      <td>36</td>\n",
       "      <td>debt_consolidation</td>\n",
       "      <td>28.36</td>\n",
       "      <td>TX</td>\n",
       "      <td>MORTGAGE</td>\n",
       "      <td>4583.33</td>\n",
       "      <td>715-719</td>\n",
       "      <td>12.0</td>\n",
       "      <td>11140.0</td>\n",
       "      <td>1.0</td>\n",
       "      <td>2</td>\n",
       "    </tr>\n",
       "    <tr>\n",
       "      <th>2</th>\n",
       "      <td>35000.0</td>\n",
       "      <td>35000.00</td>\n",
       "      <td>21.98</td>\n",
       "      <td>60</td>\n",
       "      <td>debt_consolidation</td>\n",
       "      <td>23.81</td>\n",
       "      <td>CA</td>\n",
       "      <td>MORTGAGE</td>\n",
       "      <td>11500.00</td>\n",
       "      <td>690-694</td>\n",
       "      <td>14.0</td>\n",
       "      <td>21977.0</td>\n",
       "      <td>1.0</td>\n",
       "      <td>2</td>\n",
       "    </tr>\n",
       "    <tr>\n",
       "      <th>3</th>\n",
       "      <td>10000.0</td>\n",
       "      <td>9975.00</td>\n",
       "      <td>9.99</td>\n",
       "      <td>36</td>\n",
       "      <td>debt_consolidation</td>\n",
       "      <td>14.30</td>\n",
       "      <td>KS</td>\n",
       "      <td>MORTGAGE</td>\n",
       "      <td>3833.33</td>\n",
       "      <td>695-699</td>\n",
       "      <td>10.0</td>\n",
       "      <td>9346.0</td>\n",
       "      <td>0.0</td>\n",
       "      <td>5</td>\n",
       "    </tr>\n",
       "    <tr>\n",
       "      <th>4</th>\n",
       "      <td>12000.0</td>\n",
       "      <td>12000.00</td>\n",
       "      <td>11.71</td>\n",
       "      <td>36</td>\n",
       "      <td>credit_card</td>\n",
       "      <td>18.78</td>\n",
       "      <td>NJ</td>\n",
       "      <td>RENT</td>\n",
       "      <td>3195.00</td>\n",
       "      <td>695-699</td>\n",
       "      <td>11.0</td>\n",
       "      <td>14469.0</td>\n",
       "      <td>0.0</td>\n",
       "      <td>9</td>\n",
       "    </tr>\n",
       "    <tr>\n",
       "      <th>...</th>\n",
       "      <td>...</td>\n",
       "      <td>...</td>\n",
       "      <td>...</td>\n",
       "      <td>...</td>\n",
       "      <td>...</td>\n",
       "      <td>...</td>\n",
       "      <td>...</td>\n",
       "      <td>...</td>\n",
       "      <td>...</td>\n",
       "      <td>...</td>\n",
       "      <td>...</td>\n",
       "      <td>...</td>\n",
       "      <td>...</td>\n",
       "      <td>...</td>\n",
       "    </tr>\n",
       "    <tr>\n",
       "      <th>2495</th>\n",
       "      <td>30000.0</td>\n",
       "      <td>29950.00</td>\n",
       "      <td>16.77</td>\n",
       "      <td>60</td>\n",
       "      <td>debt_consolidation</td>\n",
       "      <td>19.23</td>\n",
       "      <td>NY</td>\n",
       "      <td>MORTGAGE</td>\n",
       "      <td>9250.00</td>\n",
       "      <td>705-709</td>\n",
       "      <td>15.0</td>\n",
       "      <td>45880.0</td>\n",
       "      <td>1.0</td>\n",
       "      <td>8</td>\n",
       "    </tr>\n",
       "    <tr>\n",
       "      <th>2496</th>\n",
       "      <td>16000.0</td>\n",
       "      <td>16000.00</td>\n",
       "      <td>14.09</td>\n",
       "      <td>60</td>\n",
       "      <td>home_improvement</td>\n",
       "      <td>21.54</td>\n",
       "      <td>MD</td>\n",
       "      <td>OWN</td>\n",
       "      <td>8903.25</td>\n",
       "      <td>740-744</td>\n",
       "      <td>18.0</td>\n",
       "      <td>18898.0</td>\n",
       "      <td>1.0</td>\n",
       "      <td>10</td>\n",
       "    </tr>\n",
       "    <tr>\n",
       "      <th>2497</th>\n",
       "      <td>10000.0</td>\n",
       "      <td>10000.00</td>\n",
       "      <td>13.99</td>\n",
       "      <td>36</td>\n",
       "      <td>debt_consolidation</td>\n",
       "      <td>4.89</td>\n",
       "      <td>PA</td>\n",
       "      <td>MORTGAGE</td>\n",
       "      <td>2166.67</td>\n",
       "      <td>680-684</td>\n",
       "      <td>4.0</td>\n",
       "      <td>4544.0</td>\n",
       "      <td>0.0</td>\n",
       "      <td>10</td>\n",
       "    </tr>\n",
       "    <tr>\n",
       "      <th>2498</th>\n",
       "      <td>6000.0</td>\n",
       "      <td>6000.00</td>\n",
       "      <td>12.42</td>\n",
       "      <td>36</td>\n",
       "      <td>major_purchase</td>\n",
       "      <td>16.66</td>\n",
       "      <td>NJ</td>\n",
       "      <td>RENT</td>\n",
       "      <td>3500.00</td>\n",
       "      <td>675-679</td>\n",
       "      <td>8.0</td>\n",
       "      <td>7753.0</td>\n",
       "      <td>0.0</td>\n",
       "      <td>5</td>\n",
       "    </tr>\n",
       "    <tr>\n",
       "      <th>2499</th>\n",
       "      <td>9000.0</td>\n",
       "      <td>5242.75</td>\n",
       "      <td>13.79</td>\n",
       "      <td>36</td>\n",
       "      <td>debt_consolidation</td>\n",
       "      <td>6.76</td>\n",
       "      <td>NY</td>\n",
       "      <td>RENT</td>\n",
       "      <td>3875.00</td>\n",
       "      <td>670-674</td>\n",
       "      <td>7.0</td>\n",
       "      <td>7589.0</td>\n",
       "      <td>0.0</td>\n",
       "      <td>10</td>\n",
       "    </tr>\n",
       "  </tbody>\n",
       "</table>\n",
       "<p>2413 rows × 14 columns</p>\n",
       "</div>"
      ],
      "text/plain": [
       "      Amount_Requested  Amount_Funded_By_Investors Interest_Rate Loan_Length  \\\n",
       "0              20000.0                    20000.00          8.90         36    \n",
       "1              19200.0                    19200.00         12.12         36    \n",
       "2              35000.0                    35000.00         21.98         60    \n",
       "3              10000.0                     9975.00          9.99         36    \n",
       "4              12000.0                    12000.00         11.71         36    \n",
       "...                ...                         ...           ...         ...   \n",
       "2495           30000.0                    29950.00         16.77         60    \n",
       "2496           16000.0                    16000.00         14.09         60    \n",
       "2497           10000.0                    10000.00         13.99         36    \n",
       "2498            6000.0                     6000.00         12.42         36    \n",
       "2499            9000.0                     5242.75         13.79         36    \n",
       "\n",
       "            Loan_Purpose Debt_To_Income_Ratio State Home_Ownership  \\\n",
       "0     debt_consolidation                14.90    SC       MORTGAGE   \n",
       "1     debt_consolidation                28.36    TX       MORTGAGE   \n",
       "2     debt_consolidation                23.81    CA       MORTGAGE   \n",
       "3     debt_consolidation                14.30    KS       MORTGAGE   \n",
       "4            credit_card                18.78    NJ           RENT   \n",
       "...                  ...                  ...   ...            ...   \n",
       "2495  debt_consolidation                19.23    NY       MORTGAGE   \n",
       "2496    home_improvement                21.54    MD            OWN   \n",
       "2497  debt_consolidation                 4.89    PA       MORTGAGE   \n",
       "2498      major_purchase                16.66    NJ           RENT   \n",
       "2499  debt_consolidation                 6.76    NY           RENT   \n",
       "\n",
       "      Monthly_Income FICO_Range  Open_CREDIT_Lines  Revolving_CREDIT_Balance  \\\n",
       "0            6541.67    735-739               14.0                   14272.0   \n",
       "1            4583.33    715-719               12.0                   11140.0   \n",
       "2           11500.00    690-694               14.0                   21977.0   \n",
       "3            3833.33    695-699               10.0                    9346.0   \n",
       "4            3195.00    695-699               11.0                   14469.0   \n",
       "...              ...        ...                ...                       ...   \n",
       "2495         9250.00    705-709               15.0                   45880.0   \n",
       "2496         8903.25    740-744               18.0                   18898.0   \n",
       "2497         2166.67    680-684                4.0                    4544.0   \n",
       "2498         3500.00    675-679                8.0                    7753.0   \n",
       "2499         3875.00    670-674                7.0                    7589.0   \n",
       "\n",
       "      Inquiries_in_the_Last_6_Months Employment_Length  \n",
       "0                                2.0                 1  \n",
       "1                                1.0                 2  \n",
       "2                                1.0                 2  \n",
       "3                                0.0                 5  \n",
       "4                                0.0                 9  \n",
       "...                              ...               ...  \n",
       "2495                             1.0                 8  \n",
       "2496                             1.0                10  \n",
       "2497                             0.0                10  \n",
       "2498                             0.0                 5  \n",
       "2499                             0.0                10  \n",
       "\n",
       "[2413 rows x 14 columns]"
      ]
     },
     "execution_count": 151,
     "metadata": {},
     "output_type": "execute_result"
    }
   ],
   "source": [
    "LoansData"
   ]
  },
  {
   "cell_type": "code",
   "execution_count": null,
   "id": "36f8a4db",
   "metadata": {},
   "outputs": [],
   "source": []
  },
  {
   "cell_type": "markdown",
   "id": "0e849c31",
   "metadata": {},
   "source": [
    "#Converting data Types"
   ]
  },
  {
   "cell_type": "code",
   "execution_count": 152,
   "id": "d9840574",
   "metadata": {},
   "outputs": [
    {
     "name": "stderr",
     "output_type": "stream",
     "text": [
      "<ipython-input-152-5cac60714f86>:2: SettingWithCopyWarning: \n",
      "A value is trying to be set on a copy of a slice from a DataFrame.\n",
      "Try using .loc[row_indexer,col_indexer] = value instead\n",
      "\n",
      "See the caveats in the documentation: https://pandas.pydata.org/pandas-docs/stable/user_guide/indexing.html#returning-a-view-versus-a-copy\n",
      "  LoansData['Interest_Rate']=LoansData.Interest_Rate.astype('float64') # change data type object to float64\n",
      "<ipython-input-152-5cac60714f86>:4: SettingWithCopyWarning: \n",
      "A value is trying to be set on a copy of a slice from a DataFrame.\n",
      "Try using .loc[row_indexer,col_indexer] = value instead\n",
      "\n",
      "See the caveats in the documentation: https://pandas.pydata.org/pandas-docs/stable/user_guide/indexing.html#returning-a-view-versus-a-copy\n",
      "  LoansData['Loan_Length']=LoansData.Loan_Length.astype('int64')# change data type object to int64\n",
      "<ipython-input-152-5cac60714f86>:6: SettingWithCopyWarning: \n",
      "A value is trying to be set on a copy of a slice from a DataFrame.\n",
      "Try using .loc[row_indexer,col_indexer] = value instead\n",
      "\n",
      "See the caveats in the documentation: https://pandas.pydata.org/pandas-docs/stable/user_guide/indexing.html#returning-a-view-versus-a-copy\n",
      "  LoansData['Debt_To_Income_Ratio']=LoansData.Debt_To_Income_Ratio.astype('float64') # change data type object to float64\n",
      "<ipython-input-152-5cac60714f86>:8: SettingWithCopyWarning: \n",
      "A value is trying to be set on a copy of a slice from a DataFrame.\n",
      "Try using .loc[row_indexer,col_indexer] = value instead\n",
      "\n",
      "See the caveats in the documentation: https://pandas.pydata.org/pandas-docs/stable/user_guide/indexing.html#returning-a-view-versus-a-copy\n",
      "  LoansData['FICO_Range']=LoansData.FICO_Range.astype('string')\n",
      "<ipython-input-152-5cac60714f86>:9: SettingWithCopyWarning: \n",
      "A value is trying to be set on a copy of a slice from a DataFrame.\n",
      "Try using .loc[row_indexer,col_indexer] = value instead\n",
      "\n",
      "See the caveats in the documentation: https://pandas.pydata.org/pandas-docs/stable/user_guide/indexing.html#returning-a-view-versus-a-copy\n",
      "  LoansData['FICO_Range']=LoansData.FICO_Range.str.split('-')\n",
      "<ipython-input-152-5cac60714f86>:11: SettingWithCopyWarning: \n",
      "A value is trying to be set on a copy of a slice from a DataFrame.\n",
      "Try using .loc[row_indexer,col_indexer] = value instead\n",
      "\n",
      "See the caveats in the documentation: https://pandas.pydata.org/pandas-docs/stable/user_guide/indexing.html#returning-a-view-versus-a-copy\n",
      "  LoansData['Inquiries_in_the_Last_6_Months']=LoansData.Inquiries_in_the_Last_6_Months.astype('int64')\n",
      "<ipython-input-152-5cac60714f86>:13: SettingWithCopyWarning: \n",
      "A value is trying to be set on a copy of a slice from a DataFrame.\n",
      "Try using .loc[row_indexer,col_indexer] = value instead\n",
      "\n",
      "See the caveats in the documentation: https://pandas.pydata.org/pandas-docs/stable/user_guide/indexing.html#returning-a-view-versus-a-copy\n",
      "  LoansData['Employment_Length'] = LoansData.Employment_Length.astype('int64')\n",
      "<ipython-input-152-5cac60714f86>:15: SettingWithCopyWarning: \n",
      "A value is trying to be set on a copy of a slice from a DataFrame.\n",
      "Try using .loc[row_indexer,col_indexer] = value instead\n",
      "\n",
      "See the caveats in the documentation: https://pandas.pydata.org/pandas-docs/stable/user_guide/indexing.html#returning-a-view-versus-a-copy\n",
      "  LoansData['Open_CREDIT_Lines']=LoansData.Open_CREDIT_Lines.astype('int64')\n"
     ]
    }
   ],
   "source": [
    "#i)\n",
    "LoansData['Interest_Rate']=LoansData.Interest_Rate.astype('float64') # change data type object to float64\n",
    "#ii)\n",
    "LoansData['Loan_Length']=LoansData.Loan_Length.astype('int64')# change data type object to int64\n",
    "#iii)\n",
    "LoansData['Debt_To_Income_Ratio']=LoansData.Debt_To_Income_Ratio.astype('float64') # change data type object to float64\n",
    "#iv)\n",
    "LoansData['FICO_Range']=LoansData.FICO_Range.astype('string')\n",
    "LoansData['FICO_Range']=LoansData.FICO_Range.str.split('-')\n",
    "#v)\n",
    "LoansData['Inquiries_in_the_Last_6_Months']=LoansData.Inquiries_in_the_Last_6_Months.astype('int64')\n",
    "#vi)\n",
    "LoansData['Employment_Length'] = LoansData.Employment_Length.astype('int64')\n",
    "#vii)\n",
    "LoansData['Open_CREDIT_Lines']=LoansData.Open_CREDIT_Lines.astype('int64')"
   ]
  },
  {
   "cell_type": "code",
   "execution_count": 153,
   "id": "73a997b9",
   "metadata": {},
   "outputs": [
    {
     "data": {
      "text/plain": [
       "Amount_Requested                  float64\n",
       "Amount_Funded_By_Investors        float64\n",
       "Interest_Rate                     float64\n",
       "Loan_Length                         int64\n",
       "Loan_Purpose                       object\n",
       "Debt_To_Income_Ratio              float64\n",
       "State                              object\n",
       "Home_Ownership                     object\n",
       "Monthly_Income                    float64\n",
       "FICO_Range                         object\n",
       "Open_CREDIT_Lines                   int64\n",
       "Revolving_CREDIT_Balance          float64\n",
       "Inquiries_in_the_Last_6_Months      int64\n",
       "Employment_Length                   int64\n",
       "dtype: object"
      ]
     },
     "execution_count": 153,
     "metadata": {},
     "output_type": "execute_result"
    }
   ],
   "source": [
    "LoansData.dtypes"
   ]
  },
  {
   "cell_type": "code",
   "execution_count": 154,
   "id": "ef19d20e",
   "metadata": {},
   "outputs": [
    {
     "data": {
      "text/html": [
       "<div>\n",
       "<style scoped>\n",
       "    .dataframe tbody tr th:only-of-type {\n",
       "        vertical-align: middle;\n",
       "    }\n",
       "\n",
       "    .dataframe tbody tr th {\n",
       "        vertical-align: top;\n",
       "    }\n",
       "\n",
       "    .dataframe thead th {\n",
       "        text-align: right;\n",
       "    }\n",
       "</style>\n",
       "<table border=\"1\" class=\"dataframe\">\n",
       "  <thead>\n",
       "    <tr style=\"text-align: right;\">\n",
       "      <th></th>\n",
       "      <th>Amount_Requested</th>\n",
       "      <th>Amount_Funded_By_Investors</th>\n",
       "      <th>Interest_Rate</th>\n",
       "      <th>Loan_Length</th>\n",
       "      <th>Loan_Purpose</th>\n",
       "      <th>Debt_To_Income_Ratio</th>\n",
       "      <th>State</th>\n",
       "      <th>Home_Ownership</th>\n",
       "      <th>Monthly_Income</th>\n",
       "      <th>FICO_Range</th>\n",
       "      <th>Open_CREDIT_Lines</th>\n",
       "      <th>Revolving_CREDIT_Balance</th>\n",
       "      <th>Inquiries_in_the_Last_6_Months</th>\n",
       "      <th>Employment_Length</th>\n",
       "    </tr>\n",
       "  </thead>\n",
       "  <tbody>\n",
       "    <tr>\n",
       "      <th>0</th>\n",
       "      <td>20000.0</td>\n",
       "      <td>20000.0</td>\n",
       "      <td>8.90</td>\n",
       "      <td>36</td>\n",
       "      <td>debt_consolidation</td>\n",
       "      <td>14.90</td>\n",
       "      <td>SC</td>\n",
       "      <td>MORTGAGE</td>\n",
       "      <td>6541.67</td>\n",
       "      <td>[735, 739]</td>\n",
       "      <td>14</td>\n",
       "      <td>14272.0</td>\n",
       "      <td>2</td>\n",
       "      <td>1</td>\n",
       "    </tr>\n",
       "    <tr>\n",
       "      <th>1</th>\n",
       "      <td>19200.0</td>\n",
       "      <td>19200.0</td>\n",
       "      <td>12.12</td>\n",
       "      <td>36</td>\n",
       "      <td>debt_consolidation</td>\n",
       "      <td>28.36</td>\n",
       "      <td>TX</td>\n",
       "      <td>MORTGAGE</td>\n",
       "      <td>4583.33</td>\n",
       "      <td>[715, 719]</td>\n",
       "      <td>12</td>\n",
       "      <td>11140.0</td>\n",
       "      <td>1</td>\n",
       "      <td>2</td>\n",
       "    </tr>\n",
       "    <tr>\n",
       "      <th>2</th>\n",
       "      <td>35000.0</td>\n",
       "      <td>35000.0</td>\n",
       "      <td>21.98</td>\n",
       "      <td>60</td>\n",
       "      <td>debt_consolidation</td>\n",
       "      <td>23.81</td>\n",
       "      <td>CA</td>\n",
       "      <td>MORTGAGE</td>\n",
       "      <td>11500.00</td>\n",
       "      <td>[690, 694]</td>\n",
       "      <td>14</td>\n",
       "      <td>21977.0</td>\n",
       "      <td>1</td>\n",
       "      <td>2</td>\n",
       "    </tr>\n",
       "    <tr>\n",
       "      <th>3</th>\n",
       "      <td>10000.0</td>\n",
       "      <td>9975.0</td>\n",
       "      <td>9.99</td>\n",
       "      <td>36</td>\n",
       "      <td>debt_consolidation</td>\n",
       "      <td>14.30</td>\n",
       "      <td>KS</td>\n",
       "      <td>MORTGAGE</td>\n",
       "      <td>3833.33</td>\n",
       "      <td>[695, 699]</td>\n",
       "      <td>10</td>\n",
       "      <td>9346.0</td>\n",
       "      <td>0</td>\n",
       "      <td>5</td>\n",
       "    </tr>\n",
       "    <tr>\n",
       "      <th>4</th>\n",
       "      <td>12000.0</td>\n",
       "      <td>12000.0</td>\n",
       "      <td>11.71</td>\n",
       "      <td>36</td>\n",
       "      <td>credit_card</td>\n",
       "      <td>18.78</td>\n",
       "      <td>NJ</td>\n",
       "      <td>RENT</td>\n",
       "      <td>3195.00</td>\n",
       "      <td>[695, 699]</td>\n",
       "      <td>11</td>\n",
       "      <td>14469.0</td>\n",
       "      <td>0</td>\n",
       "      <td>9</td>\n",
       "    </tr>\n",
       "  </tbody>\n",
       "</table>\n",
       "</div>"
      ],
      "text/plain": [
       "   Amount_Requested  Amount_Funded_By_Investors  Interest_Rate  Loan_Length  \\\n",
       "0           20000.0                     20000.0           8.90           36   \n",
       "1           19200.0                     19200.0          12.12           36   \n",
       "2           35000.0                     35000.0          21.98           60   \n",
       "3           10000.0                      9975.0           9.99           36   \n",
       "4           12000.0                     12000.0          11.71           36   \n",
       "\n",
       "         Loan_Purpose  Debt_To_Income_Ratio State Home_Ownership  \\\n",
       "0  debt_consolidation                 14.90    SC       MORTGAGE   \n",
       "1  debt_consolidation                 28.36    TX       MORTGAGE   \n",
       "2  debt_consolidation                 23.81    CA       MORTGAGE   \n",
       "3  debt_consolidation                 14.30    KS       MORTGAGE   \n",
       "4         credit_card                 18.78    NJ           RENT   \n",
       "\n",
       "   Monthly_Income  FICO_Range  Open_CREDIT_Lines  Revolving_CREDIT_Balance  \\\n",
       "0         6541.67  [735, 739]                 14                   14272.0   \n",
       "1         4583.33  [715, 719]                 12                   11140.0   \n",
       "2        11500.00  [690, 694]                 14                   21977.0   \n",
       "3         3833.33  [695, 699]                 10                    9346.0   \n",
       "4         3195.00  [695, 699]                 11                   14469.0   \n",
       "\n",
       "   Inquiries_in_the_Last_6_Months  Employment_Length  \n",
       "0                               2                  1  \n",
       "1                               1                  2  \n",
       "2                               1                  2  \n",
       "3                               0                  5  \n",
       "4                               0                  9  "
      ]
     },
     "execution_count": 154,
     "metadata": {},
     "output_type": "execute_result"
    }
   ],
   "source": [
    "LoansData.head(5)"
   ]
  },
  {
   "cell_type": "markdown",
   "id": "41f392db",
   "metadata": {},
   "source": [
    "# Measuring Variance"
   ]
  },
  {
   "cell_type": "code",
   "execution_count": 155,
   "id": "b8be461e",
   "metadata": {},
   "outputs": [
    {
     "data": {
      "text/plain": [
       "Amount_Requested                  6.058913e+07\n",
       "Amount_Funded_By_Investors        5.971961e+07\n",
       "Interest_Rate                     1.729343e+01\n",
       "Loan_Length                       9.969996e+01\n",
       "Debt_To_Income_Ratio              5.602520e+01\n",
       "Monthly_Income                    1.595163e+07\n",
       "Open_CREDIT_Lines                 2.032124e+01\n",
       "Revolving_CREDIT_Balance          3.358941e+08\n",
       "Inquiries_in_the_Last_6_Months    1.527889e+00\n",
       "Employment_Length                 1.183791e+01\n",
       "dtype: float64"
      ]
     },
     "execution_count": 155,
     "metadata": {},
     "output_type": "execute_result"
    }
   ],
   "source": [
    "LoansData.var()"
   ]
  },
  {
   "cell_type": "markdown",
   "id": "8600642d",
   "metadata": {},
   "source": [
    "In statistics, variance is a measure of how far a value in a data set lies from the mean value.\n",
    "In other words, it indicates how dispersed the values are.\n",
    "It is measured by using standard deviation. The other method commonly used is skewness."
   ]
  },
  {
   "cell_type": "code",
   "execution_count": 156,
   "id": "45dae2dc",
   "metadata": {},
   "outputs": [
    {
     "data": {
      "text/plain": [
       "Amount_Requested                   7783.902098\n",
       "Amount_Funded_By_Investors         7727.846537\n",
       "Interest_Rate                         4.158537\n",
       "Loan_Length                           9.984987\n",
       "Debt_To_Income_Ratio                  7.484998\n",
       "Monthly_Income                     3993.949136\n",
       "Open_CREDIT_Lines                     4.507909\n",
       "Revolving_CREDIT_Balance          18327.413575\n",
       "Inquiries_in_the_Last_6_Months        1.236078\n",
       "Employment_Length                     3.440626\n",
       "dtype: float64"
      ]
     },
     "execution_count": 156,
     "metadata": {},
     "output_type": "execute_result"
    }
   ],
   "source": [
    "LoansData.std()"
   ]
  },
  {
   "cell_type": "raw",
   "id": "d4c6ddf9",
   "metadata": {},
   "source": [
    "Measuring Skewness:\n",
    "                It used to determine whether the data is symmetric or skewed. \n",
    "                If the index is between -1 and 1, then the distribution is symmetric.\n",
    "                If the index is no more than -1 then it is skewed to the left \n",
    "                                        and if it is at least 1, then it is skewed to the right"
   ]
  },
  {
   "cell_type": "code",
   "execution_count": 157,
   "id": "7eaca933",
   "metadata": {},
   "outputs": [
    {
     "data": {
      "text/plain": [
       "Amount_Requested                  0.902661\n",
       "Amount_Funded_By_Investors        0.922054\n",
       "Interest_Rate                     0.273635\n",
       "Loan_Length                       1.334895\n",
       "Debt_To_Income_Ratio              0.150233\n",
       "Monthly_Income                    8.536333\n",
       "Open_CREDIT_Lines                 0.885608\n",
       "Revolving_CREDIT_Balance          5.437716\n",
       "Inquiries_in_the_Last_6_Months    2.067073\n",
       "Employment_Length                 0.119053\n",
       "dtype: float64"
      ]
     },
     "execution_count": 157,
     "metadata": {},
     "output_type": "execute_result"
    }
   ],
   "source": [
    "LoansData.skew()"
   ]
  },
  {
   "cell_type": "markdown",
   "id": "3e87eca6",
   "metadata": {},
   "source": [
    "# Detecting the outliers"
   ]
  },
  {
   "cell_type": "code",
   "execution_count": 158,
   "id": "c62c1f14",
   "metadata": {},
   "outputs": [
    {
     "data": {
      "text/plain": [
       "array([1.00430898, 0.22983771, 2.14167991, ..., 0.21993287, 0.157682  ,\n",
       "       0.17182907])"
      ]
     },
     "execution_count": 158,
     "metadata": {},
     "output_type": "execute_result"
    }
   ],
   "source": [
    "np.abs(scipy.stats.zscore(LoansData['Interest_Rate']))"
   ]
  },
  {
   "cell_type": "code",
   "execution_count": 159,
   "id": "6e05e2c7",
   "metadata": {},
   "outputs": [
    {
     "data": {
      "text/plain": [
       "array([1.02584911, 0.92230592, 2.96728377, ..., 0.26844067, 0.78615658,\n",
       "       0.88416667])"
      ]
     },
     "execution_count": 159,
     "metadata": {},
     "output_type": "execute_result"
    }
   ],
   "source": [
    "np.abs(scipy.stats.zscore(LoansData['Amount_Funded_By_Investors']))"
   ]
  },
  {
   "cell_type": "raw",
   "id": "30d96e0a",
   "metadata": {},
   "source": [
    "boxplot"
   ]
  },
  {
   "cell_type": "code",
   "execution_count": null,
   "id": "8e5461f4",
   "metadata": {},
   "outputs": [],
   "source": []
  },
  {
   "cell_type": "code",
   "execution_count": 160,
   "id": "1d7210f6",
   "metadata": {},
   "outputs": [
    {
     "name": "stderr",
     "output_type": "stream",
     "text": [
      "C:\\ProgramData\\Anaconda3\\lib\\site-packages\\seaborn\\_decorators.py:36: FutureWarning: Pass the following variable as a keyword arg: x. From version 0.12, the only valid positional argument will be `data`, and passing other arguments without an explicit keyword will result in an error or misinterpretation.\n",
      "  warnings.warn(\n"
     ]
    },
    {
     "data": {
      "text/plain": [
       "<AxesSubplot:xlabel='Interest_Rate'>"
      ]
     },
     "execution_count": 160,
     "metadata": {},
     "output_type": "execute_result"
    },
    {
     "data": {
      "image/png": "[encoded data removed]",
      "text/plain": [
       "<Figure size 432x288 with 1 Axes>"
      ]
     },
     "metadata": {
      "needs_background": "light"
     },
     "output_type": "display_data"
    }
   ],
   "source": [
    "sns.boxplot(LoansData['Interest_Rate'])"
   ]
  },
  {
   "cell_type": "code",
   "execution_count": 161,
   "id": "7badb905",
   "metadata": {},
   "outputs": [
    {
     "name": "stdout",
     "output_type": "stream",
     "text": [
      "(array([ 219,  994, 1392, 2339], dtype=int64),)\n"
     ]
    }
   ],
   "source": [
    "print(np.where(LoansData['Interest_Rate']>24.5))"
   ]
  },
  {
   "cell_type": "code",
   "execution_count": 162,
   "id": "b101b618",
   "metadata": {},
   "outputs": [
    {
     "name": "stderr",
     "output_type": "stream",
     "text": [
      "C:\\ProgramData\\Anaconda3\\lib\\site-packages\\seaborn\\_decorators.py:36: FutureWarning: Pass the following variable as a keyword arg: x. From version 0.12, the only valid positional argument will be `data`, and passing other arguments without an explicit keyword will result in an error or misinterpretation.\n",
      "  warnings.warn(\n"
     ]
    },
    {
     "data": {
      "text/plain": [
       "<AxesSubplot:xlabel='Amount_Funded_By_Investors'>"
      ]
     },
     "execution_count": 162,
     "metadata": {},
     "output_type": "execute_result"
    },
    {
     "data": {
      "image/png": "[encoded data removed]",
      "text/plain": [
       "<Figure size 432x288 with 1 Axes>"
      ]
     },
     "metadata": {
      "needs_background": "light"
     },
     "output_type": "display_data"
    }
   ],
   "source": [
    "sns.boxplot(LoansData['Amount_Funded_By_Investors'])"
   ]
  },
  {
   "cell_type": "code",
   "execution_count": 163,
   "id": "b3a7e3ea",
   "metadata": {},
   "outputs": [
    {
     "name": "stdout",
     "output_type": "stream",
     "text": [
      "(array([   2,    7,   13,   32,   52,  107,  116,  130,  166,  251,  277,\n",
      "        293,  297,  304,  342,  525,  561,  582,  611,  663,  670,  790,\n",
      "        830,  974,  986,  992,  995, 1060, 1092, 1123, 1163, 1200, 1241,\n",
      "       1270, 1319, 1333, 1344, 1392, 1438, 1440, 1461, 1552, 1591, 1638,\n",
      "       1754, 1784, 1792, 1833, 1867, 1876, 1899, 1909, 1935, 2001, 2003,\n",
      "       2036, 2049, 2071, 2076, 2080, 2110, 2119, 2171, 2254, 2283, 2293,\n",
      "       2321], dtype=int64),)\n"
     ]
    }
   ],
   "source": [
    "print(np.where(LoansData['Amount_Funded_By_Investors']>30000))"
   ]
  },
  {
   "cell_type": "raw",
   "id": "8983e286",
   "metadata": {},
   "source": [
    "# Scatter plot"
   ]
  },
  {
   "cell_type": "code",
   "execution_count": 164,
   "id": "269b4c5a",
   "metadata": {},
   "outputs": [
    {
     "data": {
      "text/plain": [
       "<matplotlib.collections.PathCollection at 0x1e6f9251130>"
      ]
     },
     "execution_count": 164,
     "metadata": {},
     "output_type": "execute_result"
    },
    {
     "data": {
      "image/png": "[encoded data removed]",
      "text/plain": [
       "<Figure size 1296x720 with 1 Axes>"
      ]
     },
     "metadata": {
      "needs_background": "light"
     },
     "output_type": "display_data"
    }
   ],
   "source": [
    "\n",
    "\n",
    "fig, ax = plt.subplots(figsize = (18,10))\n",
    "ax.scatter(LoansData['Amount_Funded_By_Investors'], LoansData['Interest_Rate'])"
   ]
  },
  {
   "cell_type": "raw",
   "id": "3c18ca65",
   "metadata": {},
   "source": [
    "IQR"
   ]
  },
  {
   "cell_type": "code",
   "execution_count": 165,
   "id": "7570c543",
   "metadata": {},
   "outputs": [],
   "source": [
    "Q1 = np.percentile(LoansData['Interest_Rate'], 25,\n",
    "                   interpolation = 'midpoint')\n",
    " \n",
    "Q3 = np.percentile(LoansData['Interest_Rate'], 75,\n",
    "                   interpolation = 'midpoint')\n",
    "IQR = Q3 - Q1"
   ]
  },
  {
   "cell_type": "code",
   "execution_count": 166,
   "id": "0a6ad658",
   "metadata": {},
   "outputs": [
    {
     "name": "stdout",
     "output_type": "stream",
     "text": [
      "(array([], dtype=int64),)\n"
     ]
    }
   ],
   "source": [
    "# Below Lower bound\n",
    "Interest_Rate_lower = LoansData['Interest_Rate'] <= (Q1-1.5*IQR)\n",
    "#print(\"Lower bound:\", lower)\n",
    "print(np.where(Interest_Rate_lower))"
   ]
  },
  {
   "cell_type": "code",
   "execution_count": 167,
   "id": "a244c7d1",
   "metadata": {},
   "outputs": [
    {
     "name": "stdout",
     "output_type": "stream",
     "text": [
      "(array([ 219,  994, 1019, 1392, 2339], dtype=int64),)\n"
     ]
    }
   ],
   "source": [
    "# Above Upper bound\n",
    "Interest_Rate_upper = LoansData['Interest_Rate'] >= (Q3+1.5*IQR)\n",
    " \n",
    "#print(\"Upper bound:\",Interest_Rate_upper)\n",
    "print(np.where(Interest_Rate_upper))"
   ]
  },
  {
   "cell_type": "code",
   "execution_count": 168,
   "id": "5b9b4fa3",
   "metadata": {},
   "outputs": [],
   "source": [
    "Q1 = np.percentile(LoansData['Amount_Funded_By_Investors'], 25,\n",
    "                   interpolation = 'midpoint')\n",
    " \n",
    "Q3 = np.percentile(LoansData['Amount_Funded_By_Investors'], 75,\n",
    "                   interpolation = 'midpoint')\n",
    "IQR = Q3 - Q1\n"
   ]
  },
  {
   "cell_type": "code",
   "execution_count": 169,
   "id": "32918436",
   "metadata": {},
   "outputs": [
    {
     "name": "stdout",
     "output_type": "stream",
     "text": [
      "(array([], dtype=int64),)\n"
     ]
    }
   ],
   "source": [
    " \n",
    "# Below Lower bound\n",
    "Amount_Funded_By_Investors_lower = LoansData['Amount_Funded_By_Investors'] <= (Q1-1.5*IQR)\n",
    "#print(\"Lower bound:\", Amount_Funded_By_Investors_lower)\n",
    "print(np.where(Amount_Funded_By_Investors_lower))"
   ]
  },
  {
   "cell_type": "raw",
   "id": "c90d82ac",
   "metadata": {},
   "source": [
    "\n",
    "# Above Upper bound\n",
    "Amount_Funded_By_Investors_upper = LoansData['Amount_Funded_By_Investors'] >= (Q3+1.5*IQR)\n",
    " \n",
    "#print(\"Upper bound:\",Amount_Funded_By_Investors_upper)\n",
    "print(np.where(Amount_Funded_By_Investors_upper))\n"
   ]
  },
  {
   "cell_type": "code",
   "execution_count": 170,
   "id": "5b7f7298",
   "metadata": {},
   "outputs": [],
   "source": [
    "#dataset numerical/categorical"
   ]
  },
  {
   "cell_type": "code",
   "execution_count": 171,
   "id": "e0e58d50",
   "metadata": {},
   "outputs": [],
   "source": [
    "LoansData_categorical=LoansData[LoansData.dtypes[LoansData.dtypes == \"object\"].index.values]"
   ]
  },
  {
   "cell_type": "code",
   "execution_count": 172,
   "id": "3bd8ba27",
   "metadata": {},
   "outputs": [],
   "source": [
    "LoansData_numerical=LoansData[LoansData.dtypes[LoansData.dtypes != \"object\"].index.values]"
   ]
  },
  {
   "cell_type": "code",
   "execution_count": 173,
   "id": "7d84f5b5",
   "metadata": {},
   "outputs": [
    {
     "data": {
      "text/html": [
       "<div>\n",
       "<style scoped>\n",
       "    .dataframe tbody tr th:only-of-type {\n",
       "        vertical-align: middle;\n",
       "    }\n",
       "\n",
       "    .dataframe tbody tr th {\n",
       "        vertical-align: top;\n",
       "    }\n",
       "\n",
       "    .dataframe thead th {\n",
       "        text-align: right;\n",
       "    }\n",
       "</style>\n",
       "<table border=\"1\" class=\"dataframe\">\n",
       "  <thead>\n",
       "    <tr style=\"text-align: right;\">\n",
       "      <th></th>\n",
       "      <th>Amount_Requested</th>\n",
       "      <th>Amount_Funded_By_Investors</th>\n",
       "      <th>Interest_Rate</th>\n",
       "      <th>Loan_Length</th>\n",
       "      <th>Debt_To_Income_Ratio</th>\n",
       "      <th>Monthly_Income</th>\n",
       "      <th>Open_CREDIT_Lines</th>\n",
       "      <th>Revolving_CREDIT_Balance</th>\n",
       "      <th>Inquiries_in_the_Last_6_Months</th>\n",
       "      <th>Employment_Length</th>\n",
       "    </tr>\n",
       "  </thead>\n",
       "  <tbody>\n",
       "    <tr>\n",
       "      <th>0</th>\n",
       "      <td>20000.0</td>\n",
       "      <td>20000.0</td>\n",
       "      <td>8.90</td>\n",
       "      <td>36</td>\n",
       "      <td>14.90</td>\n",
       "      <td>6541.67</td>\n",
       "      <td>14</td>\n",
       "      <td>14272.0</td>\n",
       "      <td>2</td>\n",
       "      <td>1</td>\n",
       "    </tr>\n",
       "    <tr>\n",
       "      <th>1</th>\n",
       "      <td>19200.0</td>\n",
       "      <td>19200.0</td>\n",
       "      <td>12.12</td>\n",
       "      <td>36</td>\n",
       "      <td>28.36</td>\n",
       "      <td>4583.33</td>\n",
       "      <td>12</td>\n",
       "      <td>11140.0</td>\n",
       "      <td>1</td>\n",
       "      <td>2</td>\n",
       "    </tr>\n",
       "    <tr>\n",
       "      <th>2</th>\n",
       "      <td>35000.0</td>\n",
       "      <td>35000.0</td>\n",
       "      <td>21.98</td>\n",
       "      <td>60</td>\n",
       "      <td>23.81</td>\n",
       "      <td>11500.00</td>\n",
       "      <td>14</td>\n",
       "      <td>21977.0</td>\n",
       "      <td>1</td>\n",
       "      <td>2</td>\n",
       "    </tr>\n",
       "    <tr>\n",
       "      <th>3</th>\n",
       "      <td>10000.0</td>\n",
       "      <td>9975.0</td>\n",
       "      <td>9.99</td>\n",
       "      <td>36</td>\n",
       "      <td>14.30</td>\n",
       "      <td>3833.33</td>\n",
       "      <td>10</td>\n",
       "      <td>9346.0</td>\n",
       "      <td>0</td>\n",
       "      <td>5</td>\n",
       "    </tr>\n",
       "    <tr>\n",
       "      <th>4</th>\n",
       "      <td>12000.0</td>\n",
       "      <td>12000.0</td>\n",
       "      <td>11.71</td>\n",
       "      <td>36</td>\n",
       "      <td>18.78</td>\n",
       "      <td>3195.00</td>\n",
       "      <td>11</td>\n",
       "      <td>14469.0</td>\n",
       "      <td>0</td>\n",
       "      <td>9</td>\n",
       "    </tr>\n",
       "  </tbody>\n",
       "</table>\n",
       "</div>"
      ],
      "text/plain": [
       "   Amount_Requested  Amount_Funded_By_Investors  Interest_Rate  Loan_Length  \\\n",
       "0           20000.0                     20000.0           8.90           36   \n",
       "1           19200.0                     19200.0          12.12           36   \n",
       "2           35000.0                     35000.0          21.98           60   \n",
       "3           10000.0                      9975.0           9.99           36   \n",
       "4           12000.0                     12000.0          11.71           36   \n",
       "\n",
       "   Debt_To_Income_Ratio  Monthly_Income  Open_CREDIT_Lines  \\\n",
       "0                 14.90         6541.67                 14   \n",
       "1                 28.36         4583.33                 12   \n",
       "2                 23.81        11500.00                 14   \n",
       "3                 14.30         3833.33                 10   \n",
       "4                 18.78         3195.00                 11   \n",
       "\n",
       "   Revolving_CREDIT_Balance  Inquiries_in_the_Last_6_Months  Employment_Length  \n",
       "0                   14272.0                               2                  1  \n",
       "1                   11140.0                               1                  2  \n",
       "2                   21977.0                               1                  2  \n",
       "3                    9346.0                               0                  5  \n",
       "4                   14469.0                               0                  9  "
      ]
     },
     "execution_count": 173,
     "metadata": {},
     "output_type": "execute_result"
    }
   ],
   "source": [
    "LoansData_numerical.head(5)"
   ]
  },
  {
   "cell_type": "markdown",
   "id": "a65fe61f",
   "metadata": {},
   "source": [
    "### Correlation matrix "
   ]
  },
  {
   "cell_type": "code",
   "execution_count": 174,
   "id": "4501c668",
   "metadata": {},
   "outputs": [
    {
     "data": {
      "text/html": [
       "<div>\n",
       "<style scoped>\n",
       "    .dataframe tbody tr th:only-of-type {\n",
       "        vertical-align: middle;\n",
       "    }\n",
       "\n",
       "    .dataframe tbody tr th {\n",
       "        vertical-align: top;\n",
       "    }\n",
       "\n",
       "    .dataframe thead th {\n",
       "        text-align: right;\n",
       "    }\n",
       "</style>\n",
       "<table border=\"1\" class=\"dataframe\">\n",
       "  <thead>\n",
       "    <tr style=\"text-align: right;\">\n",
       "      <th></th>\n",
       "      <th>Amount_Requested</th>\n",
       "      <th>Amount_Funded_By_Investors</th>\n",
       "      <th>Interest_Rate</th>\n",
       "      <th>Loan_Length</th>\n",
       "      <th>Debt_To_Income_Ratio</th>\n",
       "      <th>Monthly_Income</th>\n",
       "      <th>Open_CREDIT_Lines</th>\n",
       "      <th>Revolving_CREDIT_Balance</th>\n",
       "      <th>Inquiries_in_the_Last_6_Months</th>\n",
       "      <th>Employment_Length</th>\n",
       "    </tr>\n",
       "  </thead>\n",
       "  <tbody>\n",
       "    <tr>\n",
       "      <th>Amount_Requested</th>\n",
       "      <td>1.000000</td>\n",
       "      <td>0.968689</td>\n",
       "      <td>0.326558</td>\n",
       "      <td>0.410662</td>\n",
       "      <td>0.084530</td>\n",
       "      <td>0.385311</td>\n",
       "      <td>0.189265</td>\n",
       "      <td>0.300470</td>\n",
       "      <td>-0.034894</td>\n",
       "      <td>0.166424</td>\n",
       "    </tr>\n",
       "    <tr>\n",
       "      <th>Amount_Funded_By_Investors</th>\n",
       "      <td>0.968689</td>\n",
       "      <td>1.000000</td>\n",
       "      <td>0.331596</td>\n",
       "      <td>0.404608</td>\n",
       "      <td>0.097413</td>\n",
       "      <td>0.368502</td>\n",
       "      <td>0.179008</td>\n",
       "      <td>0.267960</td>\n",
       "      <td>-0.074422</td>\n",
       "      <td>0.171032</td>\n",
       "    </tr>\n",
       "    <tr>\n",
       "      <th>Interest_Rate</th>\n",
       "      <td>0.326558</td>\n",
       "      <td>0.331596</td>\n",
       "      <td>1.000000</td>\n",
       "      <td>0.425057</td>\n",
       "      <td>0.175513</td>\n",
       "      <td>0.009263</td>\n",
       "      <td>0.093284</td>\n",
       "      <td>0.067841</td>\n",
       "      <td>0.162004</td>\n",
       "      <td>0.053410</td>\n",
       "    </tr>\n",
       "    <tr>\n",
       "      <th>Loan_Length</th>\n",
       "      <td>0.410662</td>\n",
       "      <td>0.404608</td>\n",
       "      <td>0.425057</td>\n",
       "      <td>1.000000</td>\n",
       "      <td>0.028370</td>\n",
       "      <td>0.068929</td>\n",
       "      <td>0.036039</td>\n",
       "      <td>0.056385</td>\n",
       "      <td>0.020931</td>\n",
       "      <td>0.074872</td>\n",
       "    </tr>\n",
       "    <tr>\n",
       "      <th>Debt_To_Income_Ratio</th>\n",
       "      <td>0.084530</td>\n",
       "      <td>0.097413</td>\n",
       "      <td>0.175513</td>\n",
       "      <td>0.028370</td>\n",
       "      <td>1.000000</td>\n",
       "      <td>-0.164908</td>\n",
       "      <td>0.375827</td>\n",
       "      <td>0.187332</td>\n",
       "      <td>0.017145</td>\n",
       "      <td>0.047108</td>\n",
       "    </tr>\n",
       "    <tr>\n",
       "      <th>Monthly_Income</th>\n",
       "      <td>0.385311</td>\n",
       "      <td>0.368502</td>\n",
       "      <td>0.009263</td>\n",
       "      <td>0.068929</td>\n",
       "      <td>-0.164908</td>\n",
       "      <td>1.000000</td>\n",
       "      <td>0.164233</td>\n",
       "      <td>0.362667</td>\n",
       "      <td>0.030261</td>\n",
       "      <td>0.103931</td>\n",
       "    </tr>\n",
       "    <tr>\n",
       "      <th>Open_CREDIT_Lines</th>\n",
       "      <td>0.189265</td>\n",
       "      <td>0.179008</td>\n",
       "      <td>0.093284</td>\n",
       "      <td>0.036039</td>\n",
       "      <td>0.375827</td>\n",
       "      <td>0.164233</td>\n",
       "      <td>1.000000</td>\n",
       "      <td>0.286646</td>\n",
       "      <td>0.114457</td>\n",
       "      <td>0.064271</td>\n",
       "    </tr>\n",
       "    <tr>\n",
       "      <th>Revolving_CREDIT_Balance</th>\n",
       "      <td>0.300470</td>\n",
       "      <td>0.267960</td>\n",
       "      <td>0.067841</td>\n",
       "      <td>0.056385</td>\n",
       "      <td>0.187332</td>\n",
       "      <td>0.362667</td>\n",
       "      <td>0.286646</td>\n",
       "      <td>1.000000</td>\n",
       "      <td>0.013789</td>\n",
       "      <td>0.132574</td>\n",
       "    </tr>\n",
       "    <tr>\n",
       "      <th>Inquiries_in_the_Last_6_Months</th>\n",
       "      <td>-0.034894</td>\n",
       "      <td>-0.074422</td>\n",
       "      <td>0.162004</td>\n",
       "      <td>0.020931</td>\n",
       "      <td>0.017145</td>\n",
       "      <td>0.030261</td>\n",
       "      <td>0.114457</td>\n",
       "      <td>0.013789</td>\n",
       "      <td>1.000000</td>\n",
       "      <td>-0.013222</td>\n",
       "    </tr>\n",
       "    <tr>\n",
       "      <th>Employment_Length</th>\n",
       "      <td>0.166424</td>\n",
       "      <td>0.171032</td>\n",
       "      <td>0.053410</td>\n",
       "      <td>0.074872</td>\n",
       "      <td>0.047108</td>\n",
       "      <td>0.103931</td>\n",
       "      <td>0.064271</td>\n",
       "      <td>0.132574</td>\n",
       "      <td>-0.013222</td>\n",
       "      <td>1.000000</td>\n",
       "    </tr>\n",
       "  </tbody>\n",
       "</table>\n",
       "</div>"
      ],
      "text/plain": [
       "                                Amount_Requested  Amount_Funded_By_Investors  \\\n",
       "Amount_Requested                        1.000000                    0.968689   \n",
       "Amount_Funded_By_Investors              0.968689                    1.000000   \n",
       "Interest_Rate                           0.326558                    0.331596   \n",
       "Loan_Length                             0.410662                    0.404608   \n",
       "Debt_To_Income_Ratio                    0.084530                    0.097413   \n",
       "Monthly_Income                          0.385311                    0.368502   \n",
       "Open_CREDIT_Lines                       0.189265                    0.179008   \n",
       "Revolving_CREDIT_Balance                0.300470                    0.267960   \n",
       "Inquiries_in_the_Last_6_Months         -0.034894                   -0.074422   \n",
       "Employment_Length                       0.166424                    0.171032   \n",
       "\n",
       "                                Interest_Rate  Loan_Length  \\\n",
       "Amount_Requested                     0.326558     0.410662   \n",
       "Amount_Funded_By_Investors           0.331596     0.404608   \n",
       "Interest_Rate                        1.000000     0.425057   \n",
       "Loan_Length                          0.425057     1.000000   \n",
       "Debt_To_Income_Ratio                 0.175513     0.028370   \n",
       "Monthly_Income                       0.009263     0.068929   \n",
       "Open_CREDIT_Lines                    0.093284     0.036039   \n",
       "Revolving_CREDIT_Balance             0.067841     0.056385   \n",
       "Inquiries_in_the_Last_6_Months       0.162004     0.020931   \n",
       "Employment_Length                    0.053410     0.074872   \n",
       "\n",
       "                                Debt_To_Income_Ratio  Monthly_Income  \\\n",
       "Amount_Requested                            0.084530        0.385311   \n",
       "Amount_Funded_By_Investors                  0.097413        0.368502   \n",
       "Interest_Rate                               0.175513        0.009263   \n",
       "Loan_Length                                 0.028370        0.068929   \n",
       "Debt_To_Income_Ratio                        1.000000       -0.164908   \n",
       "Monthly_Income                             -0.164908        1.000000   \n",
       "Open_CREDIT_Lines                           0.375827        0.164233   \n",
       "Revolving_CREDIT_Balance                    0.187332        0.362667   \n",
       "Inquiries_in_the_Last_6_Months              0.017145        0.030261   \n",
       "Employment_Length                           0.047108        0.103931   \n",
       "\n",
       "                                Open_CREDIT_Lines  Revolving_CREDIT_Balance  \\\n",
       "Amount_Requested                         0.189265                  0.300470   \n",
       "Amount_Funded_By_Investors               0.179008                  0.267960   \n",
       "Interest_Rate                            0.093284                  0.067841   \n",
       "Loan_Length                              0.036039                  0.056385   \n",
       "Debt_To_Income_Ratio                     0.375827                  0.187332   \n",
       "Monthly_Income                           0.164233                  0.362667   \n",
       "Open_CREDIT_Lines                        1.000000                  0.286646   \n",
       "Revolving_CREDIT_Balance                 0.286646                  1.000000   \n",
       "Inquiries_in_the_Last_6_Months           0.114457                  0.013789   \n",
       "Employment_Length                        0.064271                  0.132574   \n",
       "\n",
       "                                Inquiries_in_the_Last_6_Months  \\\n",
       "Amount_Requested                                     -0.034894   \n",
       "Amount_Funded_By_Investors                           -0.074422   \n",
       "Interest_Rate                                         0.162004   \n",
       "Loan_Length                                           0.020931   \n",
       "Debt_To_Income_Ratio                                  0.017145   \n",
       "Monthly_Income                                        0.030261   \n",
       "Open_CREDIT_Lines                                     0.114457   \n",
       "Revolving_CREDIT_Balance                              0.013789   \n",
       "Inquiries_in_the_Last_6_Months                        1.000000   \n",
       "Employment_Length                                    -0.013222   \n",
       "\n",
       "                                Employment_Length  \n",
       "Amount_Requested                         0.166424  \n",
       "Amount_Funded_By_Investors               0.171032  \n",
       "Interest_Rate                            0.053410  \n",
       "Loan_Length                              0.074872  \n",
       "Debt_To_Income_Ratio                     0.047108  \n",
       "Monthly_Income                           0.103931  \n",
       "Open_CREDIT_Lines                        0.064271  \n",
       "Revolving_CREDIT_Balance                 0.132574  \n",
       "Inquiries_in_the_Last_6_Months          -0.013222  \n",
       "Employment_Length                        1.000000  "
      ]
     },
     "execution_count": 174,
     "metadata": {},
     "output_type": "execute_result"
    }
   ],
   "source": [
    "LoansData_numerical.corr()"
   ]
  },
  {
   "cell_type": "code",
   "execution_count": 175,
   "id": "a1ae8ae1",
   "metadata": {},
   "outputs": [
    {
     "data": {
      "text/plain": [
       "<AxesSubplot:>"
      ]
     },
     "execution_count": 175,
     "metadata": {},
     "output_type": "execute_result"
    },
    {
     "data": {
      "image/png": "[encoded data removed]",
      "text/plain": [
       "<Figure size 432x288 with 2 Axes>"
      ]
     },
     "metadata": {
      "needs_background": "light"
     },
     "output_type": "display_data"
    }
   ],
   "source": [
    "sns.heatmap(LoansData_numerical.corr())"
   ]
  },
  {
   "cell_type": "code",
   "execution_count": 176,
   "id": "92472cfc",
   "metadata": {},
   "outputs": [],
   "source": [
    "#check how data is distributed "
   ]
  },
  {
   "cell_type": "code",
   "execution_count": 177,
   "id": "8e0b3992",
   "metadata": {},
   "outputs": [],
   "source": [
    "#plt.hist(LoansData['Amount_Requested'])\n",
    "#plt.hist(LoansData['Amount_Funded_By_Investors'])\n",
    "#plt.hist(LoansData['Interest_Rate'])"
   ]
  },
  {
   "cell_type": "code",
   "execution_count": 178,
   "id": "c716a4a0",
   "metadata": {
    "scrolled": true
   },
   "outputs": [
    {
     "data": {
      "image/png": "[encoded data removed]",
      "text/plain": [
       "<Figure size 432x288 with 12 Axes>"
      ]
     },
     "metadata": {
      "needs_background": "light"
     },
     "output_type": "display_data"
    }
   ],
   "source": [
    "LoansData_numerical.hist()\n",
    "plt.show()"
   ]
  },
  {
   "cell_type": "markdown",
   "id": "90fcbf40",
   "metadata": {},
   "source": []
  },
  {
   "cell_type": "code",
   "execution_count": 179,
   "id": "e2b31767",
   "metadata": {},
   "outputs": [],
   "source": [
    "Q=np.sqrt(LoansData[['Amount_Funded_By_Investors','Interest_Rate']])"
   ]
  },
  {
   "cell_type": "markdown",
   "id": "dcf703aa",
   "metadata": {},
   "source": [
    "### Transformation"
   ]
  },
  {
   "cell_type": "markdown",
   "id": "69b910f8",
   "metadata": {},
   "source": [
    "log"
   ]
  },
  {
   "cell_type": "code",
   "execution_count": 180,
   "id": "293ce5ae",
   "metadata": {},
   "outputs": [],
   "source": [
    "#np.log(LoansData['Interest_Rate'])"
   ]
  },
  {
   "cell_type": "markdown",
   "id": "6626b133",
   "metadata": {},
   "source": [
    "sqrt"
   ]
  },
  {
   "cell_type": "code",
   "execution_count": 181,
   "id": "3913b5e1",
   "metadata": {},
   "outputs": [],
   "source": [
    "#np.sqrt(LoansData[['Amount_Funded_By_Investors','Interest_Rate']])"
   ]
  },
  {
   "cell_type": "code",
   "execution_count": 182,
   "id": "728600d3",
   "metadata": {},
   "outputs": [],
   "source": [
    "#sns.displot(Q['Interest_Rate'])\n",
    "#sns.displot(Q['Amount_Funded_By_Investors'])"
   ]
  },
  {
   "cell_type": "markdown",
   "id": "0a692603",
   "metadata": {},
   "source": [
    "### Zscore"
   ]
  },
  {
   "cell_type": "markdown",
   "id": "125d7e06",
   "metadata": {},
   "source": [
    "Each z-score tells us how many standard deviations away an individual value is from the mean"
   ]
  },
  {
   "cell_type": "code",
   "execution_count": 183,
   "id": "018f43f4",
   "metadata": {},
   "outputs": [
    {
     "data": {
      "text/html": [
       "<div>\n",
       "<style scoped>\n",
       "    .dataframe tbody tr th:only-of-type {\n",
       "        vertical-align: middle;\n",
       "    }\n",
       "\n",
       "    .dataframe tbody tr th {\n",
       "        vertical-align: top;\n",
       "    }\n",
       "\n",
       "    .dataframe thead th {\n",
       "        text-align: right;\n",
       "    }\n",
       "</style>\n",
       "<table border=\"1\" class=\"dataframe\">\n",
       "  <thead>\n",
       "    <tr style=\"text-align: right;\">\n",
       "      <th></th>\n",
       "      <th>Amount_Requested</th>\n",
       "      <th>Amount_Funded_By_Investors</th>\n",
       "      <th>Interest_Rate</th>\n",
       "      <th>Loan_Length</th>\n",
       "      <th>Debt_To_Income_Ratio</th>\n",
       "      <th>Monthly_Income</th>\n",
       "      <th>Open_CREDIT_Lines</th>\n",
       "      <th>Revolving_CREDIT_Balance</th>\n",
       "      <th>Inquiries_in_the_Last_6_Months</th>\n",
       "      <th>Employment_Length</th>\n",
       "    </tr>\n",
       "  </thead>\n",
       "  <tbody>\n",
       "    <tr>\n",
       "      <th>0</th>\n",
       "      <td>0.964812</td>\n",
       "      <td>1.025849</td>\n",
       "      <td>-1.004309</td>\n",
       "      <td>-0.535021</td>\n",
       "      <td>-0.065494</td>\n",
       "      <td>0.201823</td>\n",
       "      <td>0.863974</td>\n",
       "      <td>-0.056119</td>\n",
       "      <td>0.885971</td>\n",
       "      <td>-1.305462</td>\n",
       "    </tr>\n",
       "    <tr>\n",
       "      <th>1</th>\n",
       "      <td>0.862014</td>\n",
       "      <td>0.922306</td>\n",
       "      <td>-0.229838</td>\n",
       "      <td>-0.535021</td>\n",
       "      <td>1.733142</td>\n",
       "      <td>-0.288606</td>\n",
       "      <td>0.420217</td>\n",
       "      <td>-0.227046</td>\n",
       "      <td>0.076793</td>\n",
       "      <td>-1.014757</td>\n",
       "    </tr>\n",
       "    <tr>\n",
       "      <th>2</th>\n",
       "      <td>2.892265</td>\n",
       "      <td>2.967284</td>\n",
       "      <td>2.141680</td>\n",
       "      <td>1.869086</td>\n",
       "      <td>1.125133</td>\n",
       "      <td>1.443540</td>\n",
       "      <td>0.863974</td>\n",
       "      <td>0.364377</td>\n",
       "      <td>0.076793</td>\n",
       "      <td>-1.014757</td>\n",
       "    </tr>\n",
       "    <tr>\n",
       "      <th>3</th>\n",
       "      <td>-0.320157</td>\n",
       "      <td>-0.271676</td>\n",
       "      <td>-0.742143</td>\n",
       "      <td>-0.535021</td>\n",
       "      <td>-0.145671</td>\n",
       "      <td>-0.476429</td>\n",
       "      <td>-0.023540</td>\n",
       "      <td>-0.324952</td>\n",
       "      <td>-0.732385</td>\n",
       "      <td>-0.142642</td>\n",
       "    </tr>\n",
       "    <tr>\n",
       "      <th>4</th>\n",
       "      <td>-0.063163</td>\n",
       "      <td>-0.009583</td>\n",
       "      <td>-0.328451</td>\n",
       "      <td>-0.535021</td>\n",
       "      <td>0.452983</td>\n",
       "      <td>-0.636286</td>\n",
       "      <td>0.198339</td>\n",
       "      <td>-0.045368</td>\n",
       "      <td>-0.732385</td>\n",
       "      <td>1.020178</td>\n",
       "    </tr>\n",
       "    <tr>\n",
       "      <th>...</th>\n",
       "      <td>...</td>\n",
       "      <td>...</td>\n",
       "      <td>...</td>\n",
       "      <td>...</td>\n",
       "      <td>...</td>\n",
       "      <td>...</td>\n",
       "      <td>...</td>\n",
       "      <td>...</td>\n",
       "      <td>...</td>\n",
       "      <td>...</td>\n",
       "    </tr>\n",
       "    <tr>\n",
       "      <th>2408</th>\n",
       "      <td>2.249781</td>\n",
       "      <td>2.313667</td>\n",
       "      <td>0.888576</td>\n",
       "      <td>1.869086</td>\n",
       "      <td>0.513116</td>\n",
       "      <td>0.880072</td>\n",
       "      <td>1.085852</td>\n",
       "      <td>1.668868</td>\n",
       "      <td>0.076793</td>\n",
       "      <td>0.729473</td>\n",
       "    </tr>\n",
       "    <tr>\n",
       "      <th>2409</th>\n",
       "      <td>0.450824</td>\n",
       "      <td>0.508133</td>\n",
       "      <td>0.243985</td>\n",
       "      <td>1.869086</td>\n",
       "      <td>0.821797</td>\n",
       "      <td>0.793235</td>\n",
       "      <td>1.751487</td>\n",
       "      <td>0.196342</td>\n",
       "      <td>0.076793</td>\n",
       "      <td>1.310883</td>\n",
       "    </tr>\n",
       "    <tr>\n",
       "      <th>2410</th>\n",
       "      <td>-0.320157</td>\n",
       "      <td>-0.268441</td>\n",
       "      <td>0.219933</td>\n",
       "      <td>-0.535021</td>\n",
       "      <td>-1.403113</td>\n",
       "      <td>-0.893811</td>\n",
       "      <td>-1.354809</td>\n",
       "      <td>-0.587019</td>\n",
       "      <td>-0.732385</td>\n",
       "      <td>1.310883</td>\n",
       "    </tr>\n",
       "    <tr>\n",
       "      <th>2411</th>\n",
       "      <td>-0.834145</td>\n",
       "      <td>-0.786157</td>\n",
       "      <td>-0.157682</td>\n",
       "      <td>-0.535021</td>\n",
       "      <td>0.169691</td>\n",
       "      <td>-0.559905</td>\n",
       "      <td>-0.467296</td>\n",
       "      <td>-0.411889</td>\n",
       "      <td>-0.732385</td>\n",
       "      <td>-0.142642</td>\n",
       "    </tr>\n",
       "    <tr>\n",
       "      <th>2412</th>\n",
       "      <td>-0.448654</td>\n",
       "      <td>-0.884167</td>\n",
       "      <td>0.171829</td>\n",
       "      <td>-0.535021</td>\n",
       "      <td>-1.153228</td>\n",
       "      <td>-0.465993</td>\n",
       "      <td>-0.689174</td>\n",
       "      <td>-0.420840</td>\n",
       "      <td>-0.732385</td>\n",
       "      <td>1.310883</td>\n",
       "    </tr>\n",
       "  </tbody>\n",
       "</table>\n",
       "<p>2413 rows × 10 columns</p>\n",
       "</div>"
      ],
      "text/plain": [
       "      Amount_Requested  Amount_Funded_By_Investors  Interest_Rate  \\\n",
       "0             0.964812                    1.025849      -1.004309   \n",
       "1             0.862014                    0.922306      -0.229838   \n",
       "2             2.892265                    2.967284       2.141680   \n",
       "3            -0.320157                   -0.271676      -0.742143   \n",
       "4            -0.063163                   -0.009583      -0.328451   \n",
       "...                ...                         ...            ...   \n",
       "2408          2.249781                    2.313667       0.888576   \n",
       "2409          0.450824                    0.508133       0.243985   \n",
       "2410         -0.320157                   -0.268441       0.219933   \n",
       "2411         -0.834145                   -0.786157      -0.157682   \n",
       "2412         -0.448654                   -0.884167       0.171829   \n",
       "\n",
       "      Loan_Length  Debt_To_Income_Ratio  Monthly_Income  Open_CREDIT_Lines  \\\n",
       "0       -0.535021             -0.065494        0.201823           0.863974   \n",
       "1       -0.535021              1.733142       -0.288606           0.420217   \n",
       "2        1.869086              1.125133        1.443540           0.863974   \n",
       "3       -0.535021             -0.145671       -0.476429          -0.023540   \n",
       "4       -0.535021              0.452983       -0.636286           0.198339   \n",
       "...           ...                   ...             ...                ...   \n",
       "2408     1.869086              0.513116        0.880072           1.085852   \n",
       "2409     1.869086              0.821797        0.793235           1.751487   \n",
       "2410    -0.535021             -1.403113       -0.893811          -1.354809   \n",
       "2411    -0.535021              0.169691       -0.559905          -0.467296   \n",
       "2412    -0.535021             -1.153228       -0.465993          -0.689174   \n",
       "\n",
       "      Revolving_CREDIT_Balance  Inquiries_in_the_Last_6_Months  \\\n",
       "0                    -0.056119                        0.885971   \n",
       "1                    -0.227046                        0.076793   \n",
       "2                     0.364377                        0.076793   \n",
       "3                    -0.324952                       -0.732385   \n",
       "4                    -0.045368                       -0.732385   \n",
       "...                        ...                             ...   \n",
       "2408                  1.668868                        0.076793   \n",
       "2409                  0.196342                        0.076793   \n",
       "2410                 -0.587019                       -0.732385   \n",
       "2411                 -0.411889                       -0.732385   \n",
       "2412                 -0.420840                       -0.732385   \n",
       "\n",
       "      Employment_Length  \n",
       "0             -1.305462  \n",
       "1             -1.014757  \n",
       "2             -1.014757  \n",
       "3             -0.142642  \n",
       "4              1.020178  \n",
       "...                 ...  \n",
       "2408           0.729473  \n",
       "2409           1.310883  \n",
       "2410           1.310883  \n",
       "2411          -0.142642  \n",
       "2412           1.310883  \n",
       "\n",
       "[2413 rows x 10 columns]"
      ]
     },
     "execution_count": 183,
     "metadata": {},
     "output_type": "execute_result"
    }
   ],
   "source": [
    "pd.DataFrame(scipy.stats.zscore(LoansData_numerical),columns=LoansData_numerical.columns)"
   ]
  },
  {
   "cell_type": "markdown",
   "id": "34a6bdba",
   "metadata": {},
   "source": [
    "### P-value"
   ]
  },
  {
   "cell_type": "code",
   "execution_count": 184,
   "id": "fd50e002",
   "metadata": {},
   "outputs": [],
   "source": [
    "#statistics.pstdev(LoansData_numerical['Interest_Rate'])\n",
    "#statistics.pstdev(LoansData_numerical['Amount_Funded_By_Investors'])"
   ]
  },
  {
   "cell_type": "markdown",
   "id": "e4d3848b",
   "metadata": {},
   "source": [
    "### chisquare"
   ]
  },
  {
   "cell_type": "code",
   "execution_count": 185,
   "id": "56e505f2",
   "metadata": {},
   "outputs": [],
   "source": [
    "#scipy.stats.chisquare(LoansData_numerical['Amount_Funded_By_Investors'])\n",
    "#scipy.stats.chisquare(LoansData_numerical['Interest_Rate'])"
   ]
  },
  {
   "cell_type": "code",
   "execution_count": null,
   "id": "7b9b5ec3",
   "metadata": {},
   "outputs": [],
   "source": []
  },
  {
   "cell_type": "code",
   "execution_count": null,
   "id": "91e3d894",
   "metadata": {},
   "outputs": [],
   "source": []
  },
  {
   "cell_type": "code",
   "execution_count": null,
   "id": "2aa77056",
   "metadata": {},
   "outputs": [],
   "source": []
  },
  {
   "cell_type": "code",
   "execution_count": 186,
   "id": "d8840431",
   "metadata": {},
   "outputs": [
    {
     "data": {
      "text/plain": [
       "Amount_Funded_By_Investors    0.177461\n",
       "Interest_Rate                -0.067605\n",
       "dtype: float64"
      ]
     },
     "execution_count": 186,
     "metadata": {},
     "output_type": "execute_result"
    }
   ],
   "source": [
    "Q.skew()"
   ]
  },
  {
   "cell_type": "code",
   "execution_count": 187,
   "id": "e7b17d6a",
   "metadata": {},
   "outputs": [
    {
     "data": {
      "text/plain": [
       "array([[<AxesSubplot:title={'center':'Amount_Funded_By_Investors'}>,\n",
       "        <AxesSubplot:title={'center':'Interest_Rate'}>]], dtype=object)"
      ]
     },
     "execution_count": 187,
     "metadata": {},
     "output_type": "execute_result"
    },
    {
     "data": {
      "image/png": "[encoded data removed]",
      "text/plain": [
       "<Figure size 432x288 with 2 Axes>"
      ]
     },
     "metadata": {
      "needs_background": "light"
     },
     "output_type": "display_data"
    }
   ],
   "source": [
    "Q.hist()"
   ]
  },
  {
   "cell_type": "code",
   "execution_count": 188,
   "id": "17f6982f",
   "metadata": {},
   "outputs": [
    {
     "data": {
      "text/html": [
       "<div>\n",
       "<style scoped>\n",
       "    .dataframe tbody tr th:only-of-type {\n",
       "        vertical-align: middle;\n",
       "    }\n",
       "\n",
       "    .dataframe tbody tr th {\n",
       "        vertical-align: top;\n",
       "    }\n",
       "\n",
       "    .dataframe thead th {\n",
       "        text-align: right;\n",
       "    }\n",
       "</style>\n",
       "<table border=\"1\" class=\"dataframe\">\n",
       "  <thead>\n",
       "    <tr style=\"text-align: right;\">\n",
       "      <th></th>\n",
       "      <th>Amount_Funded_By_Investors</th>\n",
       "      <th>Interest_Rate</th>\n",
       "    </tr>\n",
       "  </thead>\n",
       "  <tbody>\n",
       "    <tr>\n",
       "      <th>0</th>\n",
       "      <td>141.421356</td>\n",
       "      <td>2.983287</td>\n",
       "    </tr>\n",
       "    <tr>\n",
       "      <th>1</th>\n",
       "      <td>138.564065</td>\n",
       "      <td>3.481379</td>\n",
       "    </tr>\n",
       "    <tr>\n",
       "      <th>2</th>\n",
       "      <td>187.082869</td>\n",
       "      <td>4.688283</td>\n",
       "    </tr>\n",
       "    <tr>\n",
       "      <th>3</th>\n",
       "      <td>99.874922</td>\n",
       "      <td>3.160696</td>\n",
       "    </tr>\n",
       "    <tr>\n",
       "      <th>4</th>\n",
       "      <td>109.544512</td>\n",
       "      <td>3.421988</td>\n",
       "    </tr>\n",
       "    <tr>\n",
       "      <th>...</th>\n",
       "      <td>...</td>\n",
       "      <td>...</td>\n",
       "    </tr>\n",
       "    <tr>\n",
       "      <th>2495</th>\n",
       "      <td>173.060683</td>\n",
       "      <td>4.095119</td>\n",
       "    </tr>\n",
       "    <tr>\n",
       "      <th>2496</th>\n",
       "      <td>126.491106</td>\n",
       "      <td>3.753665</td>\n",
       "    </tr>\n",
       "    <tr>\n",
       "      <th>2497</th>\n",
       "      <td>100.000000</td>\n",
       "      <td>3.740321</td>\n",
       "    </tr>\n",
       "    <tr>\n",
       "      <th>2498</th>\n",
       "      <td>77.459667</td>\n",
       "      <td>3.524202</td>\n",
       "    </tr>\n",
       "    <tr>\n",
       "      <th>2499</th>\n",
       "      <td>72.406837</td>\n",
       "      <td>3.713489</td>\n",
       "    </tr>\n",
       "  </tbody>\n",
       "</table>\n",
       "<p>2413 rows × 2 columns</p>\n",
       "</div>"
      ],
      "text/plain": [
       "      Amount_Funded_By_Investors  Interest_Rate\n",
       "0                     141.421356       2.983287\n",
       "1                     138.564065       3.481379\n",
       "2                     187.082869       4.688283\n",
       "3                      99.874922       3.160696\n",
       "4                     109.544512       3.421988\n",
       "...                          ...            ...\n",
       "2495                  173.060683       4.095119\n",
       "2496                  126.491106       3.753665\n",
       "2497                  100.000000       3.740321\n",
       "2498                   77.459667       3.524202\n",
       "2499                   72.406837       3.713489\n",
       "\n",
       "[2413 rows x 2 columns]"
      ]
     },
     "execution_count": 188,
     "metadata": {},
     "output_type": "execute_result"
    }
   ],
   "source": [
    "Q"
   ]
  },
  {
   "cell_type": "raw",
   "id": "405171b8",
   "metadata": {},
   "source": [
    "x=LoansData['Amount_Funded_By_Investors']\n",
    "y=LoansData['Interest_Rate']\n",
    "# adds the title\n",
    "plt.title('Correlation')\n",
    "  \n",
    "# plot the data\n",
    "plt.scatter(x, y)\n",
    "  \n",
    "# fits the best fitting line to the data\n",
    "plt.plot(np.unique(x), \n",
    "         np.poly1d(np.polyfit(x, y, 1))\n",
    "         (np.unique(x)), color='red')\n",
    "  \n",
    "# Labelling axes\n",
    "plt.xlabel('x axis')\n",
    "plt.ylabel('y axis')"
   ]
  },
  {
   "cell_type": "code",
   "execution_count": 189,
   "id": "f82a28a0",
   "metadata": {},
   "outputs": [
    {
     "data": {
      "text/plain": [
       "<matplotlib.collections.PathCollection at 0x1e6f65c4ee0>"
      ]
     },
     "execution_count": 189,
     "metadata": {},
     "output_type": "execute_result"
    },
    {
     "data": {
      "image/png": "[encoded data removed]",
      "text/plain": [
       "<Figure size 432x288 with 1 Axes>"
      ]
     },
     "metadata": {
      "needs_background": "light"
     },
     "output_type": "display_data"
    }
   ],
   "source": [
    "plt.scatter(Q['Amount_Funded_By_Investors'],Q['Interest_Rate'])"
   ]
  },
  {
   "cell_type": "code",
   "execution_count": 190,
   "id": "776cef42",
   "metadata": {},
   "outputs": [
    {
     "data": {
      "text/plain": [
       "<AxesSubplot:>"
      ]
     },
     "execution_count": 190,
     "metadata": {},
     "output_type": "execute_result"
    },
    {
     "data": {
      "image/png": "[encoded data removed]",
      "text/plain": [
       "<Figure size 432x288 with 2 Axes>"
      ]
     },
     "metadata": {
      "needs_background": "light"
     },
     "output_type": "display_data"
    }
   ],
   "source": [
    "sns.heatmap(Q.corr(), annot=True)"
   ]
  },
  {
   "cell_type": "markdown",
   "id": "d404cedc",
   "metadata": {},
   "source": [
    "## Zscore"
   ]
  },
  {
   "cell_type": "markdown",
   "id": "aef3a849",
   "metadata": {},
   "source": [
    "Each z-score tells us how many standard deviations away an individual value is from the mean"
   ]
  },
  {
   "cell_type": "code",
   "execution_count": 191,
   "id": "63d690a2",
   "metadata": {},
   "outputs": [
    {
     "data": {
      "text/html": [
       "<div>\n",
       "<style scoped>\n",
       "    .dataframe tbody tr th:only-of-type {\n",
       "        vertical-align: middle;\n",
       "    }\n",
       "\n",
       "    .dataframe tbody tr th {\n",
       "        vertical-align: top;\n",
       "    }\n",
       "\n",
       "    .dataframe thead th {\n",
       "        text-align: right;\n",
       "    }\n",
       "</style>\n",
       "<table border=\"1\" class=\"dataframe\">\n",
       "  <thead>\n",
       "    <tr style=\"text-align: right;\">\n",
       "      <th></th>\n",
       "      <th>Amount_Requested</th>\n",
       "      <th>Amount_Funded_By_Investors</th>\n",
       "      <th>Interest_Rate</th>\n",
       "      <th>Loan_Length</th>\n",
       "      <th>Debt_To_Income_Ratio</th>\n",
       "      <th>Monthly_Income</th>\n",
       "      <th>Open_CREDIT_Lines</th>\n",
       "      <th>Revolving_CREDIT_Balance</th>\n",
       "      <th>Inquiries_in_the_Last_6_Months</th>\n",
       "      <th>Employment_Length</th>\n",
       "    </tr>\n",
       "  </thead>\n",
       "  <tbody>\n",
       "    <tr>\n",
       "      <th>0</th>\n",
       "      <td>0.964812</td>\n",
       "      <td>1.025849</td>\n",
       "      <td>-1.004309</td>\n",
       "      <td>-0.535021</td>\n",
       "      <td>-0.065494</td>\n",
       "      <td>0.201823</td>\n",
       "      <td>0.863974</td>\n",
       "      <td>-0.056119</td>\n",
       "      <td>0.885971</td>\n",
       "      <td>-1.305462</td>\n",
       "    </tr>\n",
       "    <tr>\n",
       "      <th>1</th>\n",
       "      <td>0.862014</td>\n",
       "      <td>0.922306</td>\n",
       "      <td>-0.229838</td>\n",
       "      <td>-0.535021</td>\n",
       "      <td>1.733142</td>\n",
       "      <td>-0.288606</td>\n",
       "      <td>0.420217</td>\n",
       "      <td>-0.227046</td>\n",
       "      <td>0.076793</td>\n",
       "      <td>-1.014757</td>\n",
       "    </tr>\n",
       "    <tr>\n",
       "      <th>2</th>\n",
       "      <td>2.892265</td>\n",
       "      <td>2.967284</td>\n",
       "      <td>2.141680</td>\n",
       "      <td>1.869086</td>\n",
       "      <td>1.125133</td>\n",
       "      <td>1.443540</td>\n",
       "      <td>0.863974</td>\n",
       "      <td>0.364377</td>\n",
       "      <td>0.076793</td>\n",
       "      <td>-1.014757</td>\n",
       "    </tr>\n",
       "    <tr>\n",
       "      <th>3</th>\n",
       "      <td>-0.320157</td>\n",
       "      <td>-0.271676</td>\n",
       "      <td>-0.742143</td>\n",
       "      <td>-0.535021</td>\n",
       "      <td>-0.145671</td>\n",
       "      <td>-0.476429</td>\n",
       "      <td>-0.023540</td>\n",
       "      <td>-0.324952</td>\n",
       "      <td>-0.732385</td>\n",
       "      <td>-0.142642</td>\n",
       "    </tr>\n",
       "    <tr>\n",
       "      <th>4</th>\n",
       "      <td>-0.063163</td>\n",
       "      <td>-0.009583</td>\n",
       "      <td>-0.328451</td>\n",
       "      <td>-0.535021</td>\n",
       "      <td>0.452983</td>\n",
       "      <td>-0.636286</td>\n",
       "      <td>0.198339</td>\n",
       "      <td>-0.045368</td>\n",
       "      <td>-0.732385</td>\n",
       "      <td>1.020178</td>\n",
       "    </tr>\n",
       "    <tr>\n",
       "      <th>...</th>\n",
       "      <td>...</td>\n",
       "      <td>...</td>\n",
       "      <td>...</td>\n",
       "      <td>...</td>\n",
       "      <td>...</td>\n",
       "      <td>...</td>\n",
       "      <td>...</td>\n",
       "      <td>...</td>\n",
       "      <td>...</td>\n",
       "      <td>...</td>\n",
       "    </tr>\n",
       "    <tr>\n",
       "      <th>2408</th>\n",
       "      <td>2.249781</td>\n",
       "      <td>2.313667</td>\n",
       "      <td>0.888576</td>\n",
       "      <td>1.869086</td>\n",
       "      <td>0.513116</td>\n",
       "      <td>0.880072</td>\n",
       "      <td>1.085852</td>\n",
       "      <td>1.668868</td>\n",
       "      <td>0.076793</td>\n",
       "      <td>0.729473</td>\n",
       "    </tr>\n",
       "    <tr>\n",
       "      <th>2409</th>\n",
       "      <td>0.450824</td>\n",
       "      <td>0.508133</td>\n",
       "      <td>0.243985</td>\n",
       "      <td>1.869086</td>\n",
       "      <td>0.821797</td>\n",
       "      <td>0.793235</td>\n",
       "      <td>1.751487</td>\n",
       "      <td>0.196342</td>\n",
       "      <td>0.076793</td>\n",
       "      <td>1.310883</td>\n",
       "    </tr>\n",
       "    <tr>\n",
       "      <th>2410</th>\n",
       "      <td>-0.320157</td>\n",
       "      <td>-0.268441</td>\n",
       "      <td>0.219933</td>\n",
       "      <td>-0.535021</td>\n",
       "      <td>-1.403113</td>\n",
       "      <td>-0.893811</td>\n",
       "      <td>-1.354809</td>\n",
       "      <td>-0.587019</td>\n",
       "      <td>-0.732385</td>\n",
       "      <td>1.310883</td>\n",
       "    </tr>\n",
       "    <tr>\n",
       "      <th>2411</th>\n",
       "      <td>-0.834145</td>\n",
       "      <td>-0.786157</td>\n",
       "      <td>-0.157682</td>\n",
       "      <td>-0.535021</td>\n",
       "      <td>0.169691</td>\n",
       "      <td>-0.559905</td>\n",
       "      <td>-0.467296</td>\n",
       "      <td>-0.411889</td>\n",
       "      <td>-0.732385</td>\n",
       "      <td>-0.142642</td>\n",
       "    </tr>\n",
       "    <tr>\n",
       "      <th>2412</th>\n",
       "      <td>-0.448654</td>\n",
       "      <td>-0.884167</td>\n",
       "      <td>0.171829</td>\n",
       "      <td>-0.535021</td>\n",
       "      <td>-1.153228</td>\n",
       "      <td>-0.465993</td>\n",
       "      <td>-0.689174</td>\n",
       "      <td>-0.420840</td>\n",
       "      <td>-0.732385</td>\n",
       "      <td>1.310883</td>\n",
       "    </tr>\n",
       "  </tbody>\n",
       "</table>\n",
       "<p>2413 rows × 10 columns</p>\n",
       "</div>"
      ],
      "text/plain": [
       "      Amount_Requested  Amount_Funded_By_Investors  Interest_Rate  \\\n",
       "0             0.964812                    1.025849      -1.004309   \n",
       "1             0.862014                    0.922306      -0.229838   \n",
       "2             2.892265                    2.967284       2.141680   \n",
       "3            -0.320157                   -0.271676      -0.742143   \n",
       "4            -0.063163                   -0.009583      -0.328451   \n",
       "...                ...                         ...            ...   \n",
       "2408          2.249781                    2.313667       0.888576   \n",
       "2409          0.450824                    0.508133       0.243985   \n",
       "2410         -0.320157                   -0.268441       0.219933   \n",
       "2411         -0.834145                   -0.786157      -0.157682   \n",
       "2412         -0.448654                   -0.884167       0.171829   \n",
       "\n",
       "      Loan_Length  Debt_To_Income_Ratio  Monthly_Income  Open_CREDIT_Lines  \\\n",
       "0       -0.535021             -0.065494        0.201823           0.863974   \n",
       "1       -0.535021              1.733142       -0.288606           0.420217   \n",
       "2        1.869086              1.125133        1.443540           0.863974   \n",
       "3       -0.535021             -0.145671       -0.476429          -0.023540   \n",
       "4       -0.535021              0.452983       -0.636286           0.198339   \n",
       "...           ...                   ...             ...                ...   \n",
       "2408     1.869086              0.513116        0.880072           1.085852   \n",
       "2409     1.869086              0.821797        0.793235           1.751487   \n",
       "2410    -0.535021             -1.403113       -0.893811          -1.354809   \n",
       "2411    -0.535021              0.169691       -0.559905          -0.467296   \n",
       "2412    -0.535021             -1.153228       -0.465993          -0.689174   \n",
       "\n",
       "      Revolving_CREDIT_Balance  Inquiries_in_the_Last_6_Months  \\\n",
       "0                    -0.056119                        0.885971   \n",
       "1                    -0.227046                        0.076793   \n",
       "2                     0.364377                        0.076793   \n",
       "3                    -0.324952                       -0.732385   \n",
       "4                    -0.045368                       -0.732385   \n",
       "...                        ...                             ...   \n",
       "2408                  1.668868                        0.076793   \n",
       "2409                  0.196342                        0.076793   \n",
       "2410                 -0.587019                       -0.732385   \n",
       "2411                 -0.411889                       -0.732385   \n",
       "2412                 -0.420840                       -0.732385   \n",
       "\n",
       "      Employment_Length  \n",
       "0             -1.305462  \n",
       "1             -1.014757  \n",
       "2             -1.014757  \n",
       "3             -0.142642  \n",
       "4              1.020178  \n",
       "...                 ...  \n",
       "2408           0.729473  \n",
       "2409           1.310883  \n",
       "2410           1.310883  \n",
       "2411          -0.142642  \n",
       "2412           1.310883  \n",
       "\n",
       "[2413 rows x 10 columns]"
      ]
     },
     "execution_count": 191,
     "metadata": {},
     "output_type": "execute_result"
    }
   ],
   "source": [
    "pd.DataFrame(scipy.stats.zscore(LoansData_numerical),columns=LoansData_numerical.columns)"
   ]
  },
  {
   "cell_type": "markdown",
   "id": "19ea20fc",
   "metadata": {},
   "source": [
    "### P-value"
   ]
  },
  {
   "cell_type": "code",
   "execution_count": 192,
   "id": "f2b226d5",
   "metadata": {},
   "outputs": [
    {
     "data": {
      "text/plain": [
       "7726.245076714425"
      ]
     },
     "execution_count": 192,
     "metadata": {},
     "output_type": "execute_result"
    }
   ],
   "source": [
    "statistics.pstdev(LoansData_numerical['Interest_Rate'])\n",
    "statistics.pstdev(LoansData_numerical['Amount_Funded_By_Investors'])"
   ]
  },
  {
   "cell_type": "markdown",
   "id": "3c126c75",
   "metadata": {},
   "source": [
    "### chisquare"
   ]
  },
  {
   "cell_type": "code",
   "execution_count": 200,
   "id": "4880dc55",
   "metadata": {},
   "outputs": [
    {
     "data": {
      "text/plain": [
       "Power_divergenceResult(statistic=3190.0473267493676, pvalue=1.0680223636236077e-24)"
      ]
     },
     "execution_count": 200,
     "metadata": {},
     "output_type": "execute_result"
    }
   ],
   "source": [
    "scipy.stats.chisquare(LoansData_numerical['Amount_Funded_By_Investors'])\n",
    "scipy.stats.chisquare(LoansData_numerical['Interest_Rate'])"
   ]
  },
  {
   "cell_type": "code",
   "execution_count": null,
   "id": "6178a1ba",
   "metadata": {},
   "outputs": [],
   "source": []
  },
  {
   "cell_type": "markdown",
   "id": "fdb34ac9",
   "metadata": {},
   "source": [
    "# a. Intrest rate is varied for different loan amounts (Less intrest charged for high loan amounts)"
   ]
  },
  {
   "cell_type": "code",
   "execution_count": 199,
   "id": "a51b1adc",
   "metadata": {},
   "outputs": [
    {
     "data": {
      "text/plain": [
       "Amount_Requested                  0\n",
       "Amount_Funded_By_Investors        0\n",
       "Interest_Rate                     0\n",
       "Loan_Length                       0\n",
       "Debt_To_Income_Ratio              0\n",
       "Monthly_Income                    0\n",
       "Open_CREDIT_Lines                 0\n",
       "Revolving_CREDIT_Balance          0\n",
       "Inquiries_in_the_Last_6_Months    0\n",
       "Employment_Length                 0\n",
       "dtype: int64"
      ]
     },
     "execution_count": 199,
     "metadata": {},
     "output_type": "execute_result"
    }
   ],
   "source": [
    "Q_1=LoansData_numerical\n",
    "Q_1.isna().sum()"
   ]
  },
  {
   "cell_type": "code",
   "execution_count": null,
   "id": "dd1eb9ec",
   "metadata": {},
   "outputs": [],
   "source": []
  },
  {
   "cell_type": "code",
   "execution_count": null,
   "id": "59f9d9f9",
   "metadata": {},
   "outputs": [],
   "source": []
  },
  {
   "cell_type": "code",
   "execution_count": null,
   "id": "919705fe",
   "metadata": {},
   "outputs": [],
   "source": []
  },
  {
   "cell_type": "code",
   "execution_count": null,
   "id": "33e87f9f",
   "metadata": {},
   "outputs": [],
   "source": []
  },
  {
   "cell_type": "code",
   "execution_count": null,
   "id": "317ceeea",
   "metadata": {},
   "outputs": [],
   "source": []
  },
  {
   "cell_type": "code",
   "execution_count": null,
   "id": "fc607b80",
   "metadata": {},
   "outputs": [],
   "source": []
  },
  {
   "cell_type": "markdown",
   "id": "eac4be70",
   "metadata": {},
   "source": [
    "here we can finding correlation between two qunatitative variables using pearson correlation"
   ]
  },
  {
   "cell_type": "code",
   "execution_count": 195,
   "id": "42f608b9",
   "metadata": {},
   "outputs": [
    {
     "data": {
      "text/plain": [
       "(0.3315955311036452, 5.064256950483673e-63)"
      ]
     },
     "execution_count": 195,
     "metadata": {},
     "output_type": "execute_result"
    }
   ],
   "source": [
    "scipy.stats.pearsonr(LoansData_numerical['Amount_Funded_By_Investors'], LoansData_numerical['Interest_Rate'])"
   ]
  },
  {
   "cell_type": "raw",
   "id": "f708aec9",
   "metadata": {},
   "source": [
    "Note: \n",
    "r takes value between -1 (negative correlation) and 1 (positive correlation).\n",
    "r = 0 means no correlation.\n",
    "Can not be applied to ordinal variables.\n",
    "The sample size should be moderate (20-30) for good estimation.\n",
    "Outliers can lead to misleading values means not robust with outliers."
   ]
  },
  {
   "cell_type": "code",
   "execution_count": null,
   "id": "d9d7c7c0",
   "metadata": {},
   "outputs": [],
   "source": []
  },
  {
   "cell_type": "markdown",
   "id": "20459e44",
   "metadata": {},
   "source": [
    "# "
   ]
  }
 ],
 "metadata": {
  "kernelspec": {
   "display_name": "Python 3",
   "language": "python",
   "name": "python3"
  },
  "language_info": {
   "codemirror_mode": {
    "name": "ipython",
    "version": 3
   },
   "file_extension": ".py",
   "mimetype": "text/x-python",
   "name": "python",
   "nbconvert_exporter": "python",
   "pygments_lexer": "ipython3",
   "version": "3.8.8"
  }
 },
 "nbformat": 4,
 "nbformat_minor": 5
}
