{
 "cells": [
  {
   "cell_type": "code",
   "execution_count": null,
   "id": "6b20b204",
   "metadata": {},
   "outputs": [],
   "source": [
    "Date_separators=lambda list:[dt.datetime.strptime(x,'%m/%d/%Y %H:%M')for x in list]\n",
    "ORDERS['order_purchase_timestamp']=Date_separators(ORDERS.order_purchase_timestamp)\n",
    "\n",
    "L=lambda list:[dt.datetime.strptime(x,'%m/%d/%Y %H:%M')for x in list]\n",
    "OR=[]\n",
    "\n",
    "for i in ORDERS.order_approved_at:\n",
    "    print(i)\n",
    "    if  pd.notnull(i)==True:\n",
    "        L[i]\n",
    "        \n",
    "    else:\n",
    "        print('i')\n",
    "        "
   ]
  },
  {
   "cell_type": "code",
   "execution_count": null,
   "id": "4b89450a",
   "metadata": {},
   "outputs": [],
   "source": [
    "\n",
    "ORDERS['order_delivered_carrier_date']=Date_separators(ORDERS.order_delivered_carrier_date)\n",
    "ORDERS['order_delivered_customer_date']=Date_separators(ORDERS.order_delivered_customer_date)\n",
    "ORDERS['order_estimated_delivery_date']=Date_separators(ORDERS.order_estimated_delivery_date)"
   ]
  },
  {
   "cell_type": "code",
   "execution_count": null,
   "id": "32a2d11f",
   "metadata": {},
   "outputs": [],
   "source": [
    "#ORDERS[ORDERS.order_status=='canceled']ORDERS.groupby([ORDERS['order_purchase_timestamp'].dt.date]).count()"
   ]
  },
  {
   "cell_type": "code",
   "execution_count": null,
   "id": "04603b2d",
   "metadata": {},
   "outputs": [],
   "source": [
    "ORDERS[['order_approved_at','order_delivered_carrier_date','order_delivered_customer_date']]=ORDERS[['order_approved_at','order_delivered_carrier_date','order_delivered_customer_date']].astype('O')"
   ]
  },
  {
   "cell_type": "code",
   "execution_count": null,
   "id": "00e1eb90",
   "metadata": {},
   "outputs": [],
   "source": [
    "#Order:\n",
    "#ORDERS.isna().sum()\n",
    "#ORDERS.dtypes\n",
    "\n",
    "#changing data types\n",
    "ORDERS['order_purchase_timestamp']=ORDERS.order_purchase_timestamp.astype(np.datetime64)\n",
    "ORDERS['order_approved_at']=ORDERS.order_approved_at.astype(np.datetime64)\n",
    "ORDERS['order_delivered_carrier_date']=ORDERS.order_delivered_carrier_date.astype(np.datetime64)\n",
    "ORDERS['order_delivered_customer_date']=ORDERS.order_delivered_customer_date.astype(np.datetime64)\n",
    "ORDERS['order_estimated_delivery_date']=ORDERS.order_estimated_delivery_date.astype(np.datetime64)\n",
    "\n",
    "#calculating average difference between Two date\n",
    "#order_purchase_timestamp\torder_approved_at\n",
    "order_approved_days=ORDERS.order_purchase_timestamp.mean()-ORDERS.order_approved_at.mean()\n",
    "#order_approved_at\torder_delivered_carrier_date\n",
    "order_delivered_carrier_days=ORDERS.order_approved_at.mean()-ORDERS.order_delivered_carrier_date.mean()\n",
    "#order_delivered_carrier_date\torder_delivered_customer_date\n",
    "order_delivered_customer_days=ORDERS.order_delivered_carrier_date.mean()-ORDERS.order_delivered_customer_date.mean()\n",
    "#order_delivered_customer_date\torder_estimated_delivery_date\n",
    "order_estimated_delivery_days=ORDERS.order_delivered_customer_date.mean()-ORDERS.order_estimated_delivery_date.mean()\n",
    "\n",
    "#filling missing Date:\n",
    "ORDERS['order_approved_at']=ORDERS.order_approved_at.fillna(ORDERS.order_purchase_timestamp+(-order_approved_days))\n",
    "ORDERS['order_delivered_carrier_date']=ORDERS.order_delivered_carrier_date.fillna(ORDERS.order_approved_at+(-order_delivered_carrier_days))\n",
    "ORDERS['order_delivered_customer_date']=ORDERS.order_delivered_customer_date.fillna(ORDERS.order_delivered_carrier_date+(-order_delivered_customer_days))"
   ]
  },
  {
   "cell_type": "code",
   "execution_count": null,
   "id": "cdb3afdd",
   "metadata": {},
   "outputs": [],
   "source": []
  },
  {
   "cell_type": "code",
   "execution_count": null,
   "id": "838da220",
   "metadata": {},
   "outputs": [],
   "source": [
    "\n",
    "\n",
    "\n",
    "CUSTOMERS_ORDER_REVIEW_RATINGS_GEO_LOCATION=pd.merge(left=CUSTOMERS_ORDER_REVIEW_RATINGS,right=GEO_LOCATION,left_on='customer_zip_code_prefix',right_on='geolocation_zip_code_prefix')\n",
    "CUSTOMERS_ORDER_REVIEW_RATINGS_GEO_LOCATION_SELLERS=pd.merge(left=CUSTOMERS_ORDER_REVIEW_RATINGS_GEO_LOCATION,right=SELLERS,left_on='seller_id',right_on='seller_id')\n",
    "\n",
    "\n",
    "CUSTOMERS_PRODUCTS=pd.merge(left=CUSTOMERS_ORDER_REVIEW_RATINGS_GEO_LOCATION_SELLERS,right=PRODUCTS,on='product_id')\n",
    "CUSTOMERS_360=CUSTOMERS_PRODUCTS\n",
    "\n",
    "\n",
    "\n",
    "\n",
    "\n",
    "\n",
    "\n",
    "\n",
    "\n",
    "\n",
    "\n",
    "\n",
    "\n",
    "CUSTOMERS_ORDER_PAYMENTS=pd.merge(left=CUSTOMERS_ORDER_REVIEW_RATINGS,right=ORDER_PAYMENTS,on='order_id')\n",
    "CUSTOMERS_PRODUCTS=pd.merge(left=CUSTOMERS_ORDER_PAYMENTS,right=PRODUCTS,on='product_id')\n",
    "CUSTOMERS_360=CUSTOMERS_PRODUCTS"
   ]
  },
  {
   "cell_type": "code",
   "execution_count": null,
   "id": "da7dbaac",
   "metadata": {},
   "outputs": [],
   "source": []
  },
  {
   "cell_type": "code",
   "execution_count": null,
   "id": "d9026b5f",
   "metadata": {},
   "outputs": [],
   "source": []
  },
  {
   "cell_type": "code",
   "execution_count": null,
   "id": "011e14ae",
   "metadata": {},
   "outputs": [],
   "source": []
  },
  {
   "cell_type": "code",
   "execution_count": null,
   "id": "71dae7c6",
   "metadata": {},
   "outputs": [],
   "source": []
  },
  {
   "cell_type": "code",
   "execution_count": null,
   "id": "4b52e397",
   "metadata": {},
   "outputs": [],
   "source": []
  },
  {
   "cell_type": "code",
   "execution_count": null,
   "id": "c7247cd4",
   "metadata": {},
   "outputs": [],
   "source": []
  },
  {
   "cell_type": "code",
   "execution_count": null,
   "id": "aedb72cb",
   "metadata": {},
   "outputs": [],
   "source": []
  },
  {
   "cell_type": "code",
   "execution_count": null,
   "id": "eec35ccf",
   "metadata": {},
   "outputs": [],
   "source": []
  },
  {
   "cell_type": "code",
   "execution_count": null,
   "id": "918f35da",
   "metadata": {},
   "outputs": [],
   "source": [
    "#[CUSTOMERS]       -       [ORDERS]     -   ('customer_id')\n",
    "CUSTOMERS_ORDERS=pd.merge(left=CUSTOMERS,right=ORDERS,on='customer_id')\n",
    "CUSTOMERS_ORDERS.shape\n",
    "#[CUSTOMERS_ORDERS_ORDER_ITEMS]   -    [ORDER_ITEMS]   -    ('order_id')\n",
    "CUSTOMERS_ORDERS_ORDER_ITEMS=pd.merge(left=CUSTOMERS_ORDERS,right=ORDER_ITEMS,on='order_id')\n",
    "CUSTOMERS_ORDERS_ORDER_ITEMS.shape\n",
    "#[CUSTOMERS_ORDERS_ORDER_ITEMS]   -    [ORDER_REVIEW_RATINGS]   -    ('order_id')\n",
    "CUSTOMERS_ORDERS_ORDER_ITEMS_ORDER_REVIEW_RATINGS=pd.merge(left=CUSTOMERS_ORDERS_ORDER_ITEMS,right=ORDER_REVIEW_RATINGS,on='order_id')\n",
    "CUSTOMERS_ORDERS_ORDER_ITEMS_ORDER_REVIEW_RATINGS.shape\n",
    "#[CUSTOMERS_ORDERS_ORDER_ITEMS_ORDER_REVIEW_RATINGS]   -    [ORDER_PAYMENTS]   -    ('order_id')\n",
    "CUSTOMERS_ORDERS_ORDER_ITEMS_ORDER_REVIEW_RATINGS_ORDER_PAYMENTS=pd.merge(left=CUSTOMERS_ORDERS_ORDER_ITEMS_ORDER_REVIEW_RATINGS,right=ORDER_PAYMENTS,on='order_id')\n",
    "CUSTOMERS_ORDERS_ORDER_ITEMS_ORDER_REVIEW_RATINGS_ORDER_PAYMENTS.shape\n",
    "#[CUSTOMERS_ORDERS_ORDER_ITEMS_ORDER_REVIEW_RATINGS_ORDER_PAYMENTS]   -    [PRODUCTS]   -    ('product_id')\n",
    "CUSTOMERS_ORDERS_ORDER_ITEMS_ORDER_REVIEW_RATINGS_ORDER_PAYMENTS_PRODUCTS=pd.merge(left=CUSTOMERS_ORDERS_ORDER_ITEMS_ORDER_REVIEW_RATINGS_ORDER_PAYMENTS,right=PRODUCTS,on='product_id')\n",
    "CUSTOMERS_ORDERS_ORDER_ITEMS_ORDER_REVIEW_RATINGS_ORDER_PAYMENTS_PRODUCTS.shape\n"
   ]
  },
  {
   "cell_type": "code",
   "execution_count": null,
   "id": "f68d54e4",
   "metadata": {},
   "outputs": [],
   "source": [
    "#[CUSTOMERS_ORDERS_ORDER_ITEMS_ORDER_REVIEW_RATINGS_ORDER_PAYMENTS_PRODUCTS]       -       [SELLERS]     -   ('seller_id'-'seller_id')\n",
    "CUSTOMERS_ORDERS_ORDER_ITEMS_ORDER_REVIEW_RATINGS_ORDER_PAYMENTS_PRODUCTS_SELLERS=CUSTOMERS_ORDERS_ORDER_ITEMS_ORDER_REVIEW_RATINGS_ORDER_PAYMENTS_PRODUCTS.merge(SELLERS,how='inner',left_on=['seller_id','customer_zip_code_prefix','customer_city','customer_state'],right_on=['seller_id','seller_city','seller_state'],validate=\"many_to_one\").dropna()\n",
    "CUSTOMERS_ORDERS_ORDER_ITEMS_ORDER_REVIEW_RATINGS_ORDER_PAYMENTS_PRODUCTS_SELLERS.count()"
   ]
  },
  {
   "cell_type": "code",
   "execution_count": null,
   "id": "3fcbfcc5",
   "metadata": {},
   "outputs": [],
   "source": [
    "#[CUSTOMERS_ORDERS_ORDER_ITEMS_ORDER_REVIEW_RATINGS_ORDER_PAYMENTS_PRODUCTS]       -       [GEO_LOCATION]     -   (''customer_zip_code_prefix','customer_city','customer_state'-'geolocation_zip_code_prefix','geolocation_city','geolocation_state'')\n",
    "CUSTOMERS_ORDERS_ORDER_ITEMS_ORDER_REVIEW_RATINGS_ORDER_PAYMENTS_PRODUCTS_GEO_LOCATION=CUSTOMERS_ORDERS_ORDER_ITEMS_ORDER_REVIEW_RATINGS_ORDER_PAYMENTS_PRODUCTS.merge(GEO_LOCATION,how='inner',left_on=['customer_zip_code_prefix','customer_city','customer_state'],right_on=['geolocation_zip_code_prefix','geolocation_city','geolocation_state'],validate=\"many_to_one\")\n",
    "CUSTOMERS_ORDERS_ORDER_ITEMS_ORDER_REVIEW_RATINGS_ORDER_PAYMENTS_PRODUCTS_GEO_LOCATION.count()"
   ]
  },
  {
   "cell_type": "code",
   "execution_count": null,
   "id": "21867e83",
   "metadata": {},
   "outputs": [],
   "source": [
    "#[CUSTOMERS_ORDERS_ORDER_ITEMS_ORDER_REVIEW_RATINGS_ORDER_PAYMENTS_PRODUCTS_GEO_LOCATION]       -       [SELLERS]     -   (''seller_id','customer_zip_code_prefix','customer_city','customer_state'-'seller_id','seller_zip_code_prefix','seller_city','seller_state'')\n",
    "CUSTOMERS_ORDERS_ORDER_ITEMS_ORDER_REVIEW_RATINGS_ORDER_PAYMENTS_PRODUCTS_SELLERS=CUSTOMERS_ORDERS_ORDER_ITEMS_ORDER_REVIEW_RATINGS_ORDER_PAYMENTS_PRODUCTS.merge(SELLERS,how='inner',left_on=['seller_id','customer_zip_code_prefix','customer_city','customer_state'],right_on=['seller_id','seller_zip_code_prefix','seller_city','seller_state'],validate=\"many_to_one\")\n",
    "CUSTOMERS_ORDERS_ORDER_ITEMS_ORDER_REVIEW_RATINGS_ORDER_PAYMENTS_PRODUCTS_SELLERS.count()"
   ]
  },
  {
   "cell_type": "code",
   "execution_count": null,
   "id": "0b8ad583",
   "metadata": {},
   "outputs": [],
   "source": [
    "#[CUSTOMERS_ORDERS_ORDER_ITEMS_ORDER_REVIEW_RATINGS_ORDER_PAYMENTS_PRODUCTS_SELLERS]       -       [GEO_LOCATION]     -   (''customer_zip_code_prefix','customer_city','customer_state'-'geolocation_zip_code_prefix','geolocation_city','geolocation_state'')\n",
    "CUSTOMERS_ORDERS_ORDER_ITEMS_ORDER_REVIEW_RATINGS_ORDER_PAYMENTS_PRODUCTS_SELLERS_GEO_LOCATION=CUSTOMERS_ORDERS_ORDER_ITEMS_ORDER_REVIEW_RATINGS_ORDER_PAYMENTS_PRODUCTS_SELLERS.merge(GEO_LOCATION,how='inner',left_on=['customer_zip_code_prefix','customer_city','customer_state'],right_on=['geolocation_zip_code_prefix','geolocation_city','geolocation_state'],validate=\"many_to_one\")\n",
    "CUSTOMERS_ORDERS_ORDER_ITEMS_ORDER_REVIEW_RATINGS_ORDER_PAYMENTS_PRODUCTS_SELLERS_GEO_LOCATION.count()"
   ]
  },
  {
   "cell_type": "code",
   "execution_count": null,
   "id": "f065a913",
   "metadata": {},
   "outputs": [],
   "source": [
    "CUSTOMERS_ORDERS_ORDER_ITEMS_ORDER_REVIEW_RATINGS_ORDER_PAYMENTS_PRODUCTS_GEO_LOCATION.seller_id.count()"
   ]
  },
  {
   "cell_type": "code",
   "execution_count": null,
   "id": "37cd995b",
   "metadata": {},
   "outputs": [],
   "source": [
    "#[ORDER_ITEMS]       -       [SELLERS]     -   ('customer_id')\n",
    "ORDER_ITEMS_SELLERS=ORDER_ITEMS.merge(SELLERS,how='inner',right_on=['seller_id'],left_on=['seller_id']).dropna()\n",
    "ORDER_ITEMS_SELLERS.count()"
   ]
  },
  {
   "cell_type": "code",
   "execution_count": null,
   "id": "1abd8e46",
   "metadata": {},
   "outputs": [],
   "source": [
    "#[ORDER_ITEMS_SELLERS]       -       [GEO_LOCATION]     -   ('geolocation_zip_code_prefix','seller_zip_code_prefix')\n",
    "ORDER_ITEMS_SELLERS_GEO_LOCATION=ORDER_ITEMS_SELLERS.merge(GEO_LOCATION,how='inner',right_on=['geolocation_zip_code_prefix'],left_on=['seller_zip_code_prefix'])\n",
    "ORDER_ITEMS_SELLERS_GEO_LOCATION.count()"
   ]
  },
  {
   "cell_type": "code",
   "execution_count": null,
   "id": "bb398ed9",
   "metadata": {},
   "outputs": [],
   "source": [
    "#[CUSTOMERS]       -       [GEO_LOCATION]     -   ('customer_id')\n",
    "CUSTOMERS_GEO_LOCATION=CUSTOMERS.merge(GEO_LOCATION,how='inner',left_on=['customer_zip_code_prefix','customer_city','customer_state'],right_on=['geolocation_zip_code_prefix','geolocation_city','geolocation_state'],validate=\"many_to_one\")\n",
    "CUSTOMERS_GEO_LOCATION.count()"
   ]
  },
  {
   "cell_type": "code",
   "execution_count": null,
   "id": "9dcb4e24",
   "metadata": {},
   "outputs": [],
   "source": [
    "\n",
    "#[CUSTOMERS_ORDERS_ORDER_ITEMS_ORDER_REVIEW_RATINGS_ORDER_PAYMENTS_PRODUCTS]   -    [GEO_LOCATION]   -    ('geolocation_zip_code_prefix',customer_city-geolocation_city,customer_state-geolocation_state)\n",
    "CUSTOMERS_ORDERS_ORDER_ITEMS_ORDER_REVIEW_RATINGS_ORDER_PAYMENTS_PRODUCTS_GEO_LOCATION=CUSTOMERS_ORDERS_ORDER_ITEMS_ORDER_REVIEW_RATINGS_ORDER_PAYMENTS_PRODUCTS.merge(GEO_LOCATION,how='left',left_on=['customer_zip_code_prefix','customer_city','customer_state'],right_on=['geolocation_zip_code_prefix','geolocation_city','geolocation_state'])\n",
    "CUSTOMERS_ORDERS_ORDER_ITEMS_ORDER_REVIEW_RATINGS_ORDER_PAYMENTS_PRODUCTS_GEO_LOCATION.shape\n"
   ]
  },
  {
   "cell_type": "code",
   "execution_count": null,
   "id": "2f4cf1cf",
   "metadata": {},
   "outputs": [],
   "source": [
    "\n",
    "#[CUSTOMERS_ORDERS_ORDER_ITEMS_ORDER_REVIEW_RATINGS_ORDER_PAYMENTS_PRODUCTS_GEO_LOCATION]   -    [SELLERS]   -    ('seller_id'{'customer_zip_code_prefix','seller_zip_code_prefix'})\n",
    "CUSTOMERS_ORDERS_ORDER_ITEMS_ORDER_REVIEW_RATINGS_ORDER_PAYMENTS_PRODUCTS_GEO_LOCATION_SELLERS=pd.merge(left=CUSTOMERS_ORDERS_ORDER_ITEMS_ORDER_REVIEW_RATINGS_ORDER_PAYMENTS_PRODUCTS_GEO_LOCATION,right=SELLERS,left_on=['seller_id','customer_zip_code_prefix'],right_on=['seller_id','seller_zip_code_prefix'])\n",
    "CUSTOMERS_ORDERS_ORDER_ITEMS_ORDER_REVIEW_RATINGS_ORDER_PAYMENTS_PRODUCTS_GEO_LOCATION_SELLERS.shape"
   ]
  }
 ],
 "metadata": {
  "kernelspec": {
   "display_name": "Python 3",
   "language": "python",
   "name": "python3"
  },
  "language_info": {
   "codemirror_mode": {
    "name": "ipython",
    "version": 3
   },
   "file_extension": ".py",
   "mimetype": "text/x-python",
   "name": "python",
   "nbconvert_exporter": "python",
   "pygments_lexer": "ipython3",
   "version": "3.8.8"
  }
 },
 "nbformat": 4,
 "nbformat_minor": 5
}
